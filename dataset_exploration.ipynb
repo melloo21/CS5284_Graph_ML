{
 "cells": [
  {
   "cell_type": "code",
   "execution_count": 1,
   "metadata": {},
   "outputs": [],
   "source": [
    "import pandas as pd"
   ]
  },
  {
   "cell_type": "code",
   "execution_count": 2,
   "metadata": {},
   "outputs": [],
   "source": [
    "# Autoreload\n",
    "%load_ext autoreload\n",
    "%autoreload 2"
   ]
  },
  {
   "cell_type": "code",
   "execution_count": 3,
   "metadata": {},
   "outputs": [
    {
     "name": "stdout",
     "output_type": "stream",
     "text": [
      "<class 'pandas.core.frame.DataFrame'>\n",
      "RangeIndex: 6040 entries, 0 to 6039\n",
      "Data columns (total 5 columns):\n",
      " #   Column      Non-Null Count  Dtype \n",
      "---  ------      --------------  ----- \n",
      " 0   UserID      6040 non-null   int64 \n",
      " 1   Gender      6040 non-null   object\n",
      " 2   Age         6040 non-null   int64 \n",
      " 3   Occupation  6040 non-null   int64 \n",
      " 4   Zip-code    6040 non-null   object\n",
      "dtypes: int64(3), object(2)\n",
      "memory usage: 236.1+ KB\n",
      "None\n"
     ]
    }
   ],
   "source": [
    "# Specify the delimiter (e.g., ',' for CSV, '\\t' for tab, or '::' for MovieLens)\n",
    "file_path = 'dataset/users.dat'\n",
    "users_df = pd.read_csv(file_path, delimiter='::', engine='python', header=None)\n",
    "users_df.columns = [\"UserID\", \"Gender\", \"Age\", \"Occupation\",\"Zip-code\"]\n",
    "print(users_df.info())"
   ]
  },
  {
   "cell_type": "code",
   "execution_count": 4,
   "metadata": {},
   "outputs": [
    {
     "name": "stdout",
     "output_type": "stream",
     "text": [
      "<class 'pandas.core.frame.DataFrame'>\n",
      "RangeIndex: 1000209 entries, 0 to 1000208\n",
      "Data columns (total 4 columns):\n",
      " #   Column     Non-Null Count    Dtype\n",
      "---  ------     --------------    -----\n",
      " 0   UserID     1000209 non-null  int64\n",
      " 1   MovieID    1000209 non-null  int64\n",
      " 2   Rating     1000209 non-null  int64\n",
      " 3   Timestamp  1000209 non-null  int64\n",
      "dtypes: int64(4)\n",
      "memory usage: 30.5 MB\n",
      "None\n"
     ]
    }
   ],
   "source": [
    "file_path = 'dataset/ratings.dat'\n",
    "ratings_df = pd.read_csv(file_path, delimiter='::', engine='python', header=None)\n",
    "ratings_df.columns = [\"UserID\",\"MovieID\",\"Rating\",\"Timestamp\"]\n",
    "print(ratings_df.info())"
   ]
  },
  {
   "cell_type": "code",
   "execution_count": 7,
   "metadata": {},
   "outputs": [
    {
     "name": "stdout",
     "output_type": "stream",
     "text": [
      "   MovieID                               Title                        Genres\n",
      "0        1                    Toy Story (1995)   Animation|Children's|Comedy\n",
      "1        2                      Jumanji (1995)  Adventure|Children's|Fantasy\n",
      "2        3             Grumpier Old Men (1995)                Comedy|Romance\n",
      "3        4            Waiting to Exhale (1995)                  Comedy|Drama\n",
      "4        5  Father of the Bride Part II (1995)                        Comedy\n"
     ]
    }
   ],
   "source": [
    "#  File being encoded in a different format, such as 'latin-1' or 'ISO-8859-1'.\n",
    "file_path = 'dataset/movies.dat'\n",
    "movies_df = pd.read_csv(file_path, delimiter='::', engine='python', header=None, encoding='latin-1')\n",
    "movies_df.columns = [\"MovieID\", \"Title\", \"Genres\"]\n",
    "print(movies_df.head())"
   ]
  },
  {
   "cell_type": "code",
   "execution_count": 6,
   "metadata": {},
   "outputs": [
    {
     "data": {
      "text/plain": [
       "['Mummy, The (1999)',\n",
       " 'Mummy, The (1932)',\n",
       " 'Mummy, The (1959)',\n",
       " \"Mummy's Curse, The (1944)\",\n",
       " \"Mummy's Ghost, The (1944)\",\n",
       " \"Mummy's Hand, The (1940)\",\n",
       " \"Mummy's Tomb, The (1942)\"]"
      ]
     },
     "metadata": {},
     "output_type": "display_data"
    }
   ],
   "source": [
    "display([elem for elem in movies_df.Title if \"Mummy\" in elem])"
   ]
  },
  {
   "cell_type": "markdown",
   "metadata": {},
   "source": [
    "## Scraping data"
   ]
  },
  {
   "cell_type": "markdown",
   "metadata": {},
   "source": [
    "Cases:\n",
    "1. Movies with multiple series\n",
    "2. Movies with multiple remakes"
   ]
  },
  {
   "cell_type": "code",
   "execution_count": 8,
   "metadata": {},
   "outputs": [],
   "source": [
    "from utils.scrape_utils import *\n",
    "from utils.wiki_scrapper import GenericScrapper"
   ]
  },
  {
   "cell_type": "code",
   "execution_count": 9,
   "metadata": {},
   "outputs": [
    {
     "data": {
      "text/html": [
       "<div>\n",
       "<style scoped>\n",
       "    .dataframe tbody tr th:only-of-type {\n",
       "        vertical-align: middle;\n",
       "    }\n",
       "\n",
       "    .dataframe tbody tr th {\n",
       "        vertical-align: top;\n",
       "    }\n",
       "\n",
       "    .dataframe thead th {\n",
       "        text-align: right;\n",
       "    }\n",
       "</style>\n",
       "<table border=\"1\" class=\"dataframe\">\n",
       "  <thead>\n",
       "    <tr style=\"text-align: right;\">\n",
       "      <th></th>\n",
       "      <th>title</th>\n",
       "      <th>unique_counts</th>\n",
       "    </tr>\n",
       "  </thead>\n",
       "  <tbody>\n",
       "    <tr>\n",
       "      <th>0</th>\n",
       "      <td>$1,000,000 Duck</td>\n",
       "      <td>1</td>\n",
       "    </tr>\n",
       "    <tr>\n",
       "      <th>1</th>\n",
       "      <td>'Night Mother</td>\n",
       "      <td>1</td>\n",
       "    </tr>\n",
       "    <tr>\n",
       "      <th>2</th>\n",
       "      <td>'Til There Was You</td>\n",
       "      <td>1</td>\n",
       "    </tr>\n",
       "    <tr>\n",
       "      <th>3</th>\n",
       "      <td>'burbs, The</td>\n",
       "      <td>1</td>\n",
       "    </tr>\n",
       "    <tr>\n",
       "      <th>4</th>\n",
       "      <td>...And Justice for All</td>\n",
       "      <td>1</td>\n",
       "    </tr>\n",
       "    <tr>\n",
       "      <th>5</th>\n",
       "      <td>1-900</td>\n",
       "      <td>1</td>\n",
       "    </tr>\n",
       "    <tr>\n",
       "      <th>6</th>\n",
       "      <td>10 Things I Hate About You</td>\n",
       "      <td>1</td>\n",
       "    </tr>\n",
       "    <tr>\n",
       "      <th>7</th>\n",
       "      <td>101 Dalmatians</td>\n",
       "      <td>2</td>\n",
       "    </tr>\n",
       "    <tr>\n",
       "      <th>8</th>\n",
       "      <td>12 Angry Men</td>\n",
       "      <td>1</td>\n",
       "    </tr>\n",
       "    <tr>\n",
       "      <th>9</th>\n",
       "      <td>13th Warrior, The</td>\n",
       "      <td>1</td>\n",
       "    </tr>\n",
       "    <tr>\n",
       "      <th>10</th>\n",
       "      <td>187</td>\n",
       "      <td>1</td>\n",
       "    </tr>\n",
       "    <tr>\n",
       "      <th>11</th>\n",
       "      <td>2 Days in the Valley</td>\n",
       "      <td>1</td>\n",
       "    </tr>\n",
       "    <tr>\n",
       "      <th>12</th>\n",
       "      <td>20 Dates</td>\n",
       "      <td>1</td>\n",
       "    </tr>\n",
       "    <tr>\n",
       "      <th>13</th>\n",
       "      <td>20,000 Leagues Under the Sea</td>\n",
       "      <td>1</td>\n",
       "    </tr>\n",
       "    <tr>\n",
       "      <th>14</th>\n",
       "      <td>200 Cigarettes</td>\n",
       "      <td>1</td>\n",
       "    </tr>\n",
       "  </tbody>\n",
       "</table>\n",
       "</div>"
      ],
      "text/plain": [
       "                           title  unique_counts\n",
       "0                $1,000,000 Duck              1\n",
       "1                  'Night Mother              1\n",
       "2             'Til There Was You              1\n",
       "3                    'burbs, The              1\n",
       "4         ...And Justice for All              1\n",
       "5                          1-900              1\n",
       "6     10 Things I Hate About You              1\n",
       "7                 101 Dalmatians              2\n",
       "8                   12 Angry Men              1\n",
       "9              13th Warrior, The              1\n",
       "10                           187              1\n",
       "11          2 Days in the Valley              1\n",
       "12                      20 Dates              1\n",
       "13  20,000 Leagues Under the Sea              1\n",
       "14                200 Cigarettes              1"
      ]
     },
     "metadata": {},
     "output_type": "display_data"
    }
   ],
   "source": [
    "# Getting Items to scrape\n",
    "web_scrape_list = movies_df.copy()\n",
    "scrape_list = get_scrape_list(web_scrape_list)\n",
    "display(scrape_list.head(15))"
   ]
  },
  {
   "cell_type": "code",
   "execution_count": 10,
   "metadata": {},
   "outputs": [],
   "source": [
    "## Initialise\n",
    "scrapper = GenericScrapper()"
   ]
  },
  {
   "cell_type": "markdown",
   "metadata": {},
   "source": [
    "#### Using Wikipedia API"
   ]
  },
  {
   "cell_type": "code",
   "execution_count": 11,
   "metadata": {},
   "outputs": [],
   "source": [
    "# Example to get scraper\n",
    "sections = scrapper.get_section_dict('King Kong (2005)')"
   ]
  },
  {
   "cell_type": "code",
   "execution_count": 12,
   "metadata": {},
   "outputs": [
    {
     "data": {
      "text/plain": [
       "'In 1933, during the Great Depression, struggling New York City vaudeville performer Ann Darrow is hired by financially troubled filmmaker Carl Denham to star in a film with actor Bruce Baxter. Ann is hesitant to join the picture until she learns her favorite playwright, Jack Driscoll, is the screenwriter. Filming takes place on the SS Venture, under Captain Englehorn, and under Carl\\'s pretense it will be sailing to Singapore. In truth, Carl intends to film the mysterious Skull Island. Captain Englehorn reconsiders the voyage, prompted by his crew\\'s speculation of trouble ahead. During the voyage, Ann and Jack fall in love.\\nThe Venture receives a radio message informing Englehorn there is a warrant for Carl\\'s arrest due to his defiance of the studio\\'s orders to cease production, and instructing Englehorn to divert to Rangoon, but the ship becomes lost in fog and runs aground on Skull Island. Carl and others, including his film crew consisting of cameraman Herb, assistant Preston and boom operator Mike, explore the island and are attacked by natives who kill Mike and a crewman. Englehorn rescues Carl’s group, but as they all prepare to leave, the natives secretly abduct Ann to offer her as a sacrifice to Kong, a 25-foot-tall (7.6 m) ape. Jack notices Ann\\'s disappearance, and the crew returns to the island, but Kong flees with Ann into the jungle. Carl catches a glimpse of Kong and becomes determined to film him.\\nAnn wins Kong over with her juggling and dancing skills, and begins to grasp his intelligence and capacity for emotion. Englehorn organizes a rescue party, led by his first mate Hayes and Jack, and accompanied by Carl, Herb, Baxter and Preston. The party gets caught between a herd of Brontosaurus baxteri and a pack of Utahraptor-like Venatosaurus saevidicus hunting them, with Herb and several other men killed in the resulting stampede. Baxter and others return to the ship.\\nThe remaining party members continue through the jungle when Kong attacks, making them fall into a ravine where Carl loses his camera. Kong rescues Ann from three Tyrannosaurus-like Vastatosaurus rex, bringing her to his den in the mountains. The remaining rescue party are attacked by giant insects in the ravine, resulting in the death of Hayes and most of the rescue party, but Preston, Carl, Jack, and Hayes\\' apprentice Jimmy are rescued by Baxter and Englehorn. Jack searches for Ann alone, while Carl decides to capture Kong. Jack finds Kong\\'s lair and accidentally awakens him, but escapes with Ann. They arrive at the wall with Kong pursuing them. As Ann begs the crew not to harm him, Kong kills several sailors, but is subdued when Carl knocks him out with chloroform.\\nIn New York City that winter, Carl presents \"Kong, the Eighth Wonder of the World\" on Broadway, starring Baxter and an imprisoned Kong. Ann, who refused to take part in the performance, is played by an anonymous chorus girl. Agitated by the chorus girl not being Ann and flashes from cameras, Kong breaks free from the chains, wrecks the theater, and bursts out into the streets of New York in search of Ann, chasing Jack before encountering her again. The U.S. Army attacks, and Kong tries getting Ann and himself to safety by climbing to the top of the Empire State Building.\\nSix United States Navy biplanes arrive; Kong downs three of them, but is mortally wounded from the planes\\' gunfire and falls from the building after he dies. As Jack reaches the top of the building to comfort and embrace Ann, civilians, policemen, and soldiers gather around the beast\\'s corpse in the street, one bystander commenting the airplanes got him. Carl makes his way through the crowd, takes one last look at Kong and, before walking away, says sadly, \"It wasn\\'t the airplanes. It was Beauty killed the Beast\".'"
      ]
     },
     "execution_count": 12,
     "metadata": {},
     "output_type": "execute_result"
    }
   ],
   "source": [
    "sections[\"Plot\"]"
   ]
  },
  {
   "cell_type": "code",
   "execution_count": 47,
   "metadata": {},
   "outputs": [
    {
     "name": "stdout",
     "output_type": "stream",
     "text": [
      "ERROR: 'Plot'\n",
      "ERROR: 'Plot'\n",
      "ERROR: 'Plot'\n",
      "ERROR: 'Plot'\n",
      "ERROR: 'Plot'\n",
      "ERROR: 'Plot'\n",
      "ERROR: 'Plot'\n",
      "ERROR: 'Plot'\n",
      "ERROR: 'Plot'\n",
      "ERROR: 'Plot'\n",
      "ERROR: 'Plot'\n",
      "ERROR: 'Plot'\n",
      "ERROR: 'Plot'\n",
      "ERROR: 'Plot'\n",
      "ERROR: 'Plot'\n",
      "ERROR: 'Plot'\n",
      "ERROR: 'Plot'\n",
      "ERROR: 'Plot'\n",
      "ERROR: 'Plot'\n",
      "ERROR: 'Plot'\n",
      "ERROR: 'Plot'\n",
      "ERROR: 'Plot'\n",
      "ERROR: 'Plot'\n",
      "ERROR: 'Plot'\n",
      "ERROR: 'Plot'\n",
      "ERROR: 'Plot'\n",
      "ERROR: 'Plot'\n",
      "ERROR: 'Plot'\n",
      "ERROR: 'Plot'\n",
      "ERROR: 'Plot'\n",
      "ERROR: 'Plot'\n",
      "ERROR: 'Plot'\n",
      "ERROR: 'Plot'\n",
      "ERROR: 'Plot'\n",
      "ERROR: 'Plot'\n",
      "ERROR: 'Plot'\n",
      "ERROR: 'Plot'\n",
      "ERROR: 'Plot'\n",
      "ERROR: 'Plot'\n",
      "ERROR: 'Plot'\n",
      "ERROR: 'Plot'\n",
      "ERROR: 'Plot'\n",
      "ERROR: 'Plot'\n",
      "ERROR: 'Plot'\n",
      "ERROR: 'Plot'\n",
      "ERROR: 'Plot'\n",
      "ERROR: 'Plot'\n"
     ]
    }
   ],
   "source": [
    "## Generic way to scrape and add context\n",
    "search_df = web_scrape_list.merge(scrape_list, on=\"title\")\n",
    "cast = \"Cast\"\n",
    "error_list = []\n",
    "for index, row in search_df.iterrows():\n",
    "    try:\n",
    "    # Scrape \n",
    "        if row.unique_counts >1:\n",
    "            # Search with the date\n",
    "            sections = scrapper.get_section_dict(row.Title)\n",
    "        else:\n",
    "            # Search without date\n",
    "            sections = scrapper.get_section_dict(row.title)\n",
    "        \n",
    "        # Check if plot exsits\n",
    "        plot_check = [elem for elem in sections.keys() if \"plot\" in elem.lower()]\n",
    "        if plot_check:\n",
    "            # Add DATA\n",
    "            search_df.at[index, 'Plot'] = sections['Plot']\n",
    "        else:\n",
    "            # Research\n",
    "            sections = scrapper.get_section_dict(row.Title.replace(\")\", \" film)\"))\n",
    "\n",
    "        ####################### To add in Cast #######################\n",
    "        # # Animation vs Non-animation\n",
    "        # voice_cast = [elem for elem in sections.keys() if \"voice cast\" in elem.lower()]\n",
    "        # if voice_cast:\n",
    "        #     cast = voice_cast[0]\n",
    "        # else:\n",
    "        #     cast = \"Cast\"   \n",
    "\n",
    "        # search_df.at[index, 'Cast'] = sections[cast]\n",
    "\n",
    "    except Exception as e:\n",
    "        error_list.append(row.Title)\n",
    "        print(f\"ERROR: {e}\")\n",
    "        "
   ]
  },
  {
   "cell_type": "code",
   "execution_count": 51,
   "metadata": {},
   "outputs": [],
   "source": [
    "## Save to parquet\n",
    "search_df.to_parquet('additional_scrape_df.parquet', compression='snappy') "
   ]
  },
  {
   "cell_type": "code",
   "execution_count": 34,
   "metadata": {},
   "outputs": [
    {
     "data": {
      "text/plain": [
       "dict_keys(['Notation and units', 'History', 'Heat transfer', 'Latent and sensible heat', 'Heat capacity', '\"Hotness\"', 'Classical thermodynamics', 'See also', 'References', 'External links'])"
      ]
     },
     "metadata": {},
     "output_type": "display_data"
    }
   ],
   "source": [
    "display(sections.keys())"
   ]
  },
  {
   "cell_type": "code",
   "execution_count": 30,
   "metadata": {},
   "outputs": [
    {
     "data": {
      "text/html": [
       "<div>\n",
       "<style scoped>\n",
       "    .dataframe tbody tr th:only-of-type {\n",
       "        vertical-align: middle;\n",
       "    }\n",
       "\n",
       "    .dataframe tbody tr th {\n",
       "        vertical-align: top;\n",
       "    }\n",
       "\n",
       "    .dataframe thead th {\n",
       "        text-align: right;\n",
       "    }\n",
       "</style>\n",
       "<table border=\"1\" class=\"dataframe\">\n",
       "  <thead>\n",
       "    <tr style=\"text-align: right;\">\n",
       "      <th></th>\n",
       "      <th>MovieID</th>\n",
       "      <th>Title</th>\n",
       "      <th>Genres</th>\n",
       "      <th>title</th>\n",
       "      <th>year</th>\n",
       "      <th>unique_counts</th>\n",
       "      <th>Plot</th>\n",
       "      <th>Cast</th>\n",
       "    </tr>\n",
       "  </thead>\n",
       "  <tbody>\n",
       "    <tr>\n",
       "      <th>0</th>\n",
       "      <td>1</td>\n",
       "      <td>Toy Story (1995)</td>\n",
       "      <td>Animation|Children's|Comedy</td>\n",
       "      <td>Toy Story</td>\n",
       "      <td>1995</td>\n",
       "      <td>1</td>\n",
       "      <td>A group of sentient toys, who pretend to be li...</td>\n",
       "      <td>Tom Hanks as Woody, a pullstring cowboy doll w...</td>\n",
       "    </tr>\n",
       "    <tr>\n",
       "      <th>1</th>\n",
       "      <td>2</td>\n",
       "      <td>Jumanji (1995)</td>\n",
       "      <td>Adventure|Children's|Fantasy</td>\n",
       "      <td>Jumanji</td>\n",
       "      <td>1995</td>\n",
       "      <td>1</td>\n",
       "      <td>NaN</td>\n",
       "      <td>NaN</td>\n",
       "    </tr>\n",
       "    <tr>\n",
       "      <th>2</th>\n",
       "      <td>3</td>\n",
       "      <td>Grumpier Old Men (1995)</td>\n",
       "      <td>Comedy|Romance</td>\n",
       "      <td>Grumpier Old Men</td>\n",
       "      <td>1995</td>\n",
       "      <td>1</td>\n",
       "      <td>NaN</td>\n",
       "      <td>NaN</td>\n",
       "    </tr>\n",
       "    <tr>\n",
       "      <th>3</th>\n",
       "      <td>4</td>\n",
       "      <td>Waiting to Exhale (1995)</td>\n",
       "      <td>Comedy|Drama</td>\n",
       "      <td>Waiting to Exhale</td>\n",
       "      <td>1995</td>\n",
       "      <td>1</td>\n",
       "      <td>NaN</td>\n",
       "      <td>NaN</td>\n",
       "    </tr>\n",
       "    <tr>\n",
       "      <th>4</th>\n",
       "      <td>5</td>\n",
       "      <td>Father of the Bride Part II (1995)</td>\n",
       "      <td>Comedy</td>\n",
       "      <td>Father of the Bride Part II</td>\n",
       "      <td>1995</td>\n",
       "      <td>1</td>\n",
       "      <td>NaN</td>\n",
       "      <td>NaN</td>\n",
       "    </tr>\n",
       "    <tr>\n",
       "      <th>...</th>\n",
       "      <td>...</td>\n",
       "      <td>...</td>\n",
       "      <td>...</td>\n",
       "      <td>...</td>\n",
       "      <td>...</td>\n",
       "      <td>...</td>\n",
       "      <td>...</td>\n",
       "      <td>...</td>\n",
       "    </tr>\n",
       "    <tr>\n",
       "      <th>3877</th>\n",
       "      <td>3948</td>\n",
       "      <td>Meet the Parents (2000)</td>\n",
       "      <td>Comedy</td>\n",
       "      <td>Meet the Parents</td>\n",
       "      <td>2000</td>\n",
       "      <td>1</td>\n",
       "      <td>NaN</td>\n",
       "      <td>NaN</td>\n",
       "    </tr>\n",
       "    <tr>\n",
       "      <th>3878</th>\n",
       "      <td>3949</td>\n",
       "      <td>Requiem for a Dream (2000)</td>\n",
       "      <td>Drama</td>\n",
       "      <td>Requiem for a Dream</td>\n",
       "      <td>2000</td>\n",
       "      <td>1</td>\n",
       "      <td>NaN</td>\n",
       "      <td>NaN</td>\n",
       "    </tr>\n",
       "    <tr>\n",
       "      <th>3879</th>\n",
       "      <td>3950</td>\n",
       "      <td>Tigerland (2000)</td>\n",
       "      <td>Drama</td>\n",
       "      <td>Tigerland</td>\n",
       "      <td>2000</td>\n",
       "      <td>1</td>\n",
       "      <td>NaN</td>\n",
       "      <td>NaN</td>\n",
       "    </tr>\n",
       "    <tr>\n",
       "      <th>3880</th>\n",
       "      <td>3951</td>\n",
       "      <td>Two Family House (2000)</td>\n",
       "      <td>Drama</td>\n",
       "      <td>Two Family House</td>\n",
       "      <td>2000</td>\n",
       "      <td>1</td>\n",
       "      <td>NaN</td>\n",
       "      <td>NaN</td>\n",
       "    </tr>\n",
       "    <tr>\n",
       "      <th>3881</th>\n",
       "      <td>3952</td>\n",
       "      <td>Contender, The (2000)</td>\n",
       "      <td>Drama|Thriller</td>\n",
       "      <td>Contender, The</td>\n",
       "      <td>2000</td>\n",
       "      <td>1</td>\n",
       "      <td>NaN</td>\n",
       "      <td>NaN</td>\n",
       "    </tr>\n",
       "  </tbody>\n",
       "</table>\n",
       "<p>3882 rows × 8 columns</p>\n",
       "</div>"
      ],
      "text/plain": [
       "      MovieID                               Title  \\\n",
       "0           1                    Toy Story (1995)   \n",
       "1           2                      Jumanji (1995)   \n",
       "2           3             Grumpier Old Men (1995)   \n",
       "3           4            Waiting to Exhale (1995)   \n",
       "4           5  Father of the Bride Part II (1995)   \n",
       "...       ...                                 ...   \n",
       "3877     3948             Meet the Parents (2000)   \n",
       "3878     3949          Requiem for a Dream (2000)   \n",
       "3879     3950                    Tigerland (2000)   \n",
       "3880     3951             Two Family House (2000)   \n",
       "3881     3952               Contender, The (2000)   \n",
       "\n",
       "                            Genres                        title  year  \\\n",
       "0      Animation|Children's|Comedy                    Toy Story  1995   \n",
       "1     Adventure|Children's|Fantasy                      Jumanji  1995   \n",
       "2                   Comedy|Romance             Grumpier Old Men  1995   \n",
       "3                     Comedy|Drama            Waiting to Exhale  1995   \n",
       "4                           Comedy  Father of the Bride Part II  1995   \n",
       "...                            ...                          ...   ...   \n",
       "3877                        Comedy             Meet the Parents  2000   \n",
       "3878                         Drama          Requiem for a Dream  2000   \n",
       "3879                         Drama                    Tigerland  2000   \n",
       "3880                         Drama             Two Family House  2000   \n",
       "3881                Drama|Thriller               Contender, The  2000   \n",
       "\n",
       "      unique_counts                                               Plot  \\\n",
       "0                 1  A group of sentient toys, who pretend to be li...   \n",
       "1                 1                                                NaN   \n",
       "2                 1                                                NaN   \n",
       "3                 1                                                NaN   \n",
       "4                 1                                                NaN   \n",
       "...             ...                                                ...   \n",
       "3877              1                                                NaN   \n",
       "3878              1                                                NaN   \n",
       "3879              1                                                NaN   \n",
       "3880              1                                                NaN   \n",
       "3881              1                                                NaN   \n",
       "\n",
       "                                                   Cast  \n",
       "0     Tom Hanks as Woody, a pullstring cowboy doll w...  \n",
       "1                                                   NaN  \n",
       "2                                                   NaN  \n",
       "3                                                   NaN  \n",
       "4                                                   NaN  \n",
       "...                                                 ...  \n",
       "3877                                                NaN  \n",
       "3878                                                NaN  \n",
       "3879                                                NaN  \n",
       "3880                                                NaN  \n",
       "3881                                                NaN  \n",
       "\n",
       "[3882 rows x 8 columns]"
      ]
     },
     "metadata": {},
     "output_type": "display_data"
    }
   ],
   "source": [
    "display(search_df)"
   ]
  },
  {
   "cell_type": "markdown",
   "metadata": {},
   "source": [
    "#### WikiMediaAPI (wptools)"
   ]
  },
  {
   "cell_type": "code",
   "execution_count": 259,
   "metadata": {},
   "outputs": [
    {
     "name": "stdout",
     "output_type": "stream",
     "text": [
      " King Kong (2005) 2005 :: {{Film date|2005|12|05|[[New York City]]|2005|12|13|New Zealand|2005|12|14|United States}} Found \n"
     ]
    },
    {
     "data": {
      "text/plain": [
       "'King Kong is a 2005 epic adventure monster film co-written, produced, and directed by Peter Jackson. It is the ninth entry in the King Kong franchise and the second remake of the 1933 film of the same title, the first being the 1976 remake. The film stars Naomi Watts, Jack Black, and Adrien Brody. Set in 1933, it follows the story of an ambitious filmmaker who coerces his cast and hired ship crew to travel to mysterious Skull Island. There they encounter prehistoric creatures and a legendary giant gorilla known as Kong, whom they capture and take to New York City.Development began in early 1995, when Universal Pictures approached Jackson to direct the remake of the original 1933 film. The project stalled in early 1997, as several ape and giant monster-related films were under production at the time and Jackson planned to direct The Lord of the Rings film series. As the first two films in the Rings trilogy became commercially successful, Universal went back to Jackson in early 2003, expressing interest in restarting development on the project, to which Jackson eventually agreed. Filming for King Kong took place in New Zealand from September 2004 to March 2005. It is currently one of the most expensive films ever produced as its budget climbed from an initial $150 million to a then record-breaking $207 million.King Kong premiered at New York City on December 5, 2005, and was theatrically released in Germany and United States on December 14. The film garnered positive reviews, and eventually appeared in several top ten lists for 2005; it was praised for the special effects, performances, sense of spectacle and comparison to the 1933 original, though some criticisms were raised over its 3-hour run time. It was a commercial success, grossing over $556.9 million, and became the fourth-highest-grossing film in Universal Pictures history at that time and the fifth-highest-grossing film of 2005. It also generated $100 million in DVD sales upon its home video release in March 2006. It won three Academy Awards for Best Sound Editing, Best Sound Mixing and Best Visual Effects. A tie-in video game was released alongside the film, which also became a commercial and critical success.'"
      ]
     },
     "execution_count": 259,
     "metadata": {},
     "output_type": "execute_result"
    }
   ],
   "source": [
    "scrapper.get_page_summary_w_release_date('King Kong (2005)',\"2005\")"
   ]
  },
  {
   "cell_type": "code",
   "execution_count": null,
   "metadata": {},
   "outputs": [],
   "source": []
  },
  {
   "cell_type": "code",
   "execution_count": null,
   "metadata": {},
   "outputs": [],
   "source": []
  },
  {
   "cell_type": "code",
   "execution_count": null,
   "metadata": {},
   "outputs": [],
   "source": []
  }
 ],
 "metadata": {
  "kernelspec": {
   "display_name": "Python 3",
   "language": "python",
   "name": "python3"
  },
  "language_info": {
   "codemirror_mode": {
    "name": "ipython",
    "version": 3
   },
   "file_extension": ".py",
   "mimetype": "text/x-python",
   "name": "python",
   "nbconvert_exporter": "python",
   "pygments_lexer": "ipython3",
   "version": "3.9.7"
  }
 },
 "nbformat": 4,
 "nbformat_minor": 2
}
