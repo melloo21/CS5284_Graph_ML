{
 "cells": [
  {
   "cell_type": "code",
   "metadata": {
    "ExecuteTime": {
     "end_time": "2024-10-12T20:18:09.575968Z",
     "start_time": "2024-10-12T20:18:08.623967Z"
    }
   },
   "source": [
    "import re\n",
    "import string\n",
    "from difflib import SequenceMatcher\n",
    "from itertools import chain\n",
    "from typing import Sequence\n",
    "\n",
    "import pandas as pd\n",
    "import wikipedia\n",
    "import wikipediaapi\n",
    "import hashlib\n",
    "from utils.scrape_utils import search_wikipedia, get_scrape_list\n",
    "from utils.wiki_scrapper import GenericScrapper"
   ],
   "outputs": [],
   "execution_count": 1
  },
  {
   "cell_type": "code",
   "metadata": {
    "ExecuteTime": {
     "end_time": "2024-10-12T20:18:10.954968Z",
     "start_time": "2024-10-12T20:18:10.733969Z"
    }
   },
   "source": [
    "# Autoreload\n",
    "%load_ext autoreload\n",
    "%autoreload 2"
   ],
   "outputs": [],
   "execution_count": 2
  },
  {
   "cell_type": "code",
   "metadata": {
    "ExecuteTime": {
     "end_time": "2024-10-12T20:18:12.473968Z",
     "start_time": "2024-10-12T20:18:12.165969Z"
    }
   },
   "source": [
    "# Specify the delimiter (e.g., ',' for CSV, '\\t' for tab, or '::' for MovieLens)\n",
    "file_path = 'dataset/users.dat'\n",
    "users_df = pd.read_csv(file_path, delimiter='::', engine='python', header=None)\n",
    "users_df.columns = [\"UserID\", \"Gender\", \"Age\", \"Occupation\",\"Zip-code\"]\n",
    "print(users_df.info())"
   ],
   "outputs": [
    {
     "name": "stdout",
     "output_type": "stream",
     "text": [
      "<class 'pandas.core.frame.DataFrame'>\n",
      "RangeIndex: 6040 entries, 0 to 6039\n",
      "Data columns (total 5 columns):\n",
      " #   Column      Non-Null Count  Dtype \n",
      "---  ------      --------------  ----- \n",
      " 0   UserID      6040 non-null   int64 \n",
      " 1   Gender      6040 non-null   object\n",
      " 2   Age         6040 non-null   int64 \n",
      " 3   Occupation  6040 non-null   int64 \n",
      " 4   Zip-code    6040 non-null   object\n",
      "dtypes: int64(3), object(2)\n",
      "memory usage: 236.1+ KB\n",
      "None\n"
     ]
    }
   ],
   "execution_count": 3
  },
  {
   "cell_type": "code",
   "metadata": {
    "ExecuteTime": {
     "end_time": "2024-10-12T20:18:17.301968Z",
     "start_time": "2024-10-12T20:18:13.431968Z"
    }
   },
   "source": [
    "file_path = 'dataset/ratings.dat'\n",
    "ratings_df = pd.read_csv(file_path, delimiter='::', engine='python', header=None)\n",
    "ratings_df.columns = [\"UserID\",\"MovieID\",\"Rating\",\"Timestamp\"]\n",
    "print(ratings_df.info())"
   ],
   "outputs": [
    {
     "name": "stdout",
     "output_type": "stream",
     "text": [
      "<class 'pandas.core.frame.DataFrame'>\n",
      "RangeIndex: 1000209 entries, 0 to 1000208\n",
      "Data columns (total 4 columns):\n",
      " #   Column     Non-Null Count    Dtype\n",
      "---  ------     --------------    -----\n",
      " 0   UserID     1000209 non-null  int64\n",
      " 1   MovieID    1000209 non-null  int64\n",
      " 2   Rating     1000209 non-null  int64\n",
      " 3   Timestamp  1000209 non-null  int64\n",
      "dtypes: int64(4)\n",
      "memory usage: 30.5 MB\n",
      "None\n"
     ]
    }
   ],
   "execution_count": 4
  },
  {
   "cell_type": "code",
   "metadata": {
    "ExecuteTime": {
     "end_time": "2024-10-12T20:18:17.525969Z",
     "start_time": "2024-10-12T20:18:17.370969Z"
    }
   },
   "source": [
    "#  File being encoded in a different format, such as 'latin-1' or 'ISO-8859-1'.\n",
    "file_path = 'dataset/movies.dat'\n",
    "movies_df = pd.read_csv(file_path, delimiter='::', engine='python', header=None, encoding='latin-1')\n",
    "movies_df.columns = [\"MovieID\", \"Title\", \"Genres\"]\n",
    "print(movies_df.info())\n",
    "print(movies_df.head())"
   ],
   "outputs": [
    {
     "name": "stdout",
     "output_type": "stream",
     "text": [
      "<class 'pandas.core.frame.DataFrame'>\n",
      "RangeIndex: 3883 entries, 0 to 3882\n",
      "Data columns (total 3 columns):\n",
      " #   Column   Non-Null Count  Dtype \n",
      "---  ------   --------------  ----- \n",
      " 0   MovieID  3883 non-null   int64 \n",
      " 1   Title    3883 non-null   object\n",
      " 2   Genres   3883 non-null   object\n",
      "dtypes: int64(1), object(2)\n",
      "memory usage: 91.1+ KB\n",
      "None\n",
      "   MovieID                               Title                        Genres\n",
      "0        1                    Toy Story (1995)   Animation|Children's|Comedy\n",
      "1        2                      Jumanji (1995)  Adventure|Children's|Fantasy\n",
      "2        3             Grumpier Old Men (1995)                Comedy|Romance\n",
      "3        4            Waiting to Exhale (1995)                  Comedy|Drama\n",
      "4        5  Father of the Bride Part II (1995)                        Comedy\n"
     ]
    }
   ],
   "execution_count": 5
  },
  {
   "cell_type": "code",
   "metadata": {
    "ExecuteTime": {
     "end_time": "2024-10-12T17:04:25.480794Z",
     "start_time": "2024-10-12T17:04:25.343795Z"
    }
   },
   "source": [
    "display([elem for elem in movies_df.Title if \"Mummy\" in elem])"
   ],
   "outputs": [
    {
     "data": {
      "text/plain": [
       "['Mummy, The (1999)',\n",
       " 'Mummy, The (1932)',\n",
       " 'Mummy, The (1959)',\n",
       " \"Mummy's Curse, The (1944)\",\n",
       " \"Mummy's Ghost, The (1944)\",\n",
       " \"Mummy's Hand, The (1940)\",\n",
       " \"Mummy's Tomb, The (1942)\"]"
      ]
     },
     "metadata": {},
     "output_type": "display_data"
    }
   ],
   "execution_count": 19
  },
  {
   "cell_type": "markdown",
   "metadata": {},
   "source": [
    "## Scraping data"
   ]
  },
  {
   "cell_type": "markdown",
   "metadata": {},
   "source": [
    "Cases:\n",
    "1. Movies with multiple series\n",
    "2. Movies with multiple remakes"
   ]
  },
  {
   "cell_type": "code",
   "metadata": {
    "ExecuteTime": {
     "end_time": "2024-10-12T20:18:39.769966Z",
     "start_time": "2024-10-12T20:18:39.558970Z"
    }
   },
   "source": [
    "# Getting Items to scrape\n",
    "web_scrape_list = movies_df.copy()\n",
    "scrape_list = get_scrape_list(web_scrape_list)\n",
    "len(scrape_list['title'].unique())"
   ],
   "outputs": [
    {
     "data": {
      "text/plain": [
       "3840"
      ]
     },
     "execution_count": 8,
     "metadata": {},
     "output_type": "execute_result"
    }
   ],
   "execution_count": 8
  },
  {
   "metadata": {
    "ExecuteTime": {
     "end_time": "2024-10-12T17:06:17.390440Z",
     "start_time": "2024-10-12T17:06:17.173440Z"
    }
   },
   "cell_type": "code",
   "source": "scrape_list['title'].unique()",
   "outputs": [
    {
     "data": {
      "text/plain": [
       "array(['$1,000,000 Duck', \"'Night Mother\", \"'Til There Was You\", ...,\n",
       "       'Zeus and Roxanne', 'Zone 39', 'eXistenZ'], dtype=object)"
      ]
     },
     "execution_count": 22,
     "metadata": {},
     "output_type": "execute_result"
    }
   ],
   "execution_count": 22
  },
  {
   "metadata": {
    "ExecuteTime": {
     "end_time": "2024-10-12T17:10:13.402374Z",
     "start_time": "2024-10-12T17:10:13.245375Z"
    }
   },
   "cell_type": "code",
   "source": "web_scrape_list",
   "outputs": [
    {
     "data": {
      "text/plain": [
       "      MovieID                               Title  \\\n",
       "0           1                    Toy Story (1995)   \n",
       "1           2                      Jumanji (1995)   \n",
       "2           3             Grumpier Old Men (1995)   \n",
       "3           4            Waiting to Exhale (1995)   \n",
       "4           5  Father of the Bride Part II (1995)   \n",
       "...       ...                                 ...   \n",
       "3878     3948             Meet the Parents (2000)   \n",
       "3879     3949          Requiem for a Dream (2000)   \n",
       "3880     3950                    Tigerland (2000)   \n",
       "3881     3951             Two Family House (2000)   \n",
       "3882     3952               Contender, The (2000)   \n",
       "\n",
       "                            Genres                        title  year  \n",
       "0      Animation|Children's|Comedy                    Toy Story  1995  \n",
       "1     Adventure|Children's|Fantasy                      Jumanji  1995  \n",
       "2                   Comedy|Romance             Grumpier Old Men  1995  \n",
       "3                     Comedy|Drama            Waiting to Exhale  1995  \n",
       "4                           Comedy  Father of the Bride Part II  1995  \n",
       "...                            ...                          ...   ...  \n",
       "3878                        Comedy             Meet the Parents  2000  \n",
       "3879                         Drama          Requiem for a Dream  2000  \n",
       "3880                         Drama                    Tigerland  2000  \n",
       "3881                         Drama             Two Family House  2000  \n",
       "3882                Drama|Thriller               Contender, The  2000  \n",
       "\n",
       "[3883 rows x 5 columns]"
      ],
      "text/html": [
       "<div>\n",
       "<style scoped>\n",
       "    .dataframe tbody tr th:only-of-type {\n",
       "        vertical-align: middle;\n",
       "    }\n",
       "\n",
       "    .dataframe tbody tr th {\n",
       "        vertical-align: top;\n",
       "    }\n",
       "\n",
       "    .dataframe thead th {\n",
       "        text-align: right;\n",
       "    }\n",
       "</style>\n",
       "<table border=\"1\" class=\"dataframe\">\n",
       "  <thead>\n",
       "    <tr style=\"text-align: right;\">\n",
       "      <th></th>\n",
       "      <th>MovieID</th>\n",
       "      <th>Title</th>\n",
       "      <th>Genres</th>\n",
       "      <th>title</th>\n",
       "      <th>year</th>\n",
       "    </tr>\n",
       "  </thead>\n",
       "  <tbody>\n",
       "    <tr>\n",
       "      <th>0</th>\n",
       "      <td>1</td>\n",
       "      <td>Toy Story (1995)</td>\n",
       "      <td>Animation|Children's|Comedy</td>\n",
       "      <td>Toy Story</td>\n",
       "      <td>1995</td>\n",
       "    </tr>\n",
       "    <tr>\n",
       "      <th>1</th>\n",
       "      <td>2</td>\n",
       "      <td>Jumanji (1995)</td>\n",
       "      <td>Adventure|Children's|Fantasy</td>\n",
       "      <td>Jumanji</td>\n",
       "      <td>1995</td>\n",
       "    </tr>\n",
       "    <tr>\n",
       "      <th>2</th>\n",
       "      <td>3</td>\n",
       "      <td>Grumpier Old Men (1995)</td>\n",
       "      <td>Comedy|Romance</td>\n",
       "      <td>Grumpier Old Men</td>\n",
       "      <td>1995</td>\n",
       "    </tr>\n",
       "    <tr>\n",
       "      <th>3</th>\n",
       "      <td>4</td>\n",
       "      <td>Waiting to Exhale (1995)</td>\n",
       "      <td>Comedy|Drama</td>\n",
       "      <td>Waiting to Exhale</td>\n",
       "      <td>1995</td>\n",
       "    </tr>\n",
       "    <tr>\n",
       "      <th>4</th>\n",
       "      <td>5</td>\n",
       "      <td>Father of the Bride Part II (1995)</td>\n",
       "      <td>Comedy</td>\n",
       "      <td>Father of the Bride Part II</td>\n",
       "      <td>1995</td>\n",
       "    </tr>\n",
       "    <tr>\n",
       "      <th>...</th>\n",
       "      <td>...</td>\n",
       "      <td>...</td>\n",
       "      <td>...</td>\n",
       "      <td>...</td>\n",
       "      <td>...</td>\n",
       "    </tr>\n",
       "    <tr>\n",
       "      <th>3878</th>\n",
       "      <td>3948</td>\n",
       "      <td>Meet the Parents (2000)</td>\n",
       "      <td>Comedy</td>\n",
       "      <td>Meet the Parents</td>\n",
       "      <td>2000</td>\n",
       "    </tr>\n",
       "    <tr>\n",
       "      <th>3879</th>\n",
       "      <td>3949</td>\n",
       "      <td>Requiem for a Dream (2000)</td>\n",
       "      <td>Drama</td>\n",
       "      <td>Requiem for a Dream</td>\n",
       "      <td>2000</td>\n",
       "    </tr>\n",
       "    <tr>\n",
       "      <th>3880</th>\n",
       "      <td>3950</td>\n",
       "      <td>Tigerland (2000)</td>\n",
       "      <td>Drama</td>\n",
       "      <td>Tigerland</td>\n",
       "      <td>2000</td>\n",
       "    </tr>\n",
       "    <tr>\n",
       "      <th>3881</th>\n",
       "      <td>3951</td>\n",
       "      <td>Two Family House (2000)</td>\n",
       "      <td>Drama</td>\n",
       "      <td>Two Family House</td>\n",
       "      <td>2000</td>\n",
       "    </tr>\n",
       "    <tr>\n",
       "      <th>3882</th>\n",
       "      <td>3952</td>\n",
       "      <td>Contender, The (2000)</td>\n",
       "      <td>Drama|Thriller</td>\n",
       "      <td>Contender, The</td>\n",
       "      <td>2000</td>\n",
       "    </tr>\n",
       "  </tbody>\n",
       "</table>\n",
       "<p>3883 rows × 5 columns</p>\n",
       "</div>"
      ]
     },
     "execution_count": 30,
     "metadata": {},
     "output_type": "execute_result"
    }
   ],
   "execution_count": 30
  },
  {
   "cell_type": "code",
   "metadata": {
    "ExecuteTime": {
     "end_time": "2024-10-12T20:18:21.084967Z",
     "start_time": "2024-10-12T20:18:20.863969Z"
    }
   },
   "source": [
    "## Initialise\n",
    "scrapper = GenericScrapper()"
   ],
   "outputs": [],
   "execution_count": 6
  },
  {
   "cell_type": "markdown",
   "metadata": {},
   "source": [
    "#### Using Wikipedia API"
   ]
  },
  {
   "cell_type": "code",
   "metadata": {
    "ExecuteTime": {
     "end_time": "2024-10-12T17:09:28.932501Z",
     "start_time": "2024-10-12T17:09:28.215503Z"
    }
   },
   "source": [
    "# Example to get scraper\n",
    "sections = scrapper.get_section_dict('King Kong (2005)')"
   ],
   "outputs": [],
   "execution_count": 27
  },
  {
   "cell_type": "code",
   "metadata": {},
   "source": [
    "sections[\"Plot\"]"
   ],
   "outputs": [],
   "execution_count": null
  },
  {
   "metadata": {
    "jupyter": {
     "is_executing": true
    },
    "ExecuteTime": {
     "start_time": "2024-10-12T20:20:55.551779Z"
    }
   },
   "cell_type": "code",
   "source": [
    "scrape_df = web_scrape_list\n",
    "\n",
    "def check_valid_page(page):\n",
    "    if not page.exists():\n",
    "        return False\n",
    "    if len(page.sections) <= 1:\n",
    "        return False\n",
    "    # for section in page.sections:\n",
    "    #     if (section.title == 'See also') and ('(disambiguation)' in section.text):\n",
    "    #         return False\n",
    "    return True\n",
    "\n",
    "\n",
    "def fix_malformed_title(title: str) -> str:\n",
    "    title = title.strip()\n",
    "    alias_title = re.match(r'(.*?) (\\(.+\\))', title)\n",
    "    if alias_title is not None:\n",
    "        title = alias_title.group(1)\n",
    "    if title.endswith((', The', ', Les')):\n",
    "        title = f'The {title[:-5]}'\n",
    "    return title\n",
    "\n",
    "\n",
    "def get_search_title(title: str):\n",
    "    return f'{fix_malformed_title(title)} (film)'\n",
    "\n",
    "\n",
    "def generate_candidate_titles(title: str) -> list[str]:\n",
    "    fixed_title = fix_malformed_title(title)\n",
    "    title_case_title = string.capwords(fixed_title)\n",
    "    titles = [fixed_title, title_case_title]\n",
    "    firstname_format = re.match((r'(.*?), (\\w+)$'), fixed_title)\n",
    "    if firstname_format is not None:\n",
    "        title = f'{string.capwords(firstname_format.group(2))} {firstname_format.group(1)}'\n",
    "        titles.append(title)\n",
    "    candidate_titles = [\n",
    "        [\n",
    "            f'{modified_title} ({row.year} film)',\n",
    "            f'{modified_title} (film)',\n",
    "            f'{modified_title} ({row.year})',\n",
    "            modified_title,\n",
    "        ]\n",
    "        for modified_title in titles\n",
    "    ]\n",
    "    candidate_titles = list(dict.fromkeys(chain.from_iterable(candidate_titles)))\n",
    "    return candidate_titles\n",
    "\n",
    "def get_best_search_matches(search_titles: list[str], candidate_titles: list[str], threshold: float = 0.85) -> list[str]:\n",
    "    filtered_titles = []\n",
    "    for search_title in search_titles:\n",
    "        best_score = max(SequenceMatcher(None, search_title, candidate).ratio() for candidate in candidate_titles)\n",
    "        if best_score > threshold:\n",
    "            filtered_titles.append((best_score, search_title))\n",
    "    filtered_titles = sorted(filtered_titles, reverse=True)\n",
    "    return filtered_titles\n",
    "            \n",
    "\n",
    "plot_regex = re.compile('[Pp]lot|Synopsis|Summary.*')\n",
    "scraped_content = dict()\n",
    "scraped_signature = dict()\n",
    "scraped_title = dict()\n",
    "wiki_wiki = wikipediaapi.Wikipedia('MyProjectName (dhytra97@gmail.com)', 'en')\n",
    "for row in scrape_df.itertuples():\n",
    "    if row.Title in scraped_title:\n",
    "        continue\n",
    "    candidate_titles = generate_candidate_titles(get_search_title(row.title))\n",
    "    for title in candidate_titles:\n",
    "        page_py = wiki_wiki.page(title)\n",
    "        if check_valid_page(page_py):\n",
    "            break\n",
    "    else:\n",
    "        print(f'{row.Title} page not found; searching for matches')\n",
    "        search_titles = wikipedia.search(row.title)\n",
    "        print(f'{search_titles=}')\n",
    "        candidate_search_titles = get_best_search_matches(search_titles, candidate_titles)\n",
    "        print(f'{candidate_search_titles=}')\n",
    "        if len(candidate_search_titles) == 0:\n",
    "            print(f'{row.Title} page not found; skipping')\n",
    "            print(f'{candidate_titles=}')\n",
    "            continue\n",
    "        for score, title in candidate_search_titles:\n",
    "            page_py = wiki_wiki.page(title)\n",
    "            if check_valid_page(page_py):\n",
    "                print(f'title found: {title}')\n",
    "                break\n",
    "        else:\n",
    "            print(f'{row.Title} page not found; skipping')\n",
    "            print(f'{candidate_search_titles=}')\n",
    "            continue\n",
    "    plot_sections = [section.title for section in page_py.sections if plot_regex.match(section.title)]\n",
    "    if len(plot_sections) != 1:\n",
    "        print(f'Invalid sections for {title}: {plot_sections}')\n",
    "        print(f'{candidate_titles=}')\n",
    "        search_titles = wikipedia.search(get_search_title(row.title))\n",
    "        print(f'{search_titles=}')\n",
    "        candidate_search_titles = get_best_search_matches(search_titles, candidate_titles)\n",
    "        print(f'{candidate_search_titles=}')\n",
    "        if len(candidate_search_titles) == 0:\n",
    "            print(f'{row.Title} page not found from search; skipping')\n",
    "            print(f'{candidate_titles=}')\n",
    "            continue\n",
    "        for score, title in candidate_search_titles:\n",
    "            page_py = wiki_wiki.page(title)\n",
    "            if check_valid_page(page_py):\n",
    "                print(f'title found: {title}')\n",
    "                break\n",
    "        else:\n",
    "            print(f'{row.Title} page not found from search; skipping')\n",
    "            continue\n",
    "    plot_sections = [section.title for section in page_py.sections if plot_regex.match(section.title)]\n",
    "    if len(plot_sections) != 1:\n",
    "        print(f'Invalid sections for {title} after search: {plot_sections}')\n",
    "        continue\n",
    "    plot_text = page_py.section_by_title(plot_sections[0]).text\n",
    "    scraped_content[title] = plot_text\n",
    "    text_hash = hashlib.md5(plot_text.encode()).hexdigest()\n",
    "    scraped_signature[title] = text_hash\n",
    "    scraped_title[row.Title] = title\n",
    "    # break\n",
    "print(len(scraped_signature))\n",
    "scraped_signature"
   ],
   "outputs": [],
   "execution_count": null
  },
  {
   "metadata": {
    "ExecuteTime": {
     "end_time": "2024-10-12T20:20:39.640371Z",
     "start_time": "2024-10-12T20:20:39.376371Z"
    }
   },
   "cell_type": "code",
   "source": [
    "scrape_df.loc[:, 'mapped_title'] = scrape_df['Title'].map(scraped_title)\n",
    "scrape_df.loc[:, 'text_hash'] = scrape_df['mapped_title'].map(scraped_signature)\n",
    "scrape_df.loc[:, 'text'] = scrape_df['mapped_title'].map(scraped_content)\n",
    "scrape_df.to_parquet('scraped_2024-10-13.parquet')\n",
    "scrape_df"
   ],
   "outputs": [
    {
     "data": {
      "text/plain": [
       "    MovieID                                 Title  \\\n",
       "0         1                      Toy Story (1995)   \n",
       "1         2                        Jumanji (1995)   \n",
       "2         3               Grumpier Old Men (1995)   \n",
       "3         4              Waiting to Exhale (1995)   \n",
       "4         5    Father of the Bride Part II (1995)   \n",
       "..      ...                                   ...   \n",
       "95       97               Hate (Haine, La) (1995)   \n",
       "96       98                       Shopping (1994)   \n",
       "97       99  Heidi Fleiss: Hollywood Madam (1995)   \n",
       "98      100                      City Hall (1996)   \n",
       "99      101                  Bottle Rocket (1996)   \n",
       "\n",
       "                          Genres                          title  year  \\\n",
       "0    Animation|Children's|Comedy                      Toy Story  1995   \n",
       "1   Adventure|Children's|Fantasy                        Jumanji  1995   \n",
       "2                 Comedy|Romance               Grumpier Old Men  1995   \n",
       "3                   Comedy|Drama              Waiting to Exhale  1995   \n",
       "4                         Comedy    Father of the Bride Part II  1995   \n",
       "..                           ...                            ...   ...   \n",
       "95                         Drama               Hate (Haine, La)  1995   \n",
       "96               Action|Thriller                       Shopping  1994   \n",
       "97                   Documentary  Heidi Fleiss: Hollywood Madam  1995   \n",
       "98                Drama|Thriller                      City Hall  1996   \n",
       "99                        Comedy                  Bottle Rocket  1996   \n",
       "\n",
       "                     mapped_title                         text_hash  \\\n",
       "0                Toy Story (film)  d68f6979e62e69e49965edd36cd0dd99   \n",
       "1             Jumanji (1995 film)  71cf9481d07ce1019d4bb533323a1e6d   \n",
       "2                Grumpier Old Men  3ae338c16ce71400350e56555fe64615   \n",
       "3               Waiting to Exhale  cbbb08fcba4ea8e9bbcb7baa7aaca1cc   \n",
       "4     Father of the Bride Part II  b1100a9962ec154efae8431defaae021   \n",
       "..                            ...                               ...   \n",
       "95               Hate (1995 film)  fd35eae0d45655eae166b21a122d3622   \n",
       "96           Shopping (1994 film)  33d8d20be828ce2dd31cf39049d4dcc4   \n",
       "97  Heidi Fleiss: Hollywood Madam  9ae3f2918e5f11f51e65bcfa4ecfe6c3   \n",
       "98          City Hall (1996 film)  5e858a817598bcb05405fa55191d5e82   \n",
       "99           Bottle Rocket (film)  9951ec409b640436181e47bdfac573e5   \n",
       "\n",
       "                                                 text  \n",
       "0   A group of sentient toys, who pretend to be li...  \n",
       "1   In 1969, Alan Parrish lives in Brantford, New ...  \n",
       "2   The feud between Max and John has cooled and t...  \n",
       "3   Four friends (Savannah, Robin, Bernadine, and ...  \n",
       "4   Four years after the events of the first film,...  \n",
       "..                                                ...  \n",
       "95  La Haine opens with a montage of news footage ...  \n",
       "96  Billy is released from prison, but the police ...  \n",
       "97  The documentary begins with news footage from ...  \n",
       "98  The film opens as New York City Mayor John Pap...  \n",
       "99  In Arizona, Dignan \"rescues\" his friend Anthon...  \n",
       "\n",
       "[100 rows x 8 columns]"
      ],
      "text/html": [
       "<div>\n",
       "<style scoped>\n",
       "    .dataframe tbody tr th:only-of-type {\n",
       "        vertical-align: middle;\n",
       "    }\n",
       "\n",
       "    .dataframe tbody tr th {\n",
       "        vertical-align: top;\n",
       "    }\n",
       "\n",
       "    .dataframe thead th {\n",
       "        text-align: right;\n",
       "    }\n",
       "</style>\n",
       "<table border=\"1\" class=\"dataframe\">\n",
       "  <thead>\n",
       "    <tr style=\"text-align: right;\">\n",
       "      <th></th>\n",
       "      <th>MovieID</th>\n",
       "      <th>Title</th>\n",
       "      <th>Genres</th>\n",
       "      <th>title</th>\n",
       "      <th>year</th>\n",
       "      <th>mapped_title</th>\n",
       "      <th>text_hash</th>\n",
       "      <th>text</th>\n",
       "    </tr>\n",
       "  </thead>\n",
       "  <tbody>\n",
       "    <tr>\n",
       "      <th>0</th>\n",
       "      <td>1</td>\n",
       "      <td>Toy Story (1995)</td>\n",
       "      <td>Animation|Children's|Comedy</td>\n",
       "      <td>Toy Story</td>\n",
       "      <td>1995</td>\n",
       "      <td>Toy Story (film)</td>\n",
       "      <td>d68f6979e62e69e49965edd36cd0dd99</td>\n",
       "      <td>A group of sentient toys, who pretend to be li...</td>\n",
       "    </tr>\n",
       "    <tr>\n",
       "      <th>1</th>\n",
       "      <td>2</td>\n",
       "      <td>Jumanji (1995)</td>\n",
       "      <td>Adventure|Children's|Fantasy</td>\n",
       "      <td>Jumanji</td>\n",
       "      <td>1995</td>\n",
       "      <td>Jumanji (1995 film)</td>\n",
       "      <td>71cf9481d07ce1019d4bb533323a1e6d</td>\n",
       "      <td>In 1969, Alan Parrish lives in Brantford, New ...</td>\n",
       "    </tr>\n",
       "    <tr>\n",
       "      <th>2</th>\n",
       "      <td>3</td>\n",
       "      <td>Grumpier Old Men (1995)</td>\n",
       "      <td>Comedy|Romance</td>\n",
       "      <td>Grumpier Old Men</td>\n",
       "      <td>1995</td>\n",
       "      <td>Grumpier Old Men</td>\n",
       "      <td>3ae338c16ce71400350e56555fe64615</td>\n",
       "      <td>The feud between Max and John has cooled and t...</td>\n",
       "    </tr>\n",
       "    <tr>\n",
       "      <th>3</th>\n",
       "      <td>4</td>\n",
       "      <td>Waiting to Exhale (1995)</td>\n",
       "      <td>Comedy|Drama</td>\n",
       "      <td>Waiting to Exhale</td>\n",
       "      <td>1995</td>\n",
       "      <td>Waiting to Exhale</td>\n",
       "      <td>cbbb08fcba4ea8e9bbcb7baa7aaca1cc</td>\n",
       "      <td>Four friends (Savannah, Robin, Bernadine, and ...</td>\n",
       "    </tr>\n",
       "    <tr>\n",
       "      <th>4</th>\n",
       "      <td>5</td>\n",
       "      <td>Father of the Bride Part II (1995)</td>\n",
       "      <td>Comedy</td>\n",
       "      <td>Father of the Bride Part II</td>\n",
       "      <td>1995</td>\n",
       "      <td>Father of the Bride Part II</td>\n",
       "      <td>b1100a9962ec154efae8431defaae021</td>\n",
       "      <td>Four years after the events of the first film,...</td>\n",
       "    </tr>\n",
       "    <tr>\n",
       "      <th>...</th>\n",
       "      <td>...</td>\n",
       "      <td>...</td>\n",
       "      <td>...</td>\n",
       "      <td>...</td>\n",
       "      <td>...</td>\n",
       "      <td>...</td>\n",
       "      <td>...</td>\n",
       "      <td>...</td>\n",
       "    </tr>\n",
       "    <tr>\n",
       "      <th>95</th>\n",
       "      <td>97</td>\n",
       "      <td>Hate (Haine, La) (1995)</td>\n",
       "      <td>Drama</td>\n",
       "      <td>Hate (Haine, La)</td>\n",
       "      <td>1995</td>\n",
       "      <td>Hate (1995 film)</td>\n",
       "      <td>fd35eae0d45655eae166b21a122d3622</td>\n",
       "      <td>La Haine opens with a montage of news footage ...</td>\n",
       "    </tr>\n",
       "    <tr>\n",
       "      <th>96</th>\n",
       "      <td>98</td>\n",
       "      <td>Shopping (1994)</td>\n",
       "      <td>Action|Thriller</td>\n",
       "      <td>Shopping</td>\n",
       "      <td>1994</td>\n",
       "      <td>Shopping (1994 film)</td>\n",
       "      <td>33d8d20be828ce2dd31cf39049d4dcc4</td>\n",
       "      <td>Billy is released from prison, but the police ...</td>\n",
       "    </tr>\n",
       "    <tr>\n",
       "      <th>97</th>\n",
       "      <td>99</td>\n",
       "      <td>Heidi Fleiss: Hollywood Madam (1995)</td>\n",
       "      <td>Documentary</td>\n",
       "      <td>Heidi Fleiss: Hollywood Madam</td>\n",
       "      <td>1995</td>\n",
       "      <td>Heidi Fleiss: Hollywood Madam</td>\n",
       "      <td>9ae3f2918e5f11f51e65bcfa4ecfe6c3</td>\n",
       "      <td>The documentary begins with news footage from ...</td>\n",
       "    </tr>\n",
       "    <tr>\n",
       "      <th>98</th>\n",
       "      <td>100</td>\n",
       "      <td>City Hall (1996)</td>\n",
       "      <td>Drama|Thriller</td>\n",
       "      <td>City Hall</td>\n",
       "      <td>1996</td>\n",
       "      <td>City Hall (1996 film)</td>\n",
       "      <td>5e858a817598bcb05405fa55191d5e82</td>\n",
       "      <td>The film opens as New York City Mayor John Pap...</td>\n",
       "    </tr>\n",
       "    <tr>\n",
       "      <th>99</th>\n",
       "      <td>101</td>\n",
       "      <td>Bottle Rocket (1996)</td>\n",
       "      <td>Comedy</td>\n",
       "      <td>Bottle Rocket</td>\n",
       "      <td>1996</td>\n",
       "      <td>Bottle Rocket (film)</td>\n",
       "      <td>9951ec409b640436181e47bdfac573e5</td>\n",
       "      <td>In Arizona, Dignan \"rescues\" his friend Anthon...</td>\n",
       "    </tr>\n",
       "  </tbody>\n",
       "</table>\n",
       "<p>100 rows × 8 columns</p>\n",
       "</div>"
      ]
     },
     "execution_count": 11,
     "metadata": {},
     "output_type": "execute_result"
    }
   ],
   "execution_count": 11
  },
  {
   "cell_type": "code",
   "metadata": {
    "ExecuteTime": {
     "end_time": "2024-10-12T19:37:04.515043Z",
     "start_time": "2024-10-12T19:37:03.883693Z"
    }
   },
   "source": "wikipedia.search('Next Stop, Wonderland')",
   "outputs": [
    {
     "data": {
      "text/plain": [
       "['Next Stop Wonderland',\n",
       " 'Brad Anderson (director)',\n",
       " 'Wonderland Amusement Park (Massachusetts)',\n",
       " 'Holland Taylor',\n",
       " 'Sam Seder',\n",
       " 'Cara Buono',\n",
       " 'Lawrence Gilliard Jr.',\n",
       " 'Hope Davis',\n",
       " 'Self-Reliance',\n",
       " 'Philip Seymour Hoffman']"
      ]
     },
     "execution_count": 141,
     "metadata": {},
     "output_type": "execute_result"
    }
   ],
   "execution_count": 141
  },
  {
   "metadata": {
    "ExecuteTime": {
     "end_time": "2024-10-12T20:02:55.197182Z",
     "start_time": "2024-10-12T20:02:54.984183Z"
    }
   },
   "cell_type": "code",
   "source": "SequenceMatcher(None, 'Bedrooms & Hallways', 'Bedrooms and Hallways').ratio()",
   "outputs": [
    {
     "data": {
      "text/plain": [
       "0.9"
      ]
     },
     "execution_count": 161,
     "metadata": {},
     "output_type": "execute_result"
    }
   ],
   "execution_count": 161
  },
  {
   "cell_type": "code",
   "execution_count": null,
   "metadata": {},
   "outputs": [],
   "source": []
  }
 ],
 "metadata": {
  "kernelspec": {
   "display_name": "Python 3 (ipykernel)",
   "language": "python",
   "name": "python3"
  },
  "language_info": {
   "codemirror_mode": {
    "name": "ipython",
    "version": 3
   },
   "file_extension": ".py",
   "mimetype": "text/x-python",
   "name": "python",
   "nbconvert_exporter": "python",
   "pygments_lexer": "ipython3",
   "version": "3.10.15"
  }
 },
 "nbformat": 4,
 "nbformat_minor": 4
}
