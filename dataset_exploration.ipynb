{
 "cells": [
  {
   "cell_type": "code",
   "execution_count": 1,
   "metadata": {},
   "outputs": [],
   "source": [
    "import pandas as pd"
   ]
  },
  {
   "cell_type": "code",
   "execution_count": 34,
   "metadata": {},
   "outputs": [],
   "source": [
    "# Autoreload\n",
    "%load_ext autoreload\n",
    "%autoreload 2"
   ]
  },
  {
   "cell_type": "code",
   "execution_count": 4,
   "metadata": {},
   "outputs": [
    {
     "name": "stdout",
     "output_type": "stream",
     "text": [
      "<class 'pandas.core.frame.DataFrame'>\n",
      "RangeIndex: 6040 entries, 0 to 6039\n",
      "Data columns (total 5 columns):\n",
      " #   Column      Non-Null Count  Dtype \n",
      "---  ------      --------------  ----- \n",
      " 0   UserID      6040 non-null   int64 \n",
      " 1   Gender      6040 non-null   object\n",
      " 2   Age         6040 non-null   int64 \n",
      " 3   Occupation  6040 non-null   int64 \n",
      " 4   Zip-code    6040 non-null   object\n",
      "dtypes: int64(3), object(2)\n",
      "memory usage: 236.1+ KB\n",
      "None\n"
     ]
    }
   ],
   "source": [
    "# Specify the delimiter (e.g., ',' for CSV, '\\t' for tab, or '::' for MovieLens)\n",
    "file_path = 'dataset/users.dat'\n",
    "users_df = pd.read_csv(file_path, delimiter='::', engine='python', header=None)\n",
    "users_df.columns = [\"UserID\", \"Gender\", \"Age\", \"Occupation\",\"Zip-code\"]\n",
    "print(users_df.info())"
   ]
  },
  {
   "cell_type": "code",
   "execution_count": 15,
   "metadata": {},
   "outputs": [
    {
     "name": "stdout",
     "output_type": "stream",
     "text": [
      "<class 'pandas.core.frame.DataFrame'>\n",
      "RangeIndex: 1000209 entries, 0 to 1000208\n",
      "Data columns (total 4 columns):\n",
      " #   Column     Non-Null Count    Dtype\n",
      "---  ------     --------------    -----\n",
      " 0   UserID     1000209 non-null  int64\n",
      " 1   MovieID    1000209 non-null  int64\n",
      " 2   Rating     1000209 non-null  int64\n",
      " 3   Timestamp  1000209 non-null  int64\n",
      "dtypes: int64(4)\n",
      "memory usage: 30.5 MB\n",
      "None\n"
     ]
    }
   ],
   "source": [
    "file_path = 'dataset/ratings.dat'\n",
    "ratings_df = pd.read_csv(file_path, delimiter='::', engine='python', header=None)\n",
    "ratings_df.columns = [\"UserID\",\"MovieID\",\"Rating\",\"Timestamp\"]\n",
    "print(ratings_df.info())"
   ]
  },
  {
   "cell_type": "code",
   "execution_count": 22,
   "metadata": {},
   "outputs": [
    {
     "name": "stdout",
     "output_type": "stream",
     "text": [
      "   MovieID                               Title                        Genres\n",
      "0        1                    Toy Story (1995)   Animation|Children's|Comedy\n",
      "1        2                      Jumanji (1995)  Adventure|Children's|Fantasy\n",
      "2        3             Grumpier Old Men (1995)                Comedy|Romance\n",
      "3        4            Waiting to Exhale (1995)                  Comedy|Drama\n",
      "4        5  Father of the Bride Part II (1995)                        Comedy\n"
     ]
    }
   ],
   "source": [
    "#  File being encoded in a different format, such as 'latin-1' or 'ISO-8859-1'.\n",
    "file_path = 'dataset/movies.dat'\n",
    "movies_df = pd.read_csv(file_path, delimiter='::', engine='python', header=None, encoding='latin-1')\n",
    "movies_df.columns = [\"MovieID\", \"Title\", \"Genres\"]\n",
    "print(movies_df.head())"
   ]
  },
  {
   "cell_type": "code",
   "execution_count": 21,
   "metadata": {},
   "outputs": [
    {
     "data": {
      "text/plain": [
       "0                         Toy Story (1995)\n",
       "1                           Jumanji (1995)\n",
       "2                  Grumpier Old Men (1995)\n",
       "3                 Waiting to Exhale (1995)\n",
       "4       Father of the Bride Part II (1995)\n",
       "                       ...                \n",
       "3878               Meet the Parents (2000)\n",
       "3879            Requiem for a Dream (2000)\n",
       "3880                      Tigerland (2000)\n",
       "3881               Two Family House (2000)\n",
       "3882                 Contender, The (2000)\n",
       "Name: Title, Length: 3883, dtype: object"
      ]
     },
     "metadata": {},
     "output_type": "display_data"
    }
   ],
   "source": [
    "display(movies_df.Title)"
   ]
  },
  {
   "cell_type": "code",
   "execution_count": 40,
   "metadata": {},
   "outputs": [],
   "source": [
    "from utils.wiki_scrapper import Scrapper"
   ]
  },
  {
   "cell_type": "code",
   "execution_count": 42,
   "metadata": {},
   "outputs": [],
   "source": [
    "## Initialise\n",
    "scrapper = Scrapper()"
   ]
  },
  {
   "cell_type": "code",
   "execution_count": 107,
   "metadata": {},
   "outputs": [
    {
     "name": "stdout",
     "output_type": "stream",
     "text": [
      "Page - Exists: True\n"
     ]
    }
   ],
   "source": [
    "# Creating user agent -- to search for pages (Ref :: https://github.com/martin-majlis/Wikipedia-API/tree/master)\n",
    "wiki_wiki = wikipediaapi.Wikipedia('MyProjectName (example@gmail.com)', 'en')\n",
    "\n",
    "page_py = wiki_wiki.page('King Kong (2005)')\n",
    "print(\"Page - Exists: %s\" % page_py.exists())"
   ]
  },
  {
   "cell_type": "code",
   "execution_count": 55,
   "metadata": {},
   "outputs": [
    {
     "data": {
      "text/plain": [
       "'King Kong is a 2005 epic adventure monster film co-written, produced, and directed by Peter Jackson. It is the ninth entry in the King Kong franchise and the second remake of the 1933 film of the same title, the first being the 1976 remake. The film stars Naomi Watts, Jack Black, and Adrien Brody. Set in 1933, it follows the story of an ambitious filmmaker who coerces his cast and hired ship crew to travel to mysterious Skull Island. There they encounter prehistoric creatures and a legendary giant gorilla known as Kong, whom they capture and take to New York City.\\nDevelopment began in early 1995, when Universal Pictures approached Jackson to direct the remake of the original 1933 film. The project stalled in early 1997, as several ape and giant monster-related films were under production at the time and Jackson planned to direct The Lord of the Rings film series. As the first two films in the Rings trilogy became commercially successful, Universal went back to Jackson in early 2003, expressing interest in restarting development on the project, to which Jackson eventually agreed. Filming for King Kong took place in New Zealand from September 2004 to March 2005. It is currently one of the most expensive films ever produced as its budget climbed from an initial $150 million to a then record-breaking $207 million.\\nKing Kong premiered at New York City on December 5, 2005, and was theatrically released in Germany and United States on December 14. The film garnered positive reviews, and eventually appeared in several top ten lists for 2005; it was praised for the special effects, performances, sense of spectacle and comparison to the 1933 original, though some criticisms were raised over its 3-hour run time. It was a commercial success, grossing over $556.9 million, and became the fourth-highest-grossing film in Universal Pictures history at that time and the fifth-highest-grossing film of 2005. It also generated $100 million in DVD sales upon its home video release in March 2006. It won three Academy Awards for Best Sound Editing, Best Sound Mixing and Best Visual Effects. A tie-in video game was released alongside the film, which also became a commercial and critical success.'"
      ]
     },
     "execution_count": 55,
     "metadata": {},
     "output_type": "execute_result"
    }
   ],
   "source": [
    "scrapper.get_page_summary('King Kong (2005)')"
   ]
  },
  {
   "cell_type": "code",
   "execution_count": 36,
   "metadata": {},
   "outputs": [
    {
     "data": {
      "text/plain": [
       "['ATTRIBUTES_MAPPING',\n",
       " '__class__',\n",
       " '__delattr__',\n",
       " '__dict__',\n",
       " '__dir__',\n",
       " '__doc__',\n",
       " '__eq__',\n",
       " '__format__',\n",
       " '__ge__',\n",
       " '__getattr__',\n",
       " '__getattribute__',\n",
       " '__gt__',\n",
       " '__hash__',\n",
       " '__init__',\n",
       " '__init_subclass__',\n",
       " '__le__',\n",
       " '__lt__',\n",
       " '__module__',\n",
       " '__ne__',\n",
       " '__new__',\n",
       " '__reduce__',\n",
       " '__reduce_ex__',\n",
       " '__repr__',\n",
       " '__setattr__',\n",
       " '__sizeof__',\n",
       " '__str__',\n",
       " '__subclasshook__',\n",
       " '__weakref__',\n",
       " '_attributes',\n",
       " '_backlinks',\n",
       " '_called',\n",
       " '_categories',\n",
       " '_categorymembers',\n",
       " '_fetch',\n",
       " '_langlinks',\n",
       " '_links',\n",
       " '_section',\n",
       " '_section_mapping',\n",
       " '_summary',\n",
       " 'backlinks',\n",
       " 'categories',\n",
       " 'categorymembers',\n",
       " 'exists',\n",
       " 'langlinks',\n",
       " 'language',\n",
       " 'links',\n",
       " 'namespace',\n",
       " 'section_by_title',\n",
       " 'sections',\n",
       " 'sections_by_title',\n",
       " 'summary',\n",
       " 'text',\n",
       " 'title',\n",
       " 'wiki']"
      ]
     },
     "execution_count": 36,
     "metadata": {},
     "output_type": "execute_result"
    }
   ],
   "source": [
    "dir(page_py)"
   ]
  },
  {
   "cell_type": "code",
   "execution_count": 109,
   "metadata": {},
   "outputs": [
    {
     "name": "stdout",
     "output_type": "stream",
     "text": [
      "King Kong is a 2005 epic adventure monster film co-written, produced, and directed by Peter Jackson. It is the ninth entry in the King Kong franchise and the second remake of the 1933 film of the same title, the first being the 1976 remake. The film stars Naomi Watts, Jack Black, and Adrien Brody. Set in 1933, it follows the story of an ambitious filmmaker who coerces his cast and hired ship crew to travel to mysterious Skull Island. There they encounter prehistoric creatures and a legendary giant gorilla known as Kong, whom they capture and take to New York City.\n",
      "Development began in early 1995, when Universal Pictures approached Jackson to direct the remake of the original 1933 film. The project stalled in early 1997, as several ape and giant monster-related films were under production at the time and Jackson planned to direct The Lord of the Rings film series. As the first two films in the Rings trilogy became commercially successful, Universal went back to Jackson in early 2003, expressing interest in restarting development on the project, to which Jackson eventually agreed. Filming for King Kong took place in New Zealand from September 2004 to March 2005. It is currently one of the most expensive films ever produced as its budget climbed from an initial $150 million to a then record-breaking $207 million.\n",
      "King Kong premiered at New York City on December 5, 2005, and was theatrically released in Germany and United States on December 14. The film garnered positive reviews, and eventually appeared in several top ten lists for 2005; it was praised for the special effects, performances, sense of spectacle and comparison to the 1933 original, though some criticisms were raised over its 3-hour run time. It was a commercial success, grossing over $556.9 million, and became the fourth-highest-grossing film in Universal Pictures history at that time and the fifth-highest-grossing film of 2005. It also generated $100 million in DVD sales upon its home video release in March 2006. It won three Academy Awards for Best Sound Editing, Best Sound Mixing and Best Visual Effects. A tie-in video game was released alongside the film, which also became a commercial and critical success.\n",
      "\n",
      "Plot\n",
      "In 1933, during the Great Depression, struggling New York City vaudeville performer Ann Darrow is hired by financially troubled filmmaker Carl Denham to star in a film with actor Bruce Baxter. Ann is hesitant to join the picture until she learns her favorite playwright, Jack Driscoll, is the screenwriter. Filming takes place on the SS Venture, under Captain Englehorn, and under Carl's pretense it will be sailing to Singapore. In truth, Carl intends to film the mysterious Skull Island. Captain Englehorn reconsiders the voyage, prompted by his crew's speculation of trouble ahead. During the voyage, Ann and Jack fall in love.\n",
      "The Venture receives a radio message informing Englehorn there is a warrant for Carl's arrest due to his defiance of the studio's orders to cease production, and instructing Englehorn to divert to Rangoon, but the ship becomes lost in fog and runs aground on Skull Island. Carl and others, including his film crew consisting of cameraman Herb, assistant Preston and boom operator Mike, explore the island and are attacked by natives who kill Mike and a crewman. Englehorn rescues Carl’s group, but as they all prepare to leave, the natives secretly abduct Ann to offer her as a sacrifice to Kong, a 25-foot-tall (7.6 m) ape. Jack notices Ann's disappearance, and the crew returns to the island, but Kong flees with Ann into the jungle. Carl catches a glimpse of Kong and becomes determined to film him.\n",
      "Ann wins Kong over with her juggling and dancing skills, and begins to grasp his intelligence and capacity for emotion. Englehorn organizes a rescue party, led by his first mate Hayes and Jack, and accompanied by Carl, Herb, Baxter and Preston. The party gets caught between a herd of Brontosaurus baxteri and a pack of Utahraptor-like Venatosaurus saevidicus hunting them, with Herb and several other men killed in the resulting stampede. Baxter and others return to the ship.\n",
      "The remaining party members continue through the jungle when Kong attacks, making them fall into a ravine where Carl loses his camera. Kong rescues Ann from three Tyrannosaurus-like Vastatosaurus rex, bringing her to his den in the mountains. The remaining rescue party are attacked by giant insects in the ravine, resulting in the death of Hayes and most of the rescue party, but Preston, Carl, Jack, and Hayes' apprentice Jimmy are rescued by Baxter and Englehorn. Jack searches for Ann alone, while Carl decides to capture Kong. Jack finds Kong's lair and accidentally awakens him, but escapes with Ann. They arrive at the wall with Kong pursuing them. As Ann begs the crew not to harm him, Kong kills several sailors, but is subdued when Carl knocks him out with chloroform.\n",
      "In New York City that winter, Carl presents \"Kong, the Eighth Wonder of the World\" on Broadway, starring Baxter and an imprisoned Kong. Ann, who refused to take part in the performance, is played by an anonymous chorus girl. Agitated by the chorus girl not being Ann and flashes from cameras, Kong breaks free from the chains, wrecks the theater, and bursts out into the streets of New York in search of Ann, chasing Jack before encountering her again. The U.S. Army attacks, and Kong tries getting Ann and himself to safety by climbing to the top of the Empire State Building.\n",
      "Six United States Navy biplanes arrive; Kong downs three of them, but is mortally wounded from the planes' gunfire and falls from the building after he dies. As Jack reaches the top of the building to comfort and embrace Ann, civilians, policemen, and soldiers gather around the beast's corpse in the street, one bystander commenting the airplanes got him. Carl makes his way through the crowd, takes one last look at Kong and, before walking away, says sadly, \"It wasn't the airplanes. It was Beauty killed the Beast\".\n",
      "\n",
      "Cast\n",
      "In addition, director Jackson appears with makeup artist Rick Baker (who had portrayed Kong and designed makeup for the 1976 version) as the pilot and gunner on the airplane that kills the title character, his children appear as New York children, The Lord of the Rings co-producer Rick Porras and The Shawshank Redemption director Frank Darabont appear as a gunners in the other airplanes, and Bob Burns and his wife appear as New York bystanders. Frequent Jackson collaborator Howard Shore makes a cameo appearance as the conductor of the New York theater from where Kong escapes. Shore was initially set to compose for the film before his exit.\n",
      "Watts, Black, and Brody were the first choices for their respective roles with no other actors considered. In preparation for her role, Watts met with the original Ann Darrow, Fay Wray. Jackson wanted Wray to make a cameo appearance and say the final line of dialogue, but she died during pre-production at 96 years old. Black was cast as Carl Denham based on his performance in the 2000 film High Fidelity, which had impressed Jackson. For inspiration, Black studied P. T. Barnum and Orson Welles. \"I didn't study [Welles] move for move. It was just to capture the spirit. Very reckless guy. I had tapes of him drunk off his ass.\" The native extras on Skull Island were portrayed by a mix of Asian, African, Maori and Polynesian actors sprayed with dark makeup to achieve a consistent pigmentation.\n",
      "\n",
      "Production\n",
      "Development\n",
      "Earlier attempts and 1990s\n",
      "Peter Jackson was nine years old when he first saw the 1933 film, and was in tears in front of the television when Kong was shot and fell off the Empire State Building. At age 12, he attempted to recreate the film using his parents' Super 8 mm film camera and a model of Kong made of wire and rubber with his mother's fur coat for the hair, but eventually gave up on the project. King Kong eventually became his favorite film and was the primary inspiration for his decision to become a filmmaker as a teenager. He read books about the making of King Kong and collected memorabilia, as well as articles from Famous Monsters of Filmland. Jackson paid tribute to the 1933 film by including Skull Island as the origin of the zombie plague in his 1992 film Braindead.\n",
      "During the filming of Jackson's 1996 film The Frighteners, Universal Pictures was impressed with Jackson's dailies and early visual effects footage. The studio was adamant to work with Jackson on his next project and, in late 1995, offered him the chance to direct a remake of the 1954 film Creature from the Black Lagoon. He turned down the offer, but Universal became aware of Jackson's obsession with King Kong and subsequently offered him the opportunity to direct that remake. The studio did not have to worry about lawsuits concerning the film rights from RKO Pictures (the studio behind the 1933 film) because the King Kong character is held in the public domain. Jackson initially turned down the King Kong offer, but he \"quickly became disturbed by the fact that someone else would take it over,\" Jackson continued, \"and make it into a terrible film; that haunted me and I eventually said yes to Universal.\"\n",
      "At the same time, Jackson was working with Harvey Weinstein and Miramax Films to purchase the film rights of The Hobbit and The Lord of the Rings, while 20th Century Fox was trying to hire him for the 2001 remake of Planet of the Apes. Jackson turned down Planet of the Apes and because Weinstein was taking longer than expected to buy The Lord of the Rings rights, Jackson decided to move forward on King Kong. Weinstein was furious, and, as a result, Jackson proposed a deal between Universal and Miramax that the two studios would equally finance King Kong with Jackson's production company WingNut Films. Universal would receive distribution rights in the United States, while Miramax would cover foreign territories. Jackson was also warranted the right of final cut privilege, a percentage of the gross profits, as well as artistic control; Universal allowed all filming and visual effects to be handled entirely in New Zealand. The deal was settled in April 1996, and Jackson, along with wife Fran Walsh, began working on the King Kong script. In the original draft, Ann was the daughter of famed English archaeologist Lord Linwood Darrow exploring ancient ruins in Sumatra. They would come into conflict with Denham during his filming, and they would uncover a hidden Kong statue and the map of Skull Island. This would indicate that the island natives were the last remnants of a cult religion that had once thrived on Asia's mainland. Instead of a playwright, Jack was the first mate and an ex-World War I fighter pilot still struggling with the loss of his best friend, who had been killed in battle during a World War I prologue. The camera-man Herb is the only supporting character in the original draft who made it to the final version. The fight between Kong and the three V. rex also changed from the original draft. In the draft, Ann is actually caught in the V. rex's jaws, where she becomes wedged, and slashed by the teeth; after the fight, Kong gets her out but she is suffering from a fever, from which she then recovers.\n",
      "Universal approved of the script with Robert Zemeckis as executive producer, and pre-production for King Kong commenced. The plan was to begin filming sometime in 1997 for a summer 1998 release date. Weta Digital and Weta Workshop, under the supervision of Richard Taylor and Christian Rivers, began work on early visual effects tests, specifically the complex task of building a CGI version of New York City circa 1933. Jackson and Walsh progressed with a second draft script, sets were being designed and location scouting commenced in Sumatra and New Zealand. In late 1996, Jackson flew to production of the 1997 film Titanic in Mexico to discuss the part of Ann Darrow with Kate Winslet, with whom he previously worked with on his 1994 film Heavenly Creatures. Minnie Driver was also being reportedly considered. Jackson's choices for Jack Driscoll and Carl Denham included George Clooney and Robert De Niro. However, development for King Kong was stalled in January 1997 when Universal became concerned over the upcoming release of the 1998 film Godzilla, as well as other ape-related remakes with the 1998 film Mighty Joe Young and the 2001 film Planet of the Apes. Universal abandoned King Kong in February 1997 after Weta Workshop and Weta Digital had already designed six months' worth of pre-production. Jackson then decided to start work on The Lord of the Rings film series.\n",
      "\n",
      "Revival of the project\n",
      "With the financial and critical success of the 2001 film The Fellowship of the Ring and the 2002 film The Two Towers, Universal approached Jackson in early 2003, during the post-production of The Return of the King, concerning his interest in restarting development on King Kong. In March 2003, Universal set a target December 2005 release date and Jackson and Walsh brought The Lord of the Rings co-writer Philippa Boyens on to help rewrite their 1996 script. Jackson offered New Line Cinema the opportunity to co-finance with Universal, but they declined. Universal and Jackson originally projected a $150 million budget, which eventually rose to $175 million. Jackson made a deal with Universal whereby he would be paid a $20 million salary against 20% of the box office gross for directing, producing and co-writing. He shared that fee with co-writers Walsh (which also covered her producing credit) and Boyens. However, if King Kong were to go over its $175 million budget, the penalties would be covered by Jackson.\n",
      "Immediately after the completion of The Return of the King, Weta Workshop and Weta Digital, supervised by Taylor, Rivers, and Joe Letteri, started pre-production on King Kong. Jackson brought back most of the crew he had on The Lord of the Rings series, including cinematographer Andrew Lesnie, production designer Grant Major, art directors Simon Bright and Dan Hennah, conceptual designer Alan Lee, and editor Jamie Selkirk. Jackson, Walsh and Boyens began to write a new script in late October 2003. Jackson acknowledged that he was highly unsatisfied with the original 1996 script. \"That was actually just Fran and Peter very hurriedly getting something down on paper\", Boyens explained. \"It was more one of many possible ways the story could go.\" The writers chose to base the new screenplay on the 1933 film rather than the 1996 script. They also included scenes from James Ashmore Creelman's screenplay that were either abandoned or omitted during production of the original film. In the scene where Kong shakes the surviving sailors pursuing Ann and himself from a log into the ravine, for example, directors Merian Cooper and Ernest B. Schoedsack originally intended to depict giant spiders emerging from the rock to devour their bodies. This was cut from the original release print, and remains known to Kong fans only via a rare still that appeared in Famous Monsters of Filmland. Jackson included this scene and elaborated upon it. Jackson, Walsh and Boyens also cited Delos W. Lovelace's 1932 novelisation of King Kong as inspiration, which included the character Lumpy (Andy Serkis). To make the relationship between Ann Darrow and Kong plausible, the writers studied hours of gorilla footage. Jackson also optioned Early Havoc, a memoir written by vaudeville performer June Havoc to help Walsh and Boyens flesh out Ann Darrow's characterisation. Carl Denham was intentionally modeled after and inspired by Orson Welles. Their new draft was finished in February 2004.\n",
      "\n",
      "Filming\n",
      "Principal photography started on September 6, 2004, at Camperdown Studios in Miramar, New Zealand. Camperdown housed the native village and the Great Wall, while the streets of New York City were constructed on its backlot and at Gracefield in Lower Hutt, New Zealand. The majority of the SS Venture scenes were shot aboard a full-scale deck constructed in the parking lot at Camperdown Studio and then were backed with a green screen, with the ocean digitally added in post. Scenes set in the Broadway theater from which King Kong makes his escape were filmed in Wellington's Opera House and at the Auckland Civic Theatre. Filming also took place at Stone Street Studios, where a new sound stage was constructed to accommodate one of the sets. Over the course of filming the budget went from $175 million to $207 million over additional visual effects work needed, and Jackson extending the film's running time by thirty minutes. Jackson covered most of the $32 million surplus himself and finished filming in March 2005.\n",
      "The film's budget climbed from an initial US$150 million to a then-record-breaking $207 million and received a subsidy of $34 million from New Zealand, making it at one point the most expensive film yet made. Universal only agreed to such an outlay after seeing a screening of the unfinished film, to which executives responded enthusiastically. Marketing and promotion costs were an estimated $60 million. The film's length also grew; originally set to be 135 minutes, it soon grew to 200, prompting Universal executives to fly to New Zealand to view a rough cut, but they liked it so their concerns were addressed.\n",
      "Other difficulties included Peter Jackson's decision to change composers from Howard Shore to James Newton Howard seven weeks before the film opened.\n",
      "\n",
      "Visual effects\n",
      "Jackson saw King Kong as opportunity for technical innovations in motion capture, commissioning Christian Rivers of Weta Digital to supervise all aspects of Kong's performance. Jackson decided early on that he did not want Kong to behave like a human, and so he and his team studied hours of gorilla footage. Serkis was cast in the title role in April 2003 and prepared himself by working with gorillas at the London Zoo. He then traveled to Rwanda, observing the actions and behaviors of gorillas in the wild. Rivers explained that the detailed facial performance capture with Serkis was accomplished because of the similarities between human and gorilla faces. \"Gorillas have such a similar looking set of eyes and brows, you can look at those expressions and transpose your own interpretation onto them.\" Photos of silverback gorillas were also superimposed on Kong's image in the early stages of animation. Serkis had to go through two hours of motion capture makeup every day, having 135 small markers attached to different spots on his face. Following principal photography, Serkis had to spend an additional two months on a motion capture stage, miming Kong's movements for the film's digital animators.\n",
      "Apart from Kong, Skull Island is inhabited by dinosaurs and other large fauna. Inspired by Dougal Dixon's works, the designers imagined what 65 million years or more of isolated evolution might have done to dinosaurs and the other creatures.\n",
      "\n",
      "Music\n",
      "The original score was initially set to be composed by Howard Shore, who had written several cues for the film. Due to creative differences with Jackson, Shore opted out of the project in October 2005 and subsequently James Newton Howard replaced him. With scoring beginning by late-October 2005, Howard had only five weeks to work on the film, as a result, he found the film \"hardest to compose\". Recording sessions took place at the Sony Scoring Stage, California and Todd-AO, Los Angeles, consisting of 108-piece orchestra and 40-member choir, and a varied range of instruments used.\n",
      "The film's soundtrack includes Al Jolson's recording of \"I'm Sitting on Top of the World\", Peggy Lee's \"Bye Bye Blackbird\", and some themes from Max Steiner's soundtrack for the original 1933 film. The score was released on December 7, 2005, by Decca Records to positive response. Howard's score was later nominated for the Golden Globe Award for Best Original Score.\n",
      "\n",
      "Marketing\n",
      "The marketing campaign started in full swing on June 27, 2005, when the teaser trailer made its debut, first online at the official Volkswagen website at 8:45 p.m. EDT, then 8:55 p.m. EDT across media outlets owned by NBCUniversal (the parent of Universal Studios), including NBC, Bravo!, CNBC, and MSNBC. That trailer appeared in theatres attached to War of the Worlds, which opened on June 29.\n",
      "Jackson also regularly published a series of 'Production Diaries', which chronicled the film's production. The diaries started shortly after the DVD release of The Return of the King as a way to give Jackson's The Lord of the Rings fans a glimpse of his next project. These diaries are edited into broadband-friendly installments of three or four minutes each. They consist of features that would normally be seen in a making-of documentary: a tour of the set, a roving camera introducing key players behind the scene, a peek inside the sound booth during last-minute dubbing, or Andy Serkis doing his ape movements in a motion capture studio.\n",
      "A novelisation of the film and a prequel novel entitled King Kong: The Island of the Skull were also written. A multi-platform video game, entitled Peter Jackson's King Kong, was released, which featured an alternate ending. There was also a hardback book entitled The World of Kong: A Natural History of Skull Island, featuring artwork from Weta Workshop to describe the film's fictional wildlife.\n",
      "Jackson has expressed his desire to remaster the film in 3-D at some point in the future. Jackson was also seen shooting with a 3-D camera at times during the shoot of King Kong.\n",
      "\n",
      "Reception\n",
      "Box office\n",
      "In North America, King Kong grossed $9.8 million during its Wednesday opening and $50.1 million over its first weekend for a five-day total of $66.2 million from around 7,500 screens at 3,568 theaters. Some analysts considered these initial numbers disappointing, saying that studio executives had been expecting more. The film went on to gross $218.1 million in the North American market and ended up in the top five highest-grossing films of the year there. The film grossed an additional $338.8 million at the box office in other regions for a worldwide total of $556.9 million, which not only ranked it in the top five highest-grossing films of 2005 worldwide, but also helped the film bring back more than two-and-a-half times its production budget.\n",
      "During its home video release, King Kong sold over $100 million worth of DVDs in the largest six-day performance in Universal Studios history. King Kong sold more than 7.6 million DVDs, accumulating nearly $194 million worth of sales numbers in the North American market alone. As of June 25, 2006, King Kong has generated almost $38 million from DVD rental gross. In February 2006, Turner Broadcasting System (TNT/TBS) and ABC paid Universal Pictures $26.5 million for the television rights to the film.\n",
      "\n",
      "Critical response\n",
      "King Kong received acclaim from critics. On aggregate review site Rotten Tomatoes, the film has an approval rating of 84% based on 268 reviews, with an average rating of 7.9/10. The site's critical consensus reads, \"Featuring state-of-the-art special effects, terrific performances, and a majestic sense of spectacle, Peter Jackson's remake of King Kong is a potent epic that's faithful to the spirit of the 1933 original.\" On Metacritic, the film has a score of 81 out of 100, based on 39 critics, indicating \"universal acclaim\". Audiences polled by CinemaScore gave the film an average grade of \"A−\" on an A+ to F scale.\n",
      "It was placed on the 'top ten' lists of several critics, with Roger Ebert giving it four stars, and listed it as 2005's eighth-best film. The film received four Academy Award nominations, for Visual Effects, Sound Mixing (Christopher Boyes, Michael Semanick, Michael Hedges, Hammond Peek), Sound Editing, and Production Design, winning all but the last. Entertainment Weekly called the depiction of Kong the most convincing computer-generated character in film in 2005. Some criticised the film for retaining racist stereotypes that had been present in the 1933 film, though it was not suggested that Jackson had done this intentionally. King Kong ranks 450th on Empire magazine's 2008 list of the 500 Greatest Movies of All Time. The Guardian reviewer Peter Bradshaw said that it \"certainly equals, and even exceeds, anything Jackson did in Lord of the Rings.\" However, Charlie Brooker, also of The Guardian, gave a negative review in which he describes the film as \"sixteen times more overblown and histrionic than necessary\".\n",
      "\n",
      "Accolades\n",
      "Cinematic and literary allusions\n",
      "Jack Black and critics have noted Carl Denham's similarity to Orson Welles.\n",
      "When Driscoll is searching for a place to sleep in the animal storage hold, a box behind him reads Sumatran Rat Monkey – Beware the bite! This is a reference to the creature that causes mayhem in Jackson's 1992 film Braindead, itself a reference to the giant rat of Sumatra mentioned in Sherlock Holmes. In that film, the rat monkey is described as being found only on Skull Island.\n",
      "Jimmy reads part of Joseph Conrad's Heart of Darkness while en route to Skull Island, at one point comparing their journey to that of the novella.\n",
      "\n",
      "References to original 1933 King Kong\n",
      "Fay Wray, the original Ann Darrow, was asked by Jackson to appear in a brief cameo role in which she would utter the film's final line: \"It was beauty killed the beast.\" At first, she flatly refused, but then seemed to consider the possibility. However, she died shortly after her meeting with Jackson. As in the original film, the line ultimately went to the character of Carl Denham.\n",
      "An ad for Universal is visible while Kong is tearing up Times Square. In the 1933 film, an ad for Columbia Pictures appeared in the same spot, and the production designers replicated it, but Columbia asked for a large amount of money for its use, so effects artists replaced it.\n",
      "When Denham is considering who to play the part before meeting Ann, he suggests \"Fay\", but his assistant Preston replies, \"She's doing a picture with RKO.\" Music from the 1933 film is heard, and Denham mutters, \"Cooper, huh? I might have known.\" Fay Wray starred in the 1933 film, which was directed by Merian C. Cooper and released by RKO. At the time she was performing in another Cooper/Schoedsack production, The Most Dangerous Game with Robert Armstrong.\n",
      "In the 1933 film, Denham made up an \"Arabian proverb\" about \"beauty and beast\". The 2005 remake repeats the fake proverb.\n",
      "Early in this film, Denham shoots a scene for his film in which Ann, in-character, proclaims she's never been on a ship before, and Bruce Baxter improvises lines proclaiming annoyance. The dialogue they exchange is taken verbatim from early scenes between Ann and Jack Driscoll in the 1933 film. Ironically, in this film, Jack Driscoll expresses disapproval of such words toward Ann.\n",
      "Kong's New York stage appearance looks very much like a re-enactment of the 1933 film's sacrifice scene, including the posts the 'beauty' is tied to and the nearly identical performance, costumes, and blackface makeup of the dancers. In addition, the music played by the orchestra during that scene is Max Steiner's original score for the 1933 film.\n",
      "The battle between Kong and the final V. rex is almost move-for-move like the last half of the fight between Kong and the T. rex in the 1933 film, right down to Kong playing with the dinosaur's broken jaw and then standing, beating his chest and roaring victoriously.\n",
      "After the crew captures Kong on the beach, Denham speaks a line from the 1933 film: \"The whole world will pay to see this! We're millionaires, boys! I'll share it with all of you. In a few months, his name will be up in lights on Broadway! KONG, THE EIGHTH WONDER OF THE WORLD!\"\n",
      "\n",
      "Home media\n",
      "King Kong was released on DVD on March 28, 2006, in the United States and Canada by Universal Studios Home Entertainment. The three versions that came out are a single-disc fullscreen, a single-disc widescreen, and a two-disc 'Widescreen Special Edition'.\n",
      "A three-disc Deluxe Extended Edition was released on November 14, 2006, in the United States, and on November 3 in Australia. Twelve minutes were reinserted into the film, and an additional forty minutes included with the rest of the special features. The film was spread onto the first two discs with commentary by Peter Jackson and Philippa Boyens, and some featurettes on discs one and two, whilst the main special features are on disc three. Another set was released, including a WETA figurine of a bullet-ridden Kong scaling the Empire State Building, roaring at the Navy with Ann in hand. The extended film amounts to 200 total minutes.\n",
      "A special HD DVD version of King Kong was part of a promotional pack for the release of the external HD DVD Drive for the Xbox 360. The pack contained the HD DVD drive, the Universal Media Remote and King Kong on HD DVD. It was also available separately as a standard HD DVD. The film's theatrical and extended cuts were released together on Blu-ray Disc on January 20, 2009. A re-release of the Blu-Ray with a new bonus disc containing nearly all of the extras from the 2-disc Special Edition DVD, the Deluxe Extended Edition 3-disc DVD, and the \"Peter Jackson's Production Diaries\" 2-disc DVD titled the \"Ultimate Edition\" was released on February 7, 2017. An Ultra HD Blu-ray followed in July 2017.\n",
      "\n",
      "Cancelled sequel and reboot\n",
      "In March 2021, Adam Wingard said in an interview that back in 2013, Peter Jackson had been interested in producing a sequel to the film, titled Skull Island, with Wingard as director and Simon Barrett writing it. Jackson had been impressed with Wingard's work in You're Next, and investigated a potential sequel.  However, the King Kong rights had already been transferred to Warner Bros. by 2013, which complicated a sequel to a Universal-produced movie. Wingard says that Jackson was thinking of setting the proposed movie during World War I, which would make it a prequel, but that the studio was uninterested in a World War I era film. Wingard pivoted to offering a modern-day sequel, but ultimately nothing came of the proposal.\n",
      "Ultimately, Warner Bros. rebooted the franchise with Kong: Skull Island in 2017, which is part of the MonsterVerse. Wingard would later direct 2021's Godzilla vs. Kong and its sequel 2024's Godzilla x Kong: The New Empire, other films set in the MonsterVerse.\n",
      "\n",
      "Theme park\n",
      "The Universal Orlando Resort location Islands of Adventure features an attraction called \"Skull Island: Reign of Kong\" which is based on Peter Jackson's remake. While the King Kong part of the Universal Studios Hollywood resort was destroyed by a massive fire, a 3D short inspired by the film was eventually created in 2010, King Kong: 360 3-D, which is another attraction based on Peter Jackson's remake.\n",
      "\n",
      "See also\n",
      "Mighty Joe Young (1998 film)\n",
      "List of films featuring dinosaurs\n",
      "List of most expensive films\n",
      "\n",
      "References\n",
      "External links\n",
      "\n",
      "King Kong at IMDb\n",
      "King Kong at the TCM Movie Database\n",
      "King Kong at AllMovie\n",
      "King Kong at the AFI Catalog of Feature Films\n",
      "King Kong at Box Office Mojo\n",
      "King Kong at Rotten Tomatoes\n",
      "King Kong at Metacritic\n"
     ]
    }
   ],
   "source": [
    "print(page_py.text)"
   ]
  },
  {
   "cell_type": "code",
   "execution_count": 83,
   "metadata": {},
   "outputs": [
    {
     "name": "stderr",
     "output_type": "stream",
     "text": [
      "en.wikipedia.org (query) King Kong (2005)\n",
      "en.wikipedia.org (query) King Kong (2005 film) (&plcontinue=47308...\n",
      "en.wikipedia.org (parse) 473086\n",
      "www.wikidata.org (wikidata) Q160215\n",
      "www.wikidata.org (labels) Q1334819|P6127|P8013|Q188473|Q557632|P1...\n",
      "www.wikidata.org (labels) P2130|P3302|Q5110079|Q8289|Q104514|P915...\n",
      "www.wikidata.org (labels) Q6619693|Q21062414|P1562|P2334|Q3805573...\n",
      "www.wikidata.org (labels) P31|P2638|P1040|P3593|Q318134|P4282|Q38...\n",
      "www.wikidata.org (labels) P5970|P2703|Q483907|P2758|Q4165246|P364...\n",
      "en.wikipedia.org (restbase) /page/summary/King_Kong_(2005_film)\n",
      "en.wikipedia.org (imageinfo) File:Kingkong bigfinal1.jpg\n",
      "King Kong (2005 film) (en) data\n",
      "{\n",
      "  WARNINGS: <dict(1)> extracts\n",
      "  aliases: <list(1)> 2005 King Kong\n",
      "  assessments: <dict(6)> United States, New York City, Film, New Z...\n",
      "  claims: <dict(136)> P1258, P373, P345, P31, P57, P58, P161, P144...\n",
      "  description: 2005 film by Peter Jackson\n",
      "  exhtml: <str(611)> <p><i><b>King Kong</b></i> is a 2005 epic adv...\n",
      "  exrest: <str(570)> King Kong is a 2005 epic adventure monster fi...\n",
      "  extext: <str(2195)> _**King Kong**_ is a 2005 epic adventure mon...\n",
      "  extract: <str(2305)> <p class=\"mw-empty-elt\"></p><p><i><b>King K...\n",
      "  image: <list(3)> {'kind': 'parse-image', 'file': 'File:Kingkong ...\n",
      "  infobox: <dict(19)> name, image, caption, director, screenplay, ...\n",
      "  iwlinks: <list(3)> https://commons.wikimedia.org/wiki/Category:K...\n",
      "  label: King Kong\n",
      "  labels: <dict(214)> Q1334819, P6127, P8013, Q188473, Q557632, P1...\n",
      "  length: 84,175\n",
      "  links: <list(738)> 1917 (2019 film), 2001: A Space Odyssey, 2005...\n",
      "  modified: <dict(2)> page, wikidata\n",
      "  pageid: 473086\n",
      "  parsetree: <str(101910)> <root><template><title>Short descriptio...\n",
      "  random: Millers Creek (Brazos River tributary)\n",
      "  redirects: <list(20)> {'pageid': 1340518, 'ns': 0, 'title': 'Kin...\n",
      "  requests: <list(11)> query, query, parse, wikidata, labels, labe...\n",
      "  title: King_Kong_(2005_film)\n",
      "  url: https://en.wikipedia.org/wiki/King_Kong_(2005_film)\n",
      "  url_raw: https://en.wikipedia.org/wiki/King_Kong_(2005_film)?act...\n",
      "  watchers: 283\n",
      "  what: film\n",
      "  wikibase: Q160215\n",
      "  wikidata: <dict(136)> Rotten Tomatoes ID (P1258), Commons catego...\n",
      "  wikidata_pageid: 161110\n",
      "  wikidata_url: https://www.wikidata.org/wiki/Q160215\n",
      "  wikitext: <str(83367)> {{Short description|2005 film by Peter Ja...\n",
      "}\n"
     ]
    },
    {
     "data": {
      "text/plain": [
       "<wptools.page.WPToolsPage at 0x7fd5900b6b20>"
      ]
     },
     "execution_count": 83,
     "metadata": {},
     "output_type": "execute_result"
    }
   ],
   "source": [
    "# Get the page with infobox\n",
    "page = wptools.page('King Kong (2005)')\n",
    "page.get()"
   ]
  },
  {
   "cell_type": "code",
   "execution_count": 90,
   "metadata": {},
   "outputs": [
    {
     "data": {
      "text/plain": [
       "dict_keys(['requests', 'WARNINGS', 'random', 'redirected', 'pageid', 'assessments', 'extract', 'extext', 'url', 'url_raw', 'length', 'links', 'modified', 'wikibase', 'wikidata_url', 'redirects', 'aliases', 'description', 'label', 'title', 'watchers', 'iwlinks', 'wikitext', 'parsetree', 'infobox', 'image', 'labels', 'wikidata', 'wikidata_pageid', 'claims', 'what', 'exrest', 'exhtml'])"
      ]
     },
     "execution_count": 90,
     "metadata": {},
     "output_type": "execute_result"
    }
   ],
   "source": [
    "page.data.keys()\n",
    "\n",
    "get_wikidata"
   ]
  },
  {
   "cell_type": "code",
   "execution_count": 106,
   "metadata": {},
   "outputs": [
    {
     "data": {
      "text/plain": [
       "'King Kong is a 2005 epic adventure monster film co-written, produced, and directed by Peter Jackson. It is the ninth entry in the King Kong franchise and the second remake of the 1933 film of the same title, the first being the 1976 remake. The film stars Naomi Watts, Jack Black, and Adrien Brody. Set in 1933, it follows the story of an ambitious filmmaker who coerces his cast and hired ship crew to travel to mysterious Skull Island. There they encounter prehistoric creatures and a legendary giant gorilla known as Kong, whom they capture and take to New York City.Development began in early 1995, when Universal Pictures approached Jackson to direct the remake of the original 1933 film. The project stalled in early 1997, as several ape and giant monster-related films were under production at the time and Jackson planned to direct The Lord of the Rings film series. As the first two films in the Rings trilogy became commercially successful, Universal went back to Jackson in early 2003, expressing interest in restarting development on the project, to which Jackson eventually agreed. Filming for King Kong took place in New Zealand from September 2004 to March 2005. It is currently one of the most expensive films ever produced as its budget climbed from an initial $150 million to a then record-breaking $207 million.King Kong premiered at New York City on December 5, 2005, and was theatrically released in Germany and United States on December 14. The film garnered positive reviews, and eventually appeared in several top ten lists for 2005; it was praised for the special effects, performances, sense of spectacle and comparison to the 1933 original, though some criticisms were raised over its 3-hour run time. It was a commercial success, grossing over $556.9 million, and became the fourth-highest-grossing film in Universal Pictures history at that time and the fifth-highest-grossing film of 2005. It also generated $100 million in DVD sales upon its home video release in March 2006. It won three Academy Awards for Best Sound Editing, Best Sound Mixing and Best Visual Effects. A tie-in video game was released alongside the film, which also became a commercial and critical success.'"
      ]
     },
     "execution_count": 106,
     "metadata": {},
     "output_type": "execute_result"
    }
   ],
   "source": [
    "import re\n",
    "re.sub(\"\\n\", \"\" ,re.sub('<[^<]+?>', '', page.data['extract']))"
   ]
  },
  {
   "cell_type": "code",
   "execution_count": 92,
   "metadata": {},
   "outputs": [
    {
     "data": {
      "text/plain": [
       "'{{Short description|2005 film by Peter Jackson}}\\n{{Redirect|King Kong (2005)|the tie-in video game|King Kong (2005 video game)}}\\n{{Good article}}\\n{{Use American English|date=August 2023}}\\n{{Use mdy dates|date=August 2023}}\\n{{Infobox film\\n| name           = King Kong\\n| image          = Kingkong bigfinal1.jpg\\n| caption        = Theatrical release poster\\n| director       = [[Peter Jackson]]\\n| screenplay     = {{Plainlist|\\n* [[Fran Walsh]]\\n* [[Philippa Boyens]]\\n* Peter Jackson\\n}}\\n| based_on       = {{Based on|\\'\\'[[King Kong (1933 film)|King Kong]]\\'\\'|[[Merian C. Cooper]]|[[Edgar Wallace]]}}\\n| producer       = {{Plainlist|\\n* Jan Blenkin\\n* [[Carolynne Cunningham]]\\n* Fran Walsh\\n* Peter Jackson\\n}}\\n| starring       = {{Plainlist|\\n* [[Naomi Watts]]\\n* [[Jack Black]]\\n* [[Adrien Brody]]\\n* [[Thomas Kretschmann]]\\n* [[Colin Hanks]]\\n* [[Jamie Bell]]\\n* [[Andy Serkis]]\\n<!--Per poster billing block.-->\\n}}\\n| cinematography = [[Andrew Lesnie]]\\n| editing        = [[Jamie Selkirk]]\\n| music          = [[James Newton Howard]]\\n| studio         = {{Plainlist|\\n* [[Universal Pictures]]\\n* [[WingNut Films]]\\n}}\\n| distributor    = Universal Pictures\\n| released       = {{Film date|2005|12|05|[[New York City]]|2005|12|13|New Zealand|2005|12|14|United States}}\\n| runtime        = 192 minutes<!--Theatrical runtime: 192--><ref>{{cite web | url=https://www.bbfc.co.uk/release/king-kong-q29sbgvjdglvbjpwwc00mdy5mtk | title=\\'\\'KING KONG\\'\\' (12A) | work=[[British Board of Film Classification]] | access-date=November 8, 2014 | archive-date=March 17, 2023 | archive-url=https://web.archive.org/web/20230317172127/https://www.bbfc.co.uk/release/king-kong-q29sbgvjdglvbjpwwc00mdy5mtk | url-status=live }}</ref>\\n| country        = {{plainlist|\\n* New Zealand\\n* United States\\n}}\\n| language       = English\\n| budget         = $207 million<ref name=mojo/>\\n| gross          = $556.9 million<ref name=mojo/>\\n}}\\n\\n\\'\\'\\'\\'\\'King Kong\\'\\'\\'\\'\\' is a 2005 [[epic film|epic]] [[adventure film|adventure]] [[monster film]] co-written, produced, and directed by [[Peter Jackson]]. It is the ninth entry in the [[King Kong (franchise)|\\'\\'King Kong\\'\\' franchise]] and the second [[remake]] of the [[King Kong (1933 film)|1933 film of the same title]], the first being the [[King Kong (1976 film)|1976 remake]]. The film stars [[Naomi Watts]], [[Jack Black]], and [[Adrien Brody]]. Set in 1933, it follows the story of an ambitious filmmaker who coerces his cast and hired ship crew to travel to mysterious [[Skull Island (King Kong)|Skull Island]]. There they encounter prehistoric creatures and a legendary giant [[gorilla]] known as [[King Kong|Kong]], whom they capture and take to [[New York City]].\\n\\nDevelopment began in early 1995, when [[Universal Pictures]] approached Jackson to direct the remake of the original 1933 film. The project stalled in early 1997, as several ape and giant monster-related films were under production at the time and Jackson planned to direct [[The Lord of the Rings (film series)|\\'\\'The Lord of the Rings\\'\\' film series]]. As the first two films in the \\'\\'Rings\\'\\' trilogy became commercially successful, Universal went back to Jackson in early 2003, expressing interest in restarting development on the project, to which Jackson eventually agreed. Filming for \\'\\'King Kong\\'\\' took place in New Zealand from September 2004 to March 2005. It is currently one of the [[List of most expensive films|most expensive films ever produced]] as its budget climbed from an initial $150 million to a then record-breaking $207 million.\\n\\n\\'\\'King Kong\\'\\' premiered at [[New York City]] on December 5, 2005,<ref>{{Cite web |date=2005-12-07 |title=\\'King Kong\\' receives a giant-sized premiere |url=https://www.latimes.com/archives/la-xpm-2005-dec-07-et-kong7-story.html |access-date=2022-06-30 |website=Los Angeles Times |language=en-US |archive-date=June 30, 2022 |archive-url=https://web.archive.org/web/20220630115439/https://www.latimes.com/archives/la-xpm-2005-dec-07-et-kong7-story.html |url-status=live }}</ref> and was theatrically released in Germany and United States on December 14. The film garnered positive reviews, and eventually appeared in several top ten lists for 2005; it was praised for the special effects, performances, sense of spectacle and comparison to the 1933 original, though some criticisms were raised over its 3-hour run time. It was a commercial success, grossing over $556.9 million, and became the fourth-highest-grossing film in Universal Pictures history at that time and the [[2005 in film#Highest-grossing films|fifth-highest-grossing film of 2005]].<ref name=\"mojo\">{{cite web| title = \\'\\'King Kong\\'\\'| publisher = BoxOfficeMojo.com| url = https://www.boxofficemojo.com/movies/?id=kingkong05.htm| access-date = 2006-10-12| archive-date = February 23, 2009| archive-url = https://web.archive.org/web/20090223221149/http://boxofficemojo.com/movies/?id=kingkong05.htm| url-status = live}}</ref> It also generated $100 million in DVD sales upon its home video release in March 2006.<ref>{{cite web|title=\\'\\'King Kong\\'\\' – DVD sales |publisher=BlogCritics.org |url=http://blogcritics.org/archives/2006/04/04/122953.php |access-date=2007-03-04 |url-status=dead |archive-url=https://web.archive.org/web/20071014181227/http://blogcritics.org/archives/2006/04/04/122953.php |archive-date=October 14, 2007}}</ref> It won three [[Academy Awards]] for [[Academy Award for Best Sound Editing|Best Sound Editing]], [[Academy Award for Best Sound|Best Sound Mixing]] and [[Academy Award for Best Visual Effects|Best Visual Effects]]. A [[King Kong (2005 video game)|tie-in video game]] was released alongside the film, which also became a commercial and critical success.\\n\\n==Plot==\\nIn 1933, during the [[Great Depression]], struggling New York City vaudeville performer Ann Darrow is hired by financially troubled filmmaker [[Carl Denham]] to star in a film with actor Bruce Baxter. Ann is hesitant to join the picture until she learns her favorite playwright, [[Jack Driscoll (character)|Jack Driscoll]], is the screenwriter. Filming takes place on the SS \\'\\'Venture\\'\\', under Captain Englehorn, and under Carl\\'s pretense it will be sailing to [[Singapore in the Straits Settlements|Singapore]]. In truth, Carl intends to film the mysterious [[Skull Island (King Kong)|Skull Island]]. Captain Englehorn reconsiders the voyage, prompted by his crew\\'s speculation of trouble ahead. During the voyage, Ann and Jack fall in love.\\n\\nThe \\'\\'Venture\\'\\' receives a radio message informing Englehorn there is a warrant for Carl\\'s arrest due to his defiance of the studio\\'s orders to cease production, and instructing Englehorn to divert to [[Rangoon]], but the ship becomes lost in fog and runs aground on Skull Island. Carl and others, including his film crew consisting of cameraman Herb, assistant Preston and boom operator Mike, explore the island and are attacked by natives who kill Mike and a crewman. Englehorn rescues Carl’s group, but as they all prepare to leave, the natives secretly abduct Ann to offer her as a sacrifice to [[King Kong|Kong]], a {{convert|25|ft|m|adj=mid|-tall}} [[ape]]. Jack notices Ann\\'s disappearance, and the crew returns to the island, but Kong flees with Ann into the jungle. Carl catches a glimpse of Kong and becomes determined to film him.\\n\\nAnn wins Kong over with her juggling and dancing skills, and begins to grasp his intelligence and capacity for emotion. Englehorn organizes a rescue party, led by his first mate Hayes and Jack, and accompanied by Carl, Herb, Baxter and Preston. The party gets caught between a herd of \\'\\'[[Brontosaurus]] baxteri\\'\\' and a pack of [[Utahraptor]]-like \\'\\'Venatosaurus saevidicus\\'\\' hunting them, with Herb and several other men killed in the resulting stampede. Baxter and others return to the ship.\\n\\nThe remaining party members continue through the jungle when Kong attacks, making them fall into a ravine where Carl loses his camera. Kong rescues Ann from three [[Tyrannosaurus]]-like \\'\\'Vastatosaurus rex\\'\\', bringing her to his den in the mountains. The remaining rescue party are attacked by giant insects in the ravine, resulting in the death of Hayes and most of the rescue party, but Preston, Carl, Jack, and Hayes\\' apprentice Jimmy are rescued by Baxter and Englehorn. Jack searches for Ann alone, while Carl decides to capture Kong. Jack finds Kong\\'s lair and accidentally awakens him, but escapes with Ann. They arrive at the wall with Kong pursuing them. As Ann begs the crew not to harm him, Kong kills several sailors, but is subdued when Carl knocks him out with [[chloroform]].\\n\\nIn New York City that winter, Carl presents \"Kong, the Eighth Wonder of the World\" on [[Broadway theatre|Broadway]], starring Baxter and an imprisoned Kong. Ann, who refused to take part in the performance, is played by an anonymous chorus girl. Agitated by the chorus girl not being Ann and flashes from cameras, Kong breaks free from the chains, wrecks the theater, and bursts out into the streets of New York in search of Ann, chasing Jack before encountering her again. The U.S. Army attacks, and Kong tries getting Ann and himself to safety by climbing to the top of the [[Empire State Building]].\\n\\nSix [[United States Navy]] [[Curtiss Falcon|biplanes]] arrive; Kong downs three of them, but is mortally wounded from the planes\\' gunfire and falls from the building after he dies. As Jack reaches the top of the building to comfort and embrace Ann, civilians, policemen, and soldiers gather around the beast\\'s corpse in the street, one bystander commenting the airplanes got him. Carl makes his way through the crowd, takes one last look at Kong and, before walking away, says sadly, \"[[It wasn\\'t the airplanes. It was Beauty killed the Beast]]\".\\n\\n==Cast==\\n{{Multiple image\\n| direction = vertical\\n| width     = 150\\n| footer    = Top to bottom: [[Naomi Watts]], [[Jack Black]], and [[Adrien Brody]] star in the film as [[Ann Darrow]], [[Carl Denham]] and [[Jack Driscoll (character)|Jack Driscoll]] respectively.\\n| image1    = Naomi_Watts_(36037832511)_(cropped).jpg\\n| alt1      = \\n| caption1  = \\n| image2    = Jack_Black_2_2011.jpg\\n| alt2      = \\n| caption2  = \\n| image3    = Adrien_Brody_2011_Shankbone_(2).jpg\\n| alt3      = \\n| caption3  = \\n}}\\n{{div col}}\\n* [[Naomi Watts]] as [[Ann Darrow]], a struggling vaudeville actress who is desperate for work. Carl first meets her when she tries to steal an apple from a fruit stand. Further into the voyage, she falls in love with Jack and forms a special relationship with Kong.\\n* [[Andy Serkis]] as [[King Kong|Kong]] ([[motion capture]]), a {{convert|25|ft|adj=on}} tall [[prehistoric]] [[ape]] who resembles a [[mountain gorilla]] and is around 100–150 years old.<ref name=\"Konga\">{{cite web| author=Wloszczyna, Susan| date=June 26, 2005| title=\\'\\'King Kong\\'\\' goes digital| work=USA Today| url=https://www.usatoday.com/life/movies/news/2005-06-26-king-kong_x.htm| access-date=2006-06-14| archive-date=October 20, 2011| archive-url=https://web.archive.org/web/20111020042523/http://www.usatoday.com/life/movies/news/2005-06-26-king-kong_x.htm| url-status=live}}</ref><ref>{{cite web| title=King Kong- Building a Shrewder Ape| website=Urbancinefile.com| url=http://www.urbancinefile.com.au/home/view.asp?a=11264&s=Features| access-date=March 20, 2021| archive-date=June 29, 2009| archive-url=https://web.archive.org/web/20090629194803/http://www.urbancinefile.com.au/home/view.asp?a=11264&s=Features| url-status=dead}}</ref> He is the last of his species, \\'\\'[[Megaprimatus kong]]\\'\\',<ref name=\"The World of Kong: A Natural History of Skull Island\">{{cite book|title=The World of Kong: A Natural History of Skull Island|url=https://books.google.com/books?id=JtdI-BuTEhgC&pg=PP1|access-date=16 June 2013|year=2005|publisher=Pocket Books|isbn=978-1-4165-0519-8|archive-date=March 17, 2023|archive-url=https://web.archive.org/web/20230317172057/https://books.google.com/books?id=JtdI-BuTEhgC&pg=PP1|url-status=live}}</ref> and the possible descendant of both the [[Chororapithecus]] and the [[Gigantopithecus]].\\n** Serkis also plays Lumpy, the ship\\'s cook, barber, and surgeon. A brave sailor, he warns Denham about rumors he has heard about Skull Island and Kong.\\n* [[Adrien Brody]] as [[Jack Driscoll (character)|Jack Driscoll]], a screenwriter who falls in love with Ann. He unwittingly becomes part of the voyage when, while delivering a script to Denham, he is deliberately delayed by the latter before he can get off the \\'\\'Venture\\'\\'. He is the only member of the crew who agrees with Ann that Kong should be left alone. \\n* [[Jack Black]] as [[Carl Denham]], a film director who obtained the map to Skull Island. Due to his debts, Carl starts to lose his moral compass and obsesses over his film to the point that he disregards safety.\\n* [[Thomas Kretschmann]] as Captain Englehorn, the German captain of the \\'\\'Venture\\'\\'. Englehorn shows a dislike for Denham, presumably because of his obsessive nature.\\n* [[Colin Hanks]] as Preston, Denham\\'s neurotic but honest personal assistant.\\n* [[Jamie Bell]] as Jimmy, a naive teenager who was found on the \\'\\'Venture\\'\\', wild and abandoned.\\n* [[Evan Parke]] as Benjamin \"Ben\" Hayes, Englehorn\\'s first mate and a mentor to Jimmy, who leads Ann\\'s rescue mission because of his army training and combat experience gained during [[World War I]].\\n* [[Lobo Chan]] as Choy, Lumpy\\'s best friend and a janitor on the \\'\\'Venture\\'\\'.\\n* [[Kyle Chandler]] as Bruce Baxter, an actor who specializes in adventure films. He abandons Ann\\'s rescue mission but brings Englehorn to rescue the search party from the insect pit, and is given credit for rescuing Ann during the Broadway display of Kong.\\n* John Sumner as Herb, Denham\\'s loyal cameraman.\\n* [[Craig Hall (actor)|Craig Hall]] as Mike, Denham\\'s soundman for the journey.\\n* William Johnson as Manny, an elderly vaudevillian actor and colleague of Darrow.\\n* [[Mark Hadlow]] as Harry, a struggling vaudevillian actor.\\n* [[Jed Brophy]] and Todd Rippon appeared in the film as crew members.\\n{{div col end}}\\n\\nIn addition, director Jackson appears with makeup artist [[Rick Baker]] (who had portrayed Kong and designed makeup for the 1976 version) as the pilot and gunner on the airplane that kills the title character, his children appear as New York children, \\'\\'The Lord of the Rings\\'\\' co-producer [[Rick Porras]] and \\'\\'The Shawshank Redemption\\'\\' director [[Frank Darabont]] appear as a gunners in the other airplanes, and [[Bob Burns III|Bob Burns]] and his wife appear as New York bystanders. Frequent Jackson collaborator [[Howard Shore]] makes a [[cameo appearance]] as the conductor of the New York theater from where Kong escapes. Shore was initially set to compose for the film before his exit.\\n\\nWatts, Black, and Brody were the first choices for their respective roles with no other actors considered.<ref name=skull>Sibley, pp. 526-542</ref> In preparation for her role, Watts met with the original Ann Darrow, [[Fay Wray]].<ref name=fi>{{cite news|first=Ian |last=Spelling |url=http://www.scifi.com/sfw/issue452/interview.html |title=Peter Jackson proves with King Kong that the director, not the beast, is the true eighth wonder of the world |work=[[Science Fiction Weekly]] |date=December 2005 |access-date=2009-06-01 |url-status=dead |archive-url=https://web.archive.org/web/20060619091002/http://www.scifi.com/sfw/issue452/interview.html |archive-date=June 19, 2006}}</ref> Jackson wanted Wray to make a cameo appearance and say the final line of dialogue, but she died during pre-production at 96 years old.<ref name=Ray>{{cite book | first = Paul A. | last = Woods | title = Peter Jackson: From Gore to Mordor | publisher = Plexus Books | year = 2005 | isbn = 0-85965-356-0 | pages = 176–187 | chapter = Kong Cometh! | location = London}}</ref> Black was cast as Carl Denham based on his performance in the 2000 film \\'\\'[[High Fidelity (film)|High Fidelity]]\\'\\', which had impressed Jackson.<ref>{{cite news | first = Gabriel | last = Snyder | url = https://www.variety.com/article/VR1117902512 | title = Black joins Watts for \\'King Kong\\' | work = [[Variety (magazine)|Variety]] | date = 2004-03-29 | access-date = 2009-05-28 | archive-date = October 26, 2012 | archive-url = https://web.archive.org/web/20121026124146/http://www.variety.com/article/VR1117902512 | url-status = live }}</ref> For inspiration, Black studied [[P. T. Barnum]]<ref>{{cite magazine | first = Liane | last = Bornin | url = https://www.ew.com/ew/article/0,,702507,00.html | title = King\\' of the World | magazine = [[Entertainment Weekly]] | date = 2004-09-27 | access-date = 2009-05-29 | archive-date = November 9, 2014 | archive-url = https://web.archive.org/web/20141109082955/http://www.ew.com/ew/article/0,,702507,00.html | url-status = dead }}</ref> and [[Orson Welles]]. \"I didn\\'t study [Welles] move for move. It was just to capture the spirit. Very reckless guy. I had tapes of him drunk off his ass.\"<ref name=Lexi>{{cite magazine | first = Steve | last = Daly | url = https://www.ew.com/ew/article/0,,1141374,00.html | title = LexiKong | magazine = [[Entertainment Weekly]] | date = 2005-12-23 | access-date = 2009-05-31 | archive-date = November 9, 2014 | archive-url = https://web.archive.org/web/20141109082958/http://www.ew.com/ew/article/0,,1141374,00.html | url-status = dead }}</ref> The native extras on Skull Island were portrayed by a mix of Asian, African, Maori and Polynesian actors sprayed with dark makeup to achieve a consistent pigmentation.<ref name=Lexi/>\\n\\n==Production==\\n[[File:KingKongModel.jpg|thumb|Model used in the production of the 2005 adaption of the King Kong series]]\\n\\n===Development===\\n\\n====Earlier attempts and 1990s====\\n[[Peter Jackson]] was nine years old when he first saw [[King Kong (1933 film)|the 1933 film]], and was in tears in front of the television when Kong was shot and fell off the Empire State Building. At age 12, he attempted to recreate the film using his parents\\' [[Super 8 mm film]] camera and a model of Kong made of wire and rubber with his mother\\'s fur coat for the hair, but eventually gave up on the project.<ref name=Ian>{{cite book | first = Ian | last = Pryor | title = Peter Jackson: From Prince of Splatter to Lord of the Rings - An Unauthorized Biography | publisher = [[Thomas Dunne Books]] | pages = [https://archive.org/details/peterjacksonfrom0000pryo/page/209 209–210] | year = 2004 | isbn = 0-312-32294-1 | location = New York City | url-access = registration | url = https://archive.org/details/peterjacksonfrom0000pryo/page/209 }}</ref> \\'\\'King Kong\\'\\' eventually became his favorite film and was the primary inspiration for his decision to become a filmmaker as a teenager.<ref name=Morton/> He read books about the making of \\'\\'King Kong\\'\\' and collected memorabilia, as well as articles from \\'\\'[[Famous Monsters of Filmland]]\\'\\'.<ref name=beg/> Jackson paid tribute to the 1933 film by including [[Skull Island (King Kong)|Skull Island]] as the origin of the zombie plague in his 1992 film \\'\\'[[Braindead (film)|Braindead]]\\'\\'.<ref name=Ray/>\\n\\nDuring the filming of Jackson\\'s 1996 film \\'\\'[[The Frighteners]]\\'\\', [[Universal Pictures]] was impressed with Jackson\\'s [[dailies]] and early visual effects footage. The studio was adamant to work with Jackson on his next project<ref name=Morton>{{cite book | first = Ray | last = Morton | title = King Kong: The History of a Movie Icon - From Fay Wray to Peter Jackson | publisher = Applause: Theatre & Cinema Books | pages = 316–329 | year = 2005 | isbn = 1-55783-669-8 | location = New York City}}</ref> and, in late 1995,<ref name=beg/> offered him the chance to direct a remake of the 1954 film \\'\\'[[Creature from the Black Lagoon]]\\'\\'. He turned down the offer, but Universal became aware of Jackson\\'s obsession with \\'\\'King Kong\\'\\' and subsequently offered him the opportunity to direct that remake.<ref name=Morton/> The studio did not have to worry about lawsuits concerning the [[film rights]] from [[RKO Pictures]] (the studio behind the 1933 film) because the King Kong character is held in the [[public domain]].<ref>{{cite news | first = Gabriel | last = Snyder | url = https://variety.com/2005/digital/features/it-s-a-jungle-out-there-2-1117923293/ | title = It\\'s a jungle out there | work = [[Variety (magazine)|Variety]] | date = 2005-05-22 | access-date = 2022-09-27 | archive-date = August 26, 2022 | archive-url = https://web.archive.org/web/20220826010145/https://variety.com/2005/digital/features/it-s-a-jungle-out-there-2-1117923293/ | url-status = live }}</ref> Jackson initially turned down the \\'\\'King Kong\\'\\' offer, but he \"quickly became disturbed by the fact that someone else would take it over,\" Jackson continued, \"and make it into a terrible film; that haunted me and I eventually said yes to Universal.\"<ref name=Ian/>\\n\\nAt the same time, Jackson was working with [[Harvey Weinstein]] and [[Miramax Films]] to purchase the film rights of \\'\\'[[The Hobbit]]\\'\\' and \\'\\'[[The Lord of the Rings]]\\'\\', while [[20th Century Fox]] was trying to hire him for the [[Planet of the Apes (2001 film)|2001 remake of \\'\\'Planet of the Apes\\'\\']]. Jackson turned down \\'\\'Planet of the Apes\\'\\' and because Weinstein was taking longer than expected to buy \\'\\'The Lord of the Rings\\'\\' rights, Jackson decided to move forward on \\'\\'King Kong\\'\\'. Weinstein was furious, and, as a result, Jackson proposed a deal between Universal and Miramax that the two studios would equally finance \\'\\'King Kong\\'\\' with Jackson\\'s production company [[WingNut Films]]. Universal would receive distribution rights in the United States, while Miramax would cover foreign territories. Jackson was also warranted the right of [[final cut privilege]], a percentage of the gross profits,<ref name=beg/> as well as [[artistic control]]; Universal allowed all filming and visual effects to be handled entirely in New Zealand.<ref name=Morton/> The deal was settled in April 1996, and Jackson, along with wife [[Fran Walsh]], began working on the \\'\\'King Kong\\'\\' script.<ref name=beg/> In the original draft, Ann was the daughter of famed English archaeologist Lord Linwood Darrow exploring ancient ruins in [[Sumatra]]. They would come into conflict with Denham during his filming, and they would uncover a hidden Kong statue and the map of Skull Island. This would indicate that the island natives were the last remnants of a cult religion that had once thrived on Asia\\'s mainland. Instead of a playwright, Jack was the first mate and an ex-[[World War I]] fighter pilot still struggling with the loss of his best friend, who had been killed in battle during a World War I prologue. The camera-man Herb is the only supporting character in the original draft who made it to the final version. The fight between Kong and the three \\'\\'V. rex\\'\\' also changed from the original draft. In the draft, Ann is actually caught in the \\'\\'V. rex\\'\\'{{\\'s}} jaws, where she becomes wedged, and slashed by the teeth; after the fight, Kong gets her out but she is suffering from a fever, from which she then recovers.<ref name=Morton/><ref>{{cite web |url=http://www.scifiscripts.com/scripts/kingkong.txt |title=King Kong 1996 script |publisher=Scifiscripts.com |date=1996 |access-date=July 28, 2024 |url-status=live }}</ref>\\n\\nUniversal approved of the script with [[Robert Zemeckis]] as executive producer, and pre-production for \\'\\'King Kong\\'\\' commenced. The plan was to begin filming sometime in 1997 for a summer 1998 release date. [[Weta Digital]] and [[Weta Workshop]], under the supervision of [[Richard Taylor (filmmaker)|Richard Taylor]] and [[Christian Rivers]], began work on early visual effects tests,<ref name=Morton/> specifically the complex task of building a [[computer-generated imagery|CGI]] version of New York City circa 1933. Jackson and Walsh progressed with a second draft script, sets were being designed and location scouting commenced in Sumatra and New Zealand.<ref name=beg>{{cite book | first = Brian | last = Sibley | author-link = Brian Sibley | title = Peter Jackson: A Film-maker\\'s Journey | publisher = [[HarperCollins]] | pages = 201, 316–339 | year = 2006 | isbn = 0-00-717558-2 | location = London}}</ref> In late 1996, Jackson flew to production of the 1997 film \\'\\'[[Titanic (1997 film)|Titanic]]\\'\\' in Mexico to discuss the part of Ann Darrow with [[Kate Winslet]], with whom he previously worked with on his 1994 film \\'\\'[[Heavenly Creatures]]\\'\\'. [[Minnie Driver]] was also being reportedly considered.<ref name=Ian/> Jackson\\'s choices for Jack Driscoll and Carl Denham included [[George Clooney]] and [[Robert De Niro]].<ref name=Ray/> However, development for \\'\\'King Kong\\'\\' was stalled in January 1997 when Universal became concerned over the upcoming release of the 1998 film \\'\\'[[Godzilla (1998 film)|Godzilla]]\\'\\', as well as other ape-related remakes with the 1998 film \\'\\'[[Mighty Joe Young (1998 film)|Mighty Joe Young]]\\'\\'<ref name=going>{{cite news | first = Michael | last = Fleming | url = https://variety.com/2003/film/markets-festivals/universal-going-ape-for-kong-1117883851/ | title = Universal going ape for \\'Kong\\' | work = [[Variety (magazine)|Variety]] | date = 2003-03-30 | access-date = 2022-09-27 | archive-date = August 5, 2022 | archive-url = https://web.archive.org/web/20220805042133/https://variety.com/2003/film/markets-festivals/universal-going-ape-for-kong-1117883851/ | url-status = live }}</ref> and the 2001 film \\'\\'Planet of the Apes\\'\\'. Universal abandoned \\'\\'King Kong\\'\\' in February 1997<ref name=Ian/> after Weta Workshop and Weta Digital had already designed six months\\' worth of pre-production.<ref name=Ray/> Jackson then decided to start work on [[The Lord of the Rings (film series)|\\'\\'The Lord of the Rings\\'\\' film series]].<ref name=Ian/>\\n\\n====Revival of the project====\\nWith the financial and critical success of the 2001 film \\'\\'[[The Lord of the Rings: The Fellowship of the Ring|The Fellowship of the Ring]]\\'\\' and the 2002 film \\'\\'[[The Lord of the Rings: The Two Towers|The Two Towers]]\\'\\',<ref name=going/> Universal approached Jackson in early 2003,<ref name=skull/> during the post-production of \\'\\'[[The Lord of the Rings: The Return of the King|The Return of the King]]\\'\\', concerning his interest in restarting development on \\'\\'King Kong\\'\\'. In March 2003, Universal set a target December 2005 release date and Jackson and Walsh brought \\'\\'The Lord of the Rings\\'\\' co-writer [[Philippa Boyens]] on to help rewrite their 1996 script. Jackson offered [[New Line Cinema]] the opportunity to co-finance with Universal, but they declined.<ref name=skull/> Universal and Jackson originally projected a $150 million budget,<ref name=never>{{cite news | first = Don | last = Groves | url = https://variety.com/2005/film/news/u-peeks-at-primo-primate-1117918907/ | title = U peeks at primo primate | work = [[Variety (magazine)|Variety]] | date = 2005-03-06 | access-date = 2022-09-27 | archive-date = September 15, 2022 | archive-url = https://web.archive.org/web/20220915052209/https://variety.com/2005/film/news/u-peeks-at-primo-primate-1117918907/ | url-status = live }}</ref> which eventually rose to $175 million.<ref name=max>{{cite news | first = Sharon | last = Waxman | url = https://www.nytimes.com/2005/10/27/movies/a-big-gorilla-weighs-in.html | url-access = subscription | title = A Big Gorilla Weighs In | work = [[The New York Times]] | date = 2005-10-27 | access-date = 2022-09-27 | archive-date = May 19, 2015 | archive-url = https://web.archive.org/web/20150519051105/http://www.nytimes.com/2005/10/27/movies/27film.html | url-status = live }}</ref> Jackson made a deal with Universal whereby he would be paid a $20 million salary against 20% of the box office gross for directing, producing and co-writing. He shared that fee with co-writers Walsh (which also covered her producing credit) and Boyens.<ref>{{cite news | first = Michael | last = Fleming | url = https://variety.com/2003/film/markets-festivals/rings-team-nabs-a-king-s-ransom-1117890743/ | title = \\'Rings\\' team nabs a \\'King\\'s\\' ransom | work = [[Variety (magazine)|Variety]] | date = 2003-08-11 | access-date = 2022-09-27 | archive-date = September 4, 2022 | archive-url = https://web.archive.org/web/20220904060835/https://variety.com/2003/film/markets-festivals/rings-team-nabs-a-king-s-ransom-1117890743/ | url-status = live }}</ref> However, if \\'\\'King Kong\\'\\' were to go over its $175 million budget, the penalties would be covered by Jackson.<ref name=deal>{{cite news | first = Gabriel | last = Snyder | url = https://variety.com/2005/film/markets-festivals/primates-getting-pricier-1117931769/ | title = Primates getting pricier | work = [[Variety (magazine)|Variety]] | date = 2005-10-26 | access-date = 2022-09-27 | archive-date = October 26, 2012 | archive-url = https://web.archive.org/web/20121026131509/http://www.variety.com/article/VR1117931769 | url-status = live }}</ref>\\n\\nImmediately after the completion of \\'\\'The Return of the King\\'\\', Weta Workshop and Weta Digital, supervised by Taylor, Rivers, and Joe Letteri, started pre-production on \\'\\'King Kong\\'\\'.<ref name=Ray/> Jackson brought back most of the crew he had on \\'\\'The Lord of the Rings\\'\\' series, including cinematographer Andrew Lesnie, production designer [[Grant Major]], art directors [[Simon Bright]] and [[Dan Hennah]], conceptual designer Alan Lee, and editor Jamie Selkirk.<ref name=Morton/> Jackson, Walsh and Boyens began to write a new script in late October 2003.<ref name=going/> Jackson acknowledged that he was highly unsatisfied with the original 1996 script.<ref name=skull/> \"That was actually just Fran and Peter very hurriedly getting something down on paper\", Boyens explained. \"It was more one of many possible ways the story could go.\"<ref name=Ray/> The writers chose to base the new screenplay on the 1933 film rather than the 1996 script.<ref name=Ray/> They also included scenes from [[James Ashmore Creelman]]\\'s screenplay that were either abandoned or omitted during production of the original film.<ref name=Morton/> In the scene where Kong shakes the surviving sailors pursuing Ann and himself from a log into the ravine, for example, directors Merian Cooper and Ernest B. Schoedsack originally intended to depict giant spiders emerging from the rock to devour their bodies. This was cut from the original release print, and remains known to \\'\\'Kong\\'\\' fans only via a rare still that appeared in \\'\\'Famous Monsters of Filmland\\'\\'. Jackson included this scene and elaborated upon it.<ref name=Ray/> Jackson, Walsh and Boyens also cited [[Delos W. Lovelace]]\\'s 1932 [[novelisation]] of \\'\\'King Kong\\'\\' as inspiration,<ref name=beg/> which included the character Lumpy (Andy Serkis).<ref name=skull/> To make the relationship between Ann Darrow and Kong plausible, the writers studied hours of gorilla footage.<ref>{{cite news | author = Daniel Robert Epstein | url = http://kingkong.ugo.com/features/philippa_boyens/default.asp# | title = Philippa Boyens Interview | work = [[UGO Networks]] | access-date = 2009-06-06 | url-status=dead | archive-url = https://web.archive.org/web/20081005103157/http://kingkong.ugo.com/features/philippa_boyens/default.asp | archive-date = October 5, 2008 | df = mdy-all }}</ref> Jackson also optioned \\'\\'Early Havoc\\'\\', a memoir written by [[vaudeville]] performer [[June Havoc]]<ref name=skull/> to help Walsh and Boyens flesh out Ann Darrow\\'s characterisation.<ref name=Lexi/> [[Carl Denham]] was intentionally modeled after and inspired by [[Orson Welles]].<ref name=skull/> Their new draft was finished in February 2004.<ref name=Ray/>\\n\\n===Filming===\\n[[Principal photography]] started on September 6, 2004, at Camperdown Studios in [[Miramar, New Zealand]]. Camperdown housed the native village and the Great Wall, while the streets of New York City were constructed on its backlot and at Gracefield in [[Lower Hutt]], New Zealand. The majority of the SS \\'\\'Venture\\'\\' scenes were shot aboard a full-scale deck constructed in the parking lot at Camperdown Studio and then were backed with a green screen, with the ocean digitally added in post. Scenes set in the Broadway theater from which King Kong makes his escape were filmed in [[Wellington]]\\'s [[Opera House, Wellington|Opera House]] and at the [[Auckland Civic Theatre]].<ref name=Morton/> Filming also took place at Stone Street Studios, where a new [[sound stage]] was constructed to accommodate one of the sets.<ref>{{cite news | author = Staff | url = https://www.hollywoodreporter.com/hr/search/article_display.jsp?vnu_content_id=1000443007 | title = Peter Jackson, filmmaker | date = 2004-02-24 | work = [[The Hollywood Reporter]] | access-date = 2009-06-06 | archive-date = January 28, 2018 | archive-url = https://web.archive.org/web/20180128074657/https://www.hollywoodreporter.com/search?vnu_content_id=1000443007 | url-status = dead }}</ref> Over the course of filming the budget went from $175 million to $207 million over additional visual effects work needed, and Jackson extending the film\\'s running time by thirty minutes. Jackson covered most of the $32 million surplus himself<ref name=deal/> and finished filming in March 2005.<ref name=Morton/>\\n\\nThe film\\'s budget climbed from an initial US$150 million to a then-record-breaking $207 million and received a subsidy of $34 million from New Zealand,<ref>{{cite web|url=https://www.nzfilm.co.nz/sites/default/files/2017-11/fnz-doip_20150414.pdf|title=A Decade of International Production|website=Nzfilm.co.nz|access-date=2022-03-12|archive-date=January 24, 2019|archive-url=https://web.archive.org/web/20190124142710/https://www.nzfilm.co.nz/sites/default/files/2017-11/fnz-doip_20150414.pdf|url-status=live}}</ref><ref>{{cite news | date=October 28, 2005 | title=\\'\\'King Kong\\'\\' \\'goes $32m over budget\\' | work=BBC | url=http://news.bbc.co.uk/2/hi/entertainment/4384458.stm | access-date=2006-06-14 | location=London | archive-date=November 14, 2020 | archive-url=https://web.archive.org/web/20201114084556/http://news.bbc.co.uk/2/hi/entertainment/4384458.stm | url-status=live }}</ref> making it at one point the [[List of most expensive films|most expensive film]] yet made. Universal only agreed to such an outlay after seeing a screening of the unfinished film, to which executives responded enthusiastically. Marketing and promotion costs were an estimated $60 million. The film\\'s length also grew; originally set to be 135 minutes, it soon grew to 200, prompting Universal executives to fly to New Zealand to view a rough cut, but they liked it so their concerns were addressed.<ref>{{cite web|author=Colley, Ed |date=December 8, 2005 |title=Jackson: \\'\\'King Kong\\'\\' is why I\\'m here |work=The Evening Standard |url=http://www.thisislondon.co.uk/film/article-21146885-details/Jackson%3A+King+Kong+is+why+I%27m+here/article.do |archive-url=https://web.archive.org/web/20070717010639/http://www.thisislondon.co.uk/film/article-21146885-details/Jackson%3A%2BKing%2BKong%2Bis%2Bwhy%2BI%27m%2Bhere/article.do |url-status=dead |archive-date=July 17, 2007 |access-date=2006-06-14}}</ref>\\n\\nOther difficulties included Peter Jackson\\'s decision to change composers from [[Howard Shore]] to [[James Newton Howard]] seven weeks before the film opened.<ref>{{cite news| date=October 18, 2005| title=Jackson drops \\'\\'King Kong\\'\\' composer| work=BBC| url=http://news.bbc.co.uk/2/hi/entertainment/4352072.stm| access-date=2006-06-14| location=London| archive-date=March 9, 2009| archive-url=https://web.archive.org/web/20090309131206/http://news.bbc.co.uk/2/hi/entertainment/4352072.stm| url-status=live}}</ref>\\n\\n===Visual effects===\\n[[File:Andy Serkis - King Kong.jpg|350px|thumb|[[Andy Serkis]] in his Kong bodysuit]]\\nJackson saw \\'\\'King Kong\\'\\' as opportunity for technical innovations in [[motion capture]], commissioning [[Christian Rivers]] of [[Wētā FX|Weta Digital]] to supervise all aspects of Kong\\'s performance.<ref name=captures>{{cite news | first = David S. | last = Cohen | url = https://www.variety.com/article/VR1117933929 | title = Kong captures actor | work = [[Variety (magazine)|Variety]] | date = 2005-12-04 | access-date = 2009-05-29 | archive-date = October 26, 2012 | archive-url = https://web.archive.org/web/20121026124405/http://www.variety.com/article/VR1117933929 | url-status = live }}</ref> Jackson decided early on that he did not want Kong to behave like a human, and so he and his team studied hours of gorilla footage.<ref>{{cite web| author=Epstein, Daniel Robert| year=2005| title=Philippa Boyens Interview| work=Kong UGO| url=http://kingkong.ugo.com/features/philippa_boyens/default.asp#| access-date=2006-06-14| url-status=dead| archive-url=https://web.archive.org/web/20060604201936/http://kingkong.ugo.com/features/philippa_boyens/default.asp| archive-date=June 4, 2006| df=mdy-all}}</ref> Serkis was cast in the title role in April 2003<ref name=skull/> and prepared himself by working with gorillas at the [[London Zoo]]. He then traveled to [[Rwanda]], observing the actions and behaviors of gorillas in the wild.<ref name=fi/> Rivers explained that the detailed facial performance capture with Serkis was accomplished because of the similarities between human and gorilla faces. \"Gorillas have such a similar looking set of eyes and brows, you can look at those expressions and transpose your own interpretation onto them.\"<ref name=captures/> Photos of silverback gorillas were also superimposed on Kong\\'s image in the early stages of animation.<ref>{{cite news | first = Susan | last = Wloszczyna | url = https://www.usatoday.com/life/movies/news/2005-06-26-king-kong_x.htm | title = \\'King Kong\\' goes digital | date = 2005-06-26 | work = [[USA Today]] | access-date = 2009-06-06 | archive-date = October 20, 2011 | archive-url = https://web.archive.org/web/20111020042523/http://www.usatoday.com/life/movies/news/2005-06-26-king-kong_x.htm | url-status = live }}</ref> Serkis had to go through two hours of motion capture makeup every day, having 135 small markers attached to different spots on his face.<ref name=captures/> Following principal photography, Serkis had to spend an additional two months on a motion capture stage, miming Kong\\'s movements for the film\\'s digital animators.<ref name=Josh>{{cite magazine | first = Josh | last = Rottenberg | url = https://www.ew.com/ew/article/0,,1128298,00.html | title = Cover Story: The Return of the King | magazine = [[Entertainment Weekly]] | date = 2005-11-10 | access-date = 2009-05-31 | archive-date = January 6, 2016 | archive-url = https://web.archive.org/web/20160106163845/http://www.ew.com/article/2005/11/11/king-kong-making-ape-and-more | url-status = dead }}</ref>\\n\\nApart from Kong, [[Skull Island (King Kong)|Skull Island]] is inhabited by [[dinosaur]]s and other large [[fauna]]. Inspired by [[Dougal Dixon]]\\'s works, the designers imagined what 65 million years or more of isolated [[evolution]] might have done to dinosaurs and the other creatures.<ref name=\"EE doc\">\\'\\'Recreating the Eighth Wonder: The Making of\\'\\' King Kong (DVD). Universal. 2006.</ref>\\n\\n==Music==\\n{{Main|King Kong (soundtrack)}}\\nThe original score was initially set to be composed by [[Howard Shore]], who had written several cues for the film.<ref name=\":02\">{{Cite web |date=2005-10-18 |title=Shore leaves Jackson\\'s King Kong |url=http://www.theguardian.com/film/2005/oct/18/news1 |access-date=2022-06-28 |website=the Guardian |language=en |archive-date=June 28, 2022 |archive-url=https://web.archive.org/web/20220628161850/https://www.theguardian.com/film/2005/oct/18/news1 |url-status=live }}</ref> Due to creative differences with Jackson, Shore opted out of the project in October 2005 and subsequently [[James Newton Howard]] replaced him.<ref>{{Cite web |title=Howard Shore Leaves Kong |url=https://www.empireonline.com/movies/news/howard-shore-leaves-kong/ |access-date=2022-06-28 |website=Empire |date=October 17, 2005 |archive-date=June 28, 2022 |archive-url=https://web.archive.org/web/20220628161854/https://www.empireonline.com/movies/news/howard-shore-leaves-kong/ |url-status=live }}</ref><ref name=\":1\">{{Cite web |last=B |first=Brian |date=2005-10-15 |title=James Newton Howard to Score King Kong |url=https://movieweb.com/james-newton-howard-to-score-king-kong/ |access-date=2022-06-28 |website=MovieWeb |language=en-US |archive-date=June 28, 2022 |archive-url=https://web.archive.org/web/20220628161851/https://movieweb.com/james-newton-howard-to-score-king-kong/ |url-status=live }}</ref> With scoring beginning by late-October 2005, Howard had only five weeks to work on the film, as a result, he found the film \"hardest to compose\".<ref name=\"Burlingame\">{{Cite web |last=Burlingame |first=Jon |date=2005-11-30 |title=Behind the curtain: \\'Kong\\'s\\' dueling scores |url=https://variety.com/2005/scene/awards/behind-the-curtain-kong-s-dueling-scores-1117933728/ |access-date=2022-06-30 |website=Variety |language=en-US |archive-date=June 30, 2022 |archive-url=https://web.archive.org/web/20220630105716/https://variety.com/2005/scene/awards/behind-the-curtain-kong-s-dueling-scores-1117933728/ |url-status=live }}</ref> Recording sessions took place at the [[Sony Pictures Studios|Sony Scoring Stage]], [[California]] and [[Todd-AO]], [[Los Angeles]], consisting of 108-piece orchestra and 40-member choir, and a varied range of instruments used.<ref name=\"Burlingame\"/>\\n\\nThe film\\'s soundtrack includes [[Al Jolson]]\\'s recording of \"[[I\\'m Sitting on Top of the World]]\", [[Peggy Lee]]\\'s \"[[Bye Bye Blackbird]]\", and some themes from [[Max Steiner]]\\'s soundtrack for the original 1933 film. The score was released on December 7, 2005, by [[Decca Records]] to positive response. Howard\\'s score was later nominated for the [[Golden Globe Award for Best Original Score]].<ref>{{cite web|url=http://www.goldenglobes.org/browse/film/24379 |title=HFPA - Awards Search (King Kong) |access-date=March 2, 2012 |url-status=dead |archive-url=https://web.archive.org/web/20120312105852/http://www.goldenglobes.org/browse/film/24379 |archive-date=March 12, 2012}}</ref>\\n\\n==Marketing==\\nThe marketing campaign started in full swing on June 27, 2005, when the teaser trailer made its debut, first online at the official [[Volkswagen]] website at 8:45&nbsp;p.m. EDT, then 8:55&nbsp;p.m. EDT across media outlets owned by [[NBCUniversal]] (the parent of Universal Studios), including [[NBC]], [[CTV Drama Channel|Bravo!]], [[CNBC]], and [[MSNBC]]. That trailer appeared in theatres attached to \\'\\'[[War of the Worlds (2005 film)|War of the Worlds]]\\'\\', which opened on June 29.<ref name=\"Konga\"/>\\n\\nJackson also regularly published a series of \\'Production Diaries\\', which chronicled the film\\'s production. The diaries started shortly after the [[DVD-Video|DVD]] release of \\'\\'[[The Lord of the Rings: The Return of the King|The Return of the King]]\\'\\' as a way to give Jackson\\'s \\'\\'The Lord of the Rings\\'\\' fans a glimpse of his next project. These diaries are edited into broadband-friendly installments of three or four minutes each. They consist of features that would normally be seen in a making-of documentary: a tour of the set, a roving camera introducing key players behind the scene, a peek inside the sound booth during last-minute dubbing, or [[Andy Serkis]] doing his ape movements in a motion capture studio.<ref>{{cite web | author=Abel, Glenn| date= December 19, 2005| title=\\'\\'King Kong\\'\\': Peter Jackson\\'s Production Diaries| work=Hollywood Reporter| url=https://www.hollywoodreporter.com/thr/reviews/review_display.jsp?vnu_content_id=1001700175|access-date=2006-06-14 |archive-url = https://web.archive.org/web/20060513134323/http://www.hollywoodreporter.com/thr/reviews/review_display.jsp?vnu_content_id=1001700175 <!-- Bot retrieved archive --> |archive-date = 2006-05-13}}</ref>\\n\\nA [[novelisation]] of the film and a [[prequel]] novel entitled \\'\\'King Kong: The Island of the Skull\\'\\' were also written. A multi-platform [[video game]], entitled \\'\\'[[King Kong (2005 video game)|Peter Jackson\\'s King Kong]]\\'\\', was released, which featured an alternate ending. There was also a hardback book entitled \\'\\'[[The World of Kong: A Natural History of Skull Island]]\\'\\', featuring artwork from [[Weta Workshop]] to describe the film\\'s fictional wildlife.\\n\\nJackson has expressed his desire to remaster the film in 3-D at some point in the future.<ref>{{cite news | date=April 25, 2006 | title=Film director \\'sees future in 3D\\' | work=BBC | url=http://news.bbc.co.uk/2/hi/entertainment/4942338.stm | access-date=2006-06-13 | location=London | archive-date=October 14, 2013 | archive-url=https://web.archive.org/web/20131014201619/http://news.bbc.co.uk/2/hi/entertainment/4942338.stm | url-status=live }}</ref> Jackson was also seen shooting with a 3-D camera at times during the shoot of \\'\\'King Kong\\'\\'.<ref>{{cite news | author=McLean, Robyn | date= November 12, 2005| title=\\'\\'King Kong\\'\\' movie may go 3D| work=The Dominion Post}}</ref>\\n\\n==Reception==\\n===Box office===\\n[[File:KingKongOdeonpremiere.jpg|thumb|The billboard at the [[Odeon Leicester Square]] premiere]]\\nIn North America, \\'\\'King Kong\\'\\' grossed $9.8 million during its Wednesday opening and $50.1 million over its first weekend for a five-day total of $66.2 million from around 7,500 screens at 3,568 theaters.<ref>{{cite web |url=https://boxofficemojo.com/movies/?page=daily&id=kingkong05.htm |title=King Kong |website=Box Office Mojo |access-date=2015-01-02 |archive-date=July 8, 2019 |archive-url=https://web.archive.org/web/20190708000538/https://www.boxofficemojo.com/movies/?page=daily&id=kingkong05.htm |url-status=live }}</ref> Some analysts considered these initial numbers disappointing, saying that studio executives had been expecting more.<ref>{{cite web |url=https://www.the-numbers.com/interactive/newsStory.php?newsID=1641 |title=Kong\\'s King |website=The Numbers News |first=C.S. |last=Strowbridge |date=2005-12-19 |access-date=2015-01-02 |archive-date=October 4, 2013 |archive-url=https://web.archive.org/web/20131004213010/http://www.the-numbers.com/interactive/newsStory.php?newsID=1641 |url-status=live }}</ref><ref>{{cite web |url=https://www.boxofficemojo.com/news/?id=1966&p=.htm. |title=\\'King Kong\\' Mighty But No Monster |first=Brandon |last=Gray |date=2005-12-19 |access-date=2015-01-02 |archive-date=March 5, 2016 |archive-url=https://web.archive.org/web/20160305211658/http://www.boxofficemojo.com/news/?id=1966&p=.htm. |url-status=live }}</ref> The film went on to gross $218.1 million in the North American market and ended up in the top five highest-grossing films of the year there.<ref>{{cite web | title=2005 Domestic Grosses | work=boxofficemojo.com | url=https://www.boxofficemojo.com/yearly/chart/?yr=2005&p=.htm | access-date=2006-05-11 | archive-date=January 17, 2007 | archive-url=https://web.archive.org/web/20070117001752/http://www.boxofficemojo.com/yearly/chart/?yr=2005&p=.htm | url-status=live }}</ref> The film grossed an additional $338.8 million at the box office in other regions for a worldwide total of $556.9 million, which not only ranked it in the top five highest-grossing films of 2005 worldwide,<ref>{{cite web|title=2005 Worldwide Box Office|url=https://www.boxofficemojo.com/year/world/2005/|access-date=2020-06-28|publisher=BoxOfficeMojo.com|archive-date=November 12, 2020|archive-url=https://web.archive.org/web/20201112040611/https://www.boxofficemojo.com/year/world/2005/|url-status=live}}</ref> but also helped the film bring back more than two-and-a-half times its production budget.\\n\\nDuring its home video release, \\'\\'King Kong\\'\\' sold over $100 million worth of DVDs in the largest six-day performance in Universal Studios history.<ref>{{cite web|date=April 3, 2006 |title=\\'King Kong\\' DVD scares up $100 mln 1st-week sales |website=[[ABC News (United States)|ABC News]] |agency=Reuters |url=https://abcnews.go.com/Entertainment/wireStory?id=1802180 |access-date=2006-06-14 |url-status=dead |archive-url=https://web.archive.org/web/20060420153713/https://abcnews.go.com/Entertainment/wireStory?id=1802180 |archive-date=April 20, 2006 }}</ref> \\'\\'King Kong\\'\\' sold more than 7.6 million DVDs, accumulating nearly $194 million worth of sales numbers in the North American market alone.<ref>{{cite web | title=King Kong DVD Sales | website=The-numbers.com | url=https://www.the-numbers.com/movies/2005/KKONG-DVD.php | access-date=February 20, 2020 | archive-date=June 27, 2013 | archive-url=https://web.archive.org/web/20130627162320/http://www.the-numbers.com/movies/2005/KKONG-DVD.php | url-status=live }}</ref> As of June 25, 2006, \\'\\'King Kong\\'\\' has generated almost $38 million from DVD rental gross.<ref>{{cite web | title = \\'\\'King Kong\\'\\'/DVD and Video | website = Box Office Mojo | url = https://www.boxofficemojo.com/movies/?page=homevideo&id=kingkong05.htm | access-date = 2007-01-03 | archive-date = April 2, 2019 | archive-url = https://web.archive.org/web/20190402155611/https://www.boxofficemojo.com/movies/?page=homevideo&id=kingkong05.htm | url-status = live }}</ref> In February 2006, [[Turner Broadcasting System]] ([[TNT (American TV network)|TNT]]/[[TBS (American TV channel)|TBS]]) and [[American Broadcasting Company|ABC]] paid Universal Pictures $26.5 million for the television rights to the film.<ref>{{cite web |url=https://www.the-numbers.com/movies/2005/KKONG.php |title=Movie King Kong - Box Office Data, News, Cast Information |website=The-numbers.com |access-date=2011-08-21 |archive-date=November 9, 2013 |archive-url=https://web.archive.org/web/20131109212824/http://www.the-numbers.com/movies/2005/KKONG.php |url-status=live }}</ref>\\n\\n===Critical response===\\n\\'\\'King Kong\\'\\' received acclaim from critics. On [[Review aggregator|aggregate review]] site [[Rotten Tomatoes]], the film has an approval rating of 84% based on 268 reviews, with an average rating of 7.9/10. The site\\'s critical consensus reads, \"Featuring state-of-the-art special effects, terrific performances, and a majestic sense of spectacle, Peter Jackson\\'s remake of \\'\\'King Kong\\'\\' is a potent epic that\\'s faithful to the spirit of the 1933 original.\"<ref>{{cite web|url=https://www.rottentomatoes.com/m/king_kong|title=King Kong (2005)|website=[[Rotten Tomatoes]]|publisher=[[Fandango Media|Fandango]]|access-date=February 24, 2020|archive-date=December 8, 2020|archive-url=https://web.archive.org/web/20201208011617/https://www.rottentomatoes.com/m/king_kong|url-status=live}}</ref> On [[Metacritic]], the film has a score of 81 out of 100, based on 39 critics, indicating \"universal acclaim\".<ref>{{cite web|url=http://www.metacritic.com/movie/king-kong|title=King Kong (2005)|website=[[Metacritic]]|access-date=April 29, 2019|archive-date=August 3, 2014|archive-url=https://web.archive.org/web/20140803132437/http://www.metacritic.com/movie/king-kong|url-status=live}}</ref> Audiences polled by [[CinemaScore]] gave the film an average grade of \"A−\" on an A+ to F scale.<ref name=\"CinemaScore\">{{cite web|url=http://www.cinemascore.com/|title=CinemaScore|website=[[CinemaScore]]|access-date=April 29, 2019|archive-date=January 19, 2015|archive-url=https://web.archive.org/web/20150119025202/http://www.cinemascore.com/|url-status=live}}</ref>\\n\\nIt was placed on the \\'top ten\\' lists of several critics,<ref>{{cite web | title=The 2005 Top Ten\\'s | work=Awards Watch | url=http://www.moviecitynews.com/awards/2006/top_tens/critics_01.html|access-date=2006-05-11 |archive-url = https://web.archive.org/web/20060324050559/http://www.moviecitynews.com/awards/2006/top_tens/critics_01.html |archive-date = March 24, 2006}}</ref> with [[Roger Ebert]] giving it four stars, and listed it as 2005\\'s eighth-best film.<ref>{{cite web| author=Ebert, Roger| date=December 18, 2005| title=Ebert\\'s Best 10 Movies of 2005| work=rogerebert.com| url=http://rogerebert.suntimes.com/apps/pbcs.dll/article?AID=%2F20051218%2FCOMMENTARY%2F512180302| access-date=2006-05-11| archive-date=November 17, 2012| archive-url=https://web.archive.org/web/20121117004020/http://rogerebert.suntimes.com/apps/pbcs.dll/article?AID=%2F20051218%2FCOMMENTARY%2F512180302| url-status=dead}}</ref> The film received four [[Academy Award]] nominations, for [[Academy Award for Best Visual Effects|Visual Effects]], [[Academy Award for Best Sound|Sound Mixing]] ([[Christopher Boyes]], [[Michael Semanick]], [[Michael Hedges (sound engineer)|Michael Hedges]], [[Hammond Peek]]), [[Academy Award for Best Sound Editing|Sound Editing]], and [[Academy Award for Best Production Design|Production Design]], winning all but the last.<ref name=\"Oscars2006\">{{Cite web |url=http://www.oscars.org/awards/academyawards/legacy/ceremony/78th-winners.html |title=The 78th Academy Awards (2006) Nominees and Winners |access-date=2011-11-20 |work=oscars.org |archive-date=September 29, 2012 |archive-url=https://web.archive.org/web/20120929062922/http://www.oscars.org/awards/academyawards/legacy/ceremony/78th-winners.html |url-status=live }}</ref><ref>{{cite news | title=Oscars 2006: The nominees | work=BBC News | url=http://news.bbc.co.uk/1/hi/entertainment/4665684.stm | access-date=2008-11-06 | date=2006-01-31 | location=London | archive-date=February 3, 2006 | archive-url=https://web.archive.org/web/20060203023231/http://news.bbc.co.uk/1/hi/entertainment/4665684.stm | url-status=live }}</ref> \\'\\'[[Entertainment Weekly]]\\'\\' called the depiction of Kong the most convincing computer-generated character in film in 2005.<ref>{{cite magazine | title = Our 10 Favorite CG Characters | magazine = [[Entertainment Weekly]] | url = https://www.ew.com/ew/article/0,,20041669_20041686_20046918_9,00.html | access-date = 2007-07-30 | archive-date = August 6, 2014 | archive-url = https://web.archive.org/web/20140806011402/http://www.ew.com/ew/article/0,,20041669_20041686_20046918_9,00.html | url-status = dead }}</ref> Some criticised the film for retaining racist stereotypes that had been present in the 1933 film, though it was not suggested that Jackson had done this intentionally.<ref>{{cite news | title=Big black and bad stereotyping | work=Times Online | author=McKenzie, Kwame | date=December 13, 2005 | url=http://www.thetimes.co.uk/tto/arts/film/article2433313.ece | access-date=2006-05-11 | archive-date=October 19, 2015 | archive-url=https://web.archive.org/web/20151019100537/http://www.thetimes.co.uk/tto/arts/film/article2433313.ece | url-status=live }}</ref> \\'\\'King Kong\\'\\' ranks 450th on \\'\\'[[Empire (film magazine)|Empire]]\\'\\' magazine\\'s 2008 list of the 500 Greatest Movies of All Time.<ref>{{cite web |url=https://www.empireonline.com/500/10.asp |title=Empire Features |publisher=Empireonline.com |access-date=2011-08-21 |archive-date=November 16, 2012 |archive-url=https://web.archive.org/web/20121116171206/http://www.empireonline.com/500/10.asp |url-status=live }}</ref> \\'\\'[[The Guardian]]\\'\\' reviewer Peter Bradshaw said that it \"certainly equals, and even exceeds, anything Jackson did in \\'\\'Lord of the Rings\\'\\'.\"<ref>{{cite web|url=https://www.theguardian.com/culture/2005/dec/09/1|title=King Kong|work=[[The Guardian]]|last=Bradshaw|first=Peter|date=December 9, 2005|access-date=December 23, 2017|archive-date=November 15, 2019|archive-url=https://web.archive.org/web/20191115134635/https://www.theguardian.com/culture/2005/dec/09/1|url-status=live}}</ref> However, [[Charlie Brooker]], also of \\'\\'The Guardian\\'\\', gave a negative review in which he describes the film as \"sixteen times more overblown and histrionic than necessary\".<ref>{{cite web|url=https://www.theguardian.com/film/2006/jan/06/features.tvandradio|title=Supposing I\\'d enjoyed King Kong second time round|last=Brooker|first=Charlie|author-link=Charlie Brooker|work=[[The Guardian]]|date=January 6, 2006|access-date=December 23, 2017|archive-date=December 24, 2017|archive-url=https://web.archive.org/web/20171224042407/https://www.theguardian.com/film/2006/jan/06/features.tvandradio|url-status=live}}</ref>\\n\\n===Accolades===\\n{|class=\"wikitable\"\\n|-style=\"background:#b0c4de; text-align:center;\"\\n! Award\\n! Subject\\n! Nominee\\n! Result\\n|-\\n|rowspan=4| [[Academy Awards]]\\n|[[Academy Award for Best Production Design|Best Art Direction]]\\n|[[Grant Major]], [[Dan Hennah]], and [[Simon Bright]]\\n|{{nom}}\\n|-\\n|[[Academy Award for Best Sound Editing|Best Sound Editing]]\\n|[[Mike Hopkins (sound editor)|Mike Hopkins]] and [[Ethan Van der Ryn]]\\n|{{won}}\\n|-\\n|[[Academy Award for Best Sound|Best Sound Mixing]]\\n|[[Christopher Boyes]], [[Michael Semanick]], [[Michael Hedges (sound engineer)|Michael Hedges]], and [[Hammond Peek]]\\n|{{won}}\\n|- \\n|[[Academy Award for Best Visual Effects|Best Visual Effects]]\\n|[[Joe Letteri]], [[Brian Van\\'t Hul]], [[Christian Rivers]], and [[Richard Taylor (filmmaker)|Richard Taylor]]\\n|{{won}}\\n|-\\n|[[American Film Institute]]\\n|[[American Film Institute Awards 2005|Top Ten Films]]\\n|King Kong\\n|{{won}}\\n|-\\n|[[American Society of Cinematographers Award]]\\n|[[American Society of Cinematographers Award for Outstanding Achievement in Cinematography in Theatrical Releases|Outstanding Achievement in Cinematography in Theatrical Releases]]\\n|[[Andrew Lesnie]]\\n|{{nom}}\\n|-\\n| [[American Society of Composers, Authors and Publishers|ASCAP Film and Television Music Awards]]\\n| Top Box Office Films\\n| [[James Newton Howard]]\\n| {{won}}\\n|-\\n|[[Art Directors Guild]]\\n|[[Art Directors Guild Award for Excellence in Production Design for a Fantasy Film|Excellence in Production Design for a Fantasy Film]]\\n|Grant Major, Dan Hennah, Joe Bleakley, Simon Bright, Simon Harper, David A. Cook, and Jacqui Allen\\n|{{nom}}\\n|-\\n|rowspan=3|[[British Academy Film Awards]]\\n|[[BAFTA Award for Best Special Visual Effects|Best Special Visual Effects]]\\n|Joe Letteri, Brian Van\\'t Hul, Christian Rivers, and Richard Taylor\\n|{{won}}\\n|-\\n|[[BAFTA Award for Best Production Design|Best Production Design]]\\n|Grant Major\\n|{{nom}}\\n|-\\n|[[BAFTA Award for Best Sound|Best Sound]]\\n|Hammond Peek, Christopher Boyes, Mike Hopkins, and Ethan Van der Ryn\\n|{{nom}}\\n|-\\n|rowspan=2|[[Critics Choice Awards]]\\n| [[Critics\\' Choice Movie Award for Best Picture|Best Picture]]\\n| King Kong\\n|{{nom}}\\n|-\\n| [[Critics\\' Choice Movie Award for Best Picture|Best Director]]\\n| Peter Jackson\\n|{{nom}}\\n|-\\n|rowspan=4|[[Chicago Film Critics Association Awards]]\\n|[[Chicago Film Critics Association Award for Best Director|Best Director]]\\n|Peter Jackson\\n|{{nom}}\\n|-\\n|[[Chicago Film Critics Association Award for Best Actress|Best Actress]]\\n|Naomi Watts\\n|{{nom}}\\n|-\\n|[[Chicago Film Critics Association Award for Best Cinematography|Best Cinematography]]\\n|Andrew Lesnie\\n|{{nom}}\\n|-\\n|[[Chicago Film Critics Association Award for Best Original Score|Best Original Score]]\\n|James Newton Howard\\n|{{nom}}\\n|-\\n|[[Cinema Audio Society]]\\n|[[Cinema Audio Society Award for Outstanding Achievement in Sound Mixing for a Motion Picture – Live Action|Outstanding Achievement in Sound Mixing for a Motion Picture]]\\n|Christopher Boyes, Michael Semanick, Michael Hedges, Hammond Peek\\n|{{nom}}\\n|-\\n|rowspan=2|[[Dallas-Fort Worth Film Critics Association]]\\n|[[Dallas–Fort Worth Film Critics Association Award for Best Film|Best Picture]]\\n|King Kong\\n|{{nom}}\\n|-\\n|[[Dallas–Fort Worth Film Critics Association Award for Best Director|Best Director]]\\n|Peter Jackson\\n|{{nom}}\\n|-\\n|rowspan=5|[[Empire Awards]]\\n|[[Empire Award for Best Sci-Fi/Fantasy|Best Sci-Fi/Superhero]]\\n|King Kong\\n|{{nom}}\\n|-\\n|[[Empire Award for Best Director|Best Director]]\\n|Peter Jackson\\n|{{nom}}\\n|-\\n|[[Empire Award for Best Actor|Best Actor]]\\n|Andy Serkis\\n|{{nom}}\\n|-\\n|[[Empire Award for Best Actress|Best Actress]]\\n|Naomi Watts\\n|{{nom}}\\n|-\\n|[[Empire Award for Best Film|Best Film]]\\n|rowspan=2|King Kong\\n|{{won}}\\n|-\\n|[[Georges Award]]\\n|Best Blockbuster Movie\\n|{{nom}}\\n|-\\n|rowspan=2|[[Golden Globe Awards]]\\n|[[Golden Globe Award for Best Director|Best Director]]\\n|[[Peter Jackson]]\\n|{{nom}}\\n|-\\n|[[Golden Globe Award for Best Original Score|Best Original Score]]\\n|[[James Newton Howard]]\\n|{{nom}}\\n|-\\n|rowspan=3|[[Motion Picture Sound Editors|Golden Reel Awards]]\\n|rowspan=2|[[Golden Reel Award for Outstanding Achievement in Sound Editing – Sound Effects, Foley, Dialogue and ADR for Foreign Language Feature Film|Best Sound Editing in Feature Film - Foreign]]\\n|Ethan Van der Ryn, Mike Hopkins, Brent Burge, David Farmer, Dave Whitehead, John Simpson, Hayden Collow, Melanie Graham, Matthew Lambourn, Justin Webster, Katy Wood, Peter Mills, Craig Tomlinson, Ray Beentjes, Jason Canovas, Martin Kwok, Polly McKinnon, Chris Ward, Jenny T. Ward, Robyn McFarlane, and Carolyn McLaughlin\\n|{{nom}}\\n|-\\n|Matt Stutter\\n|{{nom}}\\n|-\\n|-\\n|[[Golden Reel Award for Outstanding Achievement in Sound Editing – Feature Underscore|Best Sound Editing in Feature Film - Music]]\\n|Jim Weidman and Peter Myles\\n|{{nom}}\\n|-\\n|rowspan=12|[[JoBlo.com|Golden Schmoes Awards]]\\n|Best DVD/Blu-Ray of the Year\\n|\\'Deluxe Edition\\'\\n|{{nom}}\\n|-\\n|Favorite Movie of the Year\\n|King Kong\\n|{{nom}}\\n|-\\n|Best Director of the Year\\n|Peter Jackson\\n|{{nom}}\\n|-\\n|Most Overrated Movie of the Year\\n|rowspan=2|King Kong\\n|{{nom}}\\n|-\\n|Best Special Effects of the Year\\n|{{won}}\\n|-\\n|Best Actress of the Year\\n|Naomi Watts\\n|{{nom}}\\n|-\\n|Coolest Character of the Year\\n|\\'Kong\\'\\n|{{nom}}\\n|-\\n|Best Music in a Movie\\n|rowspan=2|King Kong\\n|{{nom}}\\n|-\\n|Best Trailer of the Year\\n|{{nom}}\\n|-\\n|Best Action Sequence of the Year\\n|rowspan=2|\\'Kong vs. T-Rexes\\'\\n|{{won}}\\n|-\\n|rowspan=2|Most Memorable Scene in a Movie\\n|{{nom}}\\n|-\\n|\\'Kong on top of the Empire State Building\\'\\n|{{nom}}\\n|-\\n|rowspan=2|[[Hollywood Professional Association]]\\n|[[HPA Award for Outstanding Color Grading – Feature Film|Outstanding Color Grading Feature Film in a DI Process]]\\n|David Cole\\n|{{nom}}\\n|-\\n|[[HPA Award for Outstanding Visual Effects – Feature Film|Outstanding Compositing - Feature Film]]\\n|Erik Winquist, Charles Tait, Johan Åberg, and G.G. Heitmann Demers\\n|{{nom}}\\n|-\\n|rowspan=2|[[International Cinephile Society]]\\n|Best Actress\\n|Naomi Watts\\n|{{nom}}\\n|-\\n|Best Production Design\\n|Grant Major\\n|{{sort|Runner-up2|{{draw|2nd place}}}}\\n|-\\n|rowspan=2|[[International Film Music Critics Association]]\\n|Film Score of the Year\\n|rowspan=2|James Newton Howard\\n|{{nom}}\\n|-\\n|Best Original Score for an Action/Adventure Film\\n|{{nom}}\\n|-\\n|rowspan=2|[[Jupiter Award (film award)|Jupiter Awards]]\\n|Best International Director\\n|Peter Jackson\\n|{{won}}\\n|-\\n|Best International Actress\\n|Naomi Watts\\n|{{nom}}\\n|-\\n|rowspan=6|[[Las Vegas Film Critics Society]]\\n|Best Cinematography\\n|Andrew Lesnie\\n|{{won}}\\n|-\\n|Best Editing\\n|Jamie Selkirk\\n|{{won}}\\n|-\\n|Best Costume Design\\n|Terry Ryan\\n|{{won}}\\n|-\\n|Best Art Direction\\n|Simon Bright and Dan Hennah\\n|{{won}}\\n|-\\n|Best Visual Effects\\n|rowspan=3|King Kong\\n|{{won}}\\n|-\\n|Best Picture\\n|{{sort|Runner-up3|{{draw|3rd place}}}}\\n|-\\n|rowspan=3|[[London Critics Circle Film Awards]]\\n|[[London Film Critics\\' Circle Award for Film of the Year|Film of the Year]]\\n|{{nom}}\\n|-\\n|[[London Film Critics\\' Circle Award for Actress of the Year|Actress of the Year]]\\n|Naomi Watts\\n|{{won}}\\n|-\\n|[[London Film Critics\\' Circle Award for Director of the Year|Director of the Year]]\\n|Peter Jackson\\n|{{won}}\\n|-\\n|[[MTV Russia Movie Awards]]\\n|Best Foreign Movie\\n|rowspan=2|King Kong\\n|{{nom}}\\n|-\\n|rowspan=2|[[MTV Movie & TV Awards]]\\n|[[MTV Movie Award for Movie of the Year|Best Movie]]\\n|{{nom}}\\n|-\\n|[[MTV Movie Award for Best Fight|Best Fight]]\\n|Kong vs the planes\\n|{{nom}}\\n|-\\n|[[National Board of Review]]\\n|Special Achievement Award\\n|\\n|{{won}}\\n|-\\n|rowspan=3|[[Online Film Critics Society Awards]]\\n|[[Online Film Critics Society Award for Best Director|Best Director]]\\n|Peter Jackson\\n|{{nom}}\\n|-\\n|[[Online Film Critics Society Award for Best Actress|Best Actress]]\\n|Naomi Watts\\n|{{nom}}\\n|-\\n|[[Online Film Critics Society Award for Best Original Score|Best Original Score]]\\n|James Newton Howard\\n|{{nom}}\\n|-\\n|rowspan=12|[[Online Film & Television Association]]\\n|Best Actress\\n|Naomi Watts\\n|{{nom}}\\n|-\\n|Best Music, Original Score\\n|James Newton Howard\\n|{{nom}}\\n|-\\n|Best Cinematography\\n|Andrew Lesnie\\n|{{nom}}\\n|-\\n|Best Production Design\\n|Grant Major, Joe Bleakley, Simon Bright, and Dan Hennah\\n|{{won}}\\n|-\\n|Best Costume Design\\n|Terry Ryan\\n|{{nom}}\\n|-\\n|Best Makeup and Hairstyling\\n|Gino Acevedo, Rick Findlater, Peter Swords King, Richard Taylor, Dominie Till\\n|{{nom}}\\n|-\\n|Best Sound Mixing\\n|Christopher Boyes, Michael Semanick, Michael Hedges, and Hammond Peek\\n|{{won}}\\n|-\\n|Best Sound Effects Editing\\n|Mike Hopkins and Ethan Van der Ryn\\n|{{won}}\\n|-\\n|Best Visual Effects\\n|Joe Letteri, Brian Van\\'t Hul, Christian Rivers, and Richard Taylor\\n|{{won}}\\n|-\\n|Best Titles Sequence\\n|King Kong\\n|{{nom}}\\n|-\\n|Best Cinematic Moment\\n|T-Rex Fight\\n|{{nom}}\\n|-\\n|Best Official Film Website\\n|King Kong\\n|{{nom}}\\n|-\\n|rowspan=2|[[Phoenix Film Critics Society]]\\n|Best Production Design\\n|Grant Major\\n|{{won}}\\n|-\\n|Best Visual Effects\\n|rowspan=4|King Kong\\n|{{won}}\\n|-\\n|[[Huabiao Award]]\\n|Outstanding Translated Foreign Film\\n|{{nom}}\\n|-\\n|[[Rondo Hatton Classic Horror Awards|Rondo Award]]\\n|Best Film\\n|{{won}}\\n|-\\n|[[San Diego Film Critics Society Awards]]\\n|[[San Diego Film Critics Society Award for Best Film|Best Picture]]\\n|{{won}}\\n|-\\n|rowspan=8|[[Saturn Award]]\\n| [[Saturn Award for Best DVD or Blu-ray Special Edition Release|Best DVD Special Edition Release]]\\n| \"Deluxe Extended Edition\" release.\\n|{{nom}}\\n|-\\n|[[Saturn Award for Best Fantasy Film|Best Fantasy Film]]\\n| King Kong\\n|{{nom}}\\n|-\\n|[[Saturn Award for Best Director|Best Director]]\\n|Peter Jackson\\n|{{won}}\\n|-\\n|[[Saturn Award for Best Writing|Best Writing]]\\n|[[Philippa Boyens]], [[Fran Walsh]], and Peter Jackson\\n|{{nom}}\\n|-\\n|[[Saturn Award for Best Actress|Best Actress]]\\n|[[Naomi Watts]]\\n|{{won}}\\n|-\\n|[[Saturn Award for Best Costume Design|Best Costume]]\\n|Terry Ryan\\n|{{nom}}\\n|-\\n|[[Saturn Award for Best Make-up|Best Make-Up]]\\n|Richard Taylor, Gino Acevedo, Dominie Till, and [[Peter King (make-up artist)|Peter King]]\\n|{{nom}}\\n|-\\n|[[Saturn Award for Best Special Effects|Best Special Effects]]\\n|Joe Letteri, Brian Van\\'t Hul, Christian Rivers, and Richard Taylor\\n|{{won}}\\n|-\\n|rowspan=4|[[Scream Awards]]\\n|Best Remake\\n|King Kong\\n|{{won}}\\n|-\\n|Scream Queen\\n|Naomi Watts\\n|{{nom}}\\n|-\\n|Best Fantasy Movie\\n|King Kong\\n|{{nom}}\\n|-\\n|Best F/X\\n|King Kong\\n|{{nom}}\\n|-\\n|[[Southeastern Film Critics Association]]\\n|Best Picture\\n|King Kong\\n|{{sort|Runner-up9|{{draw|9th place}}}}\\n|-\\n|rowspan=2|[[Stinkers Bad Movie Awards]]\\n|Most Intrusive Musical Score\\n|James Newton Howard\\n|{{nom}}\\n|-\\n|Most Overrated Film\\n|King Kong\\n|{{nom}}\\n|-\\n|rowspan=2|[[St. Louis Film Critics Association]]\\n|[[St. Louis Gateway Film Critics Association Award for Best Director|Best Director]]\\n|Peter Jackson\\n|{{nom}}\\n|-\\n|Best Cinematography or Visual/Special Effects\\n|Joe Letteri, Brian Van\\'t Hul, Christian Rivers, and Richard Taylor\\n|{{won}}\\n|-\\n|rowspan=4|[[Teen Choice Awards]]\\n|Choice Action Adventure\\n|King Kong\\n|{{nom}}\\n|-\\n|Choice Rumble\\n|King Kong vs. T-Rex\\n|{{nom}}\\n|-\\n|Choice Sleazebag\\n|[[Jack Black]]\\n|{{nom}}\\n|-\\n|Choice Hissy Fit\\n|King Kong\\n|{{nom}}\\n|-\\n|[[Toronto Film Critics Association]]\\n|Special Citation\\n|Andy Serkis\\n|{{won}}\\n|-\\n|rowspan=4|[[Visual Effects Society]]\\n|Outstanding Visual Effects in an<br />Effects Driven Motion Picture\\n|Joe Letteri, [[Eileen Moran]], Christian Rivers, and [[Eric Saindon]]\\n|{{won}}\\n|-\\n|Outstanding Performance by an Animated<br />Character in a Live Action Motion Picture\\n|[[Andy Serkis]], Christian Rivers, Atsushi Sato, and [[Guy Williams (visual effects)|Guy Williams]]\\n|{{won}}\\n|-\\n|Outstanding Created Environment in a<br />Live Action Motion Picture\\n|[[Dan Lemmon]], [[R. Christopher White]], [[Matt Aitken]], and Charles Tait\\n|{{won}}\\n|-\\n|Outstanding Compositing in a Motion Picture\\n|[[Erik Winquist]], Michaell Pangrazio, Steve Cronin, and Suzanne Jandu\\n|{{nom}}\\n|-\\n|rowspan=2|[[World Soundtrack Awards]]\\n|[[World Soundtrack Award for Soundtrack Composer of the Year|Soundtrack Composer of the Year]]\\n|rowspan=2|James Newton Howard\\n|{{nom}}\\n|-\\n|[[World Soundtrack Award for Best Original Score of the Year|Best Original Soundtrack of the Year]]\\n|{{nom}}\\n|-\\n|[[Vancouver Film Critics Circle]]\\n|[[Vancouver Film Critics Circle Award for Best Actress|Best Actress]]\\n|Naomi Watts\\n|{{nom}}\\n|-\\n|}\\n\\n==Cinematic and literary allusions==\\n* Jack Black and critics have noted Carl Denham\\'s similarity to [[Orson Welles]].<ref name=\"Black\">{{cite web | author=Spelling, Ian|date=December 2005| title=Interview: Peter Jackson proves with \\'\\'King Kong\\'\\' that the director, not the beast, is the true eighth wonder of the world | work=Sci Fi.com | url=http://www.scifi.com/sfw/issue452/interview.html|access-date=2006-06-21 |archive-url = https://web.archive.org/web/20060619091002/http://www.scifi.com/sfw/issue452/interview.html |archive-date = June 19, 2006 }}</ref>\\n* When Driscoll is searching for a place to sleep in the animal storage hold, a box behind him reads \\'\\'Sumatran Rat Monkey – Beware the bite!\\'\\' This is a reference to the creature that causes mayhem in Jackson\\'s 1992 film \\'\\'[[Braindead (film)|Braindead]]\\'\\',<ref name=\"References\">{{cite web| author=Wloszczyna, Susan| date=December 15, 2005| title=\\'\\'King Kong\\'\\' abounds with fun facts for fanboys| work=USA Today| url=https://www.usatoday.com/life/movies/news/2005-12-15-kong-fanboy-references_x.htm| access-date=2006-06-21| archive-date=May 23, 2011| archive-url=https://web.archive.org/web/20110523132809/http://www.usatoday.com/life/movies/news/2005-12-15-kong-fanboy-references_x.htm| url-status=live}}</ref> itself a reference to the [[Giant Rat of Sumatra|giant rat of Sumatra]] mentioned in [[Sherlock Holmes]]. In that film, the rat monkey is described as being found only on [[Skull Island (King Kong)|Skull Island]].\\n* Jimmy reads part of [[Joseph Conrad]]\\'s \\'\\'[[Heart of Darkness]]\\'\\' while en route to Skull Island, at one point comparing their journey to that of the [[novella]].<ref>{{cite book |last=Manlove |first=Clifford |editor-last=Higgins |editor-first=MaryEllen |title=Hollywood\\'s Africa After 1994 |publisher=Ohio University Press |date=2012 |pages=135–136 |chapter=Chapter 8: \\'An Image of Africa\\': Representations of Modern Colonialism in Peter Jackson\\'s \\'\\'King Kong\\'\\' |isbn=978-0-8214-2015-7}}</ref>\\n\\n===References to original 1933 \\'\\'King Kong\\'\\'===\\n* [[Fay Wray]], the original Ann Darrow, was asked by Jackson to appear in a brief cameo role in which she would utter the film\\'s final line: \"It was beauty killed the beast.\" At first, she flatly refused, but then seemed to consider the possibility. However, she died shortly after her meeting with Jackson.<ref name=\"Black\"/> As in the original film, the line ultimately went to the character of Carl Denham.\\n* An ad for Universal is visible while Kong is tearing up [[Times Square]]. In the 1933 film, an ad for [[Columbia Pictures]] appeared in the same spot, and the production designers replicated it, but Columbia asked for a large amount of money for its use, so effects artists replaced it.<ref name=\"References\"/>\\n* When Denham is considering who to play the part before meeting Ann, he suggests \"Fay\", but his assistant Preston replies, \"She\\'s doing a [[King Kong (1933 film)|picture]] with [[RKO Pictures|RKO]].\" Music from the 1933 film is heard, and Denham mutters, \"Cooper, huh? I might have known.\" Fay Wray starred in the 1933 film, which was directed by [[Merian C. Cooper]] and released by RKO.<ref name=\"References\"/> At the time she was performing in another Cooper/Schoedsack production, \\'\\'[[The Most Dangerous Game (film)|The Most Dangerous Game]]\\'\\' with [[Robert Armstrong (actor)|Robert Armstrong]].\\n* In the 1933 film, Denham made up an \"Arabian proverb\" about \"beauty and beast\". The 2005 remake repeats the fake proverb.<ref name=\"References\"/>\\n* Early in this film, Denham shoots a scene for his film in which Ann, in-character, proclaims she\\'s never been on a ship before, and Bruce Baxter improvises lines proclaiming annoyance. The dialogue they exchange is taken verbatim from early scenes between Ann and Jack Driscoll in the 1933 film. Ironically, in this film, Jack Driscoll expresses disapproval of such words toward Ann.<ref name=\"References\"/>\\n* Kong\\'s New York stage appearance looks very much like a re-enactment of the 1933 film\\'s sacrifice scene, including the posts the \\'beauty\\' is tied to and the nearly identical performance, costumes, and [[blackface]] makeup of the dancers. In addition, the music played by the orchestra during that scene is [[Max Steiner]]\\'s original score for the 1933 film.<ref name=\"References\"/>\\n* The battle between Kong and the final \\'\\'V. rex\\'\\' is almost move-for-move like the last half of the fight between Kong and the \\'\\'T. rex\\'\\' in the 1933 film, right down to Kong playing with the dinosaur\\'s broken jaw and then standing, beating his chest and roaring victoriously.<ref name=\"References\"/>\\n* After the crew captures Kong on the beach, Denham speaks a line from the 1933 film: \"\\'\\'The whole world will pay to see this! We\\'re millionaires, boys! I\\'ll share it with all of you. In a few months, his name will be up in lights on Broadway! KONG, THE EIGHTH WONDER OF THE WORLD!\\'\\'\"<ref name=\"References\"/>\\n\\n==Home media==\\n\\'\\'King Kong\\'\\' was released on [[DVD-Video|DVD]] on March 28, 2006, in the United States and Canada by [[Universal Pictures Home Entertainment|Universal Studios Home Entertainment]]. The three versions that came out are a single-disc [[Fullscreen (aspect ratio)|fullscreen]], a single-disc [[widescreen]], and a two-disc \\'Widescreen Special Edition\\'.\\n\\nA three-disc Deluxe Extended Edition was released on November 14, 2006, in the United States,<ref>{{Cite web |url=http://www.dvdactive.com/news/releases/king-kong3.html |title=\\'\\'King Kong\\'\\' (US – DVD R1) in News > Releases, DVDActive.com<!-- Bot generated title --> |access-date=July 19, 2006 |archive-date=October 28, 2006 |archive-url=https://web.archive.org/web/20061028085616/http://www.dvdactive.com/news/releases/king-kong3.html |url-status=live }}</ref> and on November 3 in Australia.<ref>{{Cite web|url=http://www.ezydvd.com.au/item.zml/789627|archiveurl=https://web.archive.org/web/20061108154535/http://www.ezydvd.com.au/item.zml/789627|url-status=dead|title=\\'\\'King Kong\\'\\' (2005) – Deluxe Extended Edition (3 Disc Set) @ EzyDVD<!-- Bot generated title -->|archive-date=November 8, 2006|access-date=March 12, 2022}}</ref> Twelve minutes were reinserted into the film, and an additional forty minutes included with the rest of the special features. The film was spread onto the first two discs with commentary by Peter Jackson and Philippa Boyens, and some featurettes on discs one and two, whilst the main special features are on disc three. Another set was released, including a WETA figurine of a bullet-ridden Kong scaling the Empire State Building, roaring at the Navy with Ann in hand. The extended film amounts to 200 total minutes.<ref name=\"KongisKing.net\">{{cite press release| title = Official Universal Press Release on the Extended Edition!| publisher = KongisKing.net| date = 2006-07-20| url = http://www.kongisking.net/perl/newsview/17/1153423812| access-date = 2006-10-12| archive-date = October 30, 2006| archive-url = https://web.archive.org/web/20061030133220/http://www.kongisking.net/perl/newsview/17/1153423812| url-status = live}}</ref>\\n\\nA special [[HD DVD]] version of \\'\\'King Kong\\'\\' was part of a promotional pack for the release of the external HD DVD Drive for the [[Xbox 360]]. The pack contained the HD DVD drive, the Universal Media Remote and \\'\\'King Kong\\'\\' on HD DVD.<ref>{{Cite web|url=http://www.xbox.com/en-US/hardware/x/xbox360hddvdplayer/|archiveurl=https://web.archive.org/web/20070622212717/http://www.xbox.com/en-US/hardware/x/xbox360hddvdplayer/|url-status=dead|title=Xbox.com|archive-date=June 22, 2007|access-date=March 12, 2022}}</ref> It was also available separately as a standard HD DVD.<ref>{{Cite web|url=https://hddvd.highdefdigest.com/213/kingkong2005.html|title=King Kong (2005) HD DVD Review &#124; High-Def Digest|website=Hddvd.highdefdigest.com|access-date=March 12, 2022|archive-date=April 7, 2022|archive-url=https://web.archive.org/web/20220407062840/https://hddvd.highdefdigest.com/213/kingkong2005.html|url-status=live}}</ref> The film\\'s theatrical and extended cuts were released together on [[Blu-ray]] Disc on January 20, 2009.<ref>{{cite web|url=https://www.highdefdigest.com/news/show/Universal/Disc_Announcements/King_Kong_to_Roar_on_Blu-ray_this_January/2245|title=\\'King Kong\\' to Roar on Blu-ray this January|date=2008-11-11|access-date=2020-09-10|archive-date=September 29, 2020|archive-url=https://web.archive.org/web/20200929210421/https://www.highdefdigest.com/news/show/Universal/Disc_Announcements/King_Kong_to_Roar_on_Blu-ray_this_January/2245|url-status=live}}</ref> A re-release of the Blu-Ray with a new bonus disc containing nearly all of the extras from the 2-disc Special Edition DVD, the Deluxe Extended Edition 3-disc DVD, and the \"Peter Jackson\\'s Production Diaries\" 2-disc DVD titled the \"Ultimate Edition\" was released on February 7, 2017.<ref>{{cite web |url=https://www.highdefdigest.com/news/show/Universal/Disc_Announcements/peter-jacksons-king-kong-ultimate-edition-bluray-bound/36992 |title=Peter Jackson\\'s \\'King Kong: Ultimate Edition\\' Blu-ray Bound |date=December 1, 2016 |first=Tom |last=Landy |publisher=Hi-Def Digest |access-date=September 10, 2020 |archive-date=September 19, 2020 |archive-url=https://web.archive.org/web/20200919102117/https://www.highdefdigest.com/news/show/Universal/Disc_Announcements/peter-jacksons-king-kong-ultimate-edition-bluray-bound/36992 |url-status=live }}</ref> An [[Ultra HD Blu-ray]] followed in July 2017.\\n<!-- It is not known if this is related to this movie. There is no [[WP:DEADLINE|deadline]] for it to be included. Please talk on talk page. -->\\n\\n== Cancelled sequel and reboot ==\\nIn March 2021, [[Adam Wingard]] said in an interview that back in 2013, Peter Jackson had been interested in producing a sequel to the film, titled \\'\\'Skull Island\\'\\', with Wingard as director and [[Simon Barrett (filmmaker)|Simon Barrett]] writing it.<ref name=Slahfilm>{{cite web |url=https://www.slashfilm.com/king-kong-sequel-adam-wingard/ |website=Slashfilm |title=\\'Godzilla vs. Kong\\' Director Adam Wingard Was Once Hand-Picked By Peter Jackson to Make a Sequel to 2005\\'s \\'King Kong\\' |year=2021 |first=Ben |last=Pearson |access-date=March 29, 2021 |archive-date=March 25, 2021 |archive-url=https://web.archive.org/web/20210325230605/https://www.slashfilm.com/king-kong-sequel-adam-wingard/ |url-status=live }}</ref> Jackson had been impressed with Wingard\\'s work in \\'\\'[[You\\'re Next]]\\'\\', and investigated a potential sequel.  However, the King Kong rights had already been transferred to Warner Bros. by 2013, which complicated a sequel to a Universal-produced movie.<ref name=Slahfilm/> Wingard says that Jackson was thinking of setting the proposed movie during World War I, which would make it a prequel, but that the studio was uninterested in a World War I era film.<ref name=DG>{{cite web |url= https://www.denofgeek.com/movies/godzilla-vs-kong-director-almost-made-peter-jackson-king-kong-sequel/ |title= Godzilla vs. Kong Director Almost Made a Sequel to Peter Jackson\\'s King Kong |first= Don |last= Kaye |year= 2021 |website= Den Of Geek |access-date= April 22, 2021 |archive-date= April 22, 2021 |archive-url= https://web.archive.org/web/20210422211038/https://www.denofgeek.com/movies/godzilla-vs-kong-director-almost-made-peter-jackson-king-kong-sequel/ |url-status= live }}</ref> Wingard pivoted to offering a modern-day sequel, but ultimately nothing came of the proposal.<ref name=DG/>\\n\\nUltimately, [[Warner Bros.]] rebooted the franchise with \\'\\'[[Kong: Skull Island]]\\'\\' in 2017, which is part of the [[MonsterVerse]].<ref>{{cite news |title=King Kong and Batman Lift Time Warner Above Expectations |url=http://fortune.com/2017/05/03/time-warner-king-kong-lego-batman/ |access-date=May 4, 2017 |work=Fortune |date=May 3, 2017 |archive-date=August 14, 2017 |archive-url=https://web.archive.org/web/20170814160418/http://fortune.com/2017/05/03/time-warner-king-kong-lego-batman/ |url-status=live }}</ref><ref>{{cite news |title=Seesawing Fate of Legendary Reflects the Film Industry\\'s Volatility |url=https://www.nytimes.com/2017/07/25/business/media/seesawing-fate-of-legendary-reflects-the-film-industrys-volatility.html |work=The New York Times |first=Brooks |last=Barnes |date=July 25, 2017 |access-date=February 10, 2019 |archive-date=March 7, 2019 |archive-url=https://web.archive.org/web/20190307151734/https://www.nytimes.com/2017/07/25/business/media/seesawing-fate-of-legendary-reflects-the-film-industrys-volatility.html |url-status=live }}</ref> Wingard would later direct 2021\\'s \\'\\'[[Godzilla vs. Kong]]\\'\\' and its sequel 2024\\'s \\'\\'[[Godzilla x Kong: The New Empire]]\\'\\', other films set in the MonsterVerse.\\n\\n==Theme park==\\n{{main article|Skull Island: Reign of Kong}}\\nThe [[Universal Orlando]] Resort location [[Universal Islands of Adventure|Islands of Adventure]] features an attraction called \"[[Skull Island: Reign of Kong]]\" which is based on Peter Jackson\\'s remake. While the King Kong part of the Universal Studios Hollywood resort was destroyed by a massive fire, a 3D short inspired by the film was eventually created in 2010, \\'\\'[[King Kong: 360 3-D]]\\'\\', which is another attraction based on Peter Jackson\\'s remake.<ref>{{cite web|url=https://www.universalorlando.com/email-signup/skull-island-reign-of-kong.aspx|title=Universal Orlando|website=Universalorlando.com|access-date=January 28, 2019|archive-date=December 10, 2016|archive-url=https://web.archive.org/web/20161210174746/https://www.universalorlando.com/Email-Signup/skull-island-reign-of-kong.aspx|url-status=live}}</ref>\\n\\n==See also==\\n* [[Mighty Joe Young (1998 film)]]\\n* [[List of films featuring dinosaurs]]\\n* [[List of most expensive films]]\\n\\n==References==\\n{{Reflist}}\\n\\n==External links==\\n{{commons category|King Kong (2005 film)}}\\n{{Wikiquote}}\\n{{Wikinews|2006 Oscars handed out at Kodak Theatre}}\\n* {{IMDb title|0360717|King Kong}}\\n* {{TCMDb title|546820|King Kong}}\\n* {{allMovie title|289249}}\\n* {{AFI film|54475}}\\n* {{mojo title|kingkong05|King Kong}}\\n* {{rotten-tomatoes|king_kong|King Kong}}\\n* {{Metacritic film|title=King Kong}}\\n\\n{{KingKong}}\\n{{Peter Jackson}}\\n{{Navboxes\\n|title = Awards for \\'\\'King Kong\\'\\'\\n|list =\\n{{Academy Award Best Sound Editing}}\\n{{Academy Award Best Visual Effects}}\\n{{AARP Movies for Grownups Award for Best Movie for Grownups Who Refuse to Grow Up}}\\n{{BAFTA Award for Best Special Visual Effects}}\\n{{Empire Award for Best Film}}\\n{{San Diego Film Critics Society Award for Best Film}}\\n}}\\n{{Authority control}}\\n{{Portal bar|Film|United States|New Zealand|2000s|Speculative fiction|1930s}}\\n\\n[[Category:2000s action adventure films]]\\n[[Category:2000s monster movies]]\\n[[Category:2000s American films]]\\n[[Category:2005 films]]\\n[[Category:Adventure film remakes]]\\n[[Category:American action adventure films]]\\n[[Category:American epic films]]\\n[[Category:BAFTA winners (films)]]\\n[[Category:Empire State Building in fiction]]\\n[[Category:Epic film remakes]]\\n[[Category:Films about gorillas]]\\n[[Category:Films about giants]]\\n[[Category:Films about dinosaurs]]\\n[[Category:Films about filmmaking]]\\n[[Category:Films directed by Peter Jackson]]\\n[[Category:Films produced by Carolynne Cunningham]]\\n[[Category:Films produced by Fran Walsh]]\\n[[Category:Films produced by Peter Jackson]]\\n[[Category:Films scored by James Newton Howard]]\\n[[Category:Films set in 1933]]\\n[[Category:Films set in Manhattan]]\\n[[Category:Films set in the 1930s]]\\n[[Category:Films set in the Indian Ocean]]\\n[[Category:Films set on fictional islands]]\\n[[Category:Films set on ships]]\\n[[Category:Films shot in New Zealand]]\\n[[Category:Films that won the Best Sound Editing Academy Award]]\\n[[Category:Films that won the Best Sound Mixing Academy Award]]\\n[[Category:Films that won the Best Visual Effects Academy Award]]\\n[[Category:Films using motion capture]]\\n[[Category:Films with screenplays by Fran Walsh]]\\n[[Category:Films with screenplays by Peter Jackson]]\\n[[Category:Films with screenplays by Philippa Boyens]]\\n[[Category:Giant monster films]]\\n[[Category:King Kong (franchise) films]]\\n[[Category:Kaiju films]]\\n[[Category:Lost world films]]\\n[[Category:New Zealand adventure films]]\\n[[Category:New Zealand epic films]]\\n[[Category:Remakes of American films]]\\n[[Category:Universal Pictures films]]\\n[[Category:WingNut Films films]]\\n[[Category:2000s English-language films]]\\n[[Category:English-language science fiction horror films]]\\n[[Category:English-language action adventure films]]'"
      ]
     },
     "execution_count": 92,
     "metadata": {},
     "output_type": "execute_result"
    }
   ],
   "source": [
    "page.data[\"wikitext\"]"
   ]
  },
  {
   "cell_type": "code",
   "execution_count": 87,
   "metadata": {},
   "outputs": [
    {
     "data": {
      "text/plain": [
       "'{{Film date|2005|12|05|[[New York City]]|2005|12|13|New Zealand|2005|12|14|United States}}'"
      ]
     },
     "execution_count": 87,
     "metadata": {},
     "output_type": "execute_result"
    }
   ],
   "source": [
    "page.data[\"infobox\"][\"released\"]"
   ]
  },
  {
   "cell_type": "code",
   "execution_count": 72,
   "metadata": {},
   "outputs": [
    {
     "data": {
      "text/plain": [
       "['REQUEST_DELAY',\n",
       " 'REQUEST_LIMIT',\n",
       " '_WPToolsPage__insert_image_info',\n",
       " '_WPToolsPage__pull_image_info',\n",
       " '__class__',\n",
       " '__delattr__',\n",
       " '__dict__',\n",
       " '__dir__',\n",
       " '__doc__',\n",
       " '__eq__',\n",
       " '__format__',\n",
       " '__ge__',\n",
       " '__getattribute__',\n",
       " '__gt__',\n",
       " '__hash__',\n",
       " '__init__',\n",
       " '__init_subclass__',\n",
       " '__le__',\n",
       " '__lt__',\n",
       " '__module__',\n",
       " '__ne__',\n",
       " '__new__',\n",
       " '__reduce__',\n",
       " '__reduce_ex__',\n",
       " '__repr__',\n",
       " '__setattr__',\n",
       " '__sizeof__',\n",
       " '__str__',\n",
       " '__subclasshook__',\n",
       " '__weakref__',\n",
       " '_build_showstr',\n",
       " '_continue_params',\n",
       " '_extend_data',\n",
       " '_get',\n",
       " '_get_entity_prop',\n",
       " '_handle_continuations',\n",
       " '_handle_response',\n",
       " '_load_response',\n",
       " '_marshal_claims',\n",
       " '_missing_imageinfo',\n",
       " '_normalize_images',\n",
       " '_pop_entities',\n",
       " '_post_labels_updates',\n",
       " '_query',\n",
       " '_request',\n",
       " '_set_data',\n",
       " '_set_imageinfo_data',\n",
       " '_set_labels',\n",
       " '_set_parse_data',\n",
       " '_set_parse_image',\n",
       " '_set_query_data',\n",
       " '_set_query_data_fast_1',\n",
       " '_set_query_data_fast_2',\n",
       " '_set_query_data_slow',\n",
       " '_set_query_image',\n",
       " '_set_random_data',\n",
       " '_set_restbase_data',\n",
       " '_set_title',\n",
       " '_set_wikidata',\n",
       " '_unpack_images',\n",
       " '_update_data',\n",
       " '_update_imageinfo',\n",
       " '_update_images',\n",
       " '_update_params',\n",
       " '_update_what',\n",
       " '_update_wikidata',\n",
       " 'cache',\n",
       " 'data',\n",
       " 'flags',\n",
       " 'get',\n",
       " 'get_imageinfo',\n",
       " 'get_labels',\n",
       " 'get_more',\n",
       " 'get_parse',\n",
       " 'get_query',\n",
       " 'get_querymore',\n",
       " 'get_random',\n",
       " 'get_restbase',\n",
       " 'get_wikidata',\n",
       " 'images',\n",
       " 'info',\n",
       " 'pageimage',\n",
       " 'params',\n",
       " 'query',\n",
       " 'response',\n",
       " 'show',\n",
       " 'skip_action',\n",
       " 'user_labels',\n",
       " 'wanted_labels']"
      ]
     },
     "execution_count": 72,
     "metadata": {},
     "output_type": "execute_result"
    }
   ],
   "source": [
    "dir(page)"
   ]
  },
  {
   "cell_type": "code",
   "execution_count": null,
   "metadata": {},
   "outputs": [],
   "source": [
    "wiki_wiki = wikipediaapi.Wikipedia(\n",
    "    user_agent='MyProjectName (merlin@example.com)',\n",
    "        language='en',\n",
    "        extract_format=wikipediaapi.ExtractFormat.WIKI\n",
    ")\n",
    "\n"
   ]
  },
  {
   "cell_type": "code",
   "execution_count": null,
   "metadata": {},
   "outputs": [],
   "source": []
  },
  {
   "cell_type": "code",
   "execution_count": null,
   "metadata": {},
   "outputs": [],
   "source": []
  }
 ],
 "metadata": {
  "kernelspec": {
   "display_name": "Python 3",
   "language": "python",
   "name": "python3"
  },
  "language_info": {
   "codemirror_mode": {
    "name": "ipython",
    "version": 3
   },
   "file_extension": ".py",
   "mimetype": "text/x-python",
   "name": "python",
   "nbconvert_exporter": "python",
   "pygments_lexer": "ipython3",
   "version": "3.9.7"
  }
 },
 "nbformat": 4,
 "nbformat_minor": 2
}
