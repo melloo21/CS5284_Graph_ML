{
 "cells": [
  {
   "cell_type": "code",
   "execution_count": 1,
   "metadata": {},
   "outputs": [],
   "source": [
    "import pandas as pd"
   ]
  },
  {
   "cell_type": "code",
   "execution_count": 35,
   "metadata": {},
   "outputs": [
    {
     "name": "stdout",
     "output_type": "stream",
     "text": [
      "The autoreload extension is already loaded. To reload it, use:\n",
      "  %reload_ext autoreload\n"
     ]
    }
   ],
   "source": [
    "# Autoreload\n",
    "%load_ext autoreload\n",
    "%autoreload 2"
   ]
  },
  {
   "cell_type": "code",
   "execution_count": 3,
   "metadata": {},
   "outputs": [
    {
     "name": "stdout",
     "output_type": "stream",
     "text": [
      "<class 'pandas.core.frame.DataFrame'>\n",
      "RangeIndex: 6040 entries, 0 to 6039\n",
      "Data columns (total 5 columns):\n",
      " #   Column      Non-Null Count  Dtype \n",
      "---  ------      --------------  ----- \n",
      " 0   UserID      6040 non-null   int64 \n",
      " 1   Gender      6040 non-null   object\n",
      " 2   Age         6040 non-null   int64 \n",
      " 3   Occupation  6040 non-null   int64 \n",
      " 4   Zip-code    6040 non-null   object\n",
      "dtypes: int64(3), object(2)\n",
      "memory usage: 236.1+ KB\n",
      "None\n"
     ]
    }
   ],
   "source": [
    "# Specify the delimiter (e.g., ',' for CSV, '\\t' for tab, or '::' for MovieLens)\n",
    "file_path = 'dataset/users.dat'\n",
    "users_df = pd.read_csv(file_path, delimiter='::', engine='python', header=None)\n",
    "users_df.columns = [\"UserID\", \"Gender\", \"Age\", \"Occupation\",\"Zip-code\"]\n",
    "print(users_df.info())"
   ]
  },
  {
   "cell_type": "code",
   "execution_count": 4,
   "metadata": {},
   "outputs": [
    {
     "name": "stdout",
     "output_type": "stream",
     "text": [
      "<class 'pandas.core.frame.DataFrame'>\n",
      "RangeIndex: 1000209 entries, 0 to 1000208\n",
      "Data columns (total 4 columns):\n",
      " #   Column     Non-Null Count    Dtype\n",
      "---  ------     --------------    -----\n",
      " 0   UserID     1000209 non-null  int64\n",
      " 1   MovieID    1000209 non-null  int64\n",
      " 2   Rating     1000209 non-null  int64\n",
      " 3   Timestamp  1000209 non-null  int64\n",
      "dtypes: int64(4)\n",
      "memory usage: 30.5 MB\n",
      "None\n"
     ]
    }
   ],
   "source": [
    "file_path = 'dataset/ratings.dat'\n",
    "ratings_df = pd.read_csv(file_path, delimiter='::', engine='python', header=None)\n",
    "ratings_df.columns = [\"UserID\",\"MovieID\",\"Rating\",\"Timestamp\"]\n",
    "print(ratings_df.info())"
   ]
  },
  {
   "cell_type": "code",
   "execution_count": 5,
   "metadata": {},
   "outputs": [
    {
     "name": "stdout",
     "output_type": "stream",
     "text": [
      "   MovieID                               Title                        Genres\n",
      "0        1                    Toy Story (1995)   Animation|Children's|Comedy\n",
      "1        2                      Jumanji (1995)  Adventure|Children's|Fantasy\n",
      "2        3             Grumpier Old Men (1995)                Comedy|Romance\n",
      "3        4            Waiting to Exhale (1995)                  Comedy|Drama\n",
      "4        5  Father of the Bride Part II (1995)                        Comedy\n"
     ]
    }
   ],
   "source": [
    "#  File being encoded in a different format, such as 'latin-1' or 'ISO-8859-1'.\n",
    "file_path = 'dataset/movies.dat'\n",
    "movies_df = pd.read_csv(file_path, delimiter='::', engine='python', header=None, encoding='latin-1')\n",
    "movies_df.columns = [\"MovieID\", \"Title\", \"Genres\"]\n",
    "print(movies_df.head())"
   ]
  },
  {
   "cell_type": "code",
   "execution_count": 6,
   "metadata": {},
   "outputs": [
    {
     "data": {
      "text/plain": [
       "['Mummy, The (1999)',\n",
       " 'Mummy, The (1932)',\n",
       " 'Mummy, The (1959)',\n",
       " \"Mummy's Curse, The (1944)\",\n",
       " \"Mummy's Ghost, The (1944)\",\n",
       " \"Mummy's Hand, The (1940)\",\n",
       " \"Mummy's Tomb, The (1942)\"]"
      ]
     },
     "metadata": {},
     "output_type": "display_data"
    }
   ],
   "source": [
    "display([elem for elem in movies_df.Title if \"Mummy\" in elem])"
   ]
  },
  {
   "cell_type": "markdown",
   "metadata": {},
   "source": [
    "## Scraping data"
   ]
  },
  {
   "cell_type": "markdown",
   "metadata": {},
   "source": [
    "Cases:\n",
    "1. Movies with multiple series\n",
    "2. Movies with multiple remakes"
   ]
  },
  {
   "cell_type": "code",
   "execution_count": 37,
   "metadata": {},
   "outputs": [],
   "source": [
    "from utils.scrape_utils import *\n",
    "from utils.wiki_scrapper import GenericScrapper"
   ]
  },
  {
   "cell_type": "code",
   "execution_count": 38,
   "metadata": {},
   "outputs": [
    {
     "data": {
      "text/plain": [
       "3840"
      ]
     },
     "execution_count": 38,
     "metadata": {},
     "output_type": "execute_result"
    }
   ],
   "source": [
    "# Getting Items to scrape\n",
    "web_scrape_list = movies_df.copy()\n",
    "scrape_list = get_scrape_list(web_scrape_list)\n",
    "len(scrape_list['title'].unique())"
   ]
  },
  {
   "cell_type": "code",
   "execution_count": 39,
   "metadata": {},
   "outputs": [],
   "source": [
    "## Initialise\n",
    "scrapper = GenericScrapper()"
   ]
  },
  {
   "cell_type": "markdown",
   "metadata": {},
   "source": [
    "#### Using Wikipedia API"
   ]
  },
  {
   "cell_type": "code",
   "execution_count": 40,
   "metadata": {},
   "outputs": [],
   "source": [
    "# Example to get scraper\n",
    "sections = scrapper.get_section_dict('King Kong (2005)')"
   ]
  },
  {
   "cell_type": "code",
   "execution_count": 41,
   "metadata": {},
   "outputs": [
    {
     "data": {
      "text/plain": [
       "'In 1933, during the Great Depression, struggling New York City vaudeville performer Ann Darrow is hired by financially troubled filmmaker Carl Denham to star in a film with actor Bruce Baxter. Ann is hesitant to join the picture until she learns her favorite playwright, Jack Driscoll, is the screenwriter. Filming takes place on the SS Venture, under Captain Englehorn, and under Carl\\'s pretense it will be sailing to Singapore. In truth, Carl intends to film the mysterious Skull Island. Captain Englehorn reconsiders the voyage, prompted by his crew\\'s speculation of trouble ahead. During the voyage, Ann and Jack fall in love.\\nThe Venture receives a radio message informing Englehorn there is a warrant for Carl\\'s arrest due to his defiance of the studio\\'s orders to cease production, and instructing Englehorn to divert to Rangoon, but the ship becomes lost in fog and runs aground on Skull Island. Carl and others, including his film crew consisting of cameraman Herb, assistant Preston and boom operator Mike, explore the island and are attacked by natives who kill Mike and a crewman. Englehorn rescues Carl’s group, but as they all prepare to leave, the natives secretly abduct Ann to offer her as a sacrifice to Kong, a 25-foot-tall (7.6 m) ape. Jack notices Ann\\'s disappearance, and the crew returns to the island, but Kong flees with Ann into the jungle. Carl catches a glimpse of Kong and becomes determined to film him.\\nAnn wins Kong over with her juggling and dancing skills, and begins to grasp his intelligence and capacity for emotion. Englehorn organizes a rescue party, led by his first mate Hayes and Jack, and accompanied by Carl, Herb, Baxter and Preston. The party gets caught between a herd of Brontosaurus baxteri and a pack of Utahraptor-like Venatosaurus saevidicus hunting them, with Herb and several other men killed in the resulting stampede. Baxter and others return to the ship.\\nThe remaining party members continue through the jungle when Kong attacks, making them fall into a ravine where Carl loses his camera. Kong rescues Ann from three Tyrannosaurus-like Vastatosaurus rex, bringing her to his den in the mountains. The remaining rescue party are attacked by giant insects in the ravine, resulting in the death of Hayes and most of the rescue party, but Preston, Carl, Jack, and Hayes\\' apprentice Jimmy are rescued by Baxter and Englehorn. Jack searches for Ann alone, while Carl decides to capture Kong. Jack finds Kong\\'s lair and accidentally awakens him, but escapes with Ann. They arrive at the wall with Kong pursuing them. As Ann begs the crew not to harm him, Kong kills several sailors, but is subdued when Carl knocks him out with chloroform.\\nIn New York City that winter, Carl presents \"Kong, the Eighth Wonder of the World\" on Broadway, starring Baxter and an imprisoned Kong. Ann, who refused to take part in the performance, is played by an anonymous chorus girl. Agitated by the chorus girl not being Ann and flashes from cameras, Kong breaks free from the chains, wrecks the theater, and bursts out into the streets of New York in search of Ann, chasing Jack before encountering her again. The U.S. Army attacks, and Kong tries getting Ann and himself to safety by climbing to the top of the Empire State Building.\\nSix United States Navy biplanes arrive; Kong downs three of them, but is mortally wounded from the planes\\' gunfire and falls from the building after he dies. As Jack reaches the top of the building to comfort and embrace Ann, civilians, policemen, and soldiers gather around the beast\\'s corpse in the street, one bystander commenting the airplanes got him. Carl makes his way through the crowd, takes one last look at Kong and, before walking away, says sadly, \"It wasn\\'t the airplanes. It was Beauty killed the Beast\".'"
      ]
     },
     "execution_count": 41,
     "metadata": {},
     "output_type": "execute_result"
    }
   ],
   "source": [
    "sections[\"Plot\"]"
   ]
  },
  {
   "cell_type": "code",
   "execution_count": 78,
   "metadata": {},
   "outputs": [
    {
     "name": "stdout",
     "output_type": "stream",
     "text": [
      "ERROR: 'NoneType' object is not subscriptable for Star Maker, The (Uomo delle stelle, L') (1995)\n",
      "No sections found: To Live\n",
      "No sections found: Theodore Rex\n",
      "ERROR: 'NoneType' object is not subscriptable for Under the Domin Tree (Etz Hadomim Tafus) (1994)\n",
      "ERROR: 'NoneType' object is not subscriptable for Vie est belle, La (Life is Rosey) (1987)\n",
      "ERROR: 'NoneType' object is not subscriptable for Day the Sun Turned Cold, The (Tianguo niezi) (1994)\n",
      "No sections found: Girls Town\n",
      "ERROR: 'NoneType' object is not subscriptable for Tashunga (1995)\n",
      "No sections found: Love in Bloom\n",
      "No sections found: The English Patient (disambiguation)\n",
      "No sections found: Down by Law\n",
      "ERROR: 'NoneType' object is not subscriptable for Jungle2Jungle (a.k.a. Jungle 2 Jungle) (1997)\n",
      "No sections found: Full Speed\n",
      "No sections found: Midaq Alley\n",
      "ERROR: 'NoneType' object is not subscriptable for King Kong vs. Godzilla (Kingukongu tai Gojira) (1962)\n",
      "No sections found: Prancer\n",
      "No sections found: Planète Sauvage\n",
      "No sections found: Love, etc.\n",
      "No sections found: A Little Bit of Soul\n",
      "No sections found: Black Mask\n",
      "No sections found: The Very Thought of You (disambiguation)\n",
      "No sections found: The Pajama Game (disambiguation)\n",
      "ERROR: 'NoneType' object is not subscriptable for Operation Condor (Feiying gaiwak) (1990)\n",
      "ERROR: 'NoneType' object is not subscriptable for Operation Condor 2 (Longxiong hudi) (1990)\n",
      "No sections found: Red Sorghum\n",
      "No sections found: List of Fox Searchlight Pictures films (1995–1999)\n",
      "No sections found: Más que amor, frenesí\n",
      "ERROR: 'NoneType' object is not subscriptable for Kestrel's Eye (Falkens öga) (1998)\n",
      "No sections found: The Perils of Pauline\n",
      "ERROR: 'NoneType' object is not subscriptable for Two Moon Juction (1988)\n",
      "ERROR: 'NoneType' object is not subscriptable for Shower (Xizhao) (1999)\n",
      "ERROR: 'NoneType' object is not subscriptable for And God Created Woman (Et Dieu&#8230;Créa la Femme) (1956)\n",
      "ERROR: 'NoneType' object is not subscriptable for Goya in Bordeaux (Goya en Bodeos) (1999)\n",
      "No sections found: Pajama Party\n"
     ]
    }
   ],
   "source": [
    "## Generic way to scrape and add context\n",
    "search_df = web_scrape_list.merge(scrape_list, on=\"title\")\n",
    "cast = \"Cast\"\n",
    "error_list = []\n",
    "for index, row in search_df.iterrows():\n",
    "    # title, _ = get_most_similar_title(row.Title)\n",
    "    try:\n",
    "        title = search_wikipedia(row.Title)\n",
    "    except Exception as e:\n",
    "        print(f\"ERROR: {e} for {row.Title}\")\n",
    "    try:\n",
    "    # Scrape \n",
    "        if row.unique_counts >1:\n",
    "            # Search with the date\n",
    "            sections = scrapper.get_section_dict(title)\n",
    "        else:\n",
    "            # Search without date\n",
    "            sections = scrapper.get_section_dict(title)\n",
    "        if len(sections.keys()) == 0:\n",
    "            print(f\"No sections found: {title}\")\n",
    "        # Check if plot exsits\n",
    "        plot_check = [elem for elem in sections.keys() if \"plot\" in elem.lower()]\n",
    "        if plot_check:\n",
    "            # Add DATA\n",
    "            search_df.at[index, 'Plot'] = sections[plot_check[0]]\n",
    "        else:\n",
    "            # Research\n",
    "            sections = scrapper.get_section_dict(row.Title.replace(\")\", \" film)\"))\n",
    "\n",
    "        ####################### To add in Cast #######################\n",
    "        # # Animation vs Non-animation\n",
    "        # voice_cast = [elem for elem in sections.keys() if \"voice cast\" in elem.lower()]\n",
    "        # if voice_cast:\n",
    "        #     cast = voice_cast[0]\n",
    "        # else:\n",
    "        #     cast = \"Cast\"   \n",
    "\n",
    "        # search_df.at[index, 'Cast'] = sections[cast]\n",
    "\n",
    "    except Exception as e:\n",
    "        error_list.append(row.Title)\n",
    "        print(f\"ERROR: {e} for {title}\")\n"
   ]
  },
  {
   "cell_type": "code",
   "execution_count": 80,
   "metadata": {},
   "outputs": [],
   "source": [
    "search_df.to_csv('scrapped_data.csv')"
   ]
  },
  {
   "cell_type": "code",
   "execution_count": 74,
   "metadata": {},
   "outputs": [
    {
     "data": {
      "text/plain": [
       "['French Twist', 'French Twist (film)', 'Twist', \"Let's Twist Again\"]"
      ]
     },
     "execution_count": 74,
     "metadata": {},
     "output_type": "execute_result"
    }
   ],
   "source": [
    "search_wikipedia('French Twist')"
   ]
  },
  {
   "cell_type": "code",
   "execution_count": 19,
   "metadata": {},
   "outputs": [
    {
     "data": {
      "text/plain": [
       "dict_keys(['Plot', 'Voice cast', 'Production', 'Release', 'Reception', 'Influence and legacy', 'Sequels and spin-off', 'See also', 'Notes', 'References', 'Bibliography', 'External links'])"
      ]
     },
     "metadata": {},
     "output_type": "display_data"
    }
   ],
   "source": [
    "display(sections.keys())"
   ]
  },
  {
   "cell_type": "code",
   "execution_count": 71,
   "metadata": {},
   "outputs": [],
   "source": [
    "for index, row in search_df.iterrows():\n",
    "    if row['Title'] != row['Title']:\n",
    "        print(row)"
   ]
  },
  {
   "cell_type": "markdown",
   "metadata": {},
   "source": [
    "#### WikiMediaAPI (wptools)"
   ]
  },
  {
   "cell_type": "code",
   "execution_count": 259,
   "metadata": {},
   "outputs": [
    {
     "name": "stdout",
     "output_type": "stream",
     "text": [
      " King Kong (2005) 2005 :: {{Film date|2005|12|05|[[New York City]]|2005|12|13|New Zealand|2005|12|14|United States}} Found \n"
     ]
    },
    {
     "data": {
      "text/plain": [
       "'King Kong is a 2005 epic adventure monster film co-written, produced, and directed by Peter Jackson. It is the ninth entry in the King Kong franchise and the second remake of the 1933 film of the same title, the first being the 1976 remake. The film stars Naomi Watts, Jack Black, and Adrien Brody. Set in 1933, it follows the story of an ambitious filmmaker who coerces his cast and hired ship crew to travel to mysterious Skull Island. There they encounter prehistoric creatures and a legendary giant gorilla known as Kong, whom they capture and take to New York City.Development began in early 1995, when Universal Pictures approached Jackson to direct the remake of the original 1933 film. The project stalled in early 1997, as several ape and giant monster-related films were under production at the time and Jackson planned to direct The Lord of the Rings film series. As the first two films in the Rings trilogy became commercially successful, Universal went back to Jackson in early 2003, expressing interest in restarting development on the project, to which Jackson eventually agreed. Filming for King Kong took place in New Zealand from September 2004 to March 2005. It is currently one of the most expensive films ever produced as its budget climbed from an initial $150 million to a then record-breaking $207 million.King Kong premiered at New York City on December 5, 2005, and was theatrically released in Germany and United States on December 14. The film garnered positive reviews, and eventually appeared in several top ten lists for 2005; it was praised for the special effects, performances, sense of spectacle and comparison to the 1933 original, though some criticisms were raised over its 3-hour run time. It was a commercial success, grossing over $556.9 million, and became the fourth-highest-grossing film in Universal Pictures history at that time and the fifth-highest-grossing film of 2005. It also generated $100 million in DVD sales upon its home video release in March 2006. It won three Academy Awards for Best Sound Editing, Best Sound Mixing and Best Visual Effects. A tie-in video game was released alongside the film, which also became a commercial and critical success.'"
      ]
     },
     "execution_count": 259,
     "metadata": {},
     "output_type": "execute_result"
    }
   ],
   "source": [
    "scrapper.get_page_summary_w_release_date('King Kong (2005)',\"2005\")"
   ]
  },
  {
   "cell_type": "code",
   "execution_count": null,
   "metadata": {},
   "outputs": [],
   "source": []
  },
  {
   "cell_type": "code",
   "execution_count": null,
   "metadata": {},
   "outputs": [],
   "source": []
  },
  {
   "cell_type": "code",
   "execution_count": null,
   "metadata": {},
   "outputs": [],
   "source": []
  }
 ],
 "metadata": {
  "kernelspec": {
   "display_name": "Python 3 (ipykernel)",
   "language": "python",
   "name": "python3"
  },
  "language_info": {
   "codemirror_mode": {
    "name": "ipython",
    "version": 3
   },
   "file_extension": ".py",
   "mimetype": "text/x-python",
   "name": "python",
   "nbconvert_exporter": "python",
   "pygments_lexer": "ipython3",
   "version": "3.10.15"
  }
 },
 "nbformat": 4,
 "nbformat_minor": 4
}
