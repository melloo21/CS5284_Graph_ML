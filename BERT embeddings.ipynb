{
 "cells": [
  {
   "cell_type": "code",
   "execution_count": 38,
   "id": "432c9a8d-3a83-408e-b635-1c91ddcfa64a",
   "metadata": {},
   "outputs": [
    {
     "name": "stdout",
     "output_type": "stream",
     "text": [
      "The autoreload extension is already loaded. To reload it, use:\n",
      "  %reload_ext autoreload\n"
     ]
    }
   ],
   "source": [
    "import pandas as pd\n",
    "# Autoreload\n",
    "%load_ext autoreload\n",
    "%autoreload 2"
   ]
  },
  {
   "cell_type": "code",
   "execution_count": 39,
   "id": "e550837c-04ba-490a-a71c-6615c88b8184",
   "metadata": {},
   "outputs": [],
   "source": [
    "df = pd.read_csv('./dataset/scrapped_data.csv')"
   ]
  },
  {
   "cell_type": "markdown",
   "id": "1625b3ad-93dd-4987-a56c-36342f2ca145",
   "metadata": {},
   "source": [
    "## BERT"
   ]
  },
  {
   "cell_type": "code",
   "execution_count": null,
   "id": "38e1ee38-3d46-4b1c-a0e6-9dcee955678d",
   "metadata": {},
   "outputs": [],
   "source": []
  },
  {
   "cell_type": "code",
   "execution_count": 7,
   "id": "97a1fdf4-860c-44c5-a5f6-63a50f8e32d2",
   "metadata": {},
   "outputs": [
    {
     "name": "stderr",
     "output_type": "stream",
     "text": [
      "/home/kanhon/anaconda3/envs/cs5284_project/lib/python3.10/site-packages/tqdm/auto.py:21: TqdmWarning: IProgress not found. Please update jupyter and ipywidgets. See https://ipywidgets.readthedocs.io/en/stable/user_install.html\n",
      "  from .autonotebook import tqdm as notebook_tqdm\n"
     ]
    },
    {
     "name": "stdout",
     "output_type": "stream",
     "text": [
      "Embeddings shape: torch.Size([2, 768])\n"
     ]
    }
   ],
   "source": [
    "from transformers import BertTokenizer, BertModel\n",
    "import torch\n",
    "\n",
    "# Check for GPU\n",
    "device = torch.device('cuda' if torch.cuda.is_available() else 'cpu')\n",
    "\n",
    "# Initialize tokenizer and model\n",
    "tokenizer = BertTokenizer.from_pretrained('bert-base-uncased')\n",
    "model = BertModel.from_pretrained('bert-base-uncased').to(device)\n",
    "\n",
    "# Sample texts\n",
    "texts = [\n",
    "    \"Extracting embeddings from BERT is straightforward.\",\n",
    "    \"BERT stands for Bidirectional Encoder Representations from Transformers.\"\n",
    "]\n",
    "\n",
    "# Tokenize inputs\n",
    "inputs = tokenizer(texts, padding=True, truncation=True, return_tensors='pt').to(device)\n",
    "\n",
    "# Get embeddings\n",
    "with torch.no_grad():\n",
    "    outputs = model(**inputs)\n",
    "\n",
    "# Mean pooling\n",
    "mean_embeddings = torch.mean(outputs.last_hidden_state, dim=1)\n",
    "\n",
    "print(\"Embeddings shape:\", mean_embeddings.shape)"
   ]
  },
  {
   "cell_type": "code",
   "execution_count": 8,
   "id": "6a39110e-a748-465b-bd71-941237b3edc8",
   "metadata": {},
   "outputs": [],
   "source": [
    "def get_bert_embedding(text):\n",
    "    # Tokenize input text\n",
    "    inputs = tokenizer(text, return_tensors='pt', truncation=True, max_length=512)\n",
    "    inputs = {key: value.to(device) for key, value in inputs.items()}\n",
    "    \n",
    "    # Get the embeddings\n",
    "    with torch.no_grad():\n",
    "        outputs = model(**inputs)\n",
    "    \n",
    "    # Mean pooling\n",
    "    attention_mask = inputs['attention_mask']\n",
    "    token_embeddings = outputs.last_hidden_state  # (batch_size, seq_length, hidden_size)\n",
    "    input_mask_expanded = attention_mask.unsqueeze(-1).expand(token_embeddings.size()).float()\n",
    "    \n",
    "    sum_embeddings = torch.sum(token_embeddings * input_mask_expanded, dim=1)\n",
    "    sum_mask = torch.clamp(input_mask_expanded.sum(dim=1), min=1e-9)\n",
    "    mean_embedding = sum_embeddings / sum_mask\n",
    "    \n",
    "    return mean_embedding.squeeze().cpu().numpy()  # Convert to numpy array\n"
   ]
  },
  {
   "cell_type": "code",
   "execution_count": 10,
   "id": "8c8f9f99-964e-49aa-a5ca-35dcef388369",
   "metadata": {},
   "outputs": [
    {
     "data": {
      "text/plain": [
       "{'input_ids': tensor([[  101, 14817,  2075,  7861,  8270,  4667,  2015,  2013, 14324,  2003,\n",
       "         19647,  1012,   102,     0,     0,     0],\n",
       "        [  101, 14324,  4832,  2005,  7226,  7442,  7542,  2389,  4372, 16044,\n",
       "          2099, 15066,  2013, 19081,  1012,   102]], device='cuda:0'), 'token_type_ids': tensor([[0, 0, 0, 0, 0, 0, 0, 0, 0, 0, 0, 0, 0, 0, 0, 0],\n",
       "        [0, 0, 0, 0, 0, 0, 0, 0, 0, 0, 0, 0, 0, 0, 0, 0]], device='cuda:0'), 'attention_mask': tensor([[1, 1, 1, 1, 1, 1, 1, 1, 1, 1, 1, 1, 1, 0, 0, 0],\n",
       "        [1, 1, 1, 1, 1, 1, 1, 1, 1, 1, 1, 1, 1, 1, 1, 1]], device='cuda:0')}"
      ]
     },
     "execution_count": 10,
     "metadata": {},
     "output_type": "execute_result"
    }
   ],
   "source": [
    "# get_bert_embedding('Second-term Democratic U.S. President Jackson .')\n",
    "inputs"
   ]
  },
  {
   "cell_type": "code",
   "execution_count": 13,
   "id": "0f25ed7c-e03e-419c-a73f-ede9f43fb591",
   "metadata": {},
   "outputs": [],
   "source": [
    "text = 'Second-term Democratic U.S. President Jackson .'\n",
    "inputs = tokenizer(text, return_tensors='pt', truncation=True, max_length=512)\n",
    "inputs = {key: value.to(device) for key, value in inputs.items()}\n",
    "\n",
    "# Get the embeddings\n",
    "with torch.no_grad():\n",
    "    outputs = model(**inputs)\n",
    "\n",
    "# Mean pooling\n",
    "attention_mask = inputs['attention_mask']\n",
    "token_embeddings = outputs.last_hidden_state  # (batch_size, seq_length, hidden_size)\n",
    "input_mask_expanded = attention_mask.unsqueeze(-1).expand(token_embeddings.size()).float()\n",
    "\n",
    "sum_embeddings = torch.sum(token_embeddings * input_mask_expanded, dim=1)\n",
    "sum_mask = torch.clamp(input_mask_expanded.sum(dim=1), min=1e-9)\n",
    "mean_embedding = sum_embeddings / sum_mask\n"
   ]
  },
  {
   "cell_type": "code",
   "execution_count": 17,
   "id": "1b1e0125-2826-46ce-b49a-186f531648c7",
   "metadata": {},
   "outputs": [
    {
     "data": {
      "text/plain": [
       "torch.Size([1, 13, 768])"
      ]
     },
     "execution_count": 17,
     "metadata": {},
     "output_type": "execute_result"
    }
   ],
   "source": [
    "token_embeddings.shape"
   ]
  },
  {
   "cell_type": "code",
   "execution_count": 18,
   "id": "2e045a7d-8cdb-443d-9e82-5f133e8deda1",
   "metadata": {},
   "outputs": [
    {
     "data": {
      "text/plain": [
       "torch.Size([1, 13, 768])"
      ]
     },
     "execution_count": 18,
     "metadata": {},
     "output_type": "execute_result"
    }
   ],
   "source": [
    "input_mask_expanded.shape"
   ]
  },
  {
   "cell_type": "code",
   "execution_count": 19,
   "id": "92aa0963-8346-4134-b380-c2defe2d081d",
   "metadata": {},
   "outputs": [
    {
     "data": {
      "text/plain": [
       "torch.Size([1, 768])"
      ]
     },
     "execution_count": 19,
     "metadata": {},
     "output_type": "execute_result"
    }
   ],
   "source": [
    "sum_embeddings.shape"
   ]
  },
  {
   "cell_type": "code",
   "execution_count": 25,
   "id": "576755e7-7c39-47b4-b759-81eef42f259a",
   "metadata": {},
   "outputs": [
    {
     "ename": "TypeError",
     "evalue": "max() received an invalid combination of arguments - got (BaseModelOutputWithPoolingAndCrossAttentions, dim=int), but expected one of:\n * (Tensor input)\n * (Tensor input, Tensor other, *, Tensor out)\n * (Tensor input, int dim, bool keepdim, *, tuple of Tensors out)\n * (Tensor input, name dim, bool keepdim, *, tuple of Tensors out)\n",
     "output_type": "error",
     "traceback": [
      "\u001b[0;31m---------------------------------------------------------------------------\u001b[0m",
      "\u001b[0;31mTypeError\u001b[0m                                 Traceback (most recent call last)",
      "Cell \u001b[0;32mIn[25], line 3\u001b[0m\n\u001b[1;32m      1\u001b[0m outputs \u001b[38;5;241m=\u001b[39m model(inputs[\u001b[38;5;124m'\u001b[39m\u001b[38;5;124minput_ids\u001b[39m\u001b[38;5;124m'\u001b[39m], attention_mask\u001b[38;5;241m=\u001b[39mattention_mask)\n\u001b[0;32m----> 3\u001b[0m _, preds \u001b[38;5;241m=\u001b[39m \u001b[43mtorch\u001b[49m\u001b[38;5;241;43m.\u001b[39;49m\u001b[43mmax\u001b[49m\u001b[43m(\u001b[49m\u001b[43moutputs\u001b[49m\u001b[43m,\u001b[49m\u001b[43m \u001b[49m\u001b[43mdim\u001b[49m\u001b[38;5;241;43m=\u001b[39;49m\u001b[38;5;241;43m1\u001b[39;49m\u001b[43m)\u001b[49m\n",
      "\u001b[0;31mTypeError\u001b[0m: max() received an invalid combination of arguments - got (BaseModelOutputWithPoolingAndCrossAttentions, dim=int), but expected one of:\n * (Tensor input)\n * (Tensor input, Tensor other, *, Tensor out)\n * (Tensor input, int dim, bool keepdim, *, tuple of Tensors out)\n * (Tensor input, name dim, bool keepdim, *, tuple of Tensors out)\n"
     ]
    }
   ],
   "source": [
    "outputs = model(inputs['input_ids'], attention_mask=attention_mask)\n",
    "\n",
    "_, preds = torch.max(outputs, dim=1)"
   ]
  },
  {
   "cell_type": "code",
   "execution_count": 26,
   "id": "c005e7a8-e9c3-41ee-89e0-c151895c10d0",
   "metadata": {
    "scrolled": true
   },
   "outputs": [
    {
     "data": {
      "text/plain": [
       "BaseModelOutputWithPoolingAndCrossAttentions(last_hidden_state=tensor([[[-1.1222, -0.2645, -0.7754,  ..., -0.5312,  0.5358,  0.4180],\n",
       "         [-0.5025, -0.7909, -0.1650,  ...,  0.2238,  0.2938, -0.2488],\n",
       "         [-0.2151, -0.1618, -0.4851,  ...,  0.3470, -0.5996,  0.2346],\n",
       "         ...,\n",
       "         [-1.1010, -0.3421, -0.6992,  ..., -1.1100, -0.2749,  1.3164],\n",
       "         [-0.7988, -0.8583, -0.6478,  ...,  0.5003,  0.4374, -0.2942],\n",
       "         [-0.3523, -0.0112, -1.0602,  ..., -0.3959, -0.6608,  0.5250]]],\n",
       "       device='cuda:0', grad_fn=<NativeLayerNormBackward0>), pooler_output=tensor([[-0.8689, -0.4991, -0.8062,  0.7210,  0.6703, -0.2815,  0.7502,  0.3937,\n",
       "         -0.6515, -1.0000, -0.5447,  0.9519,  0.9832,  0.0764,  0.8581, -0.7974,\n",
       "         -0.4934, -0.6065,  0.2962, -0.3783,  0.5293,  1.0000, -0.0171,  0.3378,\n",
       "          0.4708,  0.9694, -0.7096,  0.8560,  0.9668,  0.8010, -0.4805,  0.4260,\n",
       "         -0.9918, -0.1937, -0.7728, -0.9896,  0.5600, -0.7084, -0.0061, -0.1659,\n",
       "         -0.7708,  0.3637,  1.0000,  0.0128,  0.4351, -0.2924, -1.0000,  0.2596,\n",
       "         -0.8858,  0.8470,  0.7798,  0.8866,  0.3041,  0.5674,  0.6430, -0.3888,\n",
       "          0.0709,  0.1231, -0.3174, -0.5968, -0.6400,  0.5665, -0.7818, -0.9110,\n",
       "          0.8749,  0.1708, -0.3583, -0.4415, -0.0389, -0.1057,  0.7842,  0.1561,\n",
       "         -0.1526, -0.6799,  0.3982,  0.4005, -0.6720,  1.0000, -0.5728, -0.9828,\n",
       "          0.6628,  0.3941,  0.6091,  0.0310, -0.1336, -1.0000,  0.6060, -0.3237,\n",
       "         -0.9885,  0.4400,  0.7396, -0.3219,  0.0484,  0.5888, -0.1041, -0.3352,\n",
       "         -0.2953, -0.8401, -0.3577, -0.5400,  0.2268, -0.2713, -0.3662, -0.3962,\n",
       "          0.4521, -0.6354, -0.4488,  0.4776, -0.1266,  0.6010,  0.4784, -0.4085,\n",
       "          0.5271, -0.9634,  0.7264, -0.4064, -0.9890, -0.6556, -0.9914,  0.7642,\n",
       "         -0.4427, -0.3857,  0.9076, -0.1192,  0.4027, -0.1439, -0.8438, -1.0000,\n",
       "         -0.6942, -0.5743,  0.0298, -0.3903, -0.9788, -0.9718,  0.6419,  0.9453,\n",
       "          0.2058,  0.9998, -0.4290,  0.9083, -0.2566, -0.6741,  0.5509, -0.4893,\n",
       "          0.6362,  0.0033, -0.4189,  0.3262, -0.5843,  0.3307, -0.7161, -0.4059,\n",
       "         -0.3627, -0.8739, -0.3209,  0.9331, -0.2747, -0.8228,  0.2677, -0.4439,\n",
       "         -0.4209,  0.7917,  0.6788,  0.4305, -0.2046,  0.4707, -0.3364,  0.4895,\n",
       "         -0.8735,  0.0026,  0.5580, -0.4210, -0.6298, -0.9809, -0.4318,  0.5117,\n",
       "          0.9841,  0.8180,  0.3636,  0.6005, -0.3869,  0.7097, -0.9642,  0.9786,\n",
       "         -0.2078,  0.2148, -0.3239,  0.2401, -0.8224, -0.2078,  0.8307, -0.3896,\n",
       "         -0.8374, -0.3210, -0.5806, -0.4087, -0.7848,  0.5983, -0.2727, -0.3469,\n",
       "         -0.1309,  0.8773,  0.9342,  0.7991,  0.2428,  0.6600, -0.8794, -0.3800,\n",
       "          0.2888,  0.3032,  0.3157,  0.9929, -0.3295, -0.2110, -0.8238, -0.9796,\n",
       "          0.2281, -0.9017, -0.1940, -0.7206,  0.6210,  0.0427, -0.0084,  0.3444,\n",
       "         -0.9127, -0.6209,  0.4957, -0.5614,  0.4666, -0.2697,  0.7436,  0.9394,\n",
       "         -0.6221,  0.4405,  0.9169, -0.7635, -0.7996,  0.4842, -0.3605,  0.8965,\n",
       "         -0.6579,  0.9872,  0.8808,  0.5868, -0.9306, -0.3530, -0.8674, -0.2853,\n",
       "         -0.3637, -0.5778,  0.7472,  0.6215,  0.4101,  0.6865, -0.5956,  0.9885,\n",
       "         -0.6149, -0.9645, -0.7402, -0.2298, -0.9890,  0.7801,  0.2704,  0.4239,\n",
       "         -0.6210, -0.6293, -0.9574,  0.8697,  0.1466,  0.9650, -0.3274, -0.8778,\n",
       "         -0.6320, -0.9375,  0.1595, -0.2666,  0.0207,  0.0130, -0.9291,  0.4664,\n",
       "          0.5822,  0.4403, -0.4646,  0.9966,  1.0000,  0.9763,  0.8567,  0.7245,\n",
       "         -0.9999, -0.7556,  1.0000, -0.9881, -1.0000, -0.9308, -0.6686,  0.4310,\n",
       "         -1.0000, -0.1641, -0.0560, -0.8845,  0.4249,  0.9701,  0.9786, -1.0000,\n",
       "          0.8691,  0.9328, -0.6592,  0.9081, -0.4408,  0.9631,  0.0329,  0.5037,\n",
       "         -0.1444,  0.4425, -0.8472, -0.8508, -0.4383, -0.6606,  0.9972,  0.3184,\n",
       "         -0.6903, -0.8617,  0.6991, -0.2277, -0.1891, -0.9565, -0.2362,  0.5614,\n",
       "          0.7926,  0.3249,  0.3378, -0.7022,  0.3301, -0.2988, -0.0749,  0.6800,\n",
       "         -0.8557, -0.5239, -0.6697,  0.0674, -0.0483, -0.9541,  0.9490, -0.5242,\n",
       "          0.8831,  1.0000,  0.6603, -0.7847,  0.5877,  0.4363, -0.1715,  1.0000,\n",
       "          0.7966, -0.9790, -0.6198,  0.5070, -0.5451, -0.7284,  0.9991, -0.3187,\n",
       "         -0.5859, -0.4217,  0.9897, -0.9923,  0.9936, -0.8585, -0.9695,  0.9613,\n",
       "          0.8900, -0.5949, -0.7736,  0.1903, -0.0494,  0.3605, -0.8711,  0.7868,\n",
       "          0.5528, -0.2773,  0.8585, -0.8467, -0.5635,  0.4953, -0.7818, -0.1600,\n",
       "          0.8814,  0.6255, -0.2190,  0.3099, -0.4403, -0.5937, -0.9525,  0.6900,\n",
       "          1.0000, -0.2447,  0.6742, -0.1414, -0.0993,  0.0978,  0.4338,  0.5587,\n",
       "         -0.5364, -0.6057,  0.6937, -0.8644, -0.9920,  0.5656,  0.3558, -0.3129,\n",
       "          1.0000,  0.6361,  0.3541,  0.4035,  0.9767,  0.2020,  0.1565,  0.5353,\n",
       "          0.9848, -0.3609,  0.6761,  0.8256, -0.7642, -0.3111, -0.7317,  0.1598,\n",
       "         -0.9330,  0.0134, -0.9642,  0.9690,  0.9307,  0.3581,  0.2931,  0.8089,\n",
       "          1.0000, -0.8355,  0.4278, -0.1992,  0.6099, -0.9996, -0.7029, -0.4020,\n",
       "         -0.3294, -0.6452, -0.3558,  0.2611, -0.9751,  0.6125,  0.6901, -0.8794,\n",
       "         -0.9881, -0.3533,  0.7471,  0.2273, -0.9825, -0.6028, -0.6463,  0.4132,\n",
       "         -0.2943, -0.9380,  0.0949, -0.4336,  0.6345, -0.3029,  0.6010,  0.3869,\n",
       "          0.9261, -0.7699, -0.2159, -0.2481, -0.8658,  0.7416, -0.7648, -0.8249,\n",
       "         -0.2593,  1.0000, -0.4959,  0.6401,  0.7685,  0.6099, -0.4643,  0.4327,\n",
       "          0.8130,  0.3883,  0.0865, -0.6952, -0.3653, -0.4333,  0.6859,  0.4863,\n",
       "         -0.0213,  0.7154,  0.7616,  0.4190, -0.1156,  0.3309,  0.9981, -0.3380,\n",
       "         -0.1716, -0.6210, -0.2669, -0.3108, -0.0171,  1.0000,  0.4130,  0.3294,\n",
       "         -0.9920, -0.7936, -0.8833,  1.0000,  0.8308, -0.8011,  0.7133,  0.7840,\n",
       "         -0.2349,  0.6895, -0.2795, -0.3096,  0.3497,  0.0763,  0.9511, -0.5177,\n",
       "         -0.9747, -0.7546,  0.5100, -0.9132,  0.9999, -0.5713, -0.2596, -0.4617,\n",
       "         -0.4755, -0.1179,  0.2517, -0.9724, -0.3717,  0.1677,  0.9675,  0.3987,\n",
       "         -0.6191, -0.8968,  0.8427,  0.7440, -0.8343, -0.9291,  0.9670, -0.9510,\n",
       "          0.6066,  1.0000,  0.4763,  0.3576,  0.4344, -0.4345,  0.3703, -0.6591,\n",
       "          0.6860, -0.9216, -0.2365, -0.3460,  0.4852, -0.3206, -0.8282,  0.7430,\n",
       "          0.2909, -0.5803, -0.6553, -0.3127,  0.5527,  0.8424, -0.2939, -0.4080,\n",
       "          0.2574, -0.1051, -0.7949, -0.5760, -0.4231, -1.0000,  0.5897, -1.0000,\n",
       "          0.5993, -0.3411, -0.4190,  0.8472,  0.7111,  0.5375, -0.7255, -0.6727,\n",
       "          0.6526,  0.7950, -0.4376, -0.6704, -0.7474,  0.3606, -0.0859,  0.1208,\n",
       "         -0.7715,  0.7049, -0.2970,  1.0000,  0.1139, -0.6694, -0.8532,  0.3638,\n",
       "         -0.3616,  1.0000, -0.8514, -0.9704,  0.3428, -0.7536, -0.6665,  0.4490,\n",
       "          0.1675, -0.8264, -0.8865,  0.7921,  0.8202, -0.6468,  0.5880, -0.3060,\n",
       "         -0.6048,  0.3054,  0.8036,  0.9854,  0.4419,  0.7996, -0.4645, -0.0904,\n",
       "          0.9298,  0.4536,  0.4984,  0.3551,  1.0000,  0.5105, -0.9185, -0.1994,\n",
       "         -0.9176, -0.3955, -0.9165,  0.4919,  0.2618,  0.8939, -0.3484,  0.9476,\n",
       "         -0.6029,  0.1720, -0.7493, -0.2376,  0.5365, -0.9027, -0.9835, -0.9900,\n",
       "          0.6914, -0.5566, -0.1405,  0.4226,  0.4126,  0.5012,  0.5037, -1.0000,\n",
       "          0.9161,  0.4304,  0.5781,  0.9731,  0.2874,  0.5556,  0.4162, -0.9861,\n",
       "         -0.8310, -0.2315, -0.3262,  0.6700,  0.7948,  0.7535,  0.6360, -0.5454,\n",
       "         -0.4829, -0.3003, -0.8115, -0.9917,  0.5291, -0.4752, -0.8760,  0.9553,\n",
       "         -0.4952, -0.1710,  0.3351, -0.7739,  0.8276,  0.6813,  0.3651,  0.0753,\n",
       "          0.5301,  0.8550,  0.8811,  0.9896, -0.6754,  0.7694, -0.5477,  0.4208,\n",
       "          0.8407, -0.9436,  0.3543,  0.2748, -0.4974,  0.3563, -0.4489, -0.8387,\n",
       "          0.9483, -0.4185,  0.5581, -0.2368, -0.0621, -0.5710, -0.4112, -0.7816,\n",
       "         -0.5007,  0.7115,  0.4117,  0.8854,  0.5519, -0.1900, -0.7623, -0.3157,\n",
       "         -0.2564, -0.9460,  0.7588, -0.1902,  0.3190,  0.4576, -0.0924,  0.8853,\n",
       "          0.0625, -0.4969, -0.4449, -0.8042,  0.7393, -0.7294, -0.5603, -0.6379,\n",
       "          0.7702,  0.5347,  1.0000, -0.3360, -0.6616, -0.5414, -0.4262,  0.5138,\n",
       "         -0.7297, -1.0000,  0.3738, -0.5776,  0.4391, -0.7527,  0.7122, -0.6732,\n",
       "         -0.9313, -0.2442,  0.3321,  0.5918, -0.5351, -0.7543,  0.6003, -0.6570,\n",
       "          0.9343,  0.7861, -0.7667,  0.5751,  0.6773, -0.7543, -0.6926,  0.7284]],\n",
       "       device='cuda:0', grad_fn=<TanhBackward0>), hidden_states=None, past_key_values=None, attentions=None, cross_attentions=None)"
      ]
     },
     "execution_count": 26,
     "metadata": {},
     "output_type": "execute_result"
    }
   ],
   "source": [
    "outputs"
   ]
  },
  {
   "cell_type": "code",
   "execution_count": 35,
   "id": "d3cf6d6f-ea10-4722-9dab-a4ee61166b46",
   "metadata": {},
   "outputs": [
    {
     "name": "stdout",
     "output_type": "stream",
     "text": [
      "Sentence: This is an example sentence. Each sentence is converted into a fixed-size vector.\n",
      "Embedding: [ 0.04839058 -0.04085585 -0.02612372  0.04525339 -0.01193509]...\n",
      "\n",
      "Sentence: Each sentence is converted into a fixed-size vector.\n",
      "Embedding: [ 0.05137224 -0.04172549 -0.02310139  0.07571389 -0.02203474]...\n",
      "\n",
      "Sentence: Sentence transformers make it easy to get sentence embeddings.\n",
      "Embedding: [-0.01584433  0.0516122  -0.01202646  0.05389441 -0.03024017]...\n",
      "\n"
     ]
    }
   ],
   "source": [
    "from sentence_transformers import SentenceTransformer\n",
    "model = SentenceTransformer('all-mpnet-base-v2')  # You can choose different pre-trained models\n",
    "\n",
    "# Example sentences\n",
    "sentences = [\n",
    "    \"This is an example sentence. Each sentence is converted into a fixed-size vector.\",\n",
    "    \"Each sentence is converted into a fixed-size vector.\",\n",
    "    \"Sentence transformers make it easy to get sentence embeddings.\"\n",
    "]\n",
    "\n",
    "# Generate embeddings for the sentences\n",
    "embeddings = model.encode(sentences)\n",
    "\n",
    "# Print the embeddings\n",
    "for i, sentence in enumerate(sentences):\n",
    "    print(f\"Sentence: {sentence}\")\n",
    "    print(f\"Embedding: {embeddings[i][:5]}...\")  # Print first 5 elements of the embedding for brevity\n",
    "    print()"
   ]
  },
  {
   "cell_type": "code",
   "execution_count": 36,
   "id": "9b978c0c-f513-4723-80d7-334c2a0d8c69",
   "metadata": {},
   "outputs": [
    {
     "data": {
      "text/plain": [
       "(3, 768)"
      ]
     },
     "execution_count": 36,
     "metadata": {},
     "output_type": "execute_result"
    }
   ],
   "source": [
    "embeddings.shape"
   ]
  },
  {
   "cell_type": "markdown",
   "id": "0f72df80-b6e1-4507-8da9-32119a6901a9",
   "metadata": {},
   "source": [
    "## GeminiAPI"
   ]
  },
  {
   "cell_type": "code",
   "execution_count": 40,
   "id": "ef0014b7-dec6-42e4-ae70-4b481f19bce3",
   "metadata": {},
   "outputs": [],
   "source": [
    "from utils.bert_embeddings import *\n",
    "from utils.gemini_api import *\n",
    "import time\n",
    "from tqdm import tqdm"
   ]
  },
  {
   "cell_type": "code",
   "execution_count": null,
   "id": "f58db88b-7670-4cc0-bf00-24e37fe456b8",
   "metadata": {},
   "outputs": [],
   "source": []
  },
  {
   "cell_type": "code",
   "execution_count": 41,
   "id": "a249f222-f0e5-45db-b1ae-9e76ce3b33c2",
   "metadata": {},
   "outputs": [],
   "source": [
    "df['Plot'] = df['Plot'].fillna(df['Title'])"
   ]
  },
  {
   "cell_type": "code",
   "execution_count": 42,
   "id": "c0f4a194-8ec2-45f7-b206-9b204490997f",
   "metadata": {},
   "outputs": [],
   "source": [
    "# df = df.head(30)"
   ]
  },
  {
   "cell_type": "code",
   "execution_count": 43,
   "id": "94e00b19-4b52-4685-8a7a-67de6edf96cf",
   "metadata": {},
   "outputs": [],
   "source": [
    "gem = GeminiAPI()"
   ]
  },
  {
   "cell_type": "code",
   "execution_count": 44,
   "id": "f1c0cd03-6a1a-4c08-8d45-fdc7b2d85c6c",
   "metadata": {
    "scrolled": true
   },
   "outputs": [
    {
     "name": "stderr",
     "output_type": "stream",
     "text": [
      "1it [00:02,  2.79s/it]"
     ]
    },
    {
     "name": "stdout",
     "output_type": "stream",
     "text": [
      "In \"Toy Story,\" a group of sentient toys led by Sheriff Woody face a crisis when Andy, their owner, is getting a new toy for his birthday. Woody fears being replaced, especially by the new Buzz Lightyear action figure who believes he's a real Space Ranger. Jealousy and misunderstandings lead to a series of events, including Buzz falling out of the window and Woody being blamed.\n",
      "\n",
      "Their adventures take them to Pizza Planet, where they encounter Andy's neighbor, Sid, who tortures toys. Buzz experiences an existential crisis upon realizing he's not a real Space Ranger, but Woody helps him find purpose in making Andy happy.\n",
      "\n",
      "After Sid tries to blow up Buzz with a firework, Woody and Buzz escape and chase after Andy's moving truck. Woody gets inside, but the other toys, still thinking he's dangerous, throw him out.  Woody and Buzz eventually reunite and make it to the new house, where Andy welcomes a new puppy. While Woody and Buzz playfully ponder what new toy could be worse than Buzz, they nervously smile at each other, acknowledging the new pet as a possible threat to their place in Andy's heart. \n",
      "\n"
     ]
    },
    {
     "name": "stderr",
     "output_type": "stream",
     "text": [
      "25it [00:43,  1.31s/it]"
     ]
    },
    {
     "name": "stdout",
     "output_type": "stream",
     "text": [
      "ERROR Invalid operation: The `response.parts` quick accessor requires a single candidate, but but `response.candidates` is empty.\n",
      "This appears to be caused by a blocked prompt, see `response.prompt_feedback`: block_reason: OTHER\n",
      " in Leaving Las Vegas (1995)\n"
     ]
    },
    {
     "name": "stderr",
     "output_type": "stream",
     "text": [
      "49it [01:21,  1.24s/it]"
     ]
    },
    {
     "name": "stdout",
     "output_type": "stream",
     "text": [
      "ERROR Invalid operation: The `response.parts` quick accessor requires a single candidate, but but `response.candidates` is empty.\n",
      "This appears to be caused by a blocked prompt, see `response.prompt_feedback`: block_reason: OTHER\n",
      " in When Night Is Falling (1995)\n"
     ]
    },
    {
     "name": "stderr",
     "output_type": "stream",
     "text": [
      "63it [01:43,  1.21s/it]"
     ]
    },
    {
     "name": "stdout",
     "output_type": "stream",
     "text": [
      "ERROR Invalid operation: The `response.parts` quick accessor requires a single candidate, but but `response.candidates` is empty.\n",
      "This appears to be caused by a blocked prompt, see `response.prompt_feedback`: block_reason: OTHER\n",
      " in Don't Be a Menace to South Central While Drinking Your Juice in the Hood (1996)\n"
     ]
    },
    {
     "name": "stderr",
     "output_type": "stream",
     "text": [
      "85it [02:17,  1.07s/it]"
     ]
    },
    {
     "name": "stdout",
     "output_type": "stream",
     "text": [
      "ERROR Invalid operation: The `response.parts` quick accessor requires a single candidate, but but `response.candidates` is empty.\n",
      "This appears to be caused by a blocked prompt, see `response.prompt_feedback`: block_reason: OTHER\n",
      " in Angels and Insects (1995)\n"
     ]
    },
    {
     "name": "stderr",
     "output_type": "stream",
     "text": [
      "101it [02:42,  1.66s/it]"
     ]
    },
    {
     "name": "stdout",
     "output_type": "stream",
     "text": [
      "Martha, a 31-year-old woman, finds herself in a Mexican prison, accused of murdering her fiancé, Whitman Crawford, on their wedding day. She recounts how she met Whitman, a charming and seemingly successful man who quickly won over her family. However, his true nature as a manipulative and narcissistic sociopath soon becomes apparent. \n",
      "\n",
      "Whitman's ex-girlfriend, Inga, and her accomplice, Bob, harass Martha after she tries to break off the engagement. Whitman's lies and manipulations leave Martha isolated and desperate.  He sabotages her job, physically assaults her, and ultimately abducts her to Mexico for a forced wedding. \n",
      "\n",
      "Martha manages to contact her co-worker Walter, the only person who hasn't fallen under Whitman's spell. Walter arrives in Mexico just as Whitman is forcing Martha into the ceremony.  During a chaotic rescue attempt, Whitman is shot, and Martha is arrested for murder.  \n",
      "\n",
      "It is later revealed that Inga accidentally shot Whitman while trying to kill Martha. Walter helps Martha escape, and they flee to the United States with Bob, leaving Whitman's fate unknown.  The film ends with Martha and Walter starting a new life, while Inga and Bob open a pet store and Whitman continues his search for love. \n",
      "\n"
     ]
    },
    {
     "name": "stderr",
     "output_type": "stream",
     "text": [
      "110it [02:57,  1.32s/it]"
     ]
    },
    {
     "name": "stdout",
     "output_type": "stream",
     "text": [
      "ERROR Invalid operation: The `response.parts` quick accessor requires a single candidate, but but `response.candidates` is empty.\n",
      "This appears to be caused by a blocked prompt, see `response.prompt_feedback`: block_reason: OTHER\n",
      " in Taxi Driver (1976)\n"
     ]
    },
    {
     "name": "stderr",
     "output_type": "stream",
     "text": [
      "120it [03:12,  1.61s/it]"
     ]
    },
    {
     "name": "stdout",
     "output_type": "stream",
     "text": [
      "ERROR Invalid operation: The `response.text` quick accessor requires the response to contain a valid `Part`, but none were returned. The candidate's [finish_reason](https://ai.google.dev/api/generate-content#finishreason) is 5. in Boys of St. Vincent, The (1993)\n"
     ]
    },
    {
     "name": "stderr",
     "output_type": "stream",
     "text": [
      "174it [04:39,  1.31s/it]"
     ]
    },
    {
     "name": "stdout",
     "output_type": "stream",
     "text": [
      "ERROR Invalid operation: The `response.parts` quick accessor requires a single candidate, but but `response.candidates` is empty.\n",
      "This appears to be caused by a blocked prompt, see `response.prompt_feedback`: block_reason: OTHER\n",
      " in Kids (1995)\n"
     ]
    },
    {
     "name": "stderr",
     "output_type": "stream",
     "text": [
      "179it [04:44,  1.01s/it]"
     ]
    },
    {
     "name": "stdout",
     "output_type": "stream",
     "text": [
      "ERROR Invalid operation: The `response.parts` quick accessor requires a single candidate, but but `response.candidates` is empty.\n",
      "This appears to be caused by a blocked prompt, see `response.prompt_feedback`: block_reason: OTHER\n",
      " in Mallrats (1995)\n"
     ]
    },
    {
     "name": "stderr",
     "output_type": "stream",
     "text": [
      "192it [05:04,  1.10s/it]"
     ]
    },
    {
     "name": "stdout",
     "output_type": "stream",
     "text": [
      "ERROR Invalid operation: The `response.parts` quick accessor requires a single candidate, but but `response.candidates` is empty.\n",
      "This appears to be caused by a blocked prompt, see `response.prompt_feedback`: block_reason: OTHER\n",
      " in Showgirls (1995)\n"
     ]
    },
    {
     "name": "stderr",
     "output_type": "stream",
     "text": [
      "201it [05:18,  1.65s/it]"
     ]
    },
    {
     "name": "stdout",
     "output_type": "stream",
     "text": [
      "The film explores the tumultuous relationship between poets Paul Verlaine and Arthur Rimbaud. It begins with an older Verlaine encountering Rimbaud's sister, who seeks to destroy his brother's poems. Verlaine reminisces about their passionate, destructive connection, which began when a teenage Rimbaud sent his poetry to Verlaine. Verlaine was captivated by Rimbaud's rebellious spirit and unconventional talent, leading him to abandon his comfortable, middle-class life and embark on a chaotic journey with the younger poet.\n",
      "\n",
      "Their love affair was marked by violence and instability, culminating in a shooting incident that landed Verlaine in prison. While incarcerated, Verlaine found solace in religion, a change that alienated Rimbaud. Despite their tumultuous past, they briefly reunite, but their relationship ultimately ends, leaving Verlaine yearning for the lost connection. \n",
      "\n",
      "Rimbaud, disillusioned by literature, embarks on a solitary journey, seeking a life devoid of artistic expression. He eventually finds himself in Abyssinia, where he lives a simple existence until he dies young from cancer. The film culminates with Verlaine struggling to reconcile with the past, haunted by the ghost of his younger lover and their tumultuous relationship. \n",
      "\n"
     ]
    },
    {
     "name": "stderr",
     "output_type": "stream",
     "text": [
      "228it [06:02,  1.20s/it]"
     ]
    },
    {
     "name": "stdout",
     "output_type": "stream",
     "text": [
      "ERROR Invalid operation: The `response.parts` quick accessor requires a single candidate, but but `response.candidates` is empty.\n",
      "This appears to be caused by a blocked prompt, see `response.prompt_feedback`: block_reason: OTHER\n",
      " in Dolores Claiborne (1994)\n"
     ]
    },
    {
     "name": "stderr",
     "output_type": "stream",
     "text": [
      "297it [08:01,  1.46s/it]"
     ]
    },
    {
     "name": "stdout",
     "output_type": "stream",
     "text": [
      "ERROR Invalid operation: The `response.text` quick accessor requires the response to contain a valid `Part`, but none were returned. The candidate's [finish_reason](https://ai.google.dev/api/generate-content#finishreason) is 5. in Priest (1994)\n"
     ]
    },
    {
     "name": "stderr",
     "output_type": "stream",
     "text": [
      "301it [08:08,  1.60s/it]"
     ]
    },
    {
     "name": "stdout",
     "output_type": "stream",
     "text": [
      "In the lawless town of Redemption, ruled by the ruthless mayor John Herod, a deadly single-elimination shooting tournament is held. \"The Lady,\" a mysterious gunslinger with a dark past, enters the tournament for the hefty prize money.  \n",
      "\n",
      "Herod's henchmen force Cort, a former outlaw turned preacher, to participate, but The Lady intervenes, saving him.  She also meets \"The Kid,\" a young man who believes Herod is his father and wants his approval.\n",
      "\n",
      "The tournament unfolds with deadly duels, including The Lady's confrontation with a man who abuses a child, and Cort's struggle against a skilled Native American gunslinger.  \n",
      "\n",
      "Flashbacks reveal The Lady's true identity as Ellen, whose father was murdered by Herod's gang. Driven by revenge, she returns to Redemption.  \n",
      "\n",
      "Herod manipulates the tournament, forcing Cort to fight The Lady and then The Kid, ultimately killing the young man. Ellen, faking her death, plans revenge with Cort and Doc Wallace. \n",
      "\n",
      "In a final showdown, Ellen reveals her identity to Herod, killing him after a fierce duel. She leaves Redemption, leaving Cort to restore order as the new lawman. The Lady's quest for justice is complete, but her story leaves a lasting impact on the town she left behind. \n",
      "\n"
     ]
    },
    {
     "name": "stderr",
     "output_type": "stream",
     "text": [
      "401it [10:47,  1.44s/it]"
     ]
    },
    {
     "name": "stdout",
     "output_type": "stream",
     "text": [
      "Malcolm X, a young black man from Michigan, faces racism and tragedy early in life. His father is murdered, his mother institutionalized, and his dreams of being a lawyer are crushed. He falls into a life of crime, eventually ending up in prison. There, he finds solace in the teachings of the Nation of Islam and embraces their message of black empowerment and separation from white society. \n",
      "\n",
      "He rises within the Nation, becoming a powerful and charismatic leader.  However, Malcolm's disillusionment grows as he discovers inconsistencies in Elijah Muhammad's teachings, and he begins to question the Nation's ideology. \n",
      "\n",
      "After a pilgrimage to Mecca, Malcolm renounces the Nation of Islam's separatist views, embracing a more inclusive form of Islam and founding the Organization of Afro-American Unity. He is exiled from the Nation and his house is firebombed. \n",
      "\n",
      "Tragically, Malcolm is assassinated by members of the Nation of Islam in 1965, leaving behind a legacy of fighting for equality and challenging racial injustices. His powerful words and advocacy continue to inspire generations. \n",
      "\n"
     ]
    },
    {
     "name": "stderr",
     "output_type": "stream",
     "text": [
      "501it [13:33,  1.76s/it]"
     ]
    },
    {
     "name": "stdout",
     "output_type": "stream",
     "text": [
      "John Robbins, a wrongfully convicted ex-Marine, is imprisoned in a Level 6 prison, a brutal facility run by corporations. He is exiled to Absolom, a remote island prison where the worst criminals are sent. The island is ruled by the Outsiders, a ruthless gang led by the sociopath Walter Marek, who forces prisoners to fight for survival. Robbins joins the Insiders, a group striving for order and cooperation led by a dying doctor called the Father.  \n",
      "\n",
      "Robbins learns about the island's horrifying realities, including the brutal regime of the Outsiders and the impossible escape odds. Despite facing danger, Robbins helps the Insiders repel attacks and ultimately discovers a way to escape. However, their attempts to expose Absolom to the outside world fail, and Robbins realizes they need to take a more drastic approach. \n",
      "\n",
      "He orchestrates a plan to eliminate the Outsiders and expose the truth about the island. This involves leading the Insiders to a new location, sabotaging their former camp with booby traps, and ultimately using a stolen rocket launcher to trigger an explosion. \n",
      "\n",
      "In the chaos that follows, Father sacrifices himself to protect Robbins, and Marek is killed. Robbins is ultimately forced to betray the Insiders, including their leader, in order to secure his own escape.  He escapes with a group of Insiders, vowing to expose the truth of Absolom to the world. The film ends with the Warden and King left stranded on the island as the Outsiders approach, hinting at the ongoing struggle for control. \n",
      "\n"
     ]
    },
    {
     "name": "stderr",
     "output_type": "stream",
     "text": [
      "523it [14:12,  1.21s/it]"
     ]
    },
    {
     "name": "stdout",
     "output_type": "stream",
     "text": [
      "ERROR Invalid operation: The `response.parts` quick accessor requires a single candidate, but but `response.candidates` is empty.\n",
      "This appears to be caused by a blocked prompt, see `response.prompt_feedback`: block_reason: OTHER\n",
      " in Savage Nights (Nuits fauves, Les) (1992)\n"
     ]
    },
    {
     "name": "stderr",
     "output_type": "stream",
     "text": [
      "559it [15:14,  1.40s/it]"
     ]
    },
    {
     "name": "stdout",
     "output_type": "stream",
     "text": [
      "ERROR Invalid operation: The `response.text` quick accessor requires the response to contain a valid `Part`, but none were returned. The candidate's [finish_reason](https://ai.google.dev/api/generate-content#finishreason) is 5. in Welcome to the Dollhouse (1995)\n"
     ]
    },
    {
     "name": "stderr",
     "output_type": "stream",
     "text": [
      "564it [15:20,  1.08s/it]"
     ]
    },
    {
     "name": "stdout",
     "output_type": "stream",
     "text": [
      "ERROR Invalid operation: The `response.parts` quick accessor requires a single candidate, but but `response.candidates` is empty.\n",
      "This appears to be caused by a blocked prompt, see `response.prompt_feedback`: block_reason: OTHER\n",
      " in Kika (1993)\n"
     ]
    },
    {
     "name": "stderr",
     "output_type": "stream",
     "text": [
      "567it [15:24,  1.32s/it]"
     ]
    },
    {
     "name": "stdout",
     "output_type": "stream",
     "text": [
      "ERROR Invalid operation: The `response.text` quick accessor requires the response to contain a valid `Part`, but none were returned. The candidate's [finish_reason](https://ai.google.dev/api/generate-content#finishreason) is 5. in Slingshot, The (Kådisbellan ) (1993)\n"
     ]
    },
    {
     "name": "stderr",
     "output_type": "stream",
     "text": [
      "571it [15:28,  1.10it/s]"
     ]
    },
    {
     "name": "stdout",
     "output_type": "stream",
     "text": [
      "ERROR Invalid operation: The `response.parts` quick accessor requires a single candidate, but but `response.candidates` is empty.\n",
      "This appears to be caused by a blocked prompt, see `response.prompt_feedback`: block_reason: OTHER\n",
      " in Spanking the Monkey (1994)\n"
     ]
    },
    {
     "name": "stderr",
     "output_type": "stream",
     "text": [
      "601it [16:17,  1.38s/it]"
     ]
    },
    {
     "name": "stdout",
     "output_type": "stream",
     "text": [
      "Des, an 11-year-old living in a troubled home, exploits the law by engaging in a string of criminal activities with his friend Cory. Their friendship blossoms through shared delinquency, leading them to break into a house and get arrested. Despite his mother's apathy, Des's reckless behavior lands him in an assessment center where he encounters Rita, a psychologist trying to help him.  \n",
      "\n",
      "When Des is placed in foster care, he rejects the idea and flees with Cory. Their plan to rob a drug dealer ends tragically with Des shooting and killing the man.  Cory, terrified, distances himself from Des, who is now a fugitive. Des, unwilling to face foster care or arrest, sets his own home on fire, choosing to perish in the flames rather than face the consequences of his actions. \n",
      "\n"
     ]
    },
    {
     "name": "stderr",
     "output_type": "stream",
     "text": [
      "626it [16:57,  1.25s/it]"
     ]
    },
    {
     "name": "stdout",
     "output_type": "stream",
     "text": [
      "ERROR Invalid operation: The `response.text` quick accessor requires the response to contain a valid `Part`, but none were returned. The candidate's [finish_reason](https://ai.google.dev/api/generate-content#finishreason) is 5. in Carried Away (1996)\n"
     ]
    },
    {
     "name": "stderr",
     "output_type": "stream",
     "text": [
      "632it [17:07,  1.59s/it]"
     ]
    },
    {
     "name": "stdout",
     "output_type": "stream",
     "text": [
      "ERROR Invalid operation: The `response.text` quick accessor requires the response to contain a valid `Part`, but none were returned. The candidate's [finish_reason](https://ai.google.dev/api/generate-content#finishreason) is 5. in Frisk (1995)\n"
     ]
    },
    {
     "name": "stderr",
     "output_type": "stream",
     "text": [
      "661it [17:49,  1.16it/s]"
     ]
    },
    {
     "name": "stdout",
     "output_type": "stream",
     "text": [
      "ERROR Invalid operation: The `response.parts` quick accessor requires a single candidate, but but `response.candidates` is empty.\n",
      "This appears to be caused by a blocked prompt, see `response.prompt_feedback`: block_reason: OTHER\n",
      " in All Things Fair (1996)\n"
     ]
    },
    {
     "name": "stderr",
     "output_type": "stream",
     "text": [
      "701it [18:49,  1.80s/it]"
     ]
    },
    {
     "name": "stdout",
     "output_type": "stream",
     "text": [
      "Oliver, an orange tabby kitten, is abandoned in New York City and befriends a streetwise Jack Russell Terrier named Dodger. They attempt to steal food from a hot dog vendor, but Dodger runs off with the spoils. Oliver follows him to a barge where Dodger shares the hot dogs with a gang of stray dogs. \n",
      "\n",
      "Oliver accidentally falls onto the barge and befriends the dogs, who are owned by a struggling thief named Fagin. Fagin is indebted to a ruthless loan shark, Sykes, who threatens him with violence. Oliver earns the dogs' respect by defending them against Sykes' Dobermans.\n",
      "\n",
      "Fagin and the dogs try to earn money by stealing from a wealthy family, but Oliver ends up being taken by the family's young daughter, Jenny, who is lonely and wants a companion. He is given the name Oliver and becomes attached to her.\n",
      "\n",
      "Georgette, the family's spoiled poodle, helps Dodger and the other dogs steal Oliver back, returning him to the barge. Fagin, realizing Oliver's wealthy background, decides to hold him for ransom. Jenny, heartbroken, sets out to rescue Oliver.\n",
      "\n",
      "During a confrontation with Fagin, Jenny's innocence and tears sway him, and he returns Oliver. However, Sykes, who was secretly observing, kidnaps Jenny. Dodger, Oliver, and the other dogs rally to rescue her, leading to a chaotic chase involving Fagin's motor scooter and Sykes' Dobermans.\n",
      "\n",
      "In a climactic showdown, Sykes' Dobermans are killed by a subway train, Sykes is killed by a train collision, and Jenny and Oliver are reunited. Oliver decides to stay with Jenny, but maintains his friendship with Dodger and the other dogs. \n",
      "\n"
     ]
    },
    {
     "name": "stderr",
     "output_type": "stream",
     "text": [
      "802it [21:30,  1.20s/it]"
     ]
    },
    {
     "name": "stdout",
     "output_type": "stream",
     "text": [
      "Max, a 14-year-old boy dealing with bullies and a strained relationship with his mother, accidentally releases a genie named Kazaam from a magic lamp. Kazaam, residing in a boombox, becomes Max's genie and grants him wishes. Max longs to reunite with his father, Nick, a music agent involved in illegal activities. With Kazaam's help, Max finds his father but their relationship is strained.\n",
      "\n",
      "Max uses his first wish for a rain of junk food, realizing he has control over Kazaam's powers. He confides in Kazaam about his family issues, while Kazaam struggles with his newfound success as a rapper. Max's second wish, used to create a replacement tape, causes a rift between him and Kazaam, leading to his father's arrest.\n",
      "\n",
      "Malik, a nightclub owner, kidnaps Max and tries to control Kazaam.  Kazaam escapes Malik's control, defeats him, but finds Max seemingly dead.  Overwhelmed by grief, Kazaam becomes a djinn, reviving Max and granting his third wish, allowing Max's father a chance to start over. Kazaam, now a djinn, departs with a new girlfriend, while Max watches with a smile, happy to have his father back. \n",
      "\n",
      "ERROR Invalid operation: The `response.parts` quick accessor requires a single candidate, but but `response.candidates` is empty.\n",
      "This appears to be caused by a blocked prompt, see `response.prompt_feedback`: block_reason: OTHER\n",
      " in Bewegte Mann, Der (1994)\n"
     ]
    },
    {
     "name": "stderr",
     "output_type": "stream",
     "text": [
      "850it [22:42,  1.07s/it]"
     ]
    },
    {
     "name": "stdout",
     "output_type": "stream",
     "text": [
      "ERROR Invalid operation: The `response.parts` quick accessor requires a single candidate, but but `response.candidates` is empty.\n",
      "This appears to be caused by a blocked prompt, see `response.prompt_feedback`: block_reason: OTHER\n",
      " in Maybe, Maybe Not (Bewegte Mann, Der) (1994)\n"
     ]
    },
    {
     "name": "stderr",
     "output_type": "stream",
     "text": [
      "901it [24:03,  1.84s/it]"
     ]
    },
    {
     "name": "stdout",
     "output_type": "stream",
     "text": [
      "In Casablanca, Rick Blaine, a cynical American expatriate, runs a nightclub frequented by refugees and Nazi officials. He holds onto letters of transit, valuable documents enabling safe passage through German-occupied Europe, which were entrusted to him by a deceased crook. Rick's past love, Ilsa, reappears with her husband, Victor Laszlo, a Resistance leader desperately needing the letters to escape the Nazis. Rick's love for Ilsa resurfaces, but he refuses to help, harboring bitterness from their past.\n",
      "\n",
      "As Laszlo attempts to buy the letters, a tense standoff ensues, escalating into a patriotic display of \"La Marseillaise\" against the Germans. The café is closed, and Rick faces Ilsa, who confesses her love for him and explains her hasty departure years ago. Rick, overcoming his bitterness, agrees to help.\n",
      "\n",
      "A series of events unfold, with Laszlo narrowly escaping capture and Rick using the letters to facilitate his and Ilsa's escape to America, pretending to be the intended recipients. However, Rick ultimately sacrifices his own happiness, sending Ilsa off with Laszlo on a plane to Lisbon, realizing that she will be happier with him.\n",
      "\n",
      "In a dramatic climax, Rick eliminates a Nazi officer threatening to stop the plane, securing the escape. Rick remains in Casablanca, his cynical facade crumbling as he forms an unlikely bond with the corrupt police captain, leaving the city with a glimmer of hope and the promise of a new beginning. \n",
      "\n"
     ]
    },
    {
     "name": "stderr",
     "output_type": "stream",
     "text": [
      "1001it [26:55,  1.86s/it]"
     ]
    },
    {
     "name": "stdout",
     "output_type": "stream",
     "text": [
      "Pollyanna, a cheerful orphan, arrives in Harrington to live with her wealthy but stern aunt, Polly. Pollyanna's optimistic spirit and \"Glad Game\" win over the townspeople, including the grumpy Mrs. Snow and the reclusive Mr. Pendergast. \n",
      "\n",
      "Aunt Polly, however, controls the town and opposes a plan to rebuild the dilapidated orphanage. The townspeople defy her, planning a carnival to raise funds. A group, led by Dr. Chilton, encourages the minister, Rev. Ford, to support the bazaar, reminding him that no one owns the church. Pollyanna delivers a note from Aunt Polly to Rev. Ford, unknowingly teaching him a lesson about finding the good in people. \n",
      "\n",
      "Rev. Ford, inspired by Pollyanna, publicly supports the bazaar, angering Aunt Polly who forbids Pollyanna from attending. Pollyanna escapes and enjoys the carnival, winning her first doll. Returning home, she falls from a tree, paralyzing her legs. \n",
      "\n",
      "Overwhelmed with guilt, Aunt Polly realizes she has isolated herself from the town and failed to give Pollyanna love. The townspeople, moved by Pollyanna's accident, shower her with affection.  Inspired by their love and Dr. Chilton's support, Pollyanna’s spirit returns.  She learns that Jimmy has been adopted and that the town has been nicknamed \"Gladtown\".  Aunt Polly, Dr. Chilton, and Pollyanna leave for Baltimore for surgery, ready to embrace a new chapter filled with love and hope. \n",
      "\n"
     ]
    },
    {
     "name": "stderr",
     "output_type": "stream",
     "text": [
      "1021it [27:25,  1.02s/it]"
     ]
    },
    {
     "name": "stdout",
     "output_type": "stream",
     "text": [
      "ERROR Invalid operation: The `response.parts` quick accessor requires a single candidate, but but `response.candidates` is empty.\n",
      "This appears to be caused by a blocked prompt, see `response.prompt_feedback`: block_reason: OTHER\n",
      " in Freeway (1996)\n"
     ]
    },
    {
     "name": "stderr",
     "output_type": "stream",
     "text": [
      "1047it [28:06,  1.66s/it]"
     ]
    },
    {
     "name": "stdout",
     "output_type": "stream",
     "text": [
      "ERROR Invalid operation: The `response.text` quick accessor requires the response to contain a valid `Part`, but none were returned. The candidate's [finish_reason](https://ai.google.dev/api/generate-content#finishreason) is 5. in Sleepers (1996)\n"
     ]
    },
    {
     "name": "stderr",
     "output_type": "stream",
     "text": [
      "1088it [29:16,  1.27s/it]"
     ]
    },
    {
     "name": "stdout",
     "output_type": "stream",
     "text": [
      "ERROR Invalid operation: The `response.parts` quick accessor requires a single candidate, but but `response.candidates` is empty.\n",
      "This appears to be caused by a blocked prompt, see `response.prompt_feedback`: block_reason: OTHER\n",
      " in Streetcar Named Desire, A (1951)\n"
     ]
    },
    {
     "name": "stderr",
     "output_type": "stream",
     "text": [
      "1101it [29:35,  1.44s/it]"
     ]
    },
    {
     "name": "stdout",
     "output_type": "stream",
     "text": [
      "\"The Eighth Day\" tells the story of Harry, a successful businessman struggling with a mental breakdown.  He is sent to a rehabilitation center where he encounters George, a young man with Down syndrome.  Initially, Harry is frustrated and impatient with George, but gradually starts to see his own life in a new light through George's innocence and kindness.\n",
      "\n",
      "Harry, who has always been driven by success and efficiency, discovers the simple joys of life through George.  He learns about the importance of compassion, empathy, and living in the moment.  As he helps George navigate his life, Harry finds his own path to healing.\n",
      "\n",
      "The film explores themes of acceptance, empathy, and the beauty of human connection.  It showcases the power of love and understanding to overcome adversity, both for individuals and for society as a whole.  The film ultimately leaves viewers with a message of hope and the belief that everyone, regardless of their differences, has something valuable to offer the world. \n",
      "\n"
     ]
    },
    {
     "name": "stderr",
     "output_type": "stream",
     "text": [
      "1145it [30:44,  1.21s/it]"
     ]
    },
    {
     "name": "stdout",
     "output_type": "stream",
     "text": [
      "ERROR Invalid operation: The `response.parts` quick accessor requires a single candidate, but but `response.candidates` is empty.\n",
      "This appears to be caused by a blocked prompt, see `response.prompt_feedback`: block_reason: OTHER\n",
      " in Tin Drum, The (Blechtrommel, Die) (1979)\n"
     ]
    },
    {
     "name": "stderr",
     "output_type": "stream",
     "text": [
      "1201it [32:20,  1.97s/it]"
     ]
    },
    {
     "name": "stdout",
     "output_type": "stream",
     "text": [
      "Marion Crane, a Phoenix secretary, steals $40,000 from her employer to run away with her boyfriend, Sam. While driving to California, she encounters a suspicious policeman and stops at the Bates Motel due to a rainstorm. There, she meets the eccentric owner, Norman Bates, who has a strained relationship with his mother. Marion, seeking a safe haven, decides to leave the next day but is murdered in her motel room by a shadowy figure.\n",
      "\n",
      "Norman, disturbed by Marion's death, hides her body and car in a swamp. When Marion's sister Lila arrives in Fairvale searching for her, she enlists the help of a private investigator, Arbogast, who suspects Norman's involvement. However, Arbogast is also murdered at the Bates house.\n",
      "\n",
      "Sam and Lila, convinced something happened to Arbogast, visit the motel and uncover Norman's dark secret: he killed his mother years ago and has been living with her mummified body, creating a distorted, possessive \"Mother\" persona. Norman's \"Mother\" personality takes over whenever he feels threatened by women, leading to the murders of Marion and Arbogast.\n",
      "\n",
      "Norman is arrested, and a psychiatrist explains his mental state, revealing that he has been driven by his guilt and a deep-seated desire to protect his idealized mother. The film concludes with Norman facing the consequences of his actions while his \"Mother\" persona controls him. \n",
      "\n"
     ]
    },
    {
     "name": "stderr",
     "output_type": "stream",
     "text": [
      "1292it [34:57,  1.12s/it]"
     ]
    },
    {
     "name": "stdout",
     "output_type": "stream",
     "text": [
      "ERROR Invalid operation: The `response.parts` quick accessor requires a single candidate, but but `response.candidates` is empty.\n",
      "This appears to be caused by a blocked prompt, see `response.prompt_feedback`: block_reason: OTHER\n",
      " in Female Perversions (1996)\n"
     ]
    },
    {
     "name": "stderr",
     "output_type": "stream",
     "text": [
      "1301it [35:11,  1.48s/it]"
     ]
    },
    {
     "name": "stdout",
     "output_type": "stream",
     "text": [
      "Two American students, David and Jack, are attacked on the Yorkshire moors by a creature. Jack is killed, and David is badly injured. He wakes up in a London hospital, where he's told the attack was by a lunatic. However, Jack appears to David, revealing he was a werewolf and David, bitten, is now one too. He must kill himself before the next full moon to avoid becoming a monster. \n",
      "\n",
      "David, disbelieving, is released and finds himself changing into a werewolf, killing six people. He wakes up in the zoo, with no memory. As he learns about the murders, he tries to get arrested, but fails to commit suicide. Jack reappears, showing him his victims, now trapped in the undead state. \n",
      "\n",
      "Under the next full moon, David transforms again, killing more people, including Inspector Villiers. He is cornered by police, but Alex, his nurse, arrives, trying to calm him. Despite a brief flicker of recognition, David attacks and is shot dead. \n",
      "\n"
     ]
    },
    {
     "name": "stderr",
     "output_type": "stream",
     "text": [
      "1309it [35:24,  1.32s/it]"
     ]
    },
    {
     "name": "stdout",
     "output_type": "stream",
     "text": [
      "ERROR Invalid operation: The `response.parts` quick accessor requires a single candidate, but but `response.candidates` is empty.\n",
      "This appears to be caused by a blocked prompt, see `response.prompt_feedback`: block_reason: OTHER\n",
      " in Blood For Dracula (Andy Warhol's Dracula) (1974)\n"
     ]
    },
    {
     "name": "stderr",
     "output_type": "stream",
     "text": [
      "1321it [35:44,  1.47s/it]"
     ]
    },
    {
     "name": "stdout",
     "output_type": "stream",
     "text": [
      "ERROR Invalid operation: The `response.parts` quick accessor requires a single candidate, but but `response.candidates` is empty.\n",
      "This appears to be caused by a blocked prompt, see `response.prompt_feedback`: block_reason: OTHER\n",
      " in Candyman (1992)\n"
     ]
    },
    {
     "name": "stderr",
     "output_type": "stream",
     "text": [
      "1337it [36:10,  1.26s/it]"
     ]
    },
    {
     "name": "stdout",
     "output_type": "stream",
     "text": [
      "ERROR Invalid operation: The `response.parts` quick accessor requires a single candidate, but but `response.candidates` is empty.\n",
      "This appears to be caused by a blocked prompt, see `response.prompt_feedback`: block_reason: OTHER\n",
      " in Sling Blade (1996)\n"
     ]
    },
    {
     "name": "stderr",
     "output_type": "stream",
     "text": [
      "1376it [37:17,  1.19s/it]"
     ]
    },
    {
     "name": "stdout",
     "output_type": "stream",
     "text": [
      "ERROR Invalid operation: The `response.parts` quick accessor requires a single candidate, but but `response.candidates` is empty.\n",
      "This appears to be caused by a blocked prompt, see `response.prompt_feedback`: block_reason: OTHER\n",
      " in Bastard Out of Carolina (1996)\n"
     ]
    },
    {
     "name": "stderr",
     "output_type": "stream",
     "text": [
      "1401it [37:58,  1.66s/it]"
     ]
    },
    {
     "name": "stdout",
     "output_type": "stream",
     "text": [
      "Willa Weston arrives in Atlanta to take on a high-ranking position in a company recently acquired by Octopus Inc., only to learn it's already been sold. She's tasked with managing Marwood Zoo, creating a sustainable business model for future zoos.  \n",
      "\n",
      "Enter Rollo Lee, a quirky former police officer with a unique vision for the zoo: \"fierce creatures\" that will attract visitors. He enforces this by trying to get rid of less exciting animals, leading to comical situations and ultimately, his demotion.\n",
      "\n",
      "Vince, Rod McCain's son, tries to woo Willa while simultaneously overhauling the zoo with absurd marketing schemes. Willa, meanwhile, finds herself drawn to Rollo's eccentric charm and a genuine connection with the animals.\n",
      "\n",
      "As they delve into the zoo's financial woes, they uncover Rod's plan to sell it to a Japanese developer and his scheme to freeze himself, depriving Vince of any inheritance. They also discover Vince's theft of sponsorship money.\n",
      "\n",
      "A chaotic confrontation ensues, leading to an accidental shooting and the need to fake Rod's death to ensure the zoo's safety. With Vince inheriting Octopus Inc. and the zoo left to the caretakers, Willa and Rollo find their own happily ever after, proving that even in the most unusual of circumstances, love and laughter can prevail. \n",
      "\n"
     ]
    },
    {
     "name": "stderr",
     "output_type": "stream",
     "text": [
      "1412it [38:14,  1.46s/it]"
     ]
    },
    {
     "name": "stdout",
     "output_type": "stream",
     "text": [
      "ERROR Invalid operation: The `response.text` quick accessor requires the response to contain a valid `Part`, but none were returned. The candidate's [finish_reason](https://ai.google.dev/api/generate-content#finishreason) is 5. in Cement Garden, The (1993)\n"
     ]
    },
    {
     "name": "stderr",
     "output_type": "stream",
     "text": [
      "1447it [39:08,  1.27s/it]"
     ]
    },
    {
     "name": "stdout",
     "output_type": "stream",
     "text": [
      "ERROR Invalid operation: The `response.parts` quick accessor requires a single candidate, but but `response.candidates` is empty.\n",
      "This appears to be caused by a blocked prompt, see `response.prompt_feedback`: block_reason: OTHER\n",
      " in Kama Sutra: A Tale of Love (1996)\n"
     ]
    },
    {
     "name": "stderr",
     "output_type": "stream",
     "text": [
      "1473it [39:48,  1.49s/it]"
     ]
    },
    {
     "name": "stdout",
     "output_type": "stream",
     "text": [
      "ERROR Invalid operation: The `response.text` quick accessor requires the response to contain a valid `Part`, but none were returned. The candidate's [finish_reason](https://ai.google.dev/api/generate-content#finishreason) is 5. in Paradise Road (1997)\n"
     ]
    },
    {
     "name": "stderr",
     "output_type": "stream",
     "text": [
      "1479it [39:55,  1.02it/s]"
     ]
    },
    {
     "name": "stdout",
     "output_type": "stream",
     "text": [
      "ERROR Invalid operation: The `response.parts` quick accessor requires a single candidate, but but `response.candidates` is empty.\n",
      "This appears to be caused by a blocked prompt, see `response.prompt_feedback`: block_reason: OTHER\n",
      " in Temptress Moon (Feng Yue) (1996)\n"
     ]
    },
    {
     "name": "stderr",
     "output_type": "stream",
     "text": [
      "1492it [40:15,  1.39s/it]"
     ]
    },
    {
     "name": "stdout",
     "output_type": "stream",
     "text": [
      "ERROR Invalid operation: The `response.parts` quick accessor requires a single candidate, but but `response.candidates` is empty.\n",
      "This appears to be caused by a blocked prompt, see `response.prompt_feedback`: block_reason: OTHER\n",
      " in Intimate Relations (1996)\n"
     ]
    },
    {
     "name": "stderr",
     "output_type": "stream",
     "text": [
      "1496it [40:20,  1.12s/it]"
     ]
    },
    {
     "name": "stdout",
     "output_type": "stream",
     "text": [
      "ERROR Invalid operation: The `response.parts` quick accessor requires a single candidate, but but `response.candidates` is empty.\n",
      "This appears to be caused by a blocked prompt, see `response.prompt_feedback`: block_reason: OTHER\n",
      " in Promise, The (La Promesse) (1996)\n"
     ]
    },
    {
     "name": "stderr",
     "output_type": "stream",
     "text": [
      "1501it [40:28,  1.57s/it]"
     ]
    },
    {
     "name": "stdout",
     "output_type": "stream",
     "text": [
      "The film centers on two brothers, Lewis, who live in a caravan park in Wales. They spend their days engaging in petty crime and pranks, often at the expense of their sister and their local community. Their world is disrupted when their father is injured while working for a wealthy local businessman, Bryn Cartwright. Seeking revenge, the brothers target Bryn's family, culminating in a disastrous act that leads to the death of their own family.\n",
      "\n",
      "Desperate for retribution, the brothers escalate their feud with Bryn, culminating in a series of increasingly violent acts. The brothers tie Bryn up in his garage and leave him to suffocate, only for his wife to accidentally hang him while trying to open the door. Despite the tragic events, the brothers focus on their own desires, eventually abandoning Bryn's body at sea and setting sail themselves. The film ends with a haunting image of the brothers' boat disappearing into the distance, leaving viewers to ponder the true extent of their motivations and the consequences of their actions. \n",
      "\n"
     ]
    },
    {
     "name": "stderr",
     "output_type": "stream",
     "text": [
      "1601it [43:01,  1.52s/it]"
     ]
    },
    {
     "name": "stdout",
     "output_type": "stream",
     "text": [
      "Eugene Sands, a brilliant but troubled surgeon, loses his medical license due to drug addiction. He finds himself adrift in a seedy bar where he uses his skills to save a man's life, attracting the attention of Raymond Blossom, a ruthless crime lord. Blossom hires Sands as his personal physician, providing him with a steady supply of drugs and a sense of purpose. Sands becomes entangled in Blossom's criminal world, treating his men and their girlfriend, Claire. \n",
      "\n",
      "As Sands grows closer to Claire, he develops feelings for her, creating a conflict with his loyalty to Blossom. Meanwhile, an FBI agent blackmails Sands into becoming an informant, forcing him to navigate a dangerous game of double-dealing. He must choose between his own redemption, his love for Claire, and the safety of those around him, leading to a climactic showdown that exposes the dark underbelly of the city and the devastating consequences of his choices. \n",
      "\n"
     ]
    },
    {
     "name": "stderr",
     "output_type": "stream",
     "text": [
      "1627it [43:43,  1.14s/it]"
     ]
    },
    {
     "name": "stdout",
     "output_type": "stream",
     "text": [
      "ERROR Invalid operation: The `response.parts` quick accessor requires a single candidate, but but `response.candidates` is empty.\n",
      "This appears to be caused by a blocked prompt, see `response.prompt_feedback`: block_reason: OTHER\n",
      " in Boogie Nights (1997)\n"
     ]
    },
    {
     "name": "stderr",
     "output_type": "stream",
     "text": [
      "1652it [44:25,  1.54s/it]"
     ]
    },
    {
     "name": "stdout",
     "output_type": "stream",
     "text": [
      "ERROR Invalid operation: The `response.text` quick accessor requires the response to contain a valid `Part`, but none were returned. The candidate's [finish_reason](https://ai.google.dev/api/generate-content#finishreason) is 5. in Butcher Boy, The (1998)\n"
     ]
    },
    {
     "name": "stderr",
     "output_type": "stream",
     "text": [
      "1701it [45:37,  1.59s/it]"
     ]
    },
    {
     "name": "stdout",
     "output_type": "stream",
     "text": [
      "Detective John Hobbes, haunted by his past encounter with serial killer Edgar Reese, investigates a series of new murders mirroring Reese's style.  Following clues left by Reese and the copycat, Hobbes discovers a hidden connection to a woman named Gretta Milano, whose father was accused of occult murders.  Gretta reveals the true culprit: Azazel, a fallen angel who can possess humans through touch.  Azazel's presence is confirmed by a disturbing symbol found in the Milano family's abandoned lake house.\n",
      "\n",
      "Azazel, possessing various individuals, attempts to ruin Hobbes' life, culminating in the tragic death of his brother.  The demon frames Hobbes for murder, turning the detective into a fugitive. Gretta reveals that Azazel can only travel for as long as one breath, providing Hobbes with a plan.\n",
      "\n",
      "Hobbes baits Azazel into possessing his partner Jonesy, then uses a poisoned cigarette to force the demon out of his host.  With no other options, Azazel is trapped and succumbs to the poison.  However, in a final twist, the demon survives by possessing a cat, leaving audiences with a chilling reminder of his enduring presence. \n",
      "\n"
     ]
    },
    {
     "name": "stderr",
     "output_type": "stream",
     "text": [
      "1793it [48:02,  1.19s/it]"
     ]
    },
    {
     "name": "stdout",
     "output_type": "stream",
     "text": [
      "ERROR Invalid operation: The `response.parts` quick accessor requires a single candidate, but but `response.candidates` is empty.\n",
      "This appears to be caused by a blocked prompt, see `response.prompt_feedback`: block_reason: OTHER\n",
      " in Species II (1998)\n"
     ]
    },
    {
     "name": "stderr",
     "output_type": "stream",
     "text": [
      "1801it [48:14,  1.52s/it]"
     ]
    },
    {
     "name": "stdout",
     "output_type": "stream",
     "text": [
      "Four young men, Keller, Terrell, John, and Squirrel, stand at a crossroads in their lives. Freshly graduated from high school in the sleepy West Texas town of Dancer, they face a daunting choice: stay or leave for the bright lights of Los Angeles. This choice is complicated by their families' wishes and expectations. Terrell, from a wealthy family, clashes with his overbearing mother who demands he stay and join the family oil business. John, tied to his family's ranch, is expected to continue their legacy and study agriculture. Squirrel, living in a rundown trailer with his unreliable father, feels obligated to stay and care for him. Only Keller, living with his encouraging grandfather, has no major familial obstacle to leaving. The film explores the struggle of these young men as they navigate their desires for a new life in the city against their family obligations and the comforting familiarity of their hometown. \n",
      "\n"
     ]
    },
    {
     "name": "stderr",
     "output_type": "stream",
     "text": [
      "1901it [51:02,  1.82s/it]"
     ]
    },
    {
     "name": "stdout",
     "output_type": "stream",
     "text": [
      "One year after Freddy's rampage in \"A Nightmare on Elm Street 2,\" teenager Kristen Parker becomes his new target. Her nightmares manifest as real-world injuries, leading to her hospitalization at Westin Hills Psychiatric Hospital.  There, she encounters fellow patients, including Nancy Thompson, who becomes her ally.  Kristen's unique ability to pull others into her dreams allows Nancy to enter the dream world and help her fight Freddy.\n",
      "\n",
      "Freddy systematically kills the patients, revealing that they are the \"Elm Street kids,\" children whose parents burned Krueger years ago.  The remaining patients attempt group hypnosis to access their dream powers. While Freddy traps Joey, the dean shuts down their efforts.  \n",
      "\n",
      "The film reveals the tragic origin of Freddy: he was the son of a woman who was raped repeatedly while locked in the hospital.  To defeat him, Nancy and Dr. Neil Gordon must find his bones and lay them to rest.  They succeed, but Freddy kills both Nancy and Don Thompson, Nancy's father. \n",
      "\n",
      "Just as it seems Freddy is defeated, a final scene suggests his potential return, leaving the audience with a chilling sense of unease. \n",
      "\n"
     ]
    },
    {
     "name": "stderr",
     "output_type": "stream",
     "text": [
      "1939it [52:05,  1.41s/it]"
     ]
    },
    {
     "name": "stdout",
     "output_type": "stream",
     "text": [
      "ERROR Invalid operation: The `response.text` quick accessor requires the response to contain a valid `Part`, but none were returned. The candidate's [finish_reason](https://ai.google.dev/api/generate-content#finishreason) is 5. in This World, Then the Fireworks (1996)\n"
     ]
    },
    {
     "name": "stderr",
     "output_type": "stream",
     "text": [
      "1956it [52:35,  1.33s/it]"
     ]
    },
    {
     "name": "stdout",
     "output_type": "stream",
     "text": [
      "ERROR Invalid operation: The `response.parts` quick accessor requires a single candidate, but but `response.candidates` is empty.\n",
      "This appears to be caused by a blocked prompt, see `response.prompt_feedback`: block_reason: OTHER\n",
      " in Lolita (1997)\n"
     ]
    },
    {
     "name": "stderr",
     "output_type": "stream",
     "text": [
      "2001it [53:50,  1.60s/it]"
     ]
    },
    {
     "name": "stdout",
     "output_type": "stream",
     "text": [
      "Mac Sledge, a washed-up country singer, finds redemption at a Texas motel run by a young widow, Rosa Lee. He trades his alcoholism for work, eventually falling in love with Rosa Lee and finding solace in their shared faith. However, his past as a famous singer is revealed, bringing unwanted attention and stirring up old wounds with his ex-wife, country music star Dixie Scott.\n",
      "\n",
      "Mac struggles with his past demons, including a violent incident with Dixie, but finds strength in his newfound family with Rosa Lee and Sonny. While his daughter Sue Anne tries to connect with him, their relationship remains strained by Dixie's interference.\n",
      "\n",
      "Mac faces more heartbreak when Sue Anne tragically dies, leaving him grappling with grief and questioning the meaning of his newfound happiness. Despite the pain, Mac finds comfort in his family and music, continuing to build a new life with Rosa Lee and Sonny. The film ends with Mac finding joy in simple moments with his son, suggesting that even amidst tragedy, love and redemption can prevail. \n",
      "\n"
     ]
    },
    {
     "name": "stderr",
     "output_type": "stream",
     "text": [
      "2096it [56:30,  1.11s/it]"
     ]
    },
    {
     "name": "stdout",
     "output_type": "stream",
     "text": [
      "ERROR Invalid operation: The `response.parts` quick accessor requires a single candidate, but but `response.candidates` is empty.\n",
      "This appears to be caused by a blocked prompt, see `response.prompt_feedback`: block_reason: OTHER\n",
      " in Your Friends and Neighbors (1998)\n"
     ]
    },
    {
     "name": "stderr",
     "output_type": "stream",
     "text": [
      "2101it [56:40,  1.79s/it]"
     ]
    },
    {
     "name": "stdout",
     "output_type": "stream",
     "text": [
      "World-renowned violinist Ryan Harrison finds himself framed for the murder of his sponsor, Hibbing Goodhue. After witnessing Goodhue's death and a violent struggle, Harrison is arrested and convicted, despite his claims of innocence. He escapes prison and sets out to clear his name, encountering the seductive wife, Lauren, and a mysterious woman named Cass, who claims to know the truth.\n",
      "\n",
      "Through a series of encounters and investigations, Harrison uncovers a conspiracy involving terrorism, assassination, and family secrets. He discovers that Lauren and her accomplice, Sean, a disabled man with hidden motives, killed Goodhue to further their own agenda. Cass, revealed to be Lauren's sister, is initially complicit but eventually betrays them, driven by love for Harrison and a desire to protect her father, the UN Secretary-General McKintyre, who is targeted for assassination. \n",
      "\n",
      "Harrison narrowly escapes death at the hands of Cass, who ultimately chooses to protect McKintyre and expose the conspiracy. In a climactic showdown at a Scottish festival, Harrison and Cass thwart the assassination attempt, saving McKintyre's life.  With the truth exposed, Harrison is finally exonerated and finds solace with Cass, embarking on a new chapter filled with unexpected romance and adventure. \n",
      "\n"
     ]
    },
    {
     "name": "stderr",
     "output_type": "stream",
     "text": [
      "2112it [56:57,  1.36s/it]"
     ]
    },
    {
     "name": "stdout",
     "output_type": "stream",
     "text": [
      "ERROR Invalid operation: The `response.parts` quick accessor requires a single candidate, but but `response.candidates` is empty.\n",
      "This appears to be caused by a blocked prompt, see `response.prompt_feedback`: block_reason: OTHER\n",
      " in Marnie (1964)\n"
     ]
    },
    {
     "name": "stderr",
     "output_type": "stream",
     "text": [
      "2123it [57:16,  1.58s/it]"
     ]
    },
    {
     "name": "stdout",
     "output_type": "stream",
     "text": [
      "ERROR Invalid operation: The `response.text` quick accessor requires the response to contain a valid `Part`, but none were returned. The candidate's [finish_reason](https://ai.google.dev/api/generate-content#finishreason) is 5. in See the Sea (Regarde la mer) (1997)\n"
     ]
    },
    {
     "name": "stderr",
     "output_type": "stream",
     "text": [
      "2128it [57:23,  1.25s/it]"
     ]
    },
    {
     "name": "stdout",
     "output_type": "stream",
     "text": [
      "ERROR Invalid operation: The `response.parts` quick accessor requires a single candidate, but but `response.candidates` is empty.\n",
      "This appears to be caused by a blocked prompt, see `response.prompt_feedback`: block_reason: OTHER\n",
      " in Firelight (1997)\n"
     ]
    },
    {
     "name": "stderr",
     "output_type": "stream",
     "text": [
      "2201it [59:21,  1.80s/it]"
     ]
    },
    {
     "name": "stdout",
     "output_type": "stream",
     "text": [
      "\"Century of Cinema\" (1994) is a sweeping documentary that chronicles the history of filmmaking, from its humble beginnings in the late 19th century to the dawn of the digital age. The film explores key milestones, genres, and movements, weaving together interviews with celebrated directors, actors, and critics. \n",
      "\n",
      "The documentary begins with the invention of the Lumière brothers' cinematograph, and the emergence of early cinema as a novelty. It then traces the development of narrative film, highlighting the influence of pioneers like Georges Méliès and D.W. Griffith. The silent era, with its iconic stars like Charlie Chaplin and Rudolph Valentino, is explored in detail.\n",
      "\n",
      "The arrival of sound revolutionized the industry, ushering in the Golden Age of Hollywood. The film explores the rise of studio systems, the impact of the Great Depression, and the emergence of genres like screwball comedies, musicals, and film noir. \n",
      "\n",
      "The documentary delves into the postwar period, examining the influence of European art cinema and the rise of independent filmmaking in America. It highlights the impact of directors like Alfred Hitchcock, Federico Fellini, and Akira Kurosawa. \n",
      "\n",
      "The final sections of the film focus on the impact of technology on cinema, from the rise of television to the arrival of digital filmmaking. The documentary explores the changing landscape of the industry, and the challenges and opportunities presented by new technologies. \n",
      "\n",
      "Throughout its journey, \"Century of Cinema\" emphasizes the evolution of film as an art form, reflecting social and cultural changes throughout the 20th century. The film celebrates the enduring power of cinema to entertain, enlighten, and inspire audiences across generations. \n",
      "\n"
     ]
    },
    {
     "name": "stderr",
     "output_type": "stream",
     "text": [
      "2215it [59:43,  1.30s/it]"
     ]
    },
    {
     "name": "stdout",
     "output_type": "stream",
     "text": [
      "ERROR Invalid operation: The `response.parts` quick accessor requires a single candidate, but but `response.candidates` is empty.\n",
      "This appears to be caused by a blocked prompt, see `response.prompt_feedback`: block_reason: OTHER\n",
      " in Bandit Queen (1994)\n"
     ]
    },
    {
     "name": "stderr",
     "output_type": "stream",
     "text": [
      "2249it [1:00:37,  1.06s/it]"
     ]
    },
    {
     "name": "stdout",
     "output_type": "stream",
     "text": [
      "ERROR Invalid operation: The `response.parts` quick accessor requires a single candidate, but but `response.candidates` is empty.\n",
      "This appears to be caused by a blocked prompt, see `response.prompt_feedback`: block_reason: OTHER\n",
      " in Happiness (1998)\n"
     ]
    },
    {
     "name": "stderr",
     "output_type": "stream",
     "text": [
      "2264it [1:01:01,  1.30s/it]"
     ]
    },
    {
     "name": "stdout",
     "output_type": "stream",
     "text": [
      "ERROR Invalid operation: The `response.parts` quick accessor requires a single candidate, but but `response.candidates` is empty.\n",
      "This appears to be caused by a blocked prompt, see `response.prompt_feedback`: block_reason: OTHER\n",
      " in Gods and Monsters (1998)\n"
     ]
    },
    {
     "name": "stderr",
     "output_type": "stream",
     "text": [
      "2301it [1:02:02,  1.74s/it]"
     ]
    },
    {
     "name": "stdout",
     "output_type": "stream",
     "text": [
      "Bill Markham, an engineer working on a hydroelectric dam in Brazil, loses his son Tommy to an indigenous tribe, the Invisible People, when he wanders off during a family picnic. Ten years later, the dam is nearing completion, and Tommy, now called Tomme, has become a member of the Invisible People. \n",
      "\n",
      "Markham eventually learns the identity of his son's abductors and sets out to find him. He encounters the Fierce People, a cannibalistic tribe, and is captured. Tomme, on a vision quest, stumbles upon his father and they escape together.\n",
      "\n",
      "Markham learns about the Invisible People's culture and their relationship with the forest. He witnesses Tomme's marriage to Kachiri, a young woman from the tribe. \n",
      "\n",
      "The Fierce People, driven by greed and the destructive power of Markham's lost weapon, capture the Invisible People's women and attack their village. Tomme and his friends, with Markham's help, rescue the women and defeat the Fierce People.\n",
      "\n",
      "Despite the victory, the dam, a symbol of the encroaching modern world, threatens the tribe's survival. Markham, torn between his son's chosen way of life and his own sense of responsibility, helps the tribe by destroying the dam with explosives. The film ends with Tomme and Kachiri enjoying the restored harmony between their tribe and the natural world. \n",
      "\n"
     ]
    },
    {
     "name": "stderr",
     "output_type": "stream",
     "text": [
      "2401it [1:04:50,  1.52s/it]"
     ]
    },
    {
     "name": "stdout",
     "output_type": "stream",
     "text": [
      "Sue Charlton, a journalist, travels to the Australian Outback to interview Michael \"Crocodile\" Dundee, a legendary bushman. While she initially finds him less impressive than she expected, Sue witnesses his incredible survival skills and resourcefulness in the wild. They fall for each other, but Sue is torn when her fiancé, Richard, proposes to her. After realising her true feelings, she follows Mick to New York City, where they reunite amidst a crowd, sharing a passionate kiss. \n",
      "\n"
     ]
    },
    {
     "name": "stderr",
     "output_type": "stream",
     "text": [
      "2488it [1:07:21,  1.09s/it]"
     ]
    },
    {
     "name": "stdout",
     "output_type": "stream",
     "text": [
      "ERROR Invalid operation: The `response.parts` quick accessor requires a single candidate, but but `response.candidates` is empty.\n",
      "This appears to be caused by a blocked prompt, see `response.prompt_feedback`: block_reason: OTHER\n",
      " in I Stand Alone (Seul contre tous) (1998)\n"
     ]
    },
    {
     "name": "stderr",
     "output_type": "stream",
     "text": [
      "2498it [1:07:38,  1.27s/it]"
     ]
    },
    {
     "name": "stdout",
     "output_type": "stream",
     "text": [
      "ERROR Invalid operation: The `response.parts` quick accessor requires a single candidate, but but `response.candidates` is empty.\n",
      "This appears to be caused by a blocked prompt, see `response.prompt_feedback`: block_reason: OTHER\n",
      " in EDtv (1999)\n"
     ]
    },
    {
     "name": "stderr",
     "output_type": "stream",
     "text": [
      "2501it [1:07:42,  1.36s/it]"
     ]
    },
    {
     "name": "stdout",
     "output_type": "stream",
     "text": [
      "In the summer of 1969, Pearl Kantrowitz, a restless housewife, finds herself drawn to the carefree charm of Walker Jerome, a charismatic salesman, while on vacation with her family at a Catskills resort. While her husband Marty works long hours to prepare for the moon landing, Pearl and Walker embark on a passionate affair. \n",
      "\n",
      "Meanwhile, their teenage daughter Alison navigates her own summer of firsts, experiencing adolescence amidst the cultural upheaval of the era. As the iconic Woodstock festival takes place nearby, tensions rise between Pearl and her family. Alison discovers her mother's infidelity and confronts her, leaving Pearl to grapple with her conflicting desires for freedom and family.  \n",
      "\n",
      "Ultimately, Pearl chooses to stay with Marty, acknowledging the love and stability she has with her family. The film ends with Pearl and Marty dancing together, symbolizing their commitment despite the summer's tumultuous events and the changing tides of the era. \n",
      "\n"
     ]
    },
    {
     "name": "stderr",
     "output_type": "stream",
     "text": [
      "2533it [1:08:30,  1.06it/s]"
     ]
    },
    {
     "name": "stdout",
     "output_type": "stream",
     "text": [
      "ERROR Invalid operation: The `response.parts` quick accessor requires a single candidate, but but `response.candidates` is empty.\n",
      "This appears to be caused by a blocked prompt, see `response.prompt_feedback`: block_reason: OTHER\n",
      " in Mighty Peking Man (Hsing hsing wang) (1977)\n"
     ]
    },
    {
     "name": "stderr",
     "output_type": "stream",
     "text": [
      "2552it [1:09:01,  1.11s/it]"
     ]
    },
    {
     "name": "stdout",
     "output_type": "stream",
     "text": [
      "ERROR Invalid operation: The `response.parts` quick accessor requires a single candidate, but but `response.candidates` is empty.\n",
      "This appears to be caused by a blocked prompt, see `response.prompt_feedback`: block_reason: OTHER\n",
      " in Xiu Xiu: The Sent-Down Girl (Tian yu) (1998)\n"
     ]
    },
    {
     "name": "stderr",
     "output_type": "stream",
     "text": [
      "2601it [1:10:29,  1.78s/it]"
     ]
    },
    {
     "name": "stdout",
     "output_type": "stream",
     "text": [
      "Commander Richardson, a vengeful US Navy officer, is determined to sink the Japanese destroyer Akikaze and its captain, \"Bungo Pete,\" who has sunk four American submarines. He is granted command of the USS Nerka, but only under the condition that his executive officer, Lieutenant Bledsoe, be a recently returned veteran.\n",
      "\n",
      "Richardson ruthlessly trains his crew for a risky bow shot attack, bypassing legitimate targets to reach the Bungo Straits, defying his orders.  They encounter a Japanese convoy, sinking a cargo ship and engaging Bungo Pete, but are ambushed by aircraft. They barely survive, suffering casualties and a concussion for Richardson. By sending debris and bodies to the surface, they convince the Japanese they've been sunk.\n",
      "\n",
      "Bledsoe, now in command due to Richardson's injury, realizes the Japanese identified the crew through their floating debris.  He returns to the Bungo Straits and sinks the Akikaze with a bow shot, only to be attacked by another torpedo.  Richardson deduces the Akikaze was working with a Japanese submarine. The Nerka dives just in time to avoid a torpedo, and then forces the Japanese sub to surface.  They destroy the sub with torpedoes, achieving their objective.\n",
      "\n",
      "Richardson succumbs to his injuries and dies, leaving Bledsoe to lead the crew home. While the film focuses on revenge, it also explores the complexities of war and the sacrifices made by those who fight it. \n",
      "\n"
     ]
    },
    {
     "name": "stderr",
     "output_type": "stream",
     "text": [
      "2643it [1:11:32,  1.23s/it]"
     ]
    },
    {
     "name": "stdout",
     "output_type": "stream",
     "text": [
      "ERROR Invalid operation: The `response.parts` quick accessor requires a single candidate, but but `response.candidates` is empty.\n",
      "This appears to be caused by a blocked prompt, see `response.prompt_feedback`: block_reason: OTHER\n",
      " in Eyes Wide Shut (1999)\n"
     ]
    },
    {
     "name": "stderr",
     "output_type": "stream",
     "text": [
      "2660it [1:12:01,  1.66s/it]"
     ]
    },
    {
     "name": "stdout",
     "output_type": "stream",
     "text": [
      "ERROR Invalid operation: The `response.text` quick accessor requires the response to contain a valid `Part`, but none were returned. The candidate's [finish_reason](https://ai.google.dev/api/generate-content#finishreason) is 5. in Lolita (1962)\n"
     ]
    },
    {
     "name": "stderr",
     "output_type": "stream",
     "text": [
      "2701it [1:13:06,  1.38s/it]"
     ]
    },
    {
     "name": "stdout",
     "output_type": "stream",
     "text": [
      "Bobby Bowfinger, a struggling B-movie producer, dreams of directing his script \"Chubby Rain.\" With limited funds, he assembles a ragtag cast and crew, including a group of undocumented immigrants. To secure distribution, Bowfinger needs action star Kit Ramsey, who initially refuses.\n",
      "\n",
      "Bowfinger devises a plan to film Ramsey's scenes without his knowledge, convincing him that he's being stalked by aliens. Ramsey, already mentally unstable, believes the elaborate charade and delivers an intense performance. However, the pressure takes a toll on him, forcing him to go into hiding.\n",
      "\n",
      "Desperate, Bowfinger finds Jiff, a lookalike who turns out to be Ramsey's twin brother. He uses Jiff to locate Ramsey and complete the film's final scene. During filming, Ramsey breaks down and the production is shut down by his MindHead mentor.\n",
      "\n",
      "Bowfinger discovers incriminating footage of Ramsey and blackmails the MindHead leadership, forcing them to let him finish the film.  The movie is a success, leading to Bowfinger directing a new martial arts film in Taiwan starring Jiff.  The film ends with a fight scene featuring the entire \"Chubby Rain\" cast and crew, symbolizing their shared journey. \n",
      "\n"
     ]
    },
    {
     "name": "stderr",
     "output_type": "stream",
     "text": [
      "2783it [1:15:21,  1.64s/it]"
     ]
    },
    {
     "name": "stdout",
     "output_type": "stream",
     "text": [
      "ERROR Invalid operation: The `response.text` quick accessor requires the response to contain a valid `Part`, but none were returned. The candidate's [finish_reason](https://ai.google.dev/api/generate-content#finishreason) is 5. in Soldier's Story, A (1984)\n"
     ]
    },
    {
     "name": "stderr",
     "output_type": "stream",
     "text": [
      "2801it [1:15:50,  1.57s/it]"
     ]
    },
    {
     "name": "stdout",
     "output_type": "stream",
     "text": [
      "\"Barefoot in the Park\" follows the newly married couple, free-spirited Corie and uptight Paul, as they navigate life in a cramped Greenwich Village apartment. Their eccentric neighbors, especially the flamboyant Victor, add to the chaos. Corie, eager to spice up her mother's life, sets up a dinner date with Victor, leading to a night of drunken antics and cultural immersion. Their contrasting personalities clash, culminating in an argument about Corie's desire for adventure and Paul's cautious nature. \n",
      "\n",
      "A series of mishaps, including Ethel's accidental fall and subsequent overnight stay at Victor's apartment in a state of disarray, throws the couple's relationship into further disarray. The situation escalates when a drunken Paul, influenced by his wife's earlier criticism, climbs onto their apartment's roof in a moment of reckless abandon. Corie's initial fear turns into a race against time to bring him down safely. The climax sees Corie reaching Paul on the roof, a crowd gathering, and Ethel and Victor witnessing their reconciliation. This unexpected situation leads to a change in perspective for both Corie and Paul, ultimately bringing them closer together. \n",
      "\n"
     ]
    },
    {
     "name": "stderr",
     "output_type": "stream",
     "text": [
      "2825it [1:16:29,  1.52s/it]"
     ]
    },
    {
     "name": "stdout",
     "output_type": "stream",
     "text": [
      "ERROR Invalid operation: The `response.text` quick accessor requires the response to contain a valid `Part`, but none were returned. The candidate's [finish_reason](https://ai.google.dev/api/generate-content#finishreason) is 5. in Romance (1999)\n"
     ]
    },
    {
     "name": "stderr",
     "output_type": "stream",
     "text": [
      "2842it [1:16:56,  1.06s/it]"
     ]
    },
    {
     "name": "stdout",
     "output_type": "stream",
     "text": [
      "ERROR Invalid operation: The `response.parts` quick accessor requires a single candidate, but but `response.candidates` is empty.\n",
      "This appears to be caused by a blocked prompt, see `response.prompt_feedback`: block_reason: OTHER\n",
      " in Grandfather, The (El Abuelo) (1998)\n"
     ]
    },
    {
     "name": "stderr",
     "output_type": "stream",
     "text": [
      "2881it [1:18:02,  1.19s/it]"
     ]
    },
    {
     "name": "stdout",
     "output_type": "stream",
     "text": [
      "ERROR Invalid operation: The `response.parts` quick accessor requires a single candidate, but but `response.candidates` is empty.\n",
      "This appears to be caused by a blocked prompt, see `response.prompt_feedback`: block_reason: OTHER\n",
      " in Blue Lagoon, The (1980)\n"
     ]
    },
    {
     "name": "stderr",
     "output_type": "stream",
     "text": [
      "2901it [1:18:33,  1.84s/it]"
     ]
    },
    {
     "name": "stdout",
     "output_type": "stream",
     "text": [
      "Fitzcarraldo, an Irishman living in the booming rubber city of Iquitos, Peru, dreams of bringing opera to the region. He's a dreamer with a tenacious spirit but little money.  He attempts to make his fortune through various ventures, including a failed attempt to build a Trans-Andean railway. \n",
      "\n",
      "He learns about a remote, unclaimed rubber area in the Amazon basin, accessible only by a treacherous river route.  Fitzcarraldo leases the land and, with the help of his lover Molly, a successful brothel owner, acquires a steamship.  He intends to pull the ship over a mountain separating two rivers, allowing him to transport rubber efficiently.\n",
      "\n",
      "His crew deserts him after entering indigenous territory, leaving only the captain, engineer, and cook.  Astonishingly, the natives, impressed by the steamship, agree to help Fitzcarraldo.  After months of grueling work, they succeed in moving the ship over the mountain.  However, the native chief, in an attempt to appease the river gods, sabotages the ship, sending it hurtling through the rapids.  Fitzcarraldo, though unable to stop the ship, miraculously survives.\n",
      "\n",
      "Despite his setbacks, Fitzcarraldo manages to bring opera to Iquitos.  He sells his ship, but before the transaction is complete, he brings in a European opera company. Lacking an opera house, he sets up the stage on the ship's deck and sails it down the river, captivating the entire city of Iquitos with the power of music.  His unwavering passion and relentless pursuit of his dream, against all odds, ultimately triumph. \n",
      "\n"
     ]
    },
    {
     "name": "stderr",
     "output_type": "stream",
     "text": [
      "2995it [1:21:14,  1.63s/it]"
     ]
    },
    {
     "name": "stdout",
     "output_type": "stream",
     "text": [
      "ERROR Invalid operation: The `response.text` quick accessor requires the response to contain a valid `Part`, but none were returned. The candidate's [finish_reason](https://ai.google.dev/api/generate-content#finishreason) is 5. in Poison Ivy: New Seduction (1997)\n"
     ]
    },
    {
     "name": "stderr",
     "output_type": "stream",
     "text": [
      "3001it [1:21:23,  1.67s/it]"
     ]
    },
    {
     "name": "stdout",
     "output_type": "stream",
     "text": [
      "Buckaroo Banzai, a scientist and rock star, invents the \"oscillation overthruster,\" a device allowing travel through solid matter.  He tests it by driving his car through a mountain, finding himself in another dimension. He returns with an alien organism attached to his car. Meanwhile, Dr. Emilio Lizardo, a former colleague of Banzai's mentor, escapes from an asylum, seeking the overthruster after his own failed dimensional travel in 1938. He seeks to use it for his own nefarious purposes.\n",
      "\n",
      "Banzai encounters Penny Priddy, the twin sister of his late wife, while performing with his band.  He is later kidnapped by alien beings, but escapes and learns that these are the Red Lectroids, who have been battling the Black Lectroids for years. Banzai's overthruster has become crucial to the war, as it could allow the Red Lectroids to return to Earth in full force.\n",
      "\n",
      "The Red Lectroids kidnap Penny, unaware that she is carrying the overthruster. Banzai and his allies pursue them to Yoyodyne, where the Red Lectroids attempt to launch their own dimensional spacecraft. A chaotic battle ensues, during which Banzai manages to destroy the Red Lectroids and prevent them from unleashing a devastating war. However, Penny succumbs to her injuries. In a last twist, the Black Lectroids revive her, leaving Banzai to face a new future with his resurrected love and the continued threat of interdimensional conflict. \n",
      "\n"
     ]
    },
    {
     "name": "stderr",
     "output_type": "stream",
     "text": [
      "3025it [1:22:02,  1.11s/it]"
     ]
    },
    {
     "name": "stdout",
     "output_type": "stream",
     "text": [
      "ERROR Invalid operation: The `response.parts` quick accessor requires a single candidate, but but `response.candidates` is empty.\n",
      "This appears to be caused by a blocked prompt, see `response.prompt_feedback`: block_reason: OTHER\n",
      " in Maurice (1987)\n"
     ]
    },
    {
     "name": "stderr",
     "output_type": "stream",
     "text": [
      "3101it [1:24:11,  1.42s/it]"
     ]
    },
    {
     "name": "stdout",
     "output_type": "stream",
     "text": [
      "In this 1940 film, a group of Confederate deserters, led by Captain Mark Smith, kill Colonel Marcus Jeffries, a newly appointed U.S. Treasury official sent to collect taxes in Texas. Smith assumes Jeffries' identity and plots to seize control of Texas, aiming to become a dictator. \n",
      "\n",
      "Meanwhile, the Texas Rangers are sent to investigate the colonel's disappearance. They are ambushed, but one Ranger survives. With the help of Tonto, he recovers and vows to avenge the massacre and stop Smith's tyrannical ambitions. \n",
      "\n"
     ]
    },
    {
     "name": "stderr",
     "output_type": "stream",
     "text": [
      "3201it [1:27:01,  1.74s/it]"
     ]
    },
    {
     "name": "stdout",
     "output_type": "stream",
     "text": [
      "Kate Moseley, a talented but spoiled figure skater, struggles to find a partner for the 1992 Olympics. Her demanding personality drives away everyone until her coach finds Doug Dorsey, a former hockey player with a damaged vision. Doug initially despises figure skating but finds a common ground with Kate through their shared ambition and competitive spirit. They develop a tense, yet respectful relationship, pushing each other to their limits.\n",
      "\n",
      "Despite their initial friction, their chemistry on the ice grows, causing romantic tension. After a night of celebration, Kate attempts to seduce Doug, but he rejects her, fearing it could damage their partnership.  A misunderstanding with another skater further complicates their relationship, but they overcome their personal issues to focus on their shared goal.\n",
      "\n",
      "At the Olympics, they face a challenge when their competitive drive almost derails their performance. Doug confesses his love for Kate, inspiring her to believe in them.  They successfully execute a risky move, winning the gold medal and finally finding love. \n",
      "\n"
     ]
    },
    {
     "name": "stderr",
     "output_type": "stream",
     "text": [
      "3203it [1:27:02,  1.17s/it]"
     ]
    },
    {
     "name": "stdout",
     "output_type": "stream",
     "text": [
      "ERROR Invalid operation: The `response.parts` quick accessor requires a single candidate, but but `response.candidates` is empty.\n",
      "This appears to be caused by a blocked prompt, see `response.prompt_feedback`: block_reason: OTHER\n",
      " in Bad Lieutenant (1992)\n"
     ]
    },
    {
     "name": "stderr",
     "output_type": "stream",
     "text": [
      "3211it [1:27:17,  1.86s/it]"
     ]
    },
    {
     "name": "stdout",
     "output_type": "stream",
     "text": [
      "ERROR Invalid operation: The `response.text` quick accessor requires the response to contain a valid `Part`, but none were returned. The candidate's [finish_reason](https://ai.google.dev/api/generate-content#finishreason) is 5. in Baby, The (1973)\n"
     ]
    },
    {
     "name": "stderr",
     "output_type": "stream",
     "text": [
      "3301it [1:29:43,  1.77s/it]"
     ]
    },
    {
     "name": "stdout",
     "output_type": "stream",
     "text": [
      "In the heartland of America, FBI agent Catherine Weaver, disguised as Katie Phillips, infiltrates a seemingly idyllic farming community suspected of harboring a dangerous group. Initially charmed by farmer Gary Simmons and his family, Katie begins to doubt the FBI's suspicions. Her love for Gary deepens, but unsettling events and whispers of family secrets soon unravel the peaceful façade.\n",
      "\n",
      "Witnessing a chilling ritual involving a black man hunted and killed by the community, Katie's suspicions are confirmed. She informs the FBI, but is sent back to gather more evidence.  Katie discovers the family's true agenda: indoctrinating their children with hate and planning a bank heist in Chicago.\n",
      "\n",
      "During the robbery, Katie shoots a guard, ultimately saving his life, but inadvertently killing a member of the group.  Her next mission is to expose the person the stolen money will be used to fund. Despite Gary's discovery of her true identity, he takes her on his final assignment. Katie, desperate to stop him from killing her, is forced to take his life in self-defense.  \n",
      "\n",
      "Haunted by the events, Katie quits the FBI and visits Gary's family, forever changed by her experience and the dark secret hidden within the seemingly innocent community. \n",
      "\n"
     ]
    },
    {
     "name": "stderr",
     "output_type": "stream",
     "text": [
      "3380it [1:31:47,  1.18s/it]"
     ]
    },
    {
     "name": "stdout",
     "output_type": "stream",
     "text": [
      "ERROR Invalid operation: The `response.parts` quick accessor requires a single candidate, but but `response.candidates` is empty.\n",
      "This appears to be caused by a blocked prompt, see `response.prompt_feedback`: block_reason: OTHER\n",
      " in Good Mother, The (1988)\n"
     ]
    },
    {
     "name": "stderr",
     "output_type": "stream",
     "text": [
      "3401it [1:32:25,  1.95s/it]"
     ]
    },
    {
     "name": "stdout",
     "output_type": "stream",
     "text": [
      "\"Dersu Uzala\" follows the unlikely friendship between Arsenyev, a Russian military surveyor, and Dersu Uzala, a nomadic hunter of the Udege people, in the vast wilderness of the Russian Far East in the early 20th century.\n",
      "\n",
      "Arsenyev, tasked with mapping the Amur River region, finds himself lost and struggling to navigate the unfamiliar terrain. He encounters Dersu, a skilled hunter and tracker who guides him through the dense forests, teaches him the ways of the wilderness, and shares his deep respect for nature.\n",
      "\n",
      "Their bond strengthens as they face challenges together, including dangerous encounters with wild animals, harsh winter conditions, and the encroaching presence of modern civilization. Dersu's wisdom and knowledge of the land prove invaluable, allowing Arsenyev to complete his mission.\n",
      "\n",
      "However, as the world changes, Dersu struggles to adapt to the encroachment of modernization and the loss of his traditional way of life. He faces discrimination and suspicion from the authorities, ultimately leading him to seek refuge in the wilderness.\n",
      "\n",
      "Arsenyev, deeply affected by the loss of his friend, struggles to reconcile Dersu's fate with the changing world. The film poignantly explores themes of cultural clash, the resilience of nature, and the importance of respecting the wisdom of those who live in harmony with it. \n",
      "\n",
      "\"Dersu Uzala\" celebrates the power of friendship, the beauty of the natural world, and the enduring legacy of those who live in harmony with it. The film's stunning cinematography and moving story earned it the Academy Award for Best Foreign Language Film.\n",
      "\n"
     ]
    },
    {
     "name": "stderr",
     "output_type": "stream",
     "text": [
      "3459it [1:33:57,  1.13s/it]"
     ]
    },
    {
     "name": "stdout",
     "output_type": "stream",
     "text": [
      "ERROR Invalid operation: The `response.parts` quick accessor requires a single candidate, but but `response.candidates` is empty.\n",
      "This appears to be caused by a blocked prompt, see `response.prompt_feedback`: block_reason: OTHER\n",
      " in Prince of Tides, The (1991)\n"
     ]
    },
    {
     "name": "stderr",
     "output_type": "stream",
     "text": [
      "3487it [1:34:41,  1.23s/it]"
     ]
    },
    {
     "name": "stdout",
     "output_type": "stream",
     "text": [
      "ERROR Invalid operation: The `response.parts` quick accessor requires a single candidate, but but `response.candidates` is empty.\n",
      "This appears to be caused by a blocked prompt, see `response.prompt_feedback`: block_reason: OTHER\n",
      " in Virgin Suicides, The (1999)\n"
     ]
    },
    {
     "name": "stderr",
     "output_type": "stream",
     "text": [
      "3501it [1:35:02,  1.39s/it]"
     ]
    },
    {
     "name": "stdout",
     "output_type": "stream",
     "text": [
      "In the early 1920s, amidst the turbulent backdrop of British rule waning in southern Ireland, the Anglo-Irish Naylor family, led by Sir Richard and Lady Myra, reside in their grand country estate. Their niece Lois, a spirited young woman, is pursued by a British officer, while their nephew Laurence observes the unfolding chaos. The arrival of the Montmorency family, secretly homeless, adds to the household's complexity.\n",
      "\n",
      "The peace is shattered with the entry of Marda Norton, a mysterious woman who stirs up tension. The situation further escalates when an escaped Irish Volunteer commander seeks refuge, fleeing British soldiers and police. The Naylor estate becomes a stage for simmering political tensions, personal entanglements, and hidden agendas, all set against the backdrop of a nation struggling for its independence. \n",
      "\n"
     ]
    },
    {
     "name": "stderr",
     "output_type": "stream",
     "text": [
      "3547it [1:36:18,  1.84s/it]"
     ]
    },
    {
     "name": "stdout",
     "output_type": "stream",
     "text": [
      "ERROR Invalid operation: The `response.text` quick accessor requires the response to contain a valid `Part`, but none were returned. The candidate's [finish_reason](https://ai.google.dev/api/generate-content#finishreason) is 5. in Loser (2000)\n"
     ]
    },
    {
     "name": "stderr",
     "output_type": "stream",
     "text": [
      "3601it [1:37:47,  1.55s/it]"
     ]
    },
    {
     "name": "stdout",
     "output_type": "stream",
     "text": [
      "\"The Story of G Company\" follows the journey of a group of inexperienced American soldiers, C Company, 18th Infantry, as they face the horrors of World War II. War correspondent Ernie Pyle joins them on their first deployment, witnessing their baptism by fire at the disastrous Battle of Kasserine Pass.  \n",
      "\n",
      "Pyle witnesses the men transform from naive recruits into hardened veterans, capable of brutal combat. He follows their progress through Italy, observing their courage and their increasing loss of innocence. He also becomes aware of the toll war takes on the men, as they endure grueling battles, constant danger, and the heavy burden of death.  \n",
      "\n",
      "The story culminates at Monte Cassino, where the company faces intense fighting and heavy casualties. Pyle bears witness to the despair, camaraderie, and resilience of the men as they struggle for survival. The film culminates in the tragic death of their beloved leader, Lt. Walker, and Pyle's somber reflection on the sacrifices made by these soldiers. \n",
      "\n"
     ]
    },
    {
     "name": "stderr",
     "output_type": "stream",
     "text": [
      "3621it [1:38:19,  1.15s/it]"
     ]
    },
    {
     "name": "stdout",
     "output_type": "stream",
     "text": [
      "ERROR Invalid operation: The `response.parts` quick accessor requires a single candidate, but but `response.candidates` is empty.\n",
      "This appears to be caused by a blocked prompt, see `response.prompt_feedback`: block_reason: OTHER\n",
      " in Porky's Revenge (1985)\n"
     ]
    },
    {
     "name": "stderr",
     "output_type": "stream",
     "text": [
      "3653it [1:39:13,  1.23s/it]"
     ]
    },
    {
     "name": "stdout",
     "output_type": "stream",
     "text": [
      "ERROR Invalid operation: The `response.parts` quick accessor requires a single candidate, but but `response.candidates` is empty.\n",
      "This appears to be caused by a blocked prompt, see `response.prompt_feedback`: block_reason: OTHER\n",
      " in Live Virgin (1999)\n"
     ]
    },
    {
     "name": "stderr",
     "output_type": "stream",
     "text": [
      "3701it [1:40:30,  1.58s/it]"
     ]
    },
    {
     "name": "stdout",
     "output_type": "stream",
     "text": [
      "Alex Gardner, a psychic with a troubled past, is recruited by his former mentor, Dr. Novotny, to participate in a government-funded project that allows psychics to enter the dreams of others. The project, initially intended for therapeutic purposes, has been hijacked by a powerful government agent, Bob Blair, who plans to use it for assassination.\n",
      "\n",
      "Alex discovers Blair's sinister intentions and learns that people who die in their dreams die in reality. Blair targets the President, sending a disturbed psychic, Tommy Ray Glatman, to assassinate him in his dream.\n",
      "\n",
      "Alex, with the help of a novelist, Charlie Prince, exposes Blair's plot. However, both Prince and Novotny are killed. Alex confronts Blair and, after escaping a deadly car chase, projects himself into the President's dream to protect him. He battles Tommy, assuming the form of the snake-man from Buddy's nightmare, and eventually defeats him.\n",
      "\n",
      "To protect himself and Jane, Alex enters Blair's dream and kills him. As Jane and Alex leave on a train to Louisville, they encounter a ticket collector from Jane's dream, hinting at the blurred lines between dreams and reality. \n",
      "\n"
     ]
    },
    {
     "name": "stderr",
     "output_type": "stream",
     "text": [
      "3704it [1:40:34,  1.25s/it]"
     ]
    },
    {
     "name": "stdout",
     "output_type": "stream",
     "text": [
      "ERROR Invalid operation: The `response.parts` quick accessor requires a single candidate, but but `response.candidates` is empty.\n",
      "This appears to be caused by a blocked prompt, see `response.prompt_feedback`: block_reason: OTHER\n",
      " in House Party (1990)\n"
     ]
    },
    {
     "name": "stderr",
     "output_type": "stream",
     "text": [
      "3708it [1:40:40,  1.31s/it]"
     ]
    },
    {
     "name": "stdout",
     "output_type": "stream",
     "text": [
      "ERROR Invalid operation: The `response.parts` quick accessor requires a single candidate, but but `response.candidates` is empty.\n",
      "This appears to be caused by a blocked prompt, see `response.prompt_feedback`: block_reason: OTHER\n",
      " in Nekromantik (1987)\n"
     ]
    },
    {
     "name": "stderr",
     "output_type": "stream",
     "text": [
      "3731it [1:41:18,  1.57s/it]"
     ]
    },
    {
     "name": "stdout",
     "output_type": "stream",
     "text": [
      "ERROR Invalid operation: The `response.text` quick accessor requires the response to contain a valid `Part`, but none were returned. The candidate's [finish_reason](https://ai.google.dev/api/generate-content#finishreason) is 5. in Criminal Lovers (Les Amants Criminels) (1999)\n"
     ]
    },
    {
     "name": "stderr",
     "output_type": "stream",
     "text": [
      "3739it [1:41:32,  1.46s/it]"
     ]
    },
    {
     "name": "stdout",
     "output_type": "stream",
     "text": [
      "ERROR Invalid operation: The `response.parts` quick accessor requires a single candidate, but but `response.candidates` is empty.\n",
      "This appears to be caused by a blocked prompt, see `response.prompt_feedback`: block_reason: OTHER\n",
      " in Two Women (La Ciociara) (1961)\n"
     ]
    },
    {
     "name": "stderr",
     "output_type": "stream",
     "text": [
      "3765it [1:42:11,  1.03s/it]"
     ]
    },
    {
     "name": "stdout",
     "output_type": "stream",
     "text": [
      "ERROR Invalid operation: The `response.parts` quick accessor requires a single candidate, but but `response.candidates` is empty.\n",
      "This appears to be caused by a blocked prompt, see `response.prompt_feedback`: block_reason: OTHER\n",
      " in Crush, The (1993)\n"
     ]
    },
    {
     "name": "stderr",
     "output_type": "stream",
     "text": [
      "3777it [1:42:33,  1.69s/it]"
     ]
    },
    {
     "name": "stdout",
     "output_type": "stream",
     "text": [
      "ERROR Invalid operation: The `response.text` quick accessor requires the response to contain a valid `Part`, but none were returned. The candidate's [finish_reason](https://ai.google.dev/api/generate-content#finishreason) is 5. in Ilsa, She Wolf of the SS (1974)\n"
     ]
    },
    {
     "name": "stderr",
     "output_type": "stream",
     "text": [
      "3801it [1:43:10,  1.55s/it]"
     ]
    },
    {
     "name": "stdout",
     "output_type": "stream",
     "text": [
      "Shane, a mysterious gunfighter, arrives in a Wyoming valley where settlers are being harassed by a ruthless cattle baron, Rufus Ryker.  He is hired by rancher Joe Starrett, who is struggling to protect his homestead.  Shane quickly becomes a hero, defending the settlers against Ryker's men in a series of confrontations. \n",
      "\n",
      "Ryker, desperate, hires a notorious gunfighter, Jack Wilson, to intimidate the settlers. Wilson kills a homesteader, but this only fuels the settlers' resolve to stay.  Ryker then tries to lure Starrett to a meeting with the intent to kill him, but Shane intervenes, saving Starrett's life.  In a final showdown, Shane kills Ryker and his men, but is himself injured. \n",
      "\n",
      "Shane then departs the valley, leaving the settlers with their hard-won peace, but leaving behind a grieving Joey who yearns for his hero's return.  \n",
      "\n"
     ]
    },
    {
     "name": "stderr",
     "output_type": "stream",
     "text": [
      "3836it [1:44:06,  1.11s/it]"
     ]
    },
    {
     "name": "stdout",
     "output_type": "stream",
     "text": [
      "ERROR Invalid operation: The `response.parts` quick accessor requires a single candidate, but but `response.candidates` is empty.\n",
      "This appears to be caused by a blocked prompt, see `response.prompt_feedback`: block_reason: OTHER\n",
      " in Under Suspicion (2000)\n"
     ]
    },
    {
     "name": "stderr",
     "output_type": "stream",
     "text": [
      "3882it [1:45:24,  1.63s/it]\n"
     ]
    }
   ],
   "source": [
    "# Initialize an empty list to store the summarized plots\n",
    "summarised_plots = []\n",
    "\n",
    "# Iterate over each row in the DataFrame\n",
    "for index, row in tqdm(df.iterrows()):\n",
    "    plot = row['Plot']  # Get the 'Plot' column value\n",
    "    try:\n",
    "        summarised_plot = gem.inference(plot)  # Call the inference method on the plot\n",
    "        summarised_plots.append(summarised_plot)  # Append the result to the list\n",
    "        if index % 100 == 0:\n",
    "            print(summarised_plot)\n",
    "        # time.sleep(1)\n",
    "    except Exception as e:\n",
    "        print(f'ERROR {e} in {row[\"Title\"]}')\n",
    "        summarised_plots.append(None)\n",
    "# Assign the summarized plots to a new column in the DataFrame\n",
    "df['Summarised_Plot'] = summarised_plots\n"
   ]
  },
  {
   "cell_type": "code",
   "execution_count": 37,
   "id": "938bcc4c-f324-45f6-813a-0f75fa4326c9",
   "metadata": {
    "scrolled": true
   },
   "outputs": [
    {
     "data": {
      "text/plain": [
       "Unnamed: 0                                                        22\n",
       "MovieID                                                           23\n",
       "Title                                               Assassins (1995)\n",
       "Genres                                                      Thriller\n",
       "title                                                      Assassins\n",
       "year                                                            1995\n",
       "unique_counts                                                      1\n",
       "Plot                                                Assassins (1995)\n",
       "Summarised_Plot    \"Assassins\" (1995) follows Robert Rath, a form...\n",
       "Name: 22, dtype: object"
      ]
     },
     "execution_count": 37,
     "metadata": {},
     "output_type": "execute_result"
    }
   ],
   "source": [
    "df.iloc[22]\n"
   ]
  },
  {
   "cell_type": "code",
   "execution_count": 51,
   "id": "c8d8ddf2-d3ea-4a8a-80f3-b6a20f783247",
   "metadata": {},
   "outputs": [
    {
     "data": {
      "text/plain": [
       "torch.Size([3882, 768])"
      ]
     },
     "execution_count": 51,
     "metadata": {},
     "output_type": "execute_result"
    }
   ],
   "source": [
    "sentence_emb_model.forward(df['Plot']).shape"
   ]
  },
  {
   "cell_type": "code",
   "execution_count": 46,
   "id": "b039707c-751e-4d3d-8ced-b7b96d413632",
   "metadata": {},
   "outputs": [],
   "source": [
    "df.to_csv('./dataset/post_summarization.csv')"
   ]
  },
  {
   "cell_type": "code",
   "execution_count": 53,
   "id": "8c39ff3c-b718-44ea-8f71-557edd9fb5ea",
   "metadata": {},
   "outputs": [
    {
     "data": {
      "text/plain": [
       "'A group of sentient toys, who pretend to be lifeless when humans are around, are preparing to move into a new house with their young owner Andy Davis, his infant sister Molly, and their single mother Mrs. Davis. Learning that Andy\\'s birthday party has been unexpectedly moved to an earlier date, several toys — including Mr. Potato Head, Slinky Dog, Rex the tyrannosaur, Hamm the piggy bank, and Bo Peep the porcelain doll — become concerned that Andy might receive something that will replace them. To calm them, Sheriff Woody, Andy\\'s favorite toy and their de facto leader, sends Sarge and his green army men to spy on Andy\\'s birthday party with a baby monitor. Andy receives a Buzz Lightyear action figure, who believes he is an actual Space Ranger and does not know he is really a toy. Buzz impresses the others with his high-tech features and becomes Andy\\'s new favorite toy, provoking Woody\\'s jealousy.\\nTwo days before the move, Andy\\'s family plans for a dinner at Pizza Planet. To ensure Andy brings him along and not Buzz, Woody tries knocking Buzz behind the desk with RC, the radio-controlled car. However, Buzz is accidentally knocked out of the bedroom window instead, and most of the other toys believe Woody has deliberately killed Buzz. Andy takes Woody with him, but Buzz furiously confronts him in the car. The two fight, fall out of the car, and are left behind; after a further quarrel, they hitch a ride to the restaurant on a Pizza Planet delivery truck.\\nAt Pizza Planet, Buzz mistakes a claw crane full of toy aliens for a rocket, and climbs in, pursued by Woody. Sid Phillips, Andy\\'s sadistic next-door neighbor, takes the two from the crane to his house, where they encounter his Bull Terrier Scud and his \"mutant\" toys, made from parts of other toys he has destroyed.\\nBuzz, after watching a television commercial promoting him, suffers an existential crisis, realizing he is a toy after all. He attempts to fly but falls and breaks his arm. After Sid\\'s toys fix Buzz, Sid tapes Buzz to a firework rocket, planning to blow him up the following day. Overnight, Woody helps Buzz realize that his purpose is to make Andy happy, restoring Buzz\\'s resolve. Sid takes Buzz out to blow him up, but Woody rallies the mutant toys to \"break the rules\" and frighten Sid into never harming toys again.\\nNow freed, Woody and Buzz pursue the Davis\\' moving truck, but Scud attacks Woody. Buzz stays behind to fight off the dog; Woody climbs into the truck, and pushes RC out to rescue Buzz. Still thinking Woody has killed another toy, the others also toss him out of the truck. Woody and Buzz pursue the truck on RC, and the other toys see them and realize their mistake. RC\\'s batteries run out, forcing Woody to ignite the rocket strapped to Buzz. Buzz opens his wings to sever the tape just before the rocket explodes; he and Woody glide through the sunroof of Mrs. Davis\\' car, landing safely inside.\\nAs the toys listen in on the Christmas gift opening in the new house, Mr. Potato Head is delighted when Molly gets a Mrs. Potato Head. Woody and Buzz jokingly ponder what gift could be \"worse\" than Buzz, only to nervously smile at each other when Andy gets a dachshund puppy.'"
      ]
     },
     "execution_count": 53,
     "metadata": {},
     "output_type": "execute_result"
    }
   ],
   "source": [
    "df['Plot'].iloc[0]"
   ]
  },
  {
   "cell_type": "markdown",
   "id": "17be885f-6401-4f56-b8c1-071e5d4b7813",
   "metadata": {},
   "source": [
    "### Embeddings"
   ]
  },
  {
   "cell_type": "code",
   "execution_count": 47,
   "id": "e6a1dce2-7a53-495f-a0be-d0a4f1b2afed",
   "metadata": {},
   "outputs": [],
   "source": [
    "sentence_emb_model = SentenceEmbeddingModel('all-mpnet-base-v2')"
   ]
  },
  {
   "cell_type": "code",
   "execution_count": 52,
   "id": "dea2777f-e7fb-4e5e-973a-d1384acb9c4f",
   "metadata": {},
   "outputs": [],
   "source": [
    "df['Summarised_Plot'] = df['Summarised_Plot'].fillna(df['Plot'])"
   ]
  },
  {
   "cell_type": "code",
   "execution_count": 53,
   "id": "b6bf0f07-0f68-4eab-b4ec-506498bed704",
   "metadata": {
    "scrolled": true
   },
   "outputs": [],
   "source": [
    "text_ls = df['Summarised_Plot'].tolist()"
   ]
  },
  {
   "cell_type": "code",
   "execution_count": 54,
   "id": "7007ce3e-121d-4949-a88a-69fd1f69422d",
   "metadata": {},
   "outputs": [],
   "source": [
    "text_emb = sentence_emb_model.forward(text_ls)"
   ]
  },
  {
   "cell_type": "code",
   "execution_count": 57,
   "id": "3a6cf7f4-b667-48a3-abc4-17d3ede9e506",
   "metadata": {},
   "outputs": [
    {
     "data": {
      "text/plain": [
       "torch.Size([3882, 768])"
      ]
     },
     "execution_count": 57,
     "metadata": {},
     "output_type": "execute_result"
    }
   ],
   "source": [
    "text_emb.shape"
   ]
  },
  {
   "cell_type": "code",
   "execution_count": 68,
   "id": "e25de08d-2de8-40c2-a460-9ffde599f01a",
   "metadata": {},
   "outputs": [],
   "source": [
    "torch.save(text_emb, \"./dataset/text_emb.pt\")"
   ]
  },
  {
   "cell_type": "markdown",
   "id": "263e8f32-9f52-44e9-abc7-25515eca86f5",
   "metadata": {},
   "source": [
    "### Visualize"
   ]
  },
  {
   "cell_type": "code",
   "execution_count": 70,
   "id": "636fa388-0d44-460a-a2dd-7bbddccb02f4",
   "metadata": {},
   "outputs": [],
   "source": [
    "import matplotlib.pyplot as plt\n",
    "from sklearn.manifold import TSNE\n",
    "from sklearn.preprocessing import LabelEncoder"
   ]
  },
  {
   "cell_type": "code",
   "execution_count": 76,
   "id": "7a900275-b649-41a7-a8e8-9773472e608b",
   "metadata": {},
   "outputs": [
    {
     "data": {
      "text/html": [
       "<div>\n",
       "<style scoped>\n",
       "    .dataframe tbody tr th:only-of-type {\n",
       "        vertical-align: middle;\n",
       "    }\n",
       "\n",
       "    .dataframe tbody tr th {\n",
       "        vertical-align: top;\n",
       "    }\n",
       "\n",
       "    .dataframe thead th {\n",
       "        text-align: right;\n",
       "    }\n",
       "</style>\n",
       "<table border=\"1\" class=\"dataframe\">\n",
       "  <thead>\n",
       "    <tr style=\"text-align: right;\">\n",
       "      <th></th>\n",
       "      <th>Unnamed: 0</th>\n",
       "      <th>MovieID</th>\n",
       "      <th>Title</th>\n",
       "      <th>Genres</th>\n",
       "      <th>title</th>\n",
       "      <th>year</th>\n",
       "      <th>unique_counts</th>\n",
       "      <th>Plot</th>\n",
       "      <th>Summarised_Plot</th>\n",
       "      <th>Genres_str</th>\n",
       "      <th>Genre_Label</th>\n",
       "    </tr>\n",
       "  </thead>\n",
       "  <tbody>\n",
       "    <tr>\n",
       "      <th>0</th>\n",
       "      <td>0</td>\n",
       "      <td>1</td>\n",
       "      <td>Toy Story (1995)</td>\n",
       "      <td>[Animation, Children's, Comedy]</td>\n",
       "      <td>Toy Story</td>\n",
       "      <td>1995</td>\n",
       "      <td>1</td>\n",
       "      <td>A group of sentient toys, who pretend to be li...</td>\n",
       "      <td>In \"Toy Story,\" a group of sentient toys led b...</td>\n",
       "      <td>Animation</td>\n",
       "      <td>2</td>\n",
       "    </tr>\n",
       "    <tr>\n",
       "      <th>1</th>\n",
       "      <td>1</td>\n",
       "      <td>2</td>\n",
       "      <td>Jumanji (1995)</td>\n",
       "      <td>[Adventure, Children's, Fantasy]</td>\n",
       "      <td>Jumanji</td>\n",
       "      <td>1995</td>\n",
       "      <td>1</td>\n",
       "      <td>In 1969, Alan Parrish lives in Brantford, New ...</td>\n",
       "      <td>In 1969, young Alan Parrish gets sucked into a...</td>\n",
       "      <td>Adventure</td>\n",
       "      <td>1</td>\n",
       "    </tr>\n",
       "    <tr>\n",
       "      <th>2</th>\n",
       "      <td>2</td>\n",
       "      <td>3</td>\n",
       "      <td>Grumpier Old Men (1995)</td>\n",
       "      <td>[Comedy, Romance]</td>\n",
       "      <td>Grumpier Old Men</td>\n",
       "      <td>1995</td>\n",
       "      <td>1</td>\n",
       "      <td>The feud between Max and John has cooled and t...</td>\n",
       "      <td>Max and John, former rivals, are now good frie...</td>\n",
       "      <td>Comedy</td>\n",
       "      <td>4</td>\n",
       "    </tr>\n",
       "    <tr>\n",
       "      <th>3</th>\n",
       "      <td>3</td>\n",
       "      <td>4</td>\n",
       "      <td>Waiting to Exhale (1995)</td>\n",
       "      <td>[Comedy, Drama]</td>\n",
       "      <td>Waiting to Exhale</td>\n",
       "      <td>1995</td>\n",
       "      <td>1</td>\n",
       "      <td>Four friends (Savannah, Robin, Bernadine, and ...</td>\n",
       "      <td>Four close friends, Savannah, Robin, Bernadine...</td>\n",
       "      <td>Comedy</td>\n",
       "      <td>4</td>\n",
       "    </tr>\n",
       "    <tr>\n",
       "      <th>4</th>\n",
       "      <td>4</td>\n",
       "      <td>5</td>\n",
       "      <td>Father of the Bride Part II (1995)</td>\n",
       "      <td>[Comedy]</td>\n",
       "      <td>Father of the Bride Part II</td>\n",
       "      <td>1995</td>\n",
       "      <td>1</td>\n",
       "      <td>Four years after the events of the first film,...</td>\n",
       "      <td>George is thrown into chaos when his daughter ...</td>\n",
       "      <td>Comedy</td>\n",
       "      <td>4</td>\n",
       "    </tr>\n",
       "    <tr>\n",
       "      <th>...</th>\n",
       "      <td>...</td>\n",
       "      <td>...</td>\n",
       "      <td>...</td>\n",
       "      <td>...</td>\n",
       "      <td>...</td>\n",
       "      <td>...</td>\n",
       "      <td>...</td>\n",
       "      <td>...</td>\n",
       "      <td>...</td>\n",
       "      <td>...</td>\n",
       "      <td>...</td>\n",
       "    </tr>\n",
       "    <tr>\n",
       "      <th>3877</th>\n",
       "      <td>3877</td>\n",
       "      <td>3948</td>\n",
       "      <td>Meet the Parents (2000)</td>\n",
       "      <td>[Comedy]</td>\n",
       "      <td>Meet the Parents</td>\n",
       "      <td>2000</td>\n",
       "      <td>1</td>\n",
       "      <td>Greg Focker, a Jewish American nurse living in...</td>\n",
       "      <td>Greg Focker, a nurse, travels to Long Island t...</td>\n",
       "      <td>Comedy</td>\n",
       "      <td>4</td>\n",
       "    </tr>\n",
       "    <tr>\n",
       "      <th>3878</th>\n",
       "      <td>3878</td>\n",
       "      <td>3949</td>\n",
       "      <td>Requiem for a Dream (2000)</td>\n",
       "      <td>[Drama]</td>\n",
       "      <td>Requiem for a Dream</td>\n",
       "      <td>2000</td>\n",
       "      <td>1</td>\n",
       "      <td>Sara Goldfarb, a widow living alone in a Brigh...</td>\n",
       "      <td>\"Requiem for a Dream\" follows the intertwined ...</td>\n",
       "      <td>Drama</td>\n",
       "      <td>7</td>\n",
       "    </tr>\n",
       "    <tr>\n",
       "      <th>3879</th>\n",
       "      <td>3879</td>\n",
       "      <td>3950</td>\n",
       "      <td>Tigerland (2000)</td>\n",
       "      <td>[Drama]</td>\n",
       "      <td>Tigerland</td>\n",
       "      <td>2000</td>\n",
       "      <td>1</td>\n",
       "      <td>In September 1971, the United States is losing...</td>\n",
       "      <td>\"Tigerland\" follows Roland Bozz, a rebellious ...</td>\n",
       "      <td>Drama</td>\n",
       "      <td>7</td>\n",
       "    </tr>\n",
       "    <tr>\n",
       "      <th>3880</th>\n",
       "      <td>3880</td>\n",
       "      <td>3951</td>\n",
       "      <td>Two Family House (2000)</td>\n",
       "      <td>[Drama]</td>\n",
       "      <td>Two Family House</td>\n",
       "      <td>2000</td>\n",
       "      <td>1</td>\n",
       "      <td>An unseen narrator looks back to the year 1956...</td>\n",
       "      <td>Buddy Visalo, an Italian-American aspiring sin...</td>\n",
       "      <td>Drama</td>\n",
       "      <td>7</td>\n",
       "    </tr>\n",
       "    <tr>\n",
       "      <th>3881</th>\n",
       "      <td>3881</td>\n",
       "      <td>3952</td>\n",
       "      <td>Contender, The (2000)</td>\n",
       "      <td>[Drama, Thriller]</td>\n",
       "      <td>Contender, The</td>\n",
       "      <td>2000</td>\n",
       "      <td>1</td>\n",
       "      <td>Second-term Democratic U.S. President Jackson ...</td>\n",
       "      <td>President Evans faces a dilemma when his Vice ...</td>\n",
       "      <td>Drama</td>\n",
       "      <td>7</td>\n",
       "    </tr>\n",
       "  </tbody>\n",
       "</table>\n",
       "<p>3882 rows × 11 columns</p>\n",
       "</div>"
      ],
      "text/plain": [
       "      Unnamed: 0  MovieID                               Title  \\\n",
       "0              0        1                    Toy Story (1995)   \n",
       "1              1        2                      Jumanji (1995)   \n",
       "2              2        3             Grumpier Old Men (1995)   \n",
       "3              3        4            Waiting to Exhale (1995)   \n",
       "4              4        5  Father of the Bride Part II (1995)   \n",
       "...          ...      ...                                 ...   \n",
       "3877        3877     3948             Meet the Parents (2000)   \n",
       "3878        3878     3949          Requiem for a Dream (2000)   \n",
       "3879        3879     3950                    Tigerland (2000)   \n",
       "3880        3880     3951             Two Family House (2000)   \n",
       "3881        3881     3952               Contender, The (2000)   \n",
       "\n",
       "                                Genres                        title  year  \\\n",
       "0      [Animation, Children's, Comedy]                    Toy Story  1995   \n",
       "1     [Adventure, Children's, Fantasy]                      Jumanji  1995   \n",
       "2                    [Comedy, Romance]             Grumpier Old Men  1995   \n",
       "3                      [Comedy, Drama]            Waiting to Exhale  1995   \n",
       "4                             [Comedy]  Father of the Bride Part II  1995   \n",
       "...                                ...                          ...   ...   \n",
       "3877                          [Comedy]             Meet the Parents  2000   \n",
       "3878                           [Drama]          Requiem for a Dream  2000   \n",
       "3879                           [Drama]                    Tigerland  2000   \n",
       "3880                           [Drama]             Two Family House  2000   \n",
       "3881                 [Drama, Thriller]               Contender, The  2000   \n",
       "\n",
       "      unique_counts                                               Plot  \\\n",
       "0                 1  A group of sentient toys, who pretend to be li...   \n",
       "1                 1  In 1969, Alan Parrish lives in Brantford, New ...   \n",
       "2                 1  The feud between Max and John has cooled and t...   \n",
       "3                 1  Four friends (Savannah, Robin, Bernadine, and ...   \n",
       "4                 1  Four years after the events of the first film,...   \n",
       "...             ...                                                ...   \n",
       "3877              1  Greg Focker, a Jewish American nurse living in...   \n",
       "3878              1  Sara Goldfarb, a widow living alone in a Brigh...   \n",
       "3879              1  In September 1971, the United States is losing...   \n",
       "3880              1  An unseen narrator looks back to the year 1956...   \n",
       "3881              1  Second-term Democratic U.S. President Jackson ...   \n",
       "\n",
       "                                        Summarised_Plot Genres_str  \\\n",
       "0     In \"Toy Story,\" a group of sentient toys led b...  Animation   \n",
       "1     In 1969, young Alan Parrish gets sucked into a...  Adventure   \n",
       "2     Max and John, former rivals, are now good frie...     Comedy   \n",
       "3     Four close friends, Savannah, Robin, Bernadine...     Comedy   \n",
       "4     George is thrown into chaos when his daughter ...     Comedy   \n",
       "...                                                 ...        ...   \n",
       "3877  Greg Focker, a nurse, travels to Long Island t...     Comedy   \n",
       "3878  \"Requiem for a Dream\" follows the intertwined ...      Drama   \n",
       "3879  \"Tigerland\" follows Roland Bozz, a rebellious ...      Drama   \n",
       "3880  Buddy Visalo, an Italian-American aspiring sin...      Drama   \n",
       "3881  President Evans faces a dilemma when his Vice ...      Drama   \n",
       "\n",
       "      Genre_Label  \n",
       "0               2  \n",
       "1               1  \n",
       "2               4  \n",
       "3               4  \n",
       "4               4  \n",
       "...           ...  \n",
       "3877            4  \n",
       "3878            7  \n",
       "3879            7  \n",
       "3880            7  \n",
       "3881            7  \n",
       "\n",
       "[3882 rows x 11 columns]"
      ]
     },
     "execution_count": 76,
     "metadata": {},
     "output_type": "execute_result"
    }
   ],
   "source": [
    "# Step 1: Extract and process genres\n",
    "df['Genres'] = df['Genres'].apply(lambda x: x.split('|'))  # Split genres by '|' delimiter\n",
    "# df['Genres_str'] = df['Genres'].apply(lambda x: ','.join(sorted(x)))  # Convert genres list to sorted string for uniqueness\n",
    "df['Genres_str'] = df['Genres'].apply(lambda x: x[0])  # Convert genres list to sorted string for uniqueness\n",
    "\n",
    "# Step 2: Assign integer labels to each unique genre combination\n",
    "label_encoder = LabelEncoder()\n",
    "df['Genre_Label'] = label_encoder.fit_transform(df['Genres_str'])  # Encode the genre combinations into integers\n",
    "\n",
    "df"
   ]
  },
  {
   "cell_type": "code",
   "execution_count": 77,
   "id": "7c31d78b-38ff-4476-a431-c0537cd5a002",
   "metadata": {},
   "outputs": [
    {
     "name": "stderr",
     "output_type": "stream",
     "text": [
      "/home/kanhon/anaconda3/envs/cs5284_project/lib/python3.10/site-packages/sklearn/manifold/_t_sne.py:1162: FutureWarning: 'n_iter' was renamed to 'max_iter' in version 1.5 and will be removed in 1.7.\n",
      "  warnings.warn(\n"
     ]
    },
    {
     "data": {
      "image/png": "[encoded data removed]",
      "text/plain": [
       "<Figure size 1000x700 with 2 Axes>"
      ]
     },
     "metadata": {},
     "output_type": "display_data"
    }
   ],
   "source": [
    "# Assuming text_emb is your 3882x768 matrix (text embeddings)\n",
    "# Initialize t-SNE model to reduce dimensions to 2D for visualization\n",
    "tsne_model = TSNE(n_components=2, random_state=42, perplexity=30, n_iter=1000)\n",
    "\n",
    "# Apply t-SNE on the text embeddings\n",
    "text_emb_2d = tsne_model.fit_transform(text_emb.cpu())\n",
    "\n",
    "# Step 5: Plot the t-SNE result, coloring by genre labels\n",
    "plt.figure(figsize=(10, 7))\n",
    "scatter = plt.scatter(text_emb_2d[:, 0], text_emb_2d[:, 1], c=df['Genre_Label'], s=10, cmap='tab10')  # 'tab10' color map for categorical data\n",
    "\n",
    "# Add a color bar to represent the genres\n",
    "plt.colorbar(scatter, ticks=range(len(df['Genre_Label'].unique())))\n",
    "# # Plotting the 2D t-SNE result\n",
    "# plt.figure(figsize=(10, 7))\n",
    "# plt.scatter(text_emb_2d[:, 0], text_emb_2d[:, 1], s=10, cmap='viridis')\n",
    "plt.title('t-SNE visualization of Text Embeddings')\n",
    "plt.xlabel('t-SNE 1')\n",
    "plt.ylabel('t-SNE 2')\n",
    "plt.show()"
   ]
  },
  {
   "cell_type": "code",
   "execution_count": 84,
   "id": "1a24ae29-aeea-43a5-bed9-d7e8cd8d7d3e",
   "metadata": {},
   "outputs": [
    {
     "name": "stdout",
     "output_type": "stream",
     "text": [
      "Label 0: Action\n",
      "Label 1: Adventure\n",
      "Label 2: Animation\n",
      "Label 3: Children's\n",
      "Label 4: Comedy\n",
      "Label 5: Crime\n",
      "Label 6: Documentary\n",
      "Label 7: Drama\n",
      "Label 8: Fantasy\n",
      "Label 9: Film-Noir\n",
      "Label 10: Horror\n",
      "Label 11: Musical\n",
      "Label 12: Mystery\n",
      "Label 13: Romance\n",
      "Label 14: Sci-Fi\n",
      "Label 15: Thriller\n",
      "Label 16: War\n",
      "Label 17: Western\n"
     ]
    }
   ],
   "source": [
    "for idx, genre_combination in enumerate(label_encoder.classes_):\n",
    "    print(f\"Label {idx}: {genre_combination}\")"
   ]
  },
  {
   "cell_type": "code",
   "execution_count": null,
   "id": "b32c55d2-e30b-4768-92bd-9a9a39258386",
   "metadata": {},
   "outputs": [],
   "source": []
  }
 ],
 "metadata": {
  "kernelspec": {
   "display_name": "cs5284_project",
   "language": "python",
   "name": "cs5284_project"
  },
  "language_info": {
   "codemirror_mode": {
    "name": "ipython",
    "version": 3
   },
   "file_extension": ".py",
   "mimetype": "text/x-python",
   "name": "python",
   "nbconvert_exporter": "python",
   "pygments_lexer": "ipython3",
   "version": "3.10.15"
  }
 },
 "nbformat": 4,
 "nbformat_minor": 5
}
