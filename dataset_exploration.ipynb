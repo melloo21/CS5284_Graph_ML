{
 "cells": [
  {
   "cell_type": "code",
   "execution_count": 1,
   "metadata": {},
   "outputs": [],
   "source": [
    "import pandas as pd"
   ]
  },
  {
   "cell_type": "code",
   "execution_count": 2,
   "metadata": {},
   "outputs": [],
   "source": [
    "# Autoreload\n",
    "%load_ext autoreload\n",
    "%autoreload 2"
   ]
  },
  {
   "cell_type": "code",
   "execution_count": 3,
   "metadata": {},
   "outputs": [
    {
     "name": "stdout",
     "output_type": "stream",
     "text": [
      "<class 'pandas.core.frame.DataFrame'>\n",
      "RangeIndex: 6040 entries, 0 to 6039\n",
      "Data columns (total 5 columns):\n",
      " #   Column      Non-Null Count  Dtype \n",
      "---  ------      --------------  ----- \n",
      " 0   UserID      6040 non-null   int64 \n",
      " 1   Gender      6040 non-null   object\n",
      " 2   Age         6040 non-null   int64 \n",
      " 3   Occupation  6040 non-null   int64 \n",
      " 4   Zip-code    6040 non-null   object\n",
      "dtypes: int64(3), object(2)\n",
      "memory usage: 236.1+ KB\n",
      "None\n"
     ]
    }
   ],
   "source": [
    "# Specify the delimiter (e.g., ',' for CSV, '\\t' for tab, or '::' for MovieLens)\n",
    "file_path = 'dataset/users.dat'\n",
    "users_df = pd.read_csv(file_path, delimiter='::', engine='python', header=None)\n",
    "users_df.columns = [\"UserID\", \"Gender\", \"Age\", \"Occupation\",\"Zip-code\"]\n",
    "print(users_df.info())"
   ]
  },
  {
   "cell_type": "code",
   "execution_count": 4,
   "metadata": {},
   "outputs": [
    {
     "name": "stdout",
     "output_type": "stream",
     "text": [
      "<class 'pandas.core.frame.DataFrame'>\n",
      "RangeIndex: 1000209 entries, 0 to 1000208\n",
      "Data columns (total 4 columns):\n",
      " #   Column     Non-Null Count    Dtype\n",
      "---  ------     --------------    -----\n",
      " 0   UserID     1000209 non-null  int64\n",
      " 1   MovieID    1000209 non-null  int64\n",
      " 2   Rating     1000209 non-null  int64\n",
      " 3   Timestamp  1000209 non-null  int64\n",
      "dtypes: int64(4)\n",
      "memory usage: 30.5 MB\n",
      "None\n"
     ]
    }
   ],
   "source": [
    "file_path = 'dataset/ratings.dat'\n",
    "ratings_df = pd.read_csv(file_path, delimiter='::', engine='python', header=None)\n",
    "ratings_df.columns = [\"UserID\",\"MovieID\",\"Rating\",\"Timestamp\"]\n",
    "print(ratings_df.info())"
   ]
  },
  {
   "cell_type": "code",
   "execution_count": 7,
   "metadata": {},
   "outputs": [
    {
     "name": "stdout",
     "output_type": "stream",
     "text": [
      "   MovieID                               Title                        Genres\n",
      "0        1                    Toy Story (1995)   Animation|Children's|Comedy\n",
      "1        2                      Jumanji (1995)  Adventure|Children's|Fantasy\n",
      "2        3             Grumpier Old Men (1995)                Comedy|Romance\n",
      "3        4            Waiting to Exhale (1995)                  Comedy|Drama\n",
      "4        5  Father of the Bride Part II (1995)                        Comedy\n"
     ]
    }
   ],
   "source": [
    "#  File being encoded in a different format, such as 'latin-1' or 'ISO-8859-1'.\n",
    "file_path = 'dataset/movies.dat'\n",
    "movies_df = pd.read_csv(file_path, delimiter='::', engine='python', header=None, encoding='latin-1')\n",
    "movies_df.columns = [\"MovieID\", \"Title\", \"Genres\"]\n",
    "print(movies_df.head())"
   ]
  },
  {
   "cell_type": "code",
   "execution_count": 6,
   "metadata": {},
   "outputs": [
    {
     "data": {
      "text/plain": [
       "['Mummy, The (1999)',\n",
       " 'Mummy, The (1932)',\n",
       " 'Mummy, The (1959)',\n",
       " \"Mummy's Curse, The (1944)\",\n",
       " \"Mummy's Ghost, The (1944)\",\n",
       " \"Mummy's Hand, The (1940)\",\n",
       " \"Mummy's Tomb, The (1942)\"]"
      ]
     },
     "metadata": {},
     "output_type": "display_data"
    }
   ],
   "source": [
    "display([elem for elem in movies_df.Title if \"Mummy\" in elem])"
   ]
  },
  {
   "cell_type": "markdown",
   "metadata": {},
   "source": [
    "## Scraping data"
   ]
  },
  {
   "cell_type": "markdown",
   "metadata": {},
   "source": [
    "Cases:\n",
    "1. Movies with multiple series\n",
    "2. Movies with multiple remakes"
   ]
  },
  {
   "cell_type": "code",
   "execution_count": 8,
   "metadata": {},
   "outputs": [],
   "source": [
    "from utils.scrape_utils import *\n",
    "from utils.wiki_scrapper import GenericScrapper"
   ]
  },
  {
   "cell_type": "code",
   "execution_count": 9,
   "metadata": {},
   "outputs": [
    {
     "data": {
      "text/html": [
       "<div>\n",
       "<style scoped>\n",
       "    .dataframe tbody tr th:only-of-type {\n",
       "        vertical-align: middle;\n",
       "    }\n",
       "\n",
       "    .dataframe tbody tr th {\n",
       "        vertical-align: top;\n",
       "    }\n",
       "\n",
       "    .dataframe thead th {\n",
       "        text-align: right;\n",
       "    }\n",
       "</style>\n",
       "<table border=\"1\" class=\"dataframe\">\n",
       "  <thead>\n",
       "    <tr style=\"text-align: right;\">\n",
       "      <th></th>\n",
       "      <th>title</th>\n",
       "      <th>unique_counts</th>\n",
       "    </tr>\n",
       "  </thead>\n",
       "  <tbody>\n",
       "    <tr>\n",
       "      <th>0</th>\n",
       "      <td>$1,000,000 Duck</td>\n",
       "      <td>1</td>\n",
       "    </tr>\n",
       "    <tr>\n",
       "      <th>1</th>\n",
       "      <td>'Night Mother</td>\n",
       "      <td>1</td>\n",
       "    </tr>\n",
       "    <tr>\n",
       "      <th>2</th>\n",
       "      <td>'Til There Was You</td>\n",
       "      <td>1</td>\n",
       "    </tr>\n",
       "    <tr>\n",
       "      <th>3</th>\n",
       "      <td>'burbs, The</td>\n",
       "      <td>1</td>\n",
       "    </tr>\n",
       "    <tr>\n",
       "      <th>4</th>\n",
       "      <td>...And Justice for All</td>\n",
       "      <td>1</td>\n",
       "    </tr>\n",
       "    <tr>\n",
       "      <th>5</th>\n",
       "      <td>1-900</td>\n",
       "      <td>1</td>\n",
       "    </tr>\n",
       "    <tr>\n",
       "      <th>6</th>\n",
       "      <td>10 Things I Hate About You</td>\n",
       "      <td>1</td>\n",
       "    </tr>\n",
       "    <tr>\n",
       "      <th>7</th>\n",
       "      <td>101 Dalmatians</td>\n",
       "      <td>2</td>\n",
       "    </tr>\n",
       "    <tr>\n",
       "      <th>8</th>\n",
       "      <td>12 Angry Men</td>\n",
       "      <td>1</td>\n",
       "    </tr>\n",
       "    <tr>\n",
       "      <th>9</th>\n",
       "      <td>13th Warrior, The</td>\n",
       "      <td>1</td>\n",
       "    </tr>\n",
       "    <tr>\n",
       "      <th>10</th>\n",
       "      <td>187</td>\n",
       "      <td>1</td>\n",
       "    </tr>\n",
       "    <tr>\n",
       "      <th>11</th>\n",
       "      <td>2 Days in the Valley</td>\n",
       "      <td>1</td>\n",
       "    </tr>\n",
       "    <tr>\n",
       "      <th>12</th>\n",
       "      <td>20 Dates</td>\n",
       "      <td>1</td>\n",
       "    </tr>\n",
       "    <tr>\n",
       "      <th>13</th>\n",
       "      <td>20,000 Leagues Under the Sea</td>\n",
       "      <td>1</td>\n",
       "    </tr>\n",
       "    <tr>\n",
       "      <th>14</th>\n",
       "      <td>200 Cigarettes</td>\n",
       "      <td>1</td>\n",
       "    </tr>\n",
       "  </tbody>\n",
       "</table>\n",
       "</div>"
      ],
      "text/plain": [
       "                           title  unique_counts\n",
       "0                $1,000,000 Duck              1\n",
       "1                  'Night Mother              1\n",
       "2             'Til There Was You              1\n",
       "3                    'burbs, The              1\n",
       "4         ...And Justice for All              1\n",
       "5                          1-900              1\n",
       "6     10 Things I Hate About You              1\n",
       "7                 101 Dalmatians              2\n",
       "8                   12 Angry Men              1\n",
       "9              13th Warrior, The              1\n",
       "10                           187              1\n",
       "11          2 Days in the Valley              1\n",
       "12                      20 Dates              1\n",
       "13  20,000 Leagues Under the Sea              1\n",
       "14                200 Cigarettes              1"
      ]
     },
     "metadata": {},
     "output_type": "display_data"
    }
   ],
   "source": [
    "# Getting Items to scrape\n",
    "web_scrape_list = movies_df.copy()\n",
    "scrape_list = get_scrape_list(web_scrape_list)\n",
    "display(scrape_list.head(15))"
   ]
  },
  {
   "cell_type": "code",
   "execution_count": 10,
   "metadata": {},
   "outputs": [],
   "source": [
    "## Initialise\n",
    "scrapper = GenericScrapper()"
   ]
  },
  {
   "cell_type": "markdown",
   "metadata": {},
   "source": [
    "#### Using Wikipedia API"
   ]
  },
  {
   "cell_type": "code",
   "execution_count": 11,
   "metadata": {},
   "outputs": [],
   "source": [
    "# Example to get scraper\n",
    "sections = scrapper.get_section_dict('King Kong (2005)')"
   ]
  },
  {
   "cell_type": "code",
   "execution_count": 12,
   "metadata": {},
   "outputs": [
    {
     "data": {
      "text/plain": [
       "'In 1933, during the Great Depression, struggling New York City vaudeville performer Ann Darrow is hired by financially troubled filmmaker Carl Denham to star in a film with actor Bruce Baxter. Ann is hesitant to join the picture until she learns her favorite playwright, Jack Driscoll, is the screenwriter. Filming takes place on the SS Venture, under Captain Englehorn, and under Carl\\'s pretense it will be sailing to Singapore. In truth, Carl intends to film the mysterious Skull Island. Captain Englehorn reconsiders the voyage, prompted by his crew\\'s speculation of trouble ahead. During the voyage, Ann and Jack fall in love.\\nThe Venture receives a radio message informing Englehorn there is a warrant for Carl\\'s arrest due to his defiance of the studio\\'s orders to cease production, and instructing Englehorn to divert to Rangoon, but the ship becomes lost in fog and runs aground on Skull Island. Carl and others, including his film crew consisting of cameraman Herb, assistant Preston and boom operator Mike, explore the island and are attacked by natives who kill Mike and a crewman. Englehorn rescues Carl’s group, but as they all prepare to leave, the natives secretly abduct Ann to offer her as a sacrifice to Kong, a 25-foot-tall (7.6 m) ape. Jack notices Ann\\'s disappearance, and the crew returns to the island, but Kong flees with Ann into the jungle. Carl catches a glimpse of Kong and becomes determined to film him.\\nAnn wins Kong over with her juggling and dancing skills, and begins to grasp his intelligence and capacity for emotion. Englehorn organizes a rescue party, led by his first mate Hayes and Jack, and accompanied by Carl, Herb, Baxter and Preston. The party gets caught between a herd of Brontosaurus baxteri and a pack of Utahraptor-like Venatosaurus saevidicus hunting them, with Herb and several other men killed in the resulting stampede. Baxter and others return to the ship.\\nThe remaining party members continue through the jungle when Kong attacks, making them fall into a ravine where Carl loses his camera. Kong rescues Ann from three Tyrannosaurus-like Vastatosaurus rex, bringing her to his den in the mountains. The remaining rescue party are attacked by giant insects in the ravine, resulting in the death of Hayes and most of the rescue party, but Preston, Carl, Jack, and Hayes\\' apprentice Jimmy are rescued by Baxter and Englehorn. Jack searches for Ann alone, while Carl decides to capture Kong. Jack finds Kong\\'s lair and accidentally awakens him, but escapes with Ann. They arrive at the wall with Kong pursuing them. As Ann begs the crew not to harm him, Kong kills several sailors, but is subdued when Carl knocks him out with chloroform.\\nIn New York City that winter, Carl presents \"Kong, the Eighth Wonder of the World\" on Broadway, starring Baxter and an imprisoned Kong. Ann, who refused to take part in the performance, is played by an anonymous chorus girl. Agitated by the chorus girl not being Ann and flashes from cameras, Kong breaks free from the chains, wrecks the theater, and bursts out into the streets of New York in search of Ann, chasing Jack before encountering her again. The U.S. Army attacks, and Kong tries getting Ann and himself to safety by climbing to the top of the Empire State Building.\\nSix United States Navy biplanes arrive; Kong downs three of them, but is mortally wounded from the planes\\' gunfire and falls from the building after he dies. As Jack reaches the top of the building to comfort and embrace Ann, civilians, policemen, and soldiers gather around the beast\\'s corpse in the street, one bystander commenting the airplanes got him. Carl makes his way through the crowd, takes one last look at Kong and, before walking away, says sadly, \"It wasn\\'t the airplanes. It was Beauty killed the Beast\".'"
      ]
     },
     "execution_count": 12,
     "metadata": {},
     "output_type": "execute_result"
    }
   ],
   "source": [
    "sections[\"Plot\"]"
   ]
  },
  {
   "cell_type": "code",
   "execution_count": 47,
   "metadata": {},
   "outputs": [],
   "source": [
    "## Generic way to scrape and add context\n",
    "search_df = web_scrape_list.merge(scrape_list, on=\"title\")\n",
    "cast = \"Cast\"\n",
    "error_list = []\n",
    "for index, row in search_df.iterrows():\n",
    "    try:\n",
    "    # Scrape \n",
    "        if row.unique_counts >1:\n",
    "            # Search with the date\n",
    "            sections = scrapper.get_section_dict(row.Title)\n",
    "        else:\n",
    "            # Search without date\n",
    "            sections = scrapper.get_section_dict(row.title)\n",
    "        \n",
    "        # Check if plot exsits\n",
    "        plot_check = [elem for elem in sections.keys() if \"plot\" in elem.lower()]\n",
    "        if plot_check:\n",
    "            # Add DATA\n",
    "            search_df.at[index, 'Plot'] = sections['Plot']\n",
    "        else:\n",
    "            # Research\n",
    "            sections = scrapper.get_section_dict(row.Title.replace(\")\", \" film)\"))\n",
    "\n",
    "        ####################### To add in Cast #######################\n",
    "        # # Animation vs Non-animation\n",
    "        # voice_cast = [elem for elem in sections.keys() if \"voice cast\" in elem.lower()]\n",
    "        # if voice_cast:\n",
    "        #     cast = voice_cast[0]\n",
    "        # else:\n",
    "        #     cast = \"Cast\"   \n",
    "\n",
    "        # search_df.at[index, 'Cast'] = sections[cast]\n",
    "\n",
    "    except Exception as e:\n",
    "        error_list.append(row.Title)\n",
    "        print(f\"ERROR: {e}\")\n",
    "        "
   ]
  },
  {
   "cell_type": "code",
   "execution_count": 46,
   "metadata": {},
   "outputs": [
    {
     "data": {
      "text/plain": [
       "'Cry, the Beloved Country (1995)'"
      ]
     },
     "metadata": {},
     "output_type": "display_data"
    }
   ],
   "source": [
    "display(row.Title)"
   ]
  },
  {
   "cell_type": "code",
   "execution_count": 43,
   "metadata": {},
   "outputs": [
    {
     "data": {
      "text/plain": [
       "{'Plot': \"Neil McCauley is a professional thief based in Los Angeles. He and his crew – right-hand man Chris Shiherlis, enforcer Michael Cheritto, driver Gilbert Trejo, and newly hired hand Waingro – rob $1.6 million in bearer bonds from an armored car. During the heist, Waingro kills a guard without provocation, forcing the crew to eliminate the other two guards. Later, McCauley prepares to kill Waingro in retaliation for the deaths of the guards, but he escapes.\\nLos Angeles Police Department (LAPD) Lieutenant Vincent Hanna and his team investigate the robbery. Hanna, a dedicated lawman and former Marine, has a strained relationship with his third wife Justine, and struggles to connect with his stepdaughter, Lauren. McCauley, who lives a solitary life, begins a relationship with Eady, a graphic designer. They bond over their mutual isolation from society, and, claiming to be a metalworker, McCauley asks her to emigrate to New Zealand with him.\\nMcCauley's fence, Nate, suggests he sell the stolen bonds back to their original owner, money launderer Roger Van Zant. Van Zant pretends to agree but instead arranges an ambush. Anticipating a trap, McCauley and his crew counter-ambush and kill the hitmen. Afterwards, McCauley calls Van Zant and vows revenge. An informant of the LAPD connects Cheritto to the robbery, and Hanna's team begins monitoring him, leading to the rest of the crew and their next target, a precious metals depository. Hanna's team stakes out the depository, but when a careless officer makes a noise, McCauley aborts the heist.\\nMcCauley's crew agree to one last bank robbery worth $12.2 million. Hanna tracks McCauley and pulls him over on the 105 Freeway, inviting him to coffee. They discuss their dedication to their respective jobs and the limitations of their personal lives; Hanna describes his failing marriage and McCauley confides that he is similarly isolated. Though they admit their respect for one another, both acknowledge that they will kill the other if necessary. Waingro makes a deal with Van Zant to help eliminate McCauley's crew. Trejo quits the bank robbery at the last moment, claiming the LAPD is following him too closely. McCauley recruits an old colleague, Don Breedan, to take Trejo's place as the getaway driver, and the crew carries out the heist.\\nActing on a tip from Van Zant's bodyguard, the LAPD intercepts the crew as they leave the bank, leading to a massive shootout. Breedan and Cheritto are killed alongside 18 police officers, while McCauley escapes with a wounded Shiherlis, and Hanna loses two of his fellow detectives. McCauley takes Shiherlis to a doctor to treat his wounds and leaves him with Nate. Suspecting Trejo tipped off the LAPD, McCauley arrives at his house to confront him, but finds him mortally wounded and his wife killed. Trejo reveals Waingro and Van Zant forced him to divulge the bank heist plans before asking McCauley to kill him. McCauley breaks into Van Zant's mansion and shoots him dead. Upon learning of McCauley's connection to Waingro and that the latter is hiding in a hotel, Hanna decides to use Waingro as bait to lure McCauley. As McCauley prepares to flee the country, Eady discovers his criminal identity, but agrees to go with him. Before escaping, Shiherlis attempts to reconcile with his wife Charlene, who has been forced by the LAPD to bring him in. As Shiherlis encounters Charlene at her safe house, she warns him away with a hand gesture, and he escapes.\\nHaving separated from Justine, Hanna finds Lauren has attempted suicide in his own hotel room and rushes her to the hospital; he reconciles with Justine after they learn that Lauren has survived, although they both agree that their relationship will never work. McCauley drives to the Los Angeles International Airport with Eady to flee to New Zealand via private jet. However, when Nate gives him Waingro's location, McCauley abandons his usual caution to seek revenge. McCauley infiltrates the hotel, pulls the fire alarm, bursts into Waingro's room and kills him. As McCauley returns to Eady, he is spotted by Hanna. McCauley abandons Eady, fleeing onto the tarmac at the airport, pursued by Hanna. The two stalk each other, and Hanna shoots McCauley in the chest. Hanna takes McCauley's hand as he dies of his wounds.\",\n",
       " 'Cast': 'Additional cast members include Martin Ferrero as a hardware salesman and Hazelle Goodman as the mother of a prostitute murdered by Waingro. Featured as members of the LAPD are Paul Herman as Sergeant Heinz, Cindy Katz as forensics investigator Cindy, and Dan Martin as Detective Harry Dieter. Stuntmen Rick Avery, Bill McIntosh, and Thomas Rosales Jr. portray the armored truck guards. Patricia Healy appears as a woman in a relationship with Bosko and Yvonne Zima plays the girl taken hostage by Cheritto. News reporter Claudia is portrayed by Farrah Forke. Bud Cort makes an uncredited appearance as restaurant owner Solenko.',\n",
       " 'Development': '',\n",
       " 'Production': '',\n",
       " 'Soundtrack': 'On December 19, 1995, Warner Bros. Records released a soundtrack album on cassette and CD to accompany the film, entitled Heat: Music from the Motion Picture. The album was produced by Matthias Gohl. It contains a 29-minute selection of the film score composed by Elliot Goldenthal, as well as songs by other artists such as U2 and Brian Eno (collaborating as Passengers), Terje Rypdal, Moby, and Lisa Gerrard. Heat used an abridged instrumental rendition of the Joy Division song \"New Dawn Fades\" by Moby, which also features in the same form on the soundtrack album. Mann reused the Einstürzende Neubauten track \"Armenia\" in his 1999 film The Insider. The film ends with Moby\\'s \"God Moving Over the Face of the Waters\", a different version of which was included at the end of the soundtrack album.\\nMann and Goldenthal decided on an atmospheric situation for the film soundtrack. Goldenthal used a setup consisting of multiple guitars, which he termed \"guitar orchestra\", and thought it brought the film score closer to a European style.',\n",
       " 'Release': '',\n",
       " 'Reception': 'On Rotten Tomatoes, Heat holds an approval rating of 83% based on 151 reviews and an average rating of 7.8/10. The website\\'s critical consensus reads, \"Though Al Pacino and Robert De Niro share but a handful of screen minutes together, Heat is an engrossing crime drama that draws compelling performances from its stars – and confirms Michael Mann\\'s mastery of the genre.\" On Metacritic, the film has a weighted average score of 76 out of 100, based on 22 critics, indicating \"generally favorable reviews\". Audiences polled by CinemaScore gave the film an average grade of \"A−\" on an A+ to F scale.\\nRoger Ebert gave the film three and a half stars out of four. He described Mann\\'s script as \"uncommonly literate\", with a psychological insight into the symbiotic relationship between police and criminals, and the fractured intimacy between the male and female characters: \"It\\'s not just an action picture. Above all, the dialogue is complex enough to allow the characters to say what they\\'re thinking: They are eloquent, insightful, fanciful, poetic when necessary. They\\'re not trapped with cliches. Of the many imprisonments possible in our world, one of the worst must be to be inarticulate – to be unable to tell another person what you really feel.\" Simon Cote of The Austin Chronicle called the film \"one of the most intelligent crime-thrillers to come along in years\", and said Pacino and De Niro\\'s scenes together were \"poignant and gripping.\"\\nKenneth Turan of the Los Angeles Times called the film a \"sleek, accomplished piece of work, meticulously controlled and completely involving. The dark end of the street doesn\\'t get much more inviting than this.\" Todd McCarthy of Variety wrote, \"Stunningly made and incisively acted by a large and terrific cast, Michael Mann\\'s ambitious study of the relativity of good and evil stands apart from other films of its type by virtue of its extraordinarily rich characterizations and its thoughtful, deeply melancholy take on modern life.\" Owen Gleiberman of Entertainment Weekly gave it a B− rating, saying that \"Mann\\'s action scenes ... have an existential, you-are-there jitteriness,\" but called the heist-planning and Hanna\\'s investigation scenes \"dry, talky.\"\\nRolling Stone ranked Heat #28 on its list of \"The 100 Greatest Movies of the \\'90s\", and The Guardian ranked it #22 on its list of \"The Greatest Crime Films of All Time\", while other publications have noted its influence on numerous subsequent films.\\nAlthough it did not receive any major award nominations, the film was nominated for Best Action/Adventure Film and Kilmer for Best Supporting Actor at the Saturn Awards but lost to The Usual Suspects and 12 Monkeys respectively.',\n",
       " 'Impact': 'French gangster Rédoine Faïd told Mann at a film festival \"You were my technical adviser\". The media described later robberies as resembling scenes from Heat, including armored car robberies in South Africa, Colombia, Denmark, and Norway and the 1997 North Hollywood shootout, in which Larry Phillips Jr. and Emil Mătăsăreanu robbed the North Hollywood branch of the Bank of America and, similarly to the film, were confronted by the LAPD as they left the bank. A copy of \"Heat\" was found in the VCR at Phillips\\' residence. This shootout is considered one of the longest and bloodiest events of its type in American police history. Both robbers were killed, and eleven police officers and seven civilians were injured during the shootout.  Heat was widely referenced during the coverage of the shootout.\\nFor his 2008 film The Dark Knight, director Christopher Nolan drew inspiration in his portrayal of Gotham City from Heat in order \"to tell a very large, city story or the story of a city\". In 2016, a year after the 20th anniversary of Heat, Nolan moderated a Q&A session with Michael Mann and cast and crew at the Samuel Goldwyn Theater.\\nHeat was one of the inspirations behind the highly influential 2001 video game Grand Theft Auto III as well as the 2008 sequel Grand Theft Auto IV, notably the mission \"Three Leaf Clover\", which was inspired by the climactic bank robbery and police shootout, and the 2013 sequel Grand Theft Auto V, notably the mission \"Blitz Play\" where the crew blocks and then knocks over an armored car in order to rob it.\\nDirector Mia Hansen-Løve has said she is \"obsessed\" with Heat and said \"the themes of Heat, actually, are themes of my films, except in a very different way, in a very different world\".',\n",
       " 'Subsequent works': \"On March 16, 2016, Mann announced that he was developing a Heat prequel novel, as a part of launching his company Michael Mann Books. On April 27, 2017, Reed Farrel Coleman joined the project as co-author. On May 15, 2020, Mann stated that the novel would function as both a prequel and a sequel, with plot taking place before and after the film's main events. By January 19, 2022, it was revealed that the novel would be a collaboration between Mann and Meg Gardiner; it was subsequently released in August 2022. The title is Heat 2.\\nIn September 2019, Michael Mann stated that he intends to produce an adaptation of the novel, acknowledging film and television as possible mediums for release. By July 5, 2022, Mann reaffirmed his plans to adapt the novel follow-up into a feature film, while stating that the principal cast from the first installment may be recast for the adaptation. In April 2023, it was reported that the sequel was in development, with Adam Driver in talks to play young McCauley.\",\n",
       " 'See also': 'Heist film',\n",
       " 'References': '',\n",
       " 'External links': 'Heat at IMDb\\nHeat at AllMovie\\nHeat at Box Office Mojo\\nHeat at Rotten Tomatoes\\nHeat at Metacritic \\nHeat. Work and genre Jump Cut magazine, by J. A. Lindstrom, no. 43, July 2000, pp. 21–37\\nDe Niro and Pacino Star in a Film. Together, from The New York Times'}"
      ]
     },
     "execution_count": 43,
     "metadata": {},
     "output_type": "execute_result"
    }
   ],
   "source": [
    "scrapper.get_section_dict(\"Heat (1995 film)\")"
   ]
  },
  {
   "cell_type": "code",
   "execution_count": 34,
   "metadata": {},
   "outputs": [
    {
     "data": {
      "text/plain": [
       "dict_keys(['Notation and units', 'History', 'Heat transfer', 'Latent and sensible heat', 'Heat capacity', '\"Hotness\"', 'Classical thermodynamics', 'See also', 'References', 'External links'])"
      ]
     },
     "metadata": {},
     "output_type": "display_data"
    }
   ],
   "source": [
    "display(sections.keys())"
   ]
  },
  {
   "cell_type": "code",
   "execution_count": 30,
   "metadata": {},
   "outputs": [
    {
     "data": {
      "text/html": [
       "<div>\n",
       "<style scoped>\n",
       "    .dataframe tbody tr th:only-of-type {\n",
       "        vertical-align: middle;\n",
       "    }\n",
       "\n",
       "    .dataframe tbody tr th {\n",
       "        vertical-align: top;\n",
       "    }\n",
       "\n",
       "    .dataframe thead th {\n",
       "        text-align: right;\n",
       "    }\n",
       "</style>\n",
       "<table border=\"1\" class=\"dataframe\">\n",
       "  <thead>\n",
       "    <tr style=\"text-align: right;\">\n",
       "      <th></th>\n",
       "      <th>MovieID</th>\n",
       "      <th>Title</th>\n",
       "      <th>Genres</th>\n",
       "      <th>title</th>\n",
       "      <th>year</th>\n",
       "      <th>unique_counts</th>\n",
       "      <th>Plot</th>\n",
       "      <th>Cast</th>\n",
       "    </tr>\n",
       "  </thead>\n",
       "  <tbody>\n",
       "    <tr>\n",
       "      <th>0</th>\n",
       "      <td>1</td>\n",
       "      <td>Toy Story (1995)</td>\n",
       "      <td>Animation|Children's|Comedy</td>\n",
       "      <td>Toy Story</td>\n",
       "      <td>1995</td>\n",
       "      <td>1</td>\n",
       "      <td>A group of sentient toys, who pretend to be li...</td>\n",
       "      <td>Tom Hanks as Woody, a pullstring cowboy doll w...</td>\n",
       "    </tr>\n",
       "    <tr>\n",
       "      <th>1</th>\n",
       "      <td>2</td>\n",
       "      <td>Jumanji (1995)</td>\n",
       "      <td>Adventure|Children's|Fantasy</td>\n",
       "      <td>Jumanji</td>\n",
       "      <td>1995</td>\n",
       "      <td>1</td>\n",
       "      <td>NaN</td>\n",
       "      <td>NaN</td>\n",
       "    </tr>\n",
       "    <tr>\n",
       "      <th>2</th>\n",
       "      <td>3</td>\n",
       "      <td>Grumpier Old Men (1995)</td>\n",
       "      <td>Comedy|Romance</td>\n",
       "      <td>Grumpier Old Men</td>\n",
       "      <td>1995</td>\n",
       "      <td>1</td>\n",
       "      <td>NaN</td>\n",
       "      <td>NaN</td>\n",
       "    </tr>\n",
       "    <tr>\n",
       "      <th>3</th>\n",
       "      <td>4</td>\n",
       "      <td>Waiting to Exhale (1995)</td>\n",
       "      <td>Comedy|Drama</td>\n",
       "      <td>Waiting to Exhale</td>\n",
       "      <td>1995</td>\n",
       "      <td>1</td>\n",
       "      <td>NaN</td>\n",
       "      <td>NaN</td>\n",
       "    </tr>\n",
       "    <tr>\n",
       "      <th>4</th>\n",
       "      <td>5</td>\n",
       "      <td>Father of the Bride Part II (1995)</td>\n",
       "      <td>Comedy</td>\n",
       "      <td>Father of the Bride Part II</td>\n",
       "      <td>1995</td>\n",
       "      <td>1</td>\n",
       "      <td>NaN</td>\n",
       "      <td>NaN</td>\n",
       "    </tr>\n",
       "    <tr>\n",
       "      <th>...</th>\n",
       "      <td>...</td>\n",
       "      <td>...</td>\n",
       "      <td>...</td>\n",
       "      <td>...</td>\n",
       "      <td>...</td>\n",
       "      <td>...</td>\n",
       "      <td>...</td>\n",
       "      <td>...</td>\n",
       "    </tr>\n",
       "    <tr>\n",
       "      <th>3877</th>\n",
       "      <td>3948</td>\n",
       "      <td>Meet the Parents (2000)</td>\n",
       "      <td>Comedy</td>\n",
       "      <td>Meet the Parents</td>\n",
       "      <td>2000</td>\n",
       "      <td>1</td>\n",
       "      <td>NaN</td>\n",
       "      <td>NaN</td>\n",
       "    </tr>\n",
       "    <tr>\n",
       "      <th>3878</th>\n",
       "      <td>3949</td>\n",
       "      <td>Requiem for a Dream (2000)</td>\n",
       "      <td>Drama</td>\n",
       "      <td>Requiem for a Dream</td>\n",
       "      <td>2000</td>\n",
       "      <td>1</td>\n",
       "      <td>NaN</td>\n",
       "      <td>NaN</td>\n",
       "    </tr>\n",
       "    <tr>\n",
       "      <th>3879</th>\n",
       "      <td>3950</td>\n",
       "      <td>Tigerland (2000)</td>\n",
       "      <td>Drama</td>\n",
       "      <td>Tigerland</td>\n",
       "      <td>2000</td>\n",
       "      <td>1</td>\n",
       "      <td>NaN</td>\n",
       "      <td>NaN</td>\n",
       "    </tr>\n",
       "    <tr>\n",
       "      <th>3880</th>\n",
       "      <td>3951</td>\n",
       "      <td>Two Family House (2000)</td>\n",
       "      <td>Drama</td>\n",
       "      <td>Two Family House</td>\n",
       "      <td>2000</td>\n",
       "      <td>1</td>\n",
       "      <td>NaN</td>\n",
       "      <td>NaN</td>\n",
       "    </tr>\n",
       "    <tr>\n",
       "      <th>3881</th>\n",
       "      <td>3952</td>\n",
       "      <td>Contender, The (2000)</td>\n",
       "      <td>Drama|Thriller</td>\n",
       "      <td>Contender, The</td>\n",
       "      <td>2000</td>\n",
       "      <td>1</td>\n",
       "      <td>NaN</td>\n",
       "      <td>NaN</td>\n",
       "    </tr>\n",
       "  </tbody>\n",
       "</table>\n",
       "<p>3882 rows × 8 columns</p>\n",
       "</div>"
      ],
      "text/plain": [
       "      MovieID                               Title  \\\n",
       "0           1                    Toy Story (1995)   \n",
       "1           2                      Jumanji (1995)   \n",
       "2           3             Grumpier Old Men (1995)   \n",
       "3           4            Waiting to Exhale (1995)   \n",
       "4           5  Father of the Bride Part II (1995)   \n",
       "...       ...                                 ...   \n",
       "3877     3948             Meet the Parents (2000)   \n",
       "3878     3949          Requiem for a Dream (2000)   \n",
       "3879     3950                    Tigerland (2000)   \n",
       "3880     3951             Two Family House (2000)   \n",
       "3881     3952               Contender, The (2000)   \n",
       "\n",
       "                            Genres                        title  year  \\\n",
       "0      Animation|Children's|Comedy                    Toy Story  1995   \n",
       "1     Adventure|Children's|Fantasy                      Jumanji  1995   \n",
       "2                   Comedy|Romance             Grumpier Old Men  1995   \n",
       "3                     Comedy|Drama            Waiting to Exhale  1995   \n",
       "4                           Comedy  Father of the Bride Part II  1995   \n",
       "...                            ...                          ...   ...   \n",
       "3877                        Comedy             Meet the Parents  2000   \n",
       "3878                         Drama          Requiem for a Dream  2000   \n",
       "3879                         Drama                    Tigerland  2000   \n",
       "3880                         Drama             Two Family House  2000   \n",
       "3881                Drama|Thriller               Contender, The  2000   \n",
       "\n",
       "      unique_counts                                               Plot  \\\n",
       "0                 1  A group of sentient toys, who pretend to be li...   \n",
       "1                 1                                                NaN   \n",
       "2                 1                                                NaN   \n",
       "3                 1                                                NaN   \n",
       "4                 1                                                NaN   \n",
       "...             ...                                                ...   \n",
       "3877              1                                                NaN   \n",
       "3878              1                                                NaN   \n",
       "3879              1                                                NaN   \n",
       "3880              1                                                NaN   \n",
       "3881              1                                                NaN   \n",
       "\n",
       "                                                   Cast  \n",
       "0     Tom Hanks as Woody, a pullstring cowboy doll w...  \n",
       "1                                                   NaN  \n",
       "2                                                   NaN  \n",
       "3                                                   NaN  \n",
       "4                                                   NaN  \n",
       "...                                                 ...  \n",
       "3877                                                NaN  \n",
       "3878                                                NaN  \n",
       "3879                                                NaN  \n",
       "3880                                                NaN  \n",
       "3881                                                NaN  \n",
       "\n",
       "[3882 rows x 8 columns]"
      ]
     },
     "metadata": {},
     "output_type": "display_data"
    }
   ],
   "source": [
    "display(search_df)"
   ]
  },
  {
   "cell_type": "markdown",
   "metadata": {},
   "source": [
    "#### WikiMediaAPI (wptools)"
   ]
  },
  {
   "cell_type": "code",
   "execution_count": 259,
   "metadata": {},
   "outputs": [
    {
     "name": "stdout",
     "output_type": "stream",
     "text": [
      " King Kong (2005) 2005 :: {{Film date|2005|12|05|[[New York City]]|2005|12|13|New Zealand|2005|12|14|United States}} Found \n"
     ]
    },
    {
     "data": {
      "text/plain": [
       "'King Kong is a 2005 epic adventure monster film co-written, produced, and directed by Peter Jackson. It is the ninth entry in the King Kong franchise and the second remake of the 1933 film of the same title, the first being the 1976 remake. The film stars Naomi Watts, Jack Black, and Adrien Brody. Set in 1933, it follows the story of an ambitious filmmaker who coerces his cast and hired ship crew to travel to mysterious Skull Island. There they encounter prehistoric creatures and a legendary giant gorilla known as Kong, whom they capture and take to New York City.Development began in early 1995, when Universal Pictures approached Jackson to direct the remake of the original 1933 film. The project stalled in early 1997, as several ape and giant monster-related films were under production at the time and Jackson planned to direct The Lord of the Rings film series. As the first two films in the Rings trilogy became commercially successful, Universal went back to Jackson in early 2003, expressing interest in restarting development on the project, to which Jackson eventually agreed. Filming for King Kong took place in New Zealand from September 2004 to March 2005. It is currently one of the most expensive films ever produced as its budget climbed from an initial $150 million to a then record-breaking $207 million.King Kong premiered at New York City on December 5, 2005, and was theatrically released in Germany and United States on December 14. The film garnered positive reviews, and eventually appeared in several top ten lists for 2005; it was praised for the special effects, performances, sense of spectacle and comparison to the 1933 original, though some criticisms were raised over its 3-hour run time. It was a commercial success, grossing over $556.9 million, and became the fourth-highest-grossing film in Universal Pictures history at that time and the fifth-highest-grossing film of 2005. It also generated $100 million in DVD sales upon its home video release in March 2006. It won three Academy Awards for Best Sound Editing, Best Sound Mixing and Best Visual Effects. A tie-in video game was released alongside the film, which also became a commercial and critical success.'"
      ]
     },
     "execution_count": 259,
     "metadata": {},
     "output_type": "execute_result"
    }
   ],
   "source": [
    "scrapper.get_page_summary_w_release_date('King Kong (2005)',\"2005\")"
   ]
  },
  {
   "cell_type": "code",
   "execution_count": null,
   "metadata": {},
   "outputs": [],
   "source": []
  },
  {
   "cell_type": "code",
   "execution_count": null,
   "metadata": {},
   "outputs": [],
   "source": []
  },
  {
   "cell_type": "code",
   "execution_count": null,
   "metadata": {},
   "outputs": [],
   "source": []
  }
 ],
 "metadata": {
  "kernelspec": {
   "display_name": "Python 3",
   "language": "python",
   "name": "python3"
  },
  "language_info": {
   "codemirror_mode": {
    "name": "ipython",
    "version": 3
   },
   "file_extension": ".py",
   "mimetype": "text/x-python",
   "name": "python",
   "nbconvert_exporter": "python",
   "pygments_lexer": "ipython3",
   "version": "3.9.7"
  }
 },
 "nbformat": 4,
 "nbformat_minor": 2
}
